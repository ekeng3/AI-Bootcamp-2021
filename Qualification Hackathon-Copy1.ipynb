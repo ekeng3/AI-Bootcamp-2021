{
 "cells": [
  {
   "cell_type": "markdown",
   "metadata": {},
   "source": [
    "## First we start by importing the required libraries\n"
   ]
  },
  {
   "cell_type": "code",
   "execution_count": 1,
   "metadata": {},
   "outputs": [],
   "source": [
    "import numpy as np\n",
    "import pandas as pd\n",
    "import matplotlib.pyplot as plt\n",
    "%matplotlib inline\n",
    "import seaborn as sns\n",
    "from datetime import datetime\n",
    "import warnings\n",
    "warnings.filterwarnings('ignore')"
   ]
  },
  {
   "cell_type": "markdown",
   "metadata": {},
   "source": [
    "### Next we load our datasets"
   ]
  },
  {
   "cell_type": "code",
   "execution_count": 2,
   "metadata": {},
   "outputs": [],
   "source": [
    "train = pd.read_csv(\"/Users/USER/Documents/DataScienceNigeria/Data Science Hackathon Qualification/train.csv\")\n",
    "test = pd.read_csv(\"/Users/USER/Documents/DataScienceNigeria/Data Science Hackathon Qualification/test.csv\")\n",
    "# sample_submission = pd.read_csv(\"/Users/USER/Documents/DataScienceNigeria/Data Science Hackathon Qualification/SampleSubmission.csv\")"
   ]
  },
  {
   "cell_type": "markdown",
   "metadata": {},
   "source": [
    "Let us now see the shape of our datasets\n"
   ]
  },
  {
   "cell_type": "code",
   "execution_count": 6,
   "metadata": {},
   "outputs": [
    {
     "name": "stdout",
     "output_type": "stream",
     "text": [
      "The shape of our train data is : (1568, 27)\n",
      "The shape of our test data is:  (672, 26)\n"
     ]
    }
   ],
   "source": [
    "print(\"The shape of our train data is :\", train.shape)\n",
    "print(\"The shape of our test data is: \", test.shape)\n",
    "# print(\"The shape of our sample submision data is: \", sample_submission.shape)"
   ]
  },
  {
   "cell_type": "markdown",
   "metadata": {},
   "source": [
    "WE can see that our train data contains 27 columns and 1568 rows\n",
    "\n",
    "Let us now inspect the columns of our datasets\n"
   ]
  },
  {
   "cell_type": "code",
   "execution_count": 7,
   "metadata": {},
   "outputs": [
    {
     "data": {
      "text/html": [
       "<div>\n",
       "<style scoped>\n",
       "    .dataframe tbody tr th:only-of-type {\n",
       "        vertical-align: middle;\n",
       "    }\n",
       "\n",
       "    .dataframe tbody tr th {\n",
       "        vertical-align: top;\n",
       "    }\n",
       "\n",
       "    .dataframe thead th {\n",
       "        text-align: right;\n",
       "    }\n",
       "</style>\n",
       "<table border=\"1\" class=\"dataframe\">\n",
       "  <thead>\n",
       "    <tr style=\"text-align: right;\">\n",
       "      <th></th>\n",
       "      <th>ID</th>\n",
       "      <th>Year_of_Birth</th>\n",
       "      <th>Education_Level</th>\n",
       "      <th>Marital_Status</th>\n",
       "      <th>Disposable_Income</th>\n",
       "      <th>No_of_Kids_in_home</th>\n",
       "      <th>No_of_Teen_in_home</th>\n",
       "      <th>Date_Customer</th>\n",
       "      <th>Recency</th>\n",
       "      <th>Discounted_Purchases</th>\n",
       "      <th>...</th>\n",
       "      <th>Amount_on_SweetProducts</th>\n",
       "      <th>Amount_on_GoldProds</th>\n",
       "      <th>WebVisitsMonth</th>\n",
       "      <th>Cmp3Accepted</th>\n",
       "      <th>Cmp4Accepted</th>\n",
       "      <th>Cmp5Accepted</th>\n",
       "      <th>Cmp1Accepted</th>\n",
       "      <th>Cmp2Accepted</th>\n",
       "      <th>Any_Complain</th>\n",
       "      <th>Response</th>\n",
       "    </tr>\n",
       "  </thead>\n",
       "  <tbody>\n",
       "    <tr>\n",
       "      <th>0</th>\n",
       "      <td>ID_4A9AR6FQ</td>\n",
       "      <td>1955</td>\n",
       "      <td>Graduation</td>\n",
       "      <td>Divorced</td>\n",
       "      <td>77504.4</td>\n",
       "      <td>1</td>\n",
       "      <td>1</td>\n",
       "      <td>22-06-2014</td>\n",
       "      <td>56</td>\n",
       "      <td>2</td>\n",
       "      <td>...</td>\n",
       "      <td>6</td>\n",
       "      <td>20</td>\n",
       "      <td>3</td>\n",
       "      <td>0</td>\n",
       "      <td>0</td>\n",
       "      <td>0</td>\n",
       "      <td>0</td>\n",
       "      <td>0</td>\n",
       "      <td>0</td>\n",
       "      <td>0</td>\n",
       "    </tr>\n",
       "    <tr>\n",
       "      <th>1</th>\n",
       "      <td>ID_X28T3VEK</td>\n",
       "      <td>1958</td>\n",
       "      <td>Graduation</td>\n",
       "      <td>Together</td>\n",
       "      <td>56784.0</td>\n",
       "      <td>0</td>\n",
       "      <td>1</td>\n",
       "      <td>01-08-2013</td>\n",
       "      <td>17</td>\n",
       "      <td>6</td>\n",
       "      <td>...</td>\n",
       "      <td>15</td>\n",
       "      <td>19</td>\n",
       "      <td>6</td>\n",
       "      <td>0</td>\n",
       "      <td>0</td>\n",
       "      <td>0</td>\n",
       "      <td>0</td>\n",
       "      <td>0</td>\n",
       "      <td>0</td>\n",
       "      <td>0</td>\n",
       "    </tr>\n",
       "    <tr>\n",
       "      <th>2</th>\n",
       "      <td>ID_AWXARH57</td>\n",
       "      <td>1962</td>\n",
       "      <td>Graduation</td>\n",
       "      <td>Single</td>\n",
       "      <td>103714.8</td>\n",
       "      <td>0</td>\n",
       "      <td>0</td>\n",
       "      <td>21-11-2013</td>\n",
       "      <td>17</td>\n",
       "      <td>0</td>\n",
       "      <td>...</td>\n",
       "      <td>18</td>\n",
       "      <td>37</td>\n",
       "      <td>2</td>\n",
       "      <td>0</td>\n",
       "      <td>0</td>\n",
       "      <td>0</td>\n",
       "      <td>1</td>\n",
       "      <td>0</td>\n",
       "      <td>0</td>\n",
       "      <td>1</td>\n",
       "    </tr>\n",
       "    <tr>\n",
       "      <th>3</th>\n",
       "      <td>ID_FQVZHE81</td>\n",
       "      <td>1979</td>\n",
       "      <td>2n Cycle</td>\n",
       "      <td>Single</td>\n",
       "      <td>46311.6</td>\n",
       "      <td>1</td>\n",
       "      <td>0</td>\n",
       "      <td>13-09-2013</td>\n",
       "      <td>49</td>\n",
       "      <td>3</td>\n",
       "      <td>...</td>\n",
       "      <td>24</td>\n",
       "      <td>24</td>\n",
       "      <td>8</td>\n",
       "      <td>0</td>\n",
       "      <td>0</td>\n",
       "      <td>0</td>\n",
       "      <td>0</td>\n",
       "      <td>0</td>\n",
       "      <td>0</td>\n",
       "      <td>0</td>\n",
       "    </tr>\n",
       "    <tr>\n",
       "      <th>4</th>\n",
       "      <td>ID_QVLWGPRN</td>\n",
       "      <td>1959</td>\n",
       "      <td>Graduation</td>\n",
       "      <td>Married</td>\n",
       "      <td>87486.0</td>\n",
       "      <td>0</td>\n",
       "      <td>0</td>\n",
       "      <td>21-01-2014</td>\n",
       "      <td>59</td>\n",
       "      <td>1</td>\n",
       "      <td>...</td>\n",
       "      <td>165</td>\n",
       "      <td>203</td>\n",
       "      <td>1</td>\n",
       "      <td>0</td>\n",
       "      <td>0</td>\n",
       "      <td>0</td>\n",
       "      <td>1</td>\n",
       "      <td>0</td>\n",
       "      <td>0</td>\n",
       "      <td>0</td>\n",
       "    </tr>\n",
       "  </tbody>\n",
       "</table>\n",
       "<p>5 rows × 27 columns</p>\n",
       "</div>"
      ],
      "text/plain": [
       "            ID  Year_of_Birth Education_Level Marital_Status  \\\n",
       "0  ID_4A9AR6FQ           1955      Graduation       Divorced   \n",
       "1  ID_X28T3VEK           1958      Graduation       Together   \n",
       "2  ID_AWXARH57           1962      Graduation         Single   \n",
       "3  ID_FQVZHE81           1979        2n Cycle         Single   \n",
       "4  ID_QVLWGPRN           1959      Graduation        Married   \n",
       "\n",
       "   Disposable_Income  No_of_Kids_in_home  No_of_Teen_in_home Date_Customer  \\\n",
       "0            77504.4                   1                   1    22-06-2014   \n",
       "1            56784.0                   0                   1    01-08-2013   \n",
       "2           103714.8                   0                   0    21-11-2013   \n",
       "3            46311.6                   1                   0    13-09-2013   \n",
       "4            87486.0                   0                   0    21-01-2014   \n",
       "\n",
       "   Recency  Discounted_Purchases  ...  Amount_on_SweetProducts  \\\n",
       "0       56                     2  ...                        6   \n",
       "1       17                     6  ...                       15   \n",
       "2       17                     0  ...                       18   \n",
       "3       49                     3  ...                       24   \n",
       "4       59                     1  ...                      165   \n",
       "\n",
       "   Amount_on_GoldProds  WebVisitsMonth  Cmp3Accepted  Cmp4Accepted  \\\n",
       "0                   20               3             0             0   \n",
       "1                   19               6             0             0   \n",
       "2                   37               2             0             0   \n",
       "3                   24               8             0             0   \n",
       "4                  203               1             0             0   \n",
       "\n",
       "   Cmp5Accepted  Cmp1Accepted  Cmp2Accepted  Any_Complain  Response  \n",
       "0             0             0             0             0         0  \n",
       "1             0             0             0             0         0  \n",
       "2             0             1             0             0         1  \n",
       "3             0             0             0             0         0  \n",
       "4             0             1             0             0         0  \n",
       "\n",
       "[5 rows x 27 columns]"
      ]
     },
     "execution_count": 7,
     "metadata": {},
     "output_type": "execute_result"
    }
   ],
   "source": [
    "train.head()"
   ]
  },
  {
   "cell_type": "code",
   "execution_count": 8,
   "metadata": {},
   "outputs": [
    {
     "data": {
      "text/html": [
       "<div>\n",
       "<style scoped>\n",
       "    .dataframe tbody tr th:only-of-type {\n",
       "        vertical-align: middle;\n",
       "    }\n",
       "\n",
       "    .dataframe tbody tr th {\n",
       "        vertical-align: top;\n",
       "    }\n",
       "\n",
       "    .dataframe thead th {\n",
       "        text-align: right;\n",
       "    }\n",
       "</style>\n",
       "<table border=\"1\" class=\"dataframe\">\n",
       "  <thead>\n",
       "    <tr style=\"text-align: right;\">\n",
       "      <th></th>\n",
       "      <th>ID</th>\n",
       "      <th>Year_of_Birth</th>\n",
       "      <th>Education_Level</th>\n",
       "      <th>Marital_Status</th>\n",
       "      <th>Disposable_Income</th>\n",
       "      <th>No_of_Kids_in_home</th>\n",
       "      <th>No_of_Teen_in_home</th>\n",
       "      <th>Date_Customer</th>\n",
       "      <th>Recency</th>\n",
       "      <th>Discounted_Purchases</th>\n",
       "      <th>...</th>\n",
       "      <th>Amount_on_FishProducts</th>\n",
       "      <th>Amount_on_SweetProducts</th>\n",
       "      <th>Amount_on_GoldProds</th>\n",
       "      <th>WebVisitsMonth</th>\n",
       "      <th>Cmp3Accepted</th>\n",
       "      <th>Cmp4Accepted</th>\n",
       "      <th>Cmp5Accepted</th>\n",
       "      <th>Cmp1Accepted</th>\n",
       "      <th>Cmp2Accepted</th>\n",
       "      <th>Any_Complain</th>\n",
       "    </tr>\n",
       "  </thead>\n",
       "  <tbody>\n",
       "    <tr>\n",
       "      <th>0</th>\n",
       "      <td>ID_ZPMABNVX</td>\n",
       "      <td>1954</td>\n",
       "      <td>Graduation</td>\n",
       "      <td>Single</td>\n",
       "      <td>48556.8</td>\n",
       "      <td>0</td>\n",
       "      <td>1</td>\n",
       "      <td>11-01-2013</td>\n",
       "      <td>85</td>\n",
       "      <td>6</td>\n",
       "      <td>...</td>\n",
       "      <td>7</td>\n",
       "      <td>23</td>\n",
       "      <td>41</td>\n",
       "      <td>8</td>\n",
       "      <td>0</td>\n",
       "      <td>0</td>\n",
       "      <td>0</td>\n",
       "      <td>0</td>\n",
       "      <td>0</td>\n",
       "      <td>0</td>\n",
       "    </tr>\n",
       "    <tr>\n",
       "      <th>1</th>\n",
       "      <td>ID_WFE91NAA</td>\n",
       "      <td>1961</td>\n",
       "      <td>Graduation</td>\n",
       "      <td>Widow</td>\n",
       "      <td>57499.2</td>\n",
       "      <td>0</td>\n",
       "      <td>1</td>\n",
       "      <td>22-11-2012</td>\n",
       "      <td>79</td>\n",
       "      <td>5</td>\n",
       "      <td>...</td>\n",
       "      <td>0</td>\n",
       "      <td>0</td>\n",
       "      <td>75</td>\n",
       "      <td>6</td>\n",
       "      <td>0</td>\n",
       "      <td>1</td>\n",
       "      <td>0</td>\n",
       "      <td>0</td>\n",
       "      <td>0</td>\n",
       "      <td>0</td>\n",
       "    </tr>\n",
       "    <tr>\n",
       "      <th>2</th>\n",
       "      <td>ID_JV11RBRK</td>\n",
       "      <td>1973</td>\n",
       "      <td>Basic</td>\n",
       "      <td>Married</td>\n",
       "      <td>17025.6</td>\n",
       "      <td>0</td>\n",
       "      <td>0</td>\n",
       "      <td>28-02-2013</td>\n",
       "      <td>47</td>\n",
       "      <td>1</td>\n",
       "      <td>...</td>\n",
       "      <td>16</td>\n",
       "      <td>12</td>\n",
       "      <td>27</td>\n",
       "      <td>6</td>\n",
       "      <td>0</td>\n",
       "      <td>0</td>\n",
       "      <td>0</td>\n",
       "      <td>0</td>\n",
       "      <td>0</td>\n",
       "      <td>0</td>\n",
       "    </tr>\n",
       "    <tr>\n",
       "      <th>3</th>\n",
       "      <td>ID_6B7SVKY9</td>\n",
       "      <td>1970</td>\n",
       "      <td>Graduation</td>\n",
       "      <td>Together</td>\n",
       "      <td>91983.6</td>\n",
       "      <td>0</td>\n",
       "      <td>0</td>\n",
       "      <td>16-08-2013</td>\n",
       "      <td>98</td>\n",
       "      <td>1</td>\n",
       "      <td>...</td>\n",
       "      <td>219</td>\n",
       "      <td>189</td>\n",
       "      <td>126</td>\n",
       "      <td>2</td>\n",
       "      <td>0</td>\n",
       "      <td>0</td>\n",
       "      <td>1</td>\n",
       "      <td>1</td>\n",
       "      <td>0</td>\n",
       "      <td>0</td>\n",
       "    </tr>\n",
       "    <tr>\n",
       "      <th>4</th>\n",
       "      <td>ID_GOVUZ545</td>\n",
       "      <td>1959</td>\n",
       "      <td>Graduation</td>\n",
       "      <td>Together</td>\n",
       "      <td>78235.2</td>\n",
       "      <td>0</td>\n",
       "      <td>2</td>\n",
       "      <td>25-07-2013</td>\n",
       "      <td>41</td>\n",
       "      <td>2</td>\n",
       "      <td>...</td>\n",
       "      <td>12</td>\n",
       "      <td>0</td>\n",
       "      <td>200</td>\n",
       "      <td>5</td>\n",
       "      <td>1</td>\n",
       "      <td>0</td>\n",
       "      <td>0</td>\n",
       "      <td>0</td>\n",
       "      <td>0</td>\n",
       "      <td>0</td>\n",
       "    </tr>\n",
       "  </tbody>\n",
       "</table>\n",
       "<p>5 rows × 26 columns</p>\n",
       "</div>"
      ],
      "text/plain": [
       "            ID  Year_of_Birth Education_Level Marital_Status  \\\n",
       "0  ID_ZPMABNVX           1954      Graduation         Single   \n",
       "1  ID_WFE91NAA           1961      Graduation          Widow   \n",
       "2  ID_JV11RBRK           1973           Basic        Married   \n",
       "3  ID_6B7SVKY9           1970      Graduation       Together   \n",
       "4  ID_GOVUZ545           1959      Graduation       Together   \n",
       "\n",
       "   Disposable_Income  No_of_Kids_in_home  No_of_Teen_in_home Date_Customer  \\\n",
       "0            48556.8                   0                   1    11-01-2013   \n",
       "1            57499.2                   0                   1    22-11-2012   \n",
       "2            17025.6                   0                   0    28-02-2013   \n",
       "3            91983.6                   0                   0    16-08-2013   \n",
       "4            78235.2                   0                   2    25-07-2013   \n",
       "\n",
       "   Recency  Discounted_Purchases  ...  Amount_on_FishProducts  \\\n",
       "0       85                     6  ...                       7   \n",
       "1       79                     5  ...                       0   \n",
       "2       47                     1  ...                      16   \n",
       "3       98                     1  ...                     219   \n",
       "4       41                     2  ...                      12   \n",
       "\n",
       "   Amount_on_SweetProducts  Amount_on_GoldProds  WebVisitsMonth  Cmp3Accepted  \\\n",
       "0                       23                   41               8             0   \n",
       "1                        0                   75               6             0   \n",
       "2                       12                   27               6             0   \n",
       "3                      189                  126               2             0   \n",
       "4                        0                  200               5             1   \n",
       "\n",
       "   Cmp4Accepted  Cmp5Accepted  Cmp1Accepted  Cmp2Accepted  Any_Complain  \n",
       "0             0             0             0             0             0  \n",
       "1             1             0             0             0             0  \n",
       "2             0             0             0             0             0  \n",
       "3             0             1             1             0             0  \n",
       "4             0             0             0             0             0  \n",
       "\n",
       "[5 rows x 26 columns]"
      ]
     },
     "execution_count": 8,
     "metadata": {},
     "output_type": "execute_result"
    }
   ],
   "source": [
    "test.head()"
   ]
  },
  {
   "cell_type": "code",
   "execution_count": 9,
   "metadata": {},
   "outputs": [
    {
     "data": {
      "text/html": [
       "<div>\n",
       "<style scoped>\n",
       "    .dataframe tbody tr th:only-of-type {\n",
       "        vertical-align: middle;\n",
       "    }\n",
       "\n",
       "    .dataframe tbody tr th {\n",
       "        vertical-align: top;\n",
       "    }\n",
       "\n",
       "    .dataframe thead th {\n",
       "        text-align: right;\n",
       "    }\n",
       "</style>\n",
       "<table border=\"1\" class=\"dataframe\">\n",
       "  <thead>\n",
       "    <tr style=\"text-align: right;\">\n",
       "      <th></th>\n",
       "      <th>ID</th>\n",
       "      <th>Response</th>\n",
       "    </tr>\n",
       "  </thead>\n",
       "  <tbody>\n",
       "  </tbody>\n",
       "</table>\n",
       "</div>"
      ],
      "text/plain": [
       "Empty DataFrame\n",
       "Columns: [ID, Response]\n",
       "Index: []"
      ]
     },
     "execution_count": 9,
     "metadata": {},
     "output_type": "execute_result"
    }
   ],
   "source": [
    "#Create submission file using an empty/dummy dataframe\n",
    "submission = pd.DataFrame(columns=['ID', 'Response'])\n",
    "submission.head() "
   ]
  },
  {
   "cell_type": "code",
   "execution_count": 10,
   "metadata": {},
   "outputs": [
    {
     "data": {
      "text/html": [
       "<div>\n",
       "<style scoped>\n",
       "    .dataframe tbody tr th:only-of-type {\n",
       "        vertical-align: middle;\n",
       "    }\n",
       "\n",
       "    .dataframe tbody tr th {\n",
       "        vertical-align: top;\n",
       "    }\n",
       "\n",
       "    .dataframe thead th {\n",
       "        text-align: right;\n",
       "    }\n",
       "</style>\n",
       "<table border=\"1\" class=\"dataframe\">\n",
       "  <thead>\n",
       "    <tr style=\"text-align: right;\">\n",
       "      <th></th>\n",
       "      <th>ID</th>\n",
       "      <th>Response</th>\n",
       "    </tr>\n",
       "  </thead>\n",
       "  <tbody>\n",
       "    <tr>\n",
       "      <th>0</th>\n",
       "      <td>ID_ZPMABNVX</td>\n",
       "      <td>NaN</td>\n",
       "    </tr>\n",
       "    <tr>\n",
       "      <th>1</th>\n",
       "      <td>ID_WFE91NAA</td>\n",
       "      <td>NaN</td>\n",
       "    </tr>\n",
       "    <tr>\n",
       "      <th>2</th>\n",
       "      <td>ID_JV11RBRK</td>\n",
       "      <td>NaN</td>\n",
       "    </tr>\n",
       "    <tr>\n",
       "      <th>3</th>\n",
       "      <td>ID_6B7SVKY9</td>\n",
       "      <td>NaN</td>\n",
       "    </tr>\n",
       "    <tr>\n",
       "      <th>4</th>\n",
       "      <td>ID_GOVUZ545</td>\n",
       "      <td>NaN</td>\n",
       "    </tr>\n",
       "  </tbody>\n",
       "</table>\n",
       "</div>"
      ],
      "text/plain": [
       "            ID Response\n",
       "0  ID_ZPMABNVX      NaN\n",
       "1  ID_WFE91NAA      NaN\n",
       "2  ID_JV11RBRK      NaN\n",
       "3  ID_6B7SVKY9      NaN\n",
       "4  ID_GOVUZ545      NaN"
      ]
     },
     "execution_count": 10,
     "metadata": {},
     "output_type": "execute_result"
    }
   ],
   "source": [
    "#Save test ID in a copy for creating submission file later\n",
    "submission.ID = test.ID\n",
    "submission.head()"
   ]
  },
  {
   "cell_type": "code",
   "execution_count": 11,
   "metadata": {},
   "outputs": [
    {
     "data": {
      "text/plain": [
       "(672, 2)"
      ]
     },
     "execution_count": 11,
     "metadata": {},
     "output_type": "execute_result"
    }
   ],
   "source": [
    "submission.shape"
   ]
  },
  {
   "cell_type": "markdown",
   "metadata": {},
   "source": [
    "We want to now get some information about the features using the pandas **info()** method"
   ]
  },
  {
   "cell_type": "markdown",
   "metadata": {},
   "source": [
    "## Exploratory data Analysis"
   ]
  },
  {
   "cell_type": "code",
   "execution_count": 8,
   "metadata": {},
   "outputs": [
    {
     "name": "stdout",
     "output_type": "stream",
     "text": [
      "<class 'pandas.core.frame.DataFrame'>\n",
      "RangeIndex: 1568 entries, 0 to 1567\n",
      "Data columns (total 27 columns):\n",
      " #   Column                   Non-Null Count  Dtype  \n",
      "---  ------                   --------------  -----  \n",
      " 0   ID                       1568 non-null   object \n",
      " 1   Year_of_Birth            1568 non-null   int64  \n",
      " 2   Education_Level          1568 non-null   object \n",
      " 3   Marital_Status           1568 non-null   object \n",
      " 4   Disposable_Income        1552 non-null   float64\n",
      " 5   No_of_Kids_in_home       1568 non-null   int64  \n",
      " 6   No_of_Teen_in_home       1568 non-null   int64  \n",
      " 7   Date_Customer            1568 non-null   object \n",
      " 8   Recency                  1568 non-null   int64  \n",
      " 9   Discounted_Purchases     1568 non-null   int64  \n",
      " 10  WebPurchases             1568 non-null   int64  \n",
      " 11  CatalogPurchases         1568 non-null   int64  \n",
      " 12  StorePurchases           1568 non-null   int64  \n",
      " 13  Amount_on_Wines          1568 non-null   int64  \n",
      " 14  Amount_on_Fruits         1568 non-null   int64  \n",
      " 15  Amount_on_MeatProducts   1568 non-null   int64  \n",
      " 16  Amount_on_FishProducts   1568 non-null   int64  \n",
      " 17  Amount_on_SweetProducts  1568 non-null   int64  \n",
      " 18  Amount_on_GoldProds      1568 non-null   int64  \n",
      " 19  WebVisitsMonth           1568 non-null   int64  \n",
      " 20  Cmp3Accepted             1568 non-null   int64  \n",
      " 21  Cmp4Accepted             1568 non-null   int64  \n",
      " 22  Cmp5Accepted             1568 non-null   int64  \n",
      " 23  Cmp1Accepted             1568 non-null   int64  \n",
      " 24  Cmp2Accepted             1568 non-null   int64  \n",
      " 25  Any_Complain             1568 non-null   int64  \n",
      " 26  Response                 1568 non-null   int64  \n",
      "dtypes: float64(1), int64(22), object(4)\n",
      "memory usage: 330.9+ KB\n"
     ]
    }
   ],
   "source": [
    "train.info()"
   ]
  },
  {
   "cell_type": "code",
   "execution_count": 12,
   "metadata": {},
   "outputs": [
    {
     "name": "stdout",
     "output_type": "stream",
     "text": [
      "<class 'pandas.core.frame.DataFrame'>\n",
      "RangeIndex: 672 entries, 0 to 671\n",
      "Data columns (total 26 columns):\n",
      " #   Column                   Non-Null Count  Dtype  \n",
      "---  ------                   --------------  -----  \n",
      " 0   ID                       672 non-null    object \n",
      " 1   Year_of_Birth            672 non-null    int64  \n",
      " 2   Education_Level          672 non-null    object \n",
      " 3   Marital_Status           672 non-null    object \n",
      " 4   Disposable_Income        664 non-null    float64\n",
      " 5   No_of_Kids_in_home       672 non-null    int64  \n",
      " 6   No_of_Teen_in_home       672 non-null    int64  \n",
      " 7   Date_Customer            672 non-null    object \n",
      " 8   Recency                  672 non-null    int64  \n",
      " 9   Discounted_Purchases     672 non-null    int64  \n",
      " 10  WebPurchases             672 non-null    int64  \n",
      " 11  CatalogPurchases         672 non-null    int64  \n",
      " 12  StorePurchases           672 non-null    int64  \n",
      " 13  Amount_on_Wines          672 non-null    int64  \n",
      " 14  Amount_on_Fruits         672 non-null    int64  \n",
      " 15  Amount_on_MeatProducts   672 non-null    int64  \n",
      " 16  Amount_on_FishProducts   672 non-null    int64  \n",
      " 17  Amount_on_SweetProducts  672 non-null    int64  \n",
      " 18  Amount_on_GoldProds      672 non-null    int64  \n",
      " 19  WebVisitsMonth           672 non-null    int64  \n",
      " 20  Cmp3Accepted             672 non-null    int64  \n",
      " 21  Cmp4Accepted             672 non-null    int64  \n",
      " 22  Cmp5Accepted             672 non-null    int64  \n",
      " 23  Cmp1Accepted             672 non-null    int64  \n",
      " 24  Cmp2Accepted             672 non-null    int64  \n",
      " 25  Any_Complain             672 non-null    int64  \n",
      "dtypes: float64(1), int64(21), object(4)\n",
      "memory usage: 136.6+ KB\n"
     ]
    }
   ],
   "source": [
    "test.info()"
   ]
  },
  {
   "cell_type": "code",
   "execution_count": 13,
   "metadata": {},
   "outputs": [
    {
     "data": {
      "text/plain": [
       "ID                          0\n",
       "Year_of_Birth               0\n",
       "Education_Level             0\n",
       "Marital_Status              0\n",
       "Disposable_Income          16\n",
       "No_of_Kids_in_home          0\n",
       "No_of_Teen_in_home          0\n",
       "Date_Customer               0\n",
       "Recency                     0\n",
       "Discounted_Purchases        0\n",
       "WebPurchases                0\n",
       "CatalogPurchases            0\n",
       "StorePurchases              0\n",
       "Amount_on_Wines             0\n",
       "Amount_on_Fruits            0\n",
       "Amount_on_MeatProducts      0\n",
       "Amount_on_FishProducts      0\n",
       "Amount_on_SweetProducts     0\n",
       "Amount_on_GoldProds         0\n",
       "WebVisitsMonth              0\n",
       "Cmp3Accepted                0\n",
       "Cmp4Accepted                0\n",
       "Cmp5Accepted                0\n",
       "Cmp1Accepted                0\n",
       "Cmp2Accepted                0\n",
       "Any_Complain                0\n",
       "Response                    0\n",
       "dtype: int64"
      ]
     },
     "execution_count": 13,
     "metadata": {},
     "output_type": "execute_result"
    }
   ],
   "source": [
    "# Let us now check for missing values\n",
    "train.isnull().sum()"
   ]
  },
  {
   "cell_type": "code",
   "execution_count": 14,
   "metadata": {},
   "outputs": [
    {
     "data": {
      "text/plain": [
       "ID                         0\n",
       "Year_of_Birth              0\n",
       "Education_Level            0\n",
       "Marital_Status             0\n",
       "Disposable_Income          8\n",
       "No_of_Kids_in_home         0\n",
       "No_of_Teen_in_home         0\n",
       "Date_Customer              0\n",
       "Recency                    0\n",
       "Discounted_Purchases       0\n",
       "WebPurchases               0\n",
       "CatalogPurchases           0\n",
       "StorePurchases             0\n",
       "Amount_on_Wines            0\n",
       "Amount_on_Fruits           0\n",
       "Amount_on_MeatProducts     0\n",
       "Amount_on_FishProducts     0\n",
       "Amount_on_SweetProducts    0\n",
       "Amount_on_GoldProds        0\n",
       "WebVisitsMonth             0\n",
       "Cmp3Accepted               0\n",
       "Cmp4Accepted               0\n",
       "Cmp5Accepted               0\n",
       "Cmp1Accepted               0\n",
       "Cmp2Accepted               0\n",
       "Any_Complain               0\n",
       "dtype: int64"
      ]
     },
     "execution_count": 14,
     "metadata": {},
     "output_type": "execute_result"
    }
   ],
   "source": [
    "test.isnull().sum()"
   ]
  },
  {
   "cell_type": "markdown",
   "metadata": {},
   "source": [
    "We see that the train data contains 16 missing values while the test data contains 8 missing values"
   ]
  },
  {
   "cell_type": "code",
   "execution_count": 15,
   "metadata": {},
   "outputs": [
    {
     "data": {
      "text/plain": [
       "ID                          object\n",
       "Year_of_Birth                int64\n",
       "Education_Level             object\n",
       "Marital_Status              object\n",
       "Disposable_Income          float64\n",
       "No_of_Kids_in_home           int64\n",
       "No_of_Teen_in_home           int64\n",
       "Date_Customer               object\n",
       "Recency                      int64\n",
       "Discounted_Purchases         int64\n",
       "WebPurchases                 int64\n",
       "CatalogPurchases             int64\n",
       "StorePurchases               int64\n",
       "Amount_on_Wines              int64\n",
       "Amount_on_Fruits             int64\n",
       "Amount_on_MeatProducts       int64\n",
       "Amount_on_FishProducts       int64\n",
       "Amount_on_SweetProducts      int64\n",
       "Amount_on_GoldProds          int64\n",
       "WebVisitsMonth               int64\n",
       "Cmp3Accepted                 int64\n",
       "Cmp4Accepted                 int64\n",
       "Cmp5Accepted                 int64\n",
       "Cmp1Accepted                 int64\n",
       "Cmp2Accepted                 int64\n",
       "Any_Complain                 int64\n",
       "Response                     int64\n",
       "dtype: object"
      ]
     },
     "execution_count": 15,
     "metadata": {},
     "output_type": "execute_result"
    }
   ],
   "source": [
    "# let us now check for the data types in the train and test data\n",
    "\n",
    "train.dtypes"
   ]
  },
  {
   "cell_type": "code",
   "execution_count": 16,
   "metadata": {},
   "outputs": [
    {
     "data": {
      "text/plain": [
       "ID                          object\n",
       "Year_of_Birth                int64\n",
       "Education_Level             object\n",
       "Marital_Status              object\n",
       "Disposable_Income          float64\n",
       "No_of_Kids_in_home           int64\n",
       "No_of_Teen_in_home           int64\n",
       "Date_Customer               object\n",
       "Recency                      int64\n",
       "Discounted_Purchases         int64\n",
       "WebPurchases                 int64\n",
       "CatalogPurchases             int64\n",
       "StorePurchases               int64\n",
       "Amount_on_Wines              int64\n",
       "Amount_on_Fruits             int64\n",
       "Amount_on_MeatProducts       int64\n",
       "Amount_on_FishProducts       int64\n",
       "Amount_on_SweetProducts      int64\n",
       "Amount_on_GoldProds          int64\n",
       "WebVisitsMonth               int64\n",
       "Cmp3Accepted                 int64\n",
       "Cmp4Accepted                 int64\n",
       "Cmp5Accepted                 int64\n",
       "Cmp1Accepted                 int64\n",
       "Cmp2Accepted                 int64\n",
       "Any_Complain                 int64\n",
       "dtype: object"
      ]
     },
     "execution_count": 16,
     "metadata": {},
     "output_type": "execute_result"
    }
   ],
   "source": [
    "test.dtypes"
   ]
  },
  {
   "cell_type": "markdown",
   "metadata": {},
   "source": [
    "We have 3 categorical features aside the ID columns, and 22 numerical features aside the target column "
   ]
  },
  {
   "cell_type": "markdown",
   "metadata": {},
   "source": [
    "**We now want to drop the ID columns in the train and test data as we wont need them for modelling. We will also drop the date_customer column as this is not a good predictor of a customer response to marketing campaign**"
   ]
  },
  {
   "cell_type": "code",
   "execution_count": 17,
   "metadata": {},
   "outputs": [],
   "source": [
    "train.drop('ID', axis=1, inplace=True)\n",
    "test.drop('ID', axis=1, inplace=True)\n",
    "train.drop('Date_Customer', axis=1, inplace=True)\n",
    "test.drop('Date_Customer', axis=1, inplace=True)\n",
    "# train.drop('Year_of_Birth', axis=1, inplace=True)\n",
    "# test.drop('Year_of_Birth', axis=1, inplace=True)\n",
    "# train.drop('Recency', axis=1, inplace=True)\n",
    "# test.drop('Recency', axis=1, inplace=True)\n"
   ]
  },
  {
   "cell_type": "code",
   "execution_count": 18,
   "metadata": {},
   "outputs": [
    {
     "data": {
      "text/plain": [
       "<AxesSubplot:xlabel='Education_Level', ylabel='count'>"
      ]
     },
     "execution_count": 18,
     "metadata": {},
     "output_type": "execute_result"
    },
    {
     "data": {
      "image/png": "[encoded data removed]",
      "text/plain": [
       "<Figure size 432x288 with 1 Axes>"
      ]
     },
     "metadata": {
      "needs_background": "light"
     },
     "output_type": "display_data"
    }
   ],
   "source": [
    "sns.countplot(x= \"Education_Level\", data= train)"
   ]
  },
  {
   "cell_type": "code",
   "execution_count": 19,
   "metadata": {},
   "outputs": [
    {
     "data": {
      "text/plain": [
       "<AxesSubplot:xlabel='Marital_Status', ylabel='count'>"
      ]
     },
     "execution_count": 19,
     "metadata": {},
     "output_type": "execute_result"
    },
    {
     "data": {
      "image/png": "[encoded data removed]",
      "text/plain": [
       "<Figure size 432x288 with 1 Axes>"
      ]
     },
     "metadata": {
      "needs_background": "light"
     },
     "output_type": "display_data"
    }
   ],
   "source": [
    "sns.countplot(x= \"Marital_Status\", data= train)"
   ]
  },
  {
   "cell_type": "code",
   "execution_count": 20,
   "metadata": {},
   "outputs": [
    {
     "data": {
      "text/plain": [
       "<AxesSubplot:xlabel='Response', ylabel='count'>"
      ]
     },
     "execution_count": 20,
     "metadata": {},
     "output_type": "execute_result"
    },
    {
     "data": {
      "image/png": "[encoded data removed]",
      "text/plain": [
       "<Figure size 432x288 with 1 Axes>"
      ]
     },
     "metadata": {
      "needs_background": "light"
     },
     "output_type": "display_data"
    }
   ],
   "source": [
    "sns.countplot(x=\"Response\", data= train)"
   ]
  },
  {
   "cell_type": "code",
   "execution_count": 21,
   "metadata": {},
   "outputs": [
    {
     "data": {
      "text/plain": [
       "0    1329\n",
       "1     239\n",
       "Name: Response, dtype: int64"
      ]
     },
     "execution_count": 21,
     "metadata": {},
     "output_type": "execute_result"
    }
   ],
   "source": [
    "train['Response'].value_counts()"
   ]
  },
  {
   "cell_type": "markdown",
   "metadata": {},
   "source": [
    "From the above Visualization, we noticed an imbalanced dataset. so lets try installing the imblearn module for balancing our dataset later on."
   ]
  },
  {
   "cell_type": "code",
   "execution_count": 531,
   "metadata": {},
   "outputs": [
    {
     "name": "stdout",
     "output_type": "stream",
     "text": [
      "Collecting package metadata (current_repodata.json): ...working... done\n",
      "Solving environment: ...working... done\n",
      "\n",
      "## Package Plan ##\n",
      "\n",
      "  environment location: C:\\Users\\USER\\anaconda3\n",
      "\n",
      "  added / updated specs:\n",
      "    - imbalanced-learn\n",
      "\n",
      "\n",
      "The following packages will be downloaded:\n",
      "\n",
      "    package                    |            build\n",
      "    ---------------------------|-----------------\n",
      "    conda-4.10.3               |   py38haa244fe_2         3.1 MB  conda-forge\n",
      "    imbalanced-learn-0.7.0     |             py_1          97 KB  conda-forge\n",
      "    ------------------------------------------------------------\n",
      "                                           Total:         3.2 MB\n",
      "\n",
      "The following NEW packages will be INSTALLED:\n",
      "\n",
      "  imbalanced-learn   conda-forge/noarch::imbalanced-learn-0.7.0-py_1\n",
      "Note: you may need to restart the kernel to use updated packages.\n",
      "\n",
      "\n",
      "The following packages will be UPDATED:\n",
      "\n",
      "  conda                               4.10.3-py38haa244fe_0 --> 4.10.3-py38haa244fe_2\n",
      "\n",
      "\n",
      "\n",
      "Downloading and Extracting Packages\n",
      "\n",
      "imbalanced-learn-0.7 | 97 KB     |            |   0% \n",
      "imbalanced-learn-0.7 | 97 KB     | #6         |  17% \n",
      "imbalanced-learn-0.7 | 97 KB     | ####9      |  50% \n",
      "imbalanced-learn-0.7 | 97 KB     | #########9 |  99% \n",
      "imbalanced-learn-0.7 | 97 KB     | ########## | 100% \n",
      "\n",
      "conda-4.10.3         | 3.1 MB    |            |   0% \n",
      "conda-4.10.3         | 3.1 MB    |            |   1% \n",
      "conda-4.10.3         | 3.1 MB    | 3          |   4% \n",
      "conda-4.10.3         | 3.1 MB    | 6          |   7% \n",
      "conda-4.10.3         | 3.1 MB    | #3         |  14% \n",
      "conda-4.10.3         | 3.1 MB    | ##1        |  21% \n",
      "conda-4.10.3         | 3.1 MB    | ###3       |  34% \n",
      "conda-4.10.3         | 3.1 MB    | ####6      |  47% \n",
      "conda-4.10.3         | 3.1 MB    | ######2    |  62% \n",
      "conda-4.10.3         | 3.1 MB    | #######7   |  77% \n",
      "conda-4.10.3         | 3.1 MB    | ########8  |  89% \n",
      "conda-4.10.3         | 3.1 MB    | #########9 | 100% \n",
      "conda-4.10.3         | 3.1 MB    | ########## | 100% \n",
      "Preparing transaction: ...working... done\n",
      "Verifying transaction: ...working... done\n",
      "Executing transaction: ...working... done\n"
     ]
    }
   ],
   "source": [
    "conda install -c conda-forge imbalanced-learn"
   ]
  },
  {
   "cell_type": "markdown",
   "metadata": {},
   "source": [
    "**From the univariate analysis, above we noticed that in the Educational_Level feature most participants were graduates, while the least participant had basic education.\n",
    "Also, in the Marital_Status feature, the most particpant were married, while the least participant were absurd**\n",
    "\n",
    "**Additionally, 1329 participant did not respond to the marketing campaign, while 239 participant did respond to the campaign**"
   ]
  },
  {
   "cell_type": "code",
   "execution_count": 23,
   "metadata": {},
   "outputs": [
    {
     "data": {
      "text/plain": [
       "<AxesSubplot:xlabel='Education_Level', ylabel='count'>"
      ]
     },
     "execution_count": 23,
     "metadata": {},
     "output_type": "execute_result"
    },
    {
     "data": {
      "image/png": "[encoded data removed]",
      "text/plain": [
       "<Figure size 432x288 with 1 Axes>"
      ]
     },
     "metadata": {
      "needs_background": "light"
     },
     "output_type": "display_data"
    }
   ],
   "source": [
    "# Let us now explore the Educational_Status agaisnt the Response\n",
    "sns.countplot(x=\"Education_Level\", hue=\"Response\", data= train)"
   ]
  },
  {
   "cell_type": "code",
   "execution_count": 24,
   "metadata": {},
   "outputs": [
    {
     "data": {
      "text/plain": [
       "<AxesSubplot:xlabel='Marital_Status', ylabel='count'>"
      ]
     },
     "execution_count": 24,
     "metadata": {},
     "output_type": "execute_result"
    },
    {
     "data": {
      "image/png": "[encoded data removed]",
      "text/plain": [
       "<Figure size 432x288 with 1 Axes>"
      ]
     },
     "metadata": {
      "needs_background": "light"
     },
     "output_type": "display_data"
    }
   ],
   "source": [
    "#let us explore Marital_Status against the Response\n",
    "sns.countplot(x=\"Marital_Status\", hue=\"Response\", data= train)"
   ]
  },
  {
   "cell_type": "markdown",
   "metadata": {},
   "source": [
    "### Filling Missing Values\n",
    "\n",
    "We want to now fill in the missing values using the mean"
   ]
  },
  {
   "cell_type": "code",
   "execution_count": 25,
   "metadata": {},
   "outputs": [],
   "source": [
    "train['Disposable_Income'].fillna((train['Disposable_Income'].mean()) , inplace = True)"
   ]
  },
  {
   "cell_type": "code",
   "execution_count": 26,
   "metadata": {},
   "outputs": [
    {
     "data": {
      "text/plain": [
       "Year_of_Birth              0\n",
       "Education_Level            0\n",
       "Marital_Status             0\n",
       "Disposable_Income          0\n",
       "No_of_Kids_in_home         0\n",
       "No_of_Teen_in_home         0\n",
       "Recency                    0\n",
       "Discounted_Purchases       0\n",
       "WebPurchases               0\n",
       "CatalogPurchases           0\n",
       "StorePurchases             0\n",
       "Amount_on_Wines            0\n",
       "Amount_on_Fruits           0\n",
       "Amount_on_MeatProducts     0\n",
       "Amount_on_FishProducts     0\n",
       "Amount_on_SweetProducts    0\n",
       "Amount_on_GoldProds        0\n",
       "WebVisitsMonth             0\n",
       "Cmp3Accepted               0\n",
       "Cmp4Accepted               0\n",
       "Cmp5Accepted               0\n",
       "Cmp1Accepted               0\n",
       "Cmp2Accepted               0\n",
       "Any_Complain               0\n",
       "Response                   0\n",
       "dtype: int64"
      ]
     },
     "execution_count": 26,
     "metadata": {},
     "output_type": "execute_result"
    }
   ],
   "source": [
    "train.isnull().sum()"
   ]
  },
  {
   "cell_type": "code",
   "execution_count": 27,
   "metadata": {},
   "outputs": [],
   "source": [
    "test['Disposable_Income'].fillna((test['Disposable_Income'].mean()) , inplace = True)"
   ]
  },
  {
   "cell_type": "code",
   "execution_count": 29,
   "metadata": {},
   "outputs": [
    {
     "data": {
      "text/plain": [
       "Year_of_Birth              0\n",
       "Education_Level            0\n",
       "Marital_Status             0\n",
       "Disposable_Income          0\n",
       "No_of_Kids_in_home         0\n",
       "No_of_Teen_in_home         0\n",
       "Recency                    0\n",
       "Discounted_Purchases       0\n",
       "WebPurchases               0\n",
       "CatalogPurchases           0\n",
       "StorePurchases             0\n",
       "Amount_on_Wines            0\n",
       "Amount_on_Fruits           0\n",
       "Amount_on_MeatProducts     0\n",
       "Amount_on_FishProducts     0\n",
       "Amount_on_SweetProducts    0\n",
       "Amount_on_GoldProds        0\n",
       "WebVisitsMonth             0\n",
       "Cmp3Accepted               0\n",
       "Cmp4Accepted               0\n",
       "Cmp5Accepted               0\n",
       "Cmp1Accepted               0\n",
       "Cmp2Accepted               0\n",
       "Any_Complain               0\n",
       "dtype: int64"
      ]
     },
     "execution_count": 29,
     "metadata": {},
     "output_type": "execute_result"
    }
   ],
   "source": [
    "test.isnull().sum()"
   ]
  },
  {
   "cell_type": "markdown",
   "metadata": {},
   "source": [
    "### Encoding Categorical Variables "
   ]
  },
  {
   "cell_type": "markdown",
   "metadata": {},
   "source": [
    "Before we move forward with the encoding, let us separate the categorical variables from the numerical\n"
   ]
  },
  {
   "cell_type": "code",
   "execution_count": 30,
   "metadata": {},
   "outputs": [],
   "source": [
    "categorical_data = train.select_dtypes(exclude=[np.number])\n",
    "numeric_data = train.select_dtypes(include=[np.number])\n",
    "\n"
   ]
  },
  {
   "cell_type": "code",
   "execution_count": null,
   "metadata": {},
   "outputs": [],
   "source": [
    "# Lets confirm our categorical data"
   ]
  },
  {
   "cell_type": "code",
   "execution_count": 31,
   "metadata": {},
   "outputs": [
    {
     "data": {
      "text/html": [
       "<div>\n",
       "<style scoped>\n",
       "    .dataframe tbody tr th:only-of-type {\n",
       "        vertical-align: middle;\n",
       "    }\n",
       "\n",
       "    .dataframe tbody tr th {\n",
       "        vertical-align: top;\n",
       "    }\n",
       "\n",
       "    .dataframe thead th {\n",
       "        text-align: right;\n",
       "    }\n",
       "</style>\n",
       "<table border=\"1\" class=\"dataframe\">\n",
       "  <thead>\n",
       "    <tr style=\"text-align: right;\">\n",
       "      <th></th>\n",
       "      <th>Education_Level</th>\n",
       "      <th>Marital_Status</th>\n",
       "    </tr>\n",
       "  </thead>\n",
       "  <tbody>\n",
       "    <tr>\n",
       "      <th>0</th>\n",
       "      <td>Graduation</td>\n",
       "      <td>Divorced</td>\n",
       "    </tr>\n",
       "    <tr>\n",
       "      <th>1</th>\n",
       "      <td>Graduation</td>\n",
       "      <td>Together</td>\n",
       "    </tr>\n",
       "    <tr>\n",
       "      <th>2</th>\n",
       "      <td>Graduation</td>\n",
       "      <td>Single</td>\n",
       "    </tr>\n",
       "    <tr>\n",
       "      <th>3</th>\n",
       "      <td>2n Cycle</td>\n",
       "      <td>Single</td>\n",
       "    </tr>\n",
       "    <tr>\n",
       "      <th>4</th>\n",
       "      <td>Graduation</td>\n",
       "      <td>Married</td>\n",
       "    </tr>\n",
       "    <tr>\n",
       "      <th>...</th>\n",
       "      <td>...</td>\n",
       "      <td>...</td>\n",
       "    </tr>\n",
       "    <tr>\n",
       "      <th>1563</th>\n",
       "      <td>Graduation</td>\n",
       "      <td>Married</td>\n",
       "    </tr>\n",
       "    <tr>\n",
       "      <th>1564</th>\n",
       "      <td>Graduation</td>\n",
       "      <td>Single</td>\n",
       "    </tr>\n",
       "    <tr>\n",
       "      <th>1565</th>\n",
       "      <td>Master</td>\n",
       "      <td>Married</td>\n",
       "    </tr>\n",
       "    <tr>\n",
       "      <th>1566</th>\n",
       "      <td>PhD</td>\n",
       "      <td>Single</td>\n",
       "    </tr>\n",
       "    <tr>\n",
       "      <th>1567</th>\n",
       "      <td>Graduation</td>\n",
       "      <td>Together</td>\n",
       "    </tr>\n",
       "  </tbody>\n",
       "</table>\n",
       "<p>1568 rows × 2 columns</p>\n",
       "</div>"
      ],
      "text/plain": [
       "     Education_Level Marital_Status\n",
       "0         Graduation       Divorced\n",
       "1         Graduation       Together\n",
       "2         Graduation         Single\n",
       "3           2n Cycle         Single\n",
       "4         Graduation        Married\n",
       "...              ...            ...\n",
       "1563      Graduation        Married\n",
       "1564      Graduation         Single\n",
       "1565          Master        Married\n",
       "1566             PhD         Single\n",
       "1567      Graduation       Together\n",
       "\n",
       "[1568 rows x 2 columns]"
      ]
     },
     "execution_count": 31,
     "metadata": {},
     "output_type": "execute_result"
    }
   ],
   "source": [
    "categorical_data"
   ]
  },
  {
   "cell_type": "code",
   "execution_count": 32,
   "metadata": {},
   "outputs": [
    {
     "data": {
      "text/html": [
       "<div>\n",
       "<style scoped>\n",
       "    .dataframe tbody tr th:only-of-type {\n",
       "        vertical-align: middle;\n",
       "    }\n",
       "\n",
       "    .dataframe tbody tr th {\n",
       "        vertical-align: top;\n",
       "    }\n",
       "\n",
       "    .dataframe thead th {\n",
       "        text-align: right;\n",
       "    }\n",
       "</style>\n",
       "<table border=\"1\" class=\"dataframe\">\n",
       "  <thead>\n",
       "    <tr style=\"text-align: right;\">\n",
       "      <th></th>\n",
       "      <th>Year_of_Birth</th>\n",
       "      <th>Disposable_Income</th>\n",
       "      <th>No_of_Kids_in_home</th>\n",
       "      <th>No_of_Teen_in_home</th>\n",
       "      <th>Recency</th>\n",
       "      <th>Discounted_Purchases</th>\n",
       "      <th>WebPurchases</th>\n",
       "      <th>CatalogPurchases</th>\n",
       "      <th>StorePurchases</th>\n",
       "      <th>Amount_on_Wines</th>\n",
       "      <th>...</th>\n",
       "      <th>Amount_on_SweetProducts</th>\n",
       "      <th>Amount_on_GoldProds</th>\n",
       "      <th>WebVisitsMonth</th>\n",
       "      <th>Cmp3Accepted</th>\n",
       "      <th>Cmp4Accepted</th>\n",
       "      <th>Cmp5Accepted</th>\n",
       "      <th>Cmp1Accepted</th>\n",
       "      <th>Cmp2Accepted</th>\n",
       "      <th>Any_Complain</th>\n",
       "      <th>Response</th>\n",
       "    </tr>\n",
       "  </thead>\n",
       "  <tbody>\n",
       "    <tr>\n",
       "      <th>0</th>\n",
       "      <td>1955</td>\n",
       "      <td>77504.4</td>\n",
       "      <td>1</td>\n",
       "      <td>1</td>\n",
       "      <td>56</td>\n",
       "      <td>2</td>\n",
       "      <td>1</td>\n",
       "      <td>1</td>\n",
       "      <td>4</td>\n",
       "      <td>71</td>\n",
       "      <td>...</td>\n",
       "      <td>6</td>\n",
       "      <td>20</td>\n",
       "      <td>3</td>\n",
       "      <td>0</td>\n",
       "      <td>0</td>\n",
       "      <td>0</td>\n",
       "      <td>0</td>\n",
       "      <td>0</td>\n",
       "      <td>0</td>\n",
       "      <td>0</td>\n",
       "    </tr>\n",
       "    <tr>\n",
       "      <th>1</th>\n",
       "      <td>1958</td>\n",
       "      <td>56784.0</td>\n",
       "      <td>0</td>\n",
       "      <td>1</td>\n",
       "      <td>17</td>\n",
       "      <td>6</td>\n",
       "      <td>5</td>\n",
       "      <td>1</td>\n",
       "      <td>8</td>\n",
       "      <td>205</td>\n",
       "      <td>...</td>\n",
       "      <td>15</td>\n",
       "      <td>19</td>\n",
       "      <td>6</td>\n",
       "      <td>0</td>\n",
       "      <td>0</td>\n",
       "      <td>0</td>\n",
       "      <td>0</td>\n",
       "      <td>0</td>\n",
       "      <td>0</td>\n",
       "      <td>0</td>\n",
       "    </tr>\n",
       "    <tr>\n",
       "      <th>2</th>\n",
       "      <td>1962</td>\n",
       "      <td>103714.8</td>\n",
       "      <td>0</td>\n",
       "      <td>0</td>\n",
       "      <td>17</td>\n",
       "      <td>0</td>\n",
       "      <td>7</td>\n",
       "      <td>4</td>\n",
       "      <td>7</td>\n",
       "      <td>469</td>\n",
       "      <td>...</td>\n",
       "      <td>18</td>\n",
       "      <td>37</td>\n",
       "      <td>2</td>\n",
       "      <td>0</td>\n",
       "      <td>0</td>\n",
       "      <td>0</td>\n",
       "      <td>1</td>\n",
       "      <td>0</td>\n",
       "      <td>0</td>\n",
       "      <td>1</td>\n",
       "    </tr>\n",
       "    <tr>\n",
       "      <th>3</th>\n",
       "      <td>1979</td>\n",
       "      <td>46311.6</td>\n",
       "      <td>1</td>\n",
       "      <td>0</td>\n",
       "      <td>49</td>\n",
       "      <td>3</td>\n",
       "      <td>4</td>\n",
       "      <td>1</td>\n",
       "      <td>3</td>\n",
       "      <td>56</td>\n",
       "      <td>...</td>\n",
       "      <td>24</td>\n",
       "      <td>24</td>\n",
       "      <td>8</td>\n",
       "      <td>0</td>\n",
       "      <td>0</td>\n",
       "      <td>0</td>\n",
       "      <td>0</td>\n",
       "      <td>0</td>\n",
       "      <td>0</td>\n",
       "      <td>0</td>\n",
       "    </tr>\n",
       "    <tr>\n",
       "      <th>4</th>\n",
       "      <td>1959</td>\n",
       "      <td>87486.0</td>\n",
       "      <td>0</td>\n",
       "      <td>0</td>\n",
       "      <td>59</td>\n",
       "      <td>1</td>\n",
       "      <td>3</td>\n",
       "      <td>7</td>\n",
       "      <td>9</td>\n",
       "      <td>412</td>\n",
       "      <td>...</td>\n",
       "      <td>165</td>\n",
       "      <td>203</td>\n",
       "      <td>1</td>\n",
       "      <td>0</td>\n",
       "      <td>0</td>\n",
       "      <td>0</td>\n",
       "      <td>1</td>\n",
       "      <td>0</td>\n",
       "      <td>0</td>\n",
       "      <td>0</td>\n",
       "    </tr>\n",
       "    <tr>\n",
       "      <th>...</th>\n",
       "      <td>...</td>\n",
       "      <td>...</td>\n",
       "      <td>...</td>\n",
       "      <td>...</td>\n",
       "      <td>...</td>\n",
       "      <td>...</td>\n",
       "      <td>...</td>\n",
       "      <td>...</td>\n",
       "      <td>...</td>\n",
       "      <td>...</td>\n",
       "      <td>...</td>\n",
       "      <td>...</td>\n",
       "      <td>...</td>\n",
       "      <td>...</td>\n",
       "      <td>...</td>\n",
       "      <td>...</td>\n",
       "      <td>...</td>\n",
       "      <td>...</td>\n",
       "      <td>...</td>\n",
       "      <td>...</td>\n",
       "      <td>...</td>\n",
       "    </tr>\n",
       "    <tr>\n",
       "      <th>1563</th>\n",
       "      <td>1970</td>\n",
       "      <td>52893.6</td>\n",
       "      <td>1</td>\n",
       "      <td>1</td>\n",
       "      <td>24</td>\n",
       "      <td>2</td>\n",
       "      <td>2</td>\n",
       "      <td>0</td>\n",
       "      <td>3</td>\n",
       "      <td>29</td>\n",
       "      <td>...</td>\n",
       "      <td>0</td>\n",
       "      <td>4</td>\n",
       "      <td>5</td>\n",
       "      <td>0</td>\n",
       "      <td>0</td>\n",
       "      <td>0</td>\n",
       "      <td>0</td>\n",
       "      <td>0</td>\n",
       "      <td>0</td>\n",
       "      <td>0</td>\n",
       "    </tr>\n",
       "    <tr>\n",
       "      <th>1564</th>\n",
       "      <td>1980</td>\n",
       "      <td>74190.0</td>\n",
       "      <td>0</td>\n",
       "      <td>1</td>\n",
       "      <td>63</td>\n",
       "      <td>1</td>\n",
       "      <td>4</td>\n",
       "      <td>2</td>\n",
       "      <td>8</td>\n",
       "      <td>167</td>\n",
       "      <td>...</td>\n",
       "      <td>30</td>\n",
       "      <td>27</td>\n",
       "      <td>4</td>\n",
       "      <td>0</td>\n",
       "      <td>0</td>\n",
       "      <td>0</td>\n",
       "      <td>0</td>\n",
       "      <td>0</td>\n",
       "      <td>0</td>\n",
       "      <td>0</td>\n",
       "    </tr>\n",
       "    <tr>\n",
       "      <th>1565</th>\n",
       "      <td>1952</td>\n",
       "      <td>80857.2</td>\n",
       "      <td>0</td>\n",
       "      <td>1</td>\n",
       "      <td>74</td>\n",
       "      <td>4</td>\n",
       "      <td>2</td>\n",
       "      <td>2</td>\n",
       "      <td>9</td>\n",
       "      <td>820</td>\n",
       "      <td>...</td>\n",
       "      <td>0</td>\n",
       "      <td>70</td>\n",
       "      <td>7</td>\n",
       "      <td>0</td>\n",
       "      <td>1</td>\n",
       "      <td>0</td>\n",
       "      <td>0</td>\n",
       "      <td>0</td>\n",
       "      <td>0</td>\n",
       "      <td>0</td>\n",
       "    </tr>\n",
       "    <tr>\n",
       "      <th>1566</th>\n",
       "      <td>1964</td>\n",
       "      <td>58701.6</td>\n",
       "      <td>1</td>\n",
       "      <td>1</td>\n",
       "      <td>28</td>\n",
       "      <td>2</td>\n",
       "      <td>1</td>\n",
       "      <td>0</td>\n",
       "      <td>4</td>\n",
       "      <td>57</td>\n",
       "      <td>...</td>\n",
       "      <td>0</td>\n",
       "      <td>1</td>\n",
       "      <td>4</td>\n",
       "      <td>0</td>\n",
       "      <td>0</td>\n",
       "      <td>0</td>\n",
       "      <td>0</td>\n",
       "      <td>0</td>\n",
       "      <td>0</td>\n",
       "      <td>0</td>\n",
       "    </tr>\n",
       "    <tr>\n",
       "      <th>1567</th>\n",
       "      <td>1970</td>\n",
       "      <td>27873.6</td>\n",
       "      <td>1</td>\n",
       "      <td>0</td>\n",
       "      <td>78</td>\n",
       "      <td>2</td>\n",
       "      <td>2</td>\n",
       "      <td>0</td>\n",
       "      <td>3</td>\n",
       "      <td>18</td>\n",
       "      <td>...</td>\n",
       "      <td>1</td>\n",
       "      <td>0</td>\n",
       "      <td>8</td>\n",
       "      <td>0</td>\n",
       "      <td>0</td>\n",
       "      <td>0</td>\n",
       "      <td>0</td>\n",
       "      <td>0</td>\n",
       "      <td>0</td>\n",
       "      <td>0</td>\n",
       "    </tr>\n",
       "  </tbody>\n",
       "</table>\n",
       "<p>1568 rows × 23 columns</p>\n",
       "</div>"
      ],
      "text/plain": [
       "      Year_of_Birth  Disposable_Income  No_of_Kids_in_home  \\\n",
       "0              1955            77504.4                   1   \n",
       "1              1958            56784.0                   0   \n",
       "2              1962           103714.8                   0   \n",
       "3              1979            46311.6                   1   \n",
       "4              1959            87486.0                   0   \n",
       "...             ...                ...                 ...   \n",
       "1563           1970            52893.6                   1   \n",
       "1564           1980            74190.0                   0   \n",
       "1565           1952            80857.2                   0   \n",
       "1566           1964            58701.6                   1   \n",
       "1567           1970            27873.6                   1   \n",
       "\n",
       "      No_of_Teen_in_home  Recency  Discounted_Purchases  WebPurchases  \\\n",
       "0                      1       56                     2             1   \n",
       "1                      1       17                     6             5   \n",
       "2                      0       17                     0             7   \n",
       "3                      0       49                     3             4   \n",
       "4                      0       59                     1             3   \n",
       "...                  ...      ...                   ...           ...   \n",
       "1563                   1       24                     2             2   \n",
       "1564                   1       63                     1             4   \n",
       "1565                   1       74                     4             2   \n",
       "1566                   1       28                     2             1   \n",
       "1567                   0       78                     2             2   \n",
       "\n",
       "      CatalogPurchases  StorePurchases  Amount_on_Wines  ...  \\\n",
       "0                    1               4               71  ...   \n",
       "1                    1               8              205  ...   \n",
       "2                    4               7              469  ...   \n",
       "3                    1               3               56  ...   \n",
       "4                    7               9              412  ...   \n",
       "...                ...             ...              ...  ...   \n",
       "1563                 0               3               29  ...   \n",
       "1564                 2               8              167  ...   \n",
       "1565                 2               9              820  ...   \n",
       "1566                 0               4               57  ...   \n",
       "1567                 0               3               18  ...   \n",
       "\n",
       "      Amount_on_SweetProducts  Amount_on_GoldProds  WebVisitsMonth  \\\n",
       "0                           6                   20               3   \n",
       "1                          15                   19               6   \n",
       "2                          18                   37               2   \n",
       "3                          24                   24               8   \n",
       "4                         165                  203               1   \n",
       "...                       ...                  ...             ...   \n",
       "1563                        0                    4               5   \n",
       "1564                       30                   27               4   \n",
       "1565                        0                   70               7   \n",
       "1566                        0                    1               4   \n",
       "1567                        1                    0               8   \n",
       "\n",
       "      Cmp3Accepted  Cmp4Accepted  Cmp5Accepted  Cmp1Accepted  Cmp2Accepted  \\\n",
       "0                0             0             0             0             0   \n",
       "1                0             0             0             0             0   \n",
       "2                0             0             0             1             0   \n",
       "3                0             0             0             0             0   \n",
       "4                0             0             0             1             0   \n",
       "...            ...           ...           ...           ...           ...   \n",
       "1563             0             0             0             0             0   \n",
       "1564             0             0             0             0             0   \n",
       "1565             0             1             0             0             0   \n",
       "1566             0             0             0             0             0   \n",
       "1567             0             0             0             0             0   \n",
       "\n",
       "      Any_Complain  Response  \n",
       "0                0         0  \n",
       "1                0         0  \n",
       "2                0         1  \n",
       "3                0         0  \n",
       "4                0         0  \n",
       "...            ...       ...  \n",
       "1563             0         0  \n",
       "1564             0         0  \n",
       "1565             0         0  \n",
       "1566             0         0  \n",
       "1567             0         0  \n",
       "\n",
       "[1568 rows x 23 columns]"
      ]
     },
     "execution_count": 32,
     "metadata": {},
     "output_type": "execute_result"
    }
   ],
   "source": [
    "numeric_data"
   ]
  },
  {
   "cell_type": "code",
   "execution_count": 33,
   "metadata": {},
   "outputs": [],
   "source": [
    "numeric_data = numeric_data.astype(int)"
   ]
  },
  {
   "cell_type": "code",
   "execution_count": null,
   "metadata": {},
   "outputs": [],
   "source": []
  },
  {
   "cell_type": "code",
   "execution_count": 33,
   "metadata": {},
   "outputs": [],
   "source": [
    "# We now proceed with encoding the categorical variables.\n",
    "\n",
    "from sklearn.preprocessing import LabelEncoder,OneHotEncoder, OrdinalEncoder\n"
   ]
  },
  {
   "cell_type": "code",
   "execution_count": 74,
   "metadata": {},
   "outputs": [],
   "source": [
    "label_encoder = LabelEncoder()\n",
    "for i in categorical_data:\n",
    "    train[i] = label_encoder.fit_transform(train[i])\n",
    "    test[i] = label_encoder.transform(test[i])"
   ]
  },
  {
   "cell_type": "code",
   "execution_count": 75,
   "metadata": {},
   "outputs": [
    {
     "data": {
      "text/html": [
       "<div>\n",
       "<style scoped>\n",
       "    .dataframe tbody tr th:only-of-type {\n",
       "        vertical-align: middle;\n",
       "    }\n",
       "\n",
       "    .dataframe tbody tr th {\n",
       "        vertical-align: top;\n",
       "    }\n",
       "\n",
       "    .dataframe thead th {\n",
       "        text-align: right;\n",
       "    }\n",
       "</style>\n",
       "<table border=\"1\" class=\"dataframe\">\n",
       "  <thead>\n",
       "    <tr style=\"text-align: right;\">\n",
       "      <th></th>\n",
       "      <th>Year_of_Birth</th>\n",
       "      <th>Education_Level</th>\n",
       "      <th>Marital_Status</th>\n",
       "      <th>Disposable_Income</th>\n",
       "      <th>No_of_Kids_in_home</th>\n",
       "      <th>No_of_Teen_in_home</th>\n",
       "      <th>Recency</th>\n",
       "      <th>Discounted_Purchases</th>\n",
       "      <th>WebPurchases</th>\n",
       "      <th>CatalogPurchases</th>\n",
       "      <th>...</th>\n",
       "      <th>Amount_on_SweetProducts</th>\n",
       "      <th>Amount_on_GoldProds</th>\n",
       "      <th>WebVisitsMonth</th>\n",
       "      <th>Cmp3Accepted</th>\n",
       "      <th>Cmp4Accepted</th>\n",
       "      <th>Cmp5Accepted</th>\n",
       "      <th>Cmp1Accepted</th>\n",
       "      <th>Cmp2Accepted</th>\n",
       "      <th>Any_Complain</th>\n",
       "      <th>Response</th>\n",
       "    </tr>\n",
       "  </thead>\n",
       "  <tbody>\n",
       "    <tr>\n",
       "      <th>0</th>\n",
       "      <td>1955</td>\n",
       "      <td>2</td>\n",
       "      <td>2</td>\n",
       "      <td>77504.4</td>\n",
       "      <td>1</td>\n",
       "      <td>1</td>\n",
       "      <td>56</td>\n",
       "      <td>2</td>\n",
       "      <td>1</td>\n",
       "      <td>1</td>\n",
       "      <td>...</td>\n",
       "      <td>6</td>\n",
       "      <td>20</td>\n",
       "      <td>3</td>\n",
       "      <td>0</td>\n",
       "      <td>0</td>\n",
       "      <td>0</td>\n",
       "      <td>0</td>\n",
       "      <td>0</td>\n",
       "      <td>0</td>\n",
       "      <td>0</td>\n",
       "    </tr>\n",
       "    <tr>\n",
       "      <th>1</th>\n",
       "      <td>1958</td>\n",
       "      <td>2</td>\n",
       "      <td>5</td>\n",
       "      <td>56784.0</td>\n",
       "      <td>0</td>\n",
       "      <td>1</td>\n",
       "      <td>17</td>\n",
       "      <td>6</td>\n",
       "      <td>5</td>\n",
       "      <td>1</td>\n",
       "      <td>...</td>\n",
       "      <td>15</td>\n",
       "      <td>19</td>\n",
       "      <td>6</td>\n",
       "      <td>0</td>\n",
       "      <td>0</td>\n",
       "      <td>0</td>\n",
       "      <td>0</td>\n",
       "      <td>0</td>\n",
       "      <td>0</td>\n",
       "      <td>0</td>\n",
       "    </tr>\n",
       "    <tr>\n",
       "      <th>2</th>\n",
       "      <td>1962</td>\n",
       "      <td>2</td>\n",
       "      <td>4</td>\n",
       "      <td>103714.8</td>\n",
       "      <td>0</td>\n",
       "      <td>0</td>\n",
       "      <td>17</td>\n",
       "      <td>0</td>\n",
       "      <td>7</td>\n",
       "      <td>4</td>\n",
       "      <td>...</td>\n",
       "      <td>18</td>\n",
       "      <td>37</td>\n",
       "      <td>2</td>\n",
       "      <td>0</td>\n",
       "      <td>0</td>\n",
       "      <td>0</td>\n",
       "      <td>1</td>\n",
       "      <td>0</td>\n",
       "      <td>0</td>\n",
       "      <td>1</td>\n",
       "    </tr>\n",
       "    <tr>\n",
       "      <th>3</th>\n",
       "      <td>1979</td>\n",
       "      <td>0</td>\n",
       "      <td>4</td>\n",
       "      <td>46311.6</td>\n",
       "      <td>1</td>\n",
       "      <td>0</td>\n",
       "      <td>49</td>\n",
       "      <td>3</td>\n",
       "      <td>4</td>\n",
       "      <td>1</td>\n",
       "      <td>...</td>\n",
       "      <td>24</td>\n",
       "      <td>24</td>\n",
       "      <td>8</td>\n",
       "      <td>0</td>\n",
       "      <td>0</td>\n",
       "      <td>0</td>\n",
       "      <td>0</td>\n",
       "      <td>0</td>\n",
       "      <td>0</td>\n",
       "      <td>0</td>\n",
       "    </tr>\n",
       "    <tr>\n",
       "      <th>4</th>\n",
       "      <td>1959</td>\n",
       "      <td>2</td>\n",
       "      <td>3</td>\n",
       "      <td>87486.0</td>\n",
       "      <td>0</td>\n",
       "      <td>0</td>\n",
       "      <td>59</td>\n",
       "      <td>1</td>\n",
       "      <td>3</td>\n",
       "      <td>7</td>\n",
       "      <td>...</td>\n",
       "      <td>165</td>\n",
       "      <td>203</td>\n",
       "      <td>1</td>\n",
       "      <td>0</td>\n",
       "      <td>0</td>\n",
       "      <td>0</td>\n",
       "      <td>1</td>\n",
       "      <td>0</td>\n",
       "      <td>0</td>\n",
       "      <td>0</td>\n",
       "    </tr>\n",
       "  </tbody>\n",
       "</table>\n",
       "<p>5 rows × 25 columns</p>\n",
       "</div>"
      ],
      "text/plain": [
       "   Year_of_Birth  Education_Level  Marital_Status  Disposable_Income  \\\n",
       "0           1955                2               2            77504.4   \n",
       "1           1958                2               5            56784.0   \n",
       "2           1962                2               4           103714.8   \n",
       "3           1979                0               4            46311.6   \n",
       "4           1959                2               3            87486.0   \n",
       "\n",
       "   No_of_Kids_in_home  No_of_Teen_in_home  Recency  Discounted_Purchases  \\\n",
       "0                   1                   1       56                     2   \n",
       "1                   0                   1       17                     6   \n",
       "2                   0                   0       17                     0   \n",
       "3                   1                   0       49                     3   \n",
       "4                   0                   0       59                     1   \n",
       "\n",
       "   WebPurchases  CatalogPurchases  ...  Amount_on_SweetProducts  \\\n",
       "0             1                 1  ...                        6   \n",
       "1             5                 1  ...                       15   \n",
       "2             7                 4  ...                       18   \n",
       "3             4                 1  ...                       24   \n",
       "4             3                 7  ...                      165   \n",
       "\n",
       "   Amount_on_GoldProds  WebVisitsMonth  Cmp3Accepted  Cmp4Accepted  \\\n",
       "0                   20               3             0             0   \n",
       "1                   19               6             0             0   \n",
       "2                   37               2             0             0   \n",
       "3                   24               8             0             0   \n",
       "4                  203               1             0             0   \n",
       "\n",
       "   Cmp5Accepted  Cmp1Accepted  Cmp2Accepted  Any_Complain  Response  \n",
       "0             0             0             0             0         0  \n",
       "1             0             0             0             0         0  \n",
       "2             0             1             0             0         1  \n",
       "3             0             0             0             0         0  \n",
       "4             0             1             0             0         0  \n",
       "\n",
       "[5 rows x 25 columns]"
      ]
     },
     "execution_count": 75,
     "metadata": {},
     "output_type": "execute_result"
    }
   ],
   "source": [
    "# Let us check it out\n",
    "\n",
    "train.head()"
   ]
  },
  {
   "cell_type": "code",
   "execution_count": 76,
   "metadata": {},
   "outputs": [
    {
     "data": {
      "text/html": [
       "<div>\n",
       "<style scoped>\n",
       "    .dataframe tbody tr th:only-of-type {\n",
       "        vertical-align: middle;\n",
       "    }\n",
       "\n",
       "    .dataframe tbody tr th {\n",
       "        vertical-align: top;\n",
       "    }\n",
       "\n",
       "    .dataframe thead th {\n",
       "        text-align: right;\n",
       "    }\n",
       "</style>\n",
       "<table border=\"1\" class=\"dataframe\">\n",
       "  <thead>\n",
       "    <tr style=\"text-align: right;\">\n",
       "      <th></th>\n",
       "      <th>Year_of_Birth</th>\n",
       "      <th>Education_Level</th>\n",
       "      <th>Marital_Status</th>\n",
       "      <th>Disposable_Income</th>\n",
       "      <th>No_of_Kids_in_home</th>\n",
       "      <th>No_of_Teen_in_home</th>\n",
       "      <th>Recency</th>\n",
       "      <th>Discounted_Purchases</th>\n",
       "      <th>WebPurchases</th>\n",
       "      <th>CatalogPurchases</th>\n",
       "      <th>...</th>\n",
       "      <th>Amount_on_FishProducts</th>\n",
       "      <th>Amount_on_SweetProducts</th>\n",
       "      <th>Amount_on_GoldProds</th>\n",
       "      <th>WebVisitsMonth</th>\n",
       "      <th>Cmp3Accepted</th>\n",
       "      <th>Cmp4Accepted</th>\n",
       "      <th>Cmp5Accepted</th>\n",
       "      <th>Cmp1Accepted</th>\n",
       "      <th>Cmp2Accepted</th>\n",
       "      <th>Any_Complain</th>\n",
       "    </tr>\n",
       "  </thead>\n",
       "  <tbody>\n",
       "    <tr>\n",
       "      <th>0</th>\n",
       "      <td>1954</td>\n",
       "      <td>2</td>\n",
       "      <td>4</td>\n",
       "      <td>48556.8</td>\n",
       "      <td>0</td>\n",
       "      <td>1</td>\n",
       "      <td>85</td>\n",
       "      <td>6</td>\n",
       "      <td>8</td>\n",
       "      <td>2</td>\n",
       "      <td>...</td>\n",
       "      <td>7</td>\n",
       "      <td>23</td>\n",
       "      <td>41</td>\n",
       "      <td>8</td>\n",
       "      <td>0</td>\n",
       "      <td>0</td>\n",
       "      <td>0</td>\n",
       "      <td>0</td>\n",
       "      <td>0</td>\n",
       "      <td>0</td>\n",
       "    </tr>\n",
       "    <tr>\n",
       "      <th>1</th>\n",
       "      <td>1961</td>\n",
       "      <td>2</td>\n",
       "      <td>6</td>\n",
       "      <td>57499.2</td>\n",
       "      <td>0</td>\n",
       "      <td>1</td>\n",
       "      <td>79</td>\n",
       "      <td>5</td>\n",
       "      <td>7</td>\n",
       "      <td>4</td>\n",
       "      <td>...</td>\n",
       "      <td>0</td>\n",
       "      <td>0</td>\n",
       "      <td>75</td>\n",
       "      <td>6</td>\n",
       "      <td>0</td>\n",
       "      <td>1</td>\n",
       "      <td>0</td>\n",
       "      <td>0</td>\n",
       "      <td>0</td>\n",
       "      <td>0</td>\n",
       "    </tr>\n",
       "    <tr>\n",
       "      <th>2</th>\n",
       "      <td>1973</td>\n",
       "      <td>1</td>\n",
       "      <td>3</td>\n",
       "      <td>17025.6</td>\n",
       "      <td>0</td>\n",
       "      <td>0</td>\n",
       "      <td>47</td>\n",
       "      <td>1</td>\n",
       "      <td>2</td>\n",
       "      <td>0</td>\n",
       "      <td>...</td>\n",
       "      <td>16</td>\n",
       "      <td>12</td>\n",
       "      <td>27</td>\n",
       "      <td>6</td>\n",
       "      <td>0</td>\n",
       "      <td>0</td>\n",
       "      <td>0</td>\n",
       "      <td>0</td>\n",
       "      <td>0</td>\n",
       "      <td>0</td>\n",
       "    </tr>\n",
       "    <tr>\n",
       "      <th>3</th>\n",
       "      <td>1970</td>\n",
       "      <td>2</td>\n",
       "      <td>5</td>\n",
       "      <td>91983.6</td>\n",
       "      <td>0</td>\n",
       "      <td>0</td>\n",
       "      <td>98</td>\n",
       "      <td>1</td>\n",
       "      <td>4</td>\n",
       "      <td>7</td>\n",
       "      <td>...</td>\n",
       "      <td>219</td>\n",
       "      <td>189</td>\n",
       "      <td>126</td>\n",
       "      <td>2</td>\n",
       "      <td>0</td>\n",
       "      <td>0</td>\n",
       "      <td>1</td>\n",
       "      <td>1</td>\n",
       "      <td>0</td>\n",
       "      <td>0</td>\n",
       "    </tr>\n",
       "    <tr>\n",
       "      <th>4</th>\n",
       "      <td>1959</td>\n",
       "      <td>2</td>\n",
       "      <td>5</td>\n",
       "      <td>78235.2</td>\n",
       "      <td>0</td>\n",
       "      <td>2</td>\n",
       "      <td>41</td>\n",
       "      <td>2</td>\n",
       "      <td>7</td>\n",
       "      <td>6</td>\n",
       "      <td>...</td>\n",
       "      <td>12</td>\n",
       "      <td>0</td>\n",
       "      <td>200</td>\n",
       "      <td>5</td>\n",
       "      <td>1</td>\n",
       "      <td>0</td>\n",
       "      <td>0</td>\n",
       "      <td>0</td>\n",
       "      <td>0</td>\n",
       "      <td>0</td>\n",
       "    </tr>\n",
       "  </tbody>\n",
       "</table>\n",
       "<p>5 rows × 24 columns</p>\n",
       "</div>"
      ],
      "text/plain": [
       "   Year_of_Birth  Education_Level  Marital_Status  Disposable_Income  \\\n",
       "0           1954                2               4            48556.8   \n",
       "1           1961                2               6            57499.2   \n",
       "2           1973                1               3            17025.6   \n",
       "3           1970                2               5            91983.6   \n",
       "4           1959                2               5            78235.2   \n",
       "\n",
       "   No_of_Kids_in_home  No_of_Teen_in_home  Recency  Discounted_Purchases  \\\n",
       "0                   0                   1       85                     6   \n",
       "1                   0                   1       79                     5   \n",
       "2                   0                   0       47                     1   \n",
       "3                   0                   0       98                     1   \n",
       "4                   0                   2       41                     2   \n",
       "\n",
       "   WebPurchases  CatalogPurchases  ...  Amount_on_FishProducts  \\\n",
       "0             8                 2  ...                       7   \n",
       "1             7                 4  ...                       0   \n",
       "2             2                 0  ...                      16   \n",
       "3             4                 7  ...                     219   \n",
       "4             7                 6  ...                      12   \n",
       "\n",
       "   Amount_on_SweetProducts  Amount_on_GoldProds  WebVisitsMonth  Cmp3Accepted  \\\n",
       "0                       23                   41               8             0   \n",
       "1                        0                   75               6             0   \n",
       "2                       12                   27               6             0   \n",
       "3                      189                  126               2             0   \n",
       "4                        0                  200               5             1   \n",
       "\n",
       "   Cmp4Accepted  Cmp5Accepted  Cmp1Accepted  Cmp2Accepted  Any_Complain  \n",
       "0             0             0             0             0             0  \n",
       "1             1             0             0             0             0  \n",
       "2             0             0             0             0             0  \n",
       "3             0             1             1             0             0  \n",
       "4             0             0             0             0             0  \n",
       "\n",
       "[5 rows x 24 columns]"
      ]
     },
     "execution_count": 76,
     "metadata": {},
     "output_type": "execute_result"
    }
   ],
   "source": [
    "test.head()"
   ]
  },
  {
   "cell_type": "markdown",
   "metadata": {},
   "source": [
    "nice one!"
   ]
  },
  {
   "cell_type": "markdown",
   "metadata": {},
   "source": [
    "#### Split the dataset into Features (Independent) and Target (dependent)"
   ]
  },
  {
   "cell_type": "code",
   "execution_count": 78,
   "metadata": {},
   "outputs": [],
   "source": [
    "from sklearn import metrics # for model evaluation\n",
    "from sklearn.model_selection import train_test_split # to divide the data in training and test set"
   ]
  },
  {
   "cell_type": "code",
   "execution_count": 79,
   "metadata": {},
   "outputs": [],
   "source": [
    "# Split train into X (Features) and y (Target)\n",
    "\n",
    "X = train.drop('Response', axis=1)\n",
    "y = train.Response"
   ]
  },
  {
   "cell_type": "markdown",
   "metadata": {},
   "source": [
    "<u1><li>**Split the data into training and test set**</li>\n",
    "</u1>\n",
    "We will split the dataset Features(X) and Label(Y) into training and test data. The training set will be 80% while the test set will be 20%"
   ]
  },
  {
   "cell_type": "code",
   "execution_count": 41,
   "metadata": {},
   "outputs": [],
   "source": [
    "#Split into train and test set\n",
    "X_train, X_test, y_train, y_test = train_test_split(X, y, test_size=0.2, random_state=42)\n"
   ]
  },
  {
   "cell_type": "markdown",
   "metadata": {},
   "source": [
    "#### Feature scaling"
   ]
  },
  {
   "cell_type": "markdown",
   "metadata": {},
   "source": [
    "To normalize your data, you need to import the MinMaxScalar from the sklearn library and apply it to our dataset. So, let’s do that!"
   ]
  },
  {
   "cell_type": "code",
   "execution_count": 81,
   "metadata": {},
   "outputs": [
    {
     "ename": "ValueError",
     "evalue": "could not convert string to float: 'Graduation'",
     "output_type": "error",
     "traceback": [
      "\u001b[1;31m---------------------------------------------------------------------------\u001b[0m",
      "\u001b[1;31mValueError\u001b[0m                                Traceback (most recent call last)",
      "\u001b[1;32m<ipython-input-81-3a88a6ba9c65>\u001b[0m in \u001b[0;36m<module>\u001b[1;34m\u001b[0m\n\u001b[0;32m      4\u001b[0m \u001b[0mscaler\u001b[0m \u001b[1;33m=\u001b[0m \u001b[0mMinMaxScaler\u001b[0m\u001b[1;33m(\u001b[0m\u001b[0mfeature_range\u001b[0m \u001b[1;33m=\u001b[0m\u001b[1;33m(\u001b[0m\u001b[1;36m0\u001b[0m\u001b[1;33m,\u001b[0m\u001b[1;36m1\u001b[0m\u001b[1;33m)\u001b[0m\u001b[1;33m)\u001b[0m\u001b[1;33m\u001b[0m\u001b[1;33m\u001b[0m\u001b[0m\n\u001b[0;32m      5\u001b[0m \u001b[0mX_train\u001b[0m \u001b[1;33m=\u001b[0m \u001b[0mscaler\u001b[0m\u001b[1;33m.\u001b[0m\u001b[0mfit_transform\u001b[0m\u001b[1;33m(\u001b[0m\u001b[0mX_train\u001b[0m\u001b[1;33m)\u001b[0m \u001b[1;31m# Fit and transform the training data\u001b[0m\u001b[1;33m\u001b[0m\u001b[1;33m\u001b[0m\u001b[0m\n\u001b[1;32m----> 6\u001b[1;33m \u001b[0mX_test\u001b[0m \u001b[1;33m=\u001b[0m \u001b[0mscaler\u001b[0m\u001b[1;33m.\u001b[0m\u001b[0mtransform\u001b[0m\u001b[1;33m(\u001b[0m\u001b[0mX_test\u001b[0m\u001b[1;33m)\u001b[0m \u001b[1;31m# Transform the test data\u001b[0m\u001b[1;33m\u001b[0m\u001b[1;33m\u001b[0m\u001b[0m\n\u001b[0m",
      "\u001b[1;32m~\\anaconda3\\lib\\site-packages\\sklearn\\preprocessing\\_data.py\u001b[0m in \u001b[0;36mtransform\u001b[1;34m(self, X)\u001b[0m\n\u001b[0;32m    494\u001b[0m         \u001b[0mcheck_is_fitted\u001b[0m\u001b[1;33m(\u001b[0m\u001b[0mself\u001b[0m\u001b[1;33m)\u001b[0m\u001b[1;33m\u001b[0m\u001b[1;33m\u001b[0m\u001b[0m\n\u001b[0;32m    495\u001b[0m \u001b[1;33m\u001b[0m\u001b[0m\n\u001b[1;32m--> 496\u001b[1;33m         X = self._validate_data(\n\u001b[0m\u001b[0;32m    497\u001b[0m             \u001b[0mX\u001b[0m\u001b[1;33m,\u001b[0m\u001b[1;33m\u001b[0m\u001b[1;33m\u001b[0m\u001b[0m\n\u001b[0;32m    498\u001b[0m             \u001b[0mcopy\u001b[0m\u001b[1;33m=\u001b[0m\u001b[0mself\u001b[0m\u001b[1;33m.\u001b[0m\u001b[0mcopy\u001b[0m\u001b[1;33m,\u001b[0m\u001b[1;33m\u001b[0m\u001b[1;33m\u001b[0m\u001b[0m\n",
      "\u001b[1;32m~\\anaconda3\\lib\\site-packages\\sklearn\\base.py\u001b[0m in \u001b[0;36m_validate_data\u001b[1;34m(self, X, y, reset, validate_separately, **check_params)\u001b[0m\n\u001b[0;32m    555\u001b[0m             \u001b[1;32mraise\u001b[0m \u001b[0mValueError\u001b[0m\u001b[1;33m(\u001b[0m\u001b[1;34m\"Validation should be done on X, y or both.\"\u001b[0m\u001b[1;33m)\u001b[0m\u001b[1;33m\u001b[0m\u001b[1;33m\u001b[0m\u001b[0m\n\u001b[0;32m    556\u001b[0m         \u001b[1;32melif\u001b[0m \u001b[1;32mnot\u001b[0m \u001b[0mno_val_X\u001b[0m \u001b[1;32mand\u001b[0m \u001b[0mno_val_y\u001b[0m\u001b[1;33m:\u001b[0m\u001b[1;33m\u001b[0m\u001b[1;33m\u001b[0m\u001b[0m\n\u001b[1;32m--> 557\u001b[1;33m             \u001b[0mX\u001b[0m \u001b[1;33m=\u001b[0m \u001b[0mcheck_array\u001b[0m\u001b[1;33m(\u001b[0m\u001b[0mX\u001b[0m\u001b[1;33m,\u001b[0m \u001b[1;33m**\u001b[0m\u001b[0mcheck_params\u001b[0m\u001b[1;33m)\u001b[0m\u001b[1;33m\u001b[0m\u001b[1;33m\u001b[0m\u001b[0m\n\u001b[0m\u001b[0;32m    558\u001b[0m             \u001b[0mout\u001b[0m \u001b[1;33m=\u001b[0m \u001b[0mX\u001b[0m\u001b[1;33m\u001b[0m\u001b[1;33m\u001b[0m\u001b[0m\n\u001b[0;32m    559\u001b[0m         \u001b[1;32melif\u001b[0m \u001b[0mno_val_X\u001b[0m \u001b[1;32mand\u001b[0m \u001b[1;32mnot\u001b[0m \u001b[0mno_val_y\u001b[0m\u001b[1;33m:\u001b[0m\u001b[1;33m\u001b[0m\u001b[1;33m\u001b[0m\u001b[0m\n",
      "\u001b[1;32m~\\anaconda3\\lib\\site-packages\\sklearn\\utils\\validation.py\u001b[0m in \u001b[0;36mcheck_array\u001b[1;34m(array, accept_sparse, accept_large_sparse, dtype, order, copy, force_all_finite, ensure_2d, allow_nd, ensure_min_samples, ensure_min_features, estimator)\u001b[0m\n\u001b[0;32m    736\u001b[0m                     \u001b[0marray\u001b[0m \u001b[1;33m=\u001b[0m \u001b[0marray\u001b[0m\u001b[1;33m.\u001b[0m\u001b[0mastype\u001b[0m\u001b[1;33m(\u001b[0m\u001b[0mdtype\u001b[0m\u001b[1;33m,\u001b[0m \u001b[0mcasting\u001b[0m\u001b[1;33m=\u001b[0m\u001b[1;34m\"unsafe\"\u001b[0m\u001b[1;33m,\u001b[0m \u001b[0mcopy\u001b[0m\u001b[1;33m=\u001b[0m\u001b[1;32mFalse\u001b[0m\u001b[1;33m)\u001b[0m\u001b[1;33m\u001b[0m\u001b[1;33m\u001b[0m\u001b[0m\n\u001b[0;32m    737\u001b[0m                 \u001b[1;32melse\u001b[0m\u001b[1;33m:\u001b[0m\u001b[1;33m\u001b[0m\u001b[1;33m\u001b[0m\u001b[0m\n\u001b[1;32m--> 738\u001b[1;33m                     \u001b[0marray\u001b[0m \u001b[1;33m=\u001b[0m \u001b[0mnp\u001b[0m\u001b[1;33m.\u001b[0m\u001b[0masarray\u001b[0m\u001b[1;33m(\u001b[0m\u001b[0marray\u001b[0m\u001b[1;33m,\u001b[0m \u001b[0morder\u001b[0m\u001b[1;33m=\u001b[0m\u001b[0morder\u001b[0m\u001b[1;33m,\u001b[0m \u001b[0mdtype\u001b[0m\u001b[1;33m=\u001b[0m\u001b[0mdtype\u001b[0m\u001b[1;33m)\u001b[0m\u001b[1;33m\u001b[0m\u001b[1;33m\u001b[0m\u001b[0m\n\u001b[0m\u001b[0;32m    739\u001b[0m             \u001b[1;32mexcept\u001b[0m \u001b[0mComplexWarning\u001b[0m \u001b[1;32mas\u001b[0m \u001b[0mcomplex_warning\u001b[0m\u001b[1;33m:\u001b[0m\u001b[1;33m\u001b[0m\u001b[1;33m\u001b[0m\u001b[0m\n\u001b[0;32m    740\u001b[0m                 raise ValueError(\n",
      "\u001b[1;32m~\\anaconda3\\lib\\site-packages\\numpy\\core\\_asarray.py\u001b[0m in \u001b[0;36masarray\u001b[1;34m(a, dtype, order)\u001b[0m\n\u001b[0;32m     81\u001b[0m \u001b[1;33m\u001b[0m\u001b[0m\n\u001b[0;32m     82\u001b[0m     \"\"\"\n\u001b[1;32m---> 83\u001b[1;33m     \u001b[1;32mreturn\u001b[0m \u001b[0marray\u001b[0m\u001b[1;33m(\u001b[0m\u001b[0ma\u001b[0m\u001b[1;33m,\u001b[0m \u001b[0mdtype\u001b[0m\u001b[1;33m,\u001b[0m \u001b[0mcopy\u001b[0m\u001b[1;33m=\u001b[0m\u001b[1;32mFalse\u001b[0m\u001b[1;33m,\u001b[0m \u001b[0morder\u001b[0m\u001b[1;33m=\u001b[0m\u001b[0morder\u001b[0m\u001b[1;33m)\u001b[0m\u001b[1;33m\u001b[0m\u001b[1;33m\u001b[0m\u001b[0m\n\u001b[0m\u001b[0;32m     84\u001b[0m \u001b[1;33m\u001b[0m\u001b[0m\n\u001b[0;32m     85\u001b[0m \u001b[1;33m\u001b[0m\u001b[0m\n",
      "\u001b[1;32m~\\anaconda3\\lib\\site-packages\\pandas\\core\\generic.py\u001b[0m in \u001b[0;36m__array__\u001b[1;34m(self, dtype)\u001b[0m\n\u001b[0;32m   1779\u001b[0m \u001b[1;33m\u001b[0m\u001b[0m\n\u001b[0;32m   1780\u001b[0m     \u001b[1;32mdef\u001b[0m \u001b[0m__array__\u001b[0m\u001b[1;33m(\u001b[0m\u001b[0mself\u001b[0m\u001b[1;33m,\u001b[0m \u001b[0mdtype\u001b[0m\u001b[1;33m=\u001b[0m\u001b[1;32mNone\u001b[0m\u001b[1;33m)\u001b[0m \u001b[1;33m->\u001b[0m \u001b[0mnp\u001b[0m\u001b[1;33m.\u001b[0m\u001b[0mndarray\u001b[0m\u001b[1;33m:\u001b[0m\u001b[1;33m\u001b[0m\u001b[1;33m\u001b[0m\u001b[0m\n\u001b[1;32m-> 1781\u001b[1;33m         \u001b[1;32mreturn\u001b[0m \u001b[0mnp\u001b[0m\u001b[1;33m.\u001b[0m\u001b[0masarray\u001b[0m\u001b[1;33m(\u001b[0m\u001b[0mself\u001b[0m\u001b[1;33m.\u001b[0m\u001b[0m_values\u001b[0m\u001b[1;33m,\u001b[0m \u001b[0mdtype\u001b[0m\u001b[1;33m=\u001b[0m\u001b[0mdtype\u001b[0m\u001b[1;33m)\u001b[0m\u001b[1;33m\u001b[0m\u001b[1;33m\u001b[0m\u001b[0m\n\u001b[0m\u001b[0;32m   1782\u001b[0m \u001b[1;33m\u001b[0m\u001b[0m\n\u001b[0;32m   1783\u001b[0m     \u001b[1;32mdef\u001b[0m \u001b[0m__array_wrap__\u001b[0m\u001b[1;33m(\u001b[0m\u001b[0mself\u001b[0m\u001b[1;33m,\u001b[0m \u001b[0mresult\u001b[0m\u001b[1;33m,\u001b[0m \u001b[0mcontext\u001b[0m\u001b[1;33m=\u001b[0m\u001b[1;32mNone\u001b[0m\u001b[1;33m)\u001b[0m\u001b[1;33m:\u001b[0m\u001b[1;33m\u001b[0m\u001b[1;33m\u001b[0m\u001b[0m\n",
      "\u001b[1;32m~\\anaconda3\\lib\\site-packages\\numpy\\core\\_asarray.py\u001b[0m in \u001b[0;36masarray\u001b[1;34m(a, dtype, order)\u001b[0m\n\u001b[0;32m     81\u001b[0m \u001b[1;33m\u001b[0m\u001b[0m\n\u001b[0;32m     82\u001b[0m     \"\"\"\n\u001b[1;32m---> 83\u001b[1;33m     \u001b[1;32mreturn\u001b[0m \u001b[0marray\u001b[0m\u001b[1;33m(\u001b[0m\u001b[0ma\u001b[0m\u001b[1;33m,\u001b[0m \u001b[0mdtype\u001b[0m\u001b[1;33m,\u001b[0m \u001b[0mcopy\u001b[0m\u001b[1;33m=\u001b[0m\u001b[1;32mFalse\u001b[0m\u001b[1;33m,\u001b[0m \u001b[0morder\u001b[0m\u001b[1;33m=\u001b[0m\u001b[0morder\u001b[0m\u001b[1;33m)\u001b[0m\u001b[1;33m\u001b[0m\u001b[1;33m\u001b[0m\u001b[0m\n\u001b[0m\u001b[0;32m     84\u001b[0m \u001b[1;33m\u001b[0m\u001b[0m\n\u001b[0;32m     85\u001b[0m \u001b[1;33m\u001b[0m\u001b[0m\n",
      "\u001b[1;31mValueError\u001b[0m: could not convert string to float: 'Graduation'"
     ]
    }
   ],
   "source": [
    "from sklearn import preprocessing\n",
    "from sklearn.preprocessing import MinMaxScaler\n",
    "\n",
    "scaler = MinMaxScaler(feature_range =(0,1))\n",
    "X_train = scaler.fit_transform(X_train) # Fit and transform the training data\n",
    "X_test = scaler.transform(X_test) # Transform the test data"
   ]
  },
  {
   "cell_type": "markdown",
   "metadata": {},
   "source": [
    "#### Overcoming our imbalance class using SMOTE"
   ]
  },
  {
   "cell_type": "code",
   "execution_count": 77,
   "metadata": {},
   "outputs": [],
   "source": [
    "from imblearn.over_sampling import SMOTE\n",
    "from collections import Counter"
   ]
  },
  {
   "cell_type": "code",
   "execution_count": 78,
   "metadata": {},
   "outputs": [
    {
     "name": "stdout",
     "output_type": "stream",
     "text": [
      "Before Counter({0: 1057, 1: 1057})\n",
      "After Counter({0: 1057, 1: 1057})\n"
     ]
    }
   ],
   "source": [
    "counter = Counter(y_train)\n",
    "print('Before', counter)\n",
    "\n",
    "# Oversampling the train dataset\n",
    "smote = SMOTE()\n",
    "X_train, y_train = smote.fit_resample(X_train, y_train)\n",
    "\n",
    "counter = Counter(y_train)\n",
    "print('After', counter)"
   ]
  },
  {
   "cell_type": "markdown",
   "metadata": {},
   "source": [
    "<u1><li>**Model Training**</li>\n",
    "</u1>\n",
    "\n",
    "We will use the training data to build the model and then use the test data to make prediction and evaluation respectively"
   ]
  },
  {
   "cell_type": "markdown",
   "metadata": {},
   "source": [
    "## Logistic Regression\n",
    "\n",
    "We want to now train a logistic model with our training data. But we need to first import the Logistic Regression from the sklearn modelling "
   ]
  },
  {
   "cell_type": "code",
   "execution_count": 79,
   "metadata": {},
   "outputs": [
    {
     "data": {
      "text/plain": [
       "LogisticRegression()"
      ]
     },
     "execution_count": 79,
     "metadata": {},
     "output_type": "execute_result"
    }
   ],
   "source": [
    "from sklearn.linear_model import LogisticRegression\n",
    "\n",
    "logisticmodel = LogisticRegression()\n",
    "logisticmodel.fit(X_train, y_train)"
   ]
  },
  {
   "cell_type": "code",
   "execution_count": 80,
   "metadata": {},
   "outputs": [
    {
     "data": {
      "text/plain": [
       "array([0, 0, 0, 1, 0, 0, 0, 0, 1, 0, 1, 0, 0, 1, 1, 0, 0, 1, 0, 0, 1, 0,\n",
       "       1, 1, 1, 1, 0, 0, 1, 0, 0, 0, 0, 1, 0, 1, 1, 1, 1, 0, 0, 0, 0, 0,\n",
       "       0, 0, 0, 0, 0, 0, 0, 0, 1, 1, 0, 0, 1, 0, 0, 0, 0, 0, 1, 1, 0, 1,\n",
       "       1, 0, 1, 0, 0, 0, 0, 1, 0, 0, 0, 0, 0, 0, 0, 0, 1, 0, 0, 1, 0, 0,\n",
       "       0, 0, 0, 0, 0, 0, 0, 0, 0, 0, 0, 1, 0, 0, 0, 0, 0, 1, 0, 0, 0, 0,\n",
       "       0, 0, 1, 0, 0, 0, 0, 0, 0, 0, 0, 0, 1, 0, 0, 0, 1, 1, 0, 0, 0, 1,\n",
       "       0, 0, 0, 0, 0, 0, 1, 0, 0, 1, 0, 0, 0, 1, 1, 0, 0, 0, 0, 0, 0, 0,\n",
       "       0, 0, 0, 0, 0, 0, 0, 0, 1, 0, 0, 1, 0, 0, 0, 1, 0, 0, 0, 1, 0, 0,\n",
       "       1, 0, 1, 0, 0, 0, 1, 0, 1, 0, 1, 0, 0, 0, 0, 0, 0, 0, 1, 0, 0, 1,\n",
       "       0, 0, 0, 1, 0, 0, 0, 0, 0, 0, 0, 0, 1, 1, 0, 1, 0, 1, 0, 0, 0, 1,\n",
       "       1, 0, 0, 1, 0, 0, 0, 1, 0, 0, 0, 0, 0, 1, 0, 0, 0, 0, 0, 0, 0, 0,\n",
       "       1, 0, 0, 0, 1, 0, 0, 0, 1, 0, 0, 1, 1, 0, 1, 0, 0, 0, 0, 0, 0, 1,\n",
       "       0, 0, 0, 1, 1, 1, 1, 0, 1, 0, 0, 0, 1, 0, 0, 0, 1, 0, 1, 0, 0, 0,\n",
       "       1, 0, 0, 0, 0, 0, 0, 0, 0, 0, 1, 0, 0, 0, 0, 0, 0, 1, 0, 0, 0, 0,\n",
       "       0, 0, 0, 0, 0, 1], dtype=int64)"
      ]
     },
     "execution_count": 80,
     "metadata": {},
     "output_type": "execute_result"
    }
   ],
   "source": [
    "logisticmodel.predict(X_test)"
   ]
  },
  {
   "cell_type": "markdown",
   "metadata": {},
   "source": [
    "That is what the model predicted for us. we will now save our result into the variable logistic_prediction"
   ]
  },
  {
   "cell_type": "code",
   "execution_count": 81,
   "metadata": {},
   "outputs": [],
   "source": [
    "logistic_prediction = logisticmodel.predict(X_test)"
   ]
  },
  {
   "cell_type": "markdown",
   "metadata": {},
   "source": [
    "<u1><li>**Model Evaluation**</li>\n",
    "</u1>\n",
    "We want to now evaluate our model using the classification matrix"
   ]
  },
  {
   "cell_type": "code",
   "execution_count": 82,
   "metadata": {},
   "outputs": [],
   "source": [
    "def ConfusionMatrix(ytest, ypred, label = [\"Accepted\",\"Not Accepted\"]):\n",
    "    from sklearn.metrics import confusion_matrix\n",
    "    c_matrix = confusion_matrix(ytest, ypred)\n",
    "    plt.figure(figsize= (7,5))\n",
    "    sns.heatmap(c_matrix, annot= True, cbar= False, fmt= \"d\", cmap= \"Oranges\", linewidths= .5)\n",
    "    plt.xlabel(\"Actual\", fontsize= 15)\n",
    "    plt.xticks([0.5, 1.5], label)\n",
    "    plt.ylabel(\"Predicted\", fontsize= 15)\n",
    "    plt.yticks([0.5, 1.5], label)\n",
    "    plt.title(\"A confusion Matrix\")"
   ]
  },
  {
   "cell_type": "code",
   "execution_count": 83,
   "metadata": {},
   "outputs": [
    {
     "data": {
      "image/png": "[encoded data removed]",
      "text/plain": [
       "<Figure size 504x360 with 1 Axes>"
      ]
     },
     "metadata": {
      "needs_background": "light"
     },
     "output_type": "display_data"
    }
   ],
   "source": [
    "ConfusionMatrix(y_test, logistic_prediction, label= [\"Accepted\", \"Not Accepted\"])"
   ]
  },
  {
   "cell_type": "code",
   "execution_count": 84,
   "metadata": {},
   "outputs": [
    {
     "data": {
      "text/plain": [
       "0.7993630573248408"
      ]
     },
     "execution_count": 84,
     "metadata": {},
     "output_type": "execute_result"
    }
   ],
   "source": [
    "metrics.accuracy_score(y_test, logistic_prediction)"
   ]
  },
  {
   "cell_type": "code",
   "execution_count": 85,
   "metadata": {},
   "outputs": [
    {
     "data": {
      "text/plain": [
       "0.4793388429752066"
      ]
     },
     "execution_count": 85,
     "metadata": {},
     "output_type": "execute_result"
    }
   ],
   "source": [
    "metrics.f1_score(y_test, logistic_prediction)"
   ]
  },
  {
   "cell_type": "code",
   "execution_count": 273,
   "metadata": {},
   "outputs": [
    {
     "name": "stdout",
     "output_type": "stream",
     "text": [
      "Classification report : \n",
      "               precision    recall  f1-score   support\n",
      "\n",
      "           1       0.40      0.71      0.51        42\n",
      "           0       0.95      0.83      0.89       272\n",
      "\n",
      "    accuracy                           0.82       314\n",
      "   macro avg       0.67      0.77      0.70       314\n",
      "weighted avg       0.88      0.82      0.84       314\n",
      "\n"
     ]
    }
   ],
   "source": [
    "# classification report for precision, recall f1-score and accuracy\n",
    "from sklearn.metrics import classification_report\n",
    "matrix = classification_report(y_test,logistic_prediction,labels=[1,0])\n",
    "print('Classification report : \\n',matrix)\n"
   ]
  },
  {
   "cell_type": "markdown",
   "metadata": {},
   "source": [
    "Get the predicted result for the test data"
   ]
  },
  {
   "cell_type": "code",
   "execution_count": 274,
   "metadata": {},
   "outputs": [],
   "source": [
    "prediction1 = logisticmodel.predict(test)"
   ]
  },
  {
   "cell_type": "code",
   "execution_count": 275,
   "metadata": {},
   "outputs": [],
   "source": [
    "submission.Response = prediction1"
   ]
  },
  {
   "cell_type": "code",
   "execution_count": 276,
   "metadata": {},
   "outputs": [],
   "source": [
    "submission.to_csv(\"Prediction10.csv\", index=False)"
   ]
  },
  {
   "cell_type": "markdown",
   "metadata": {},
   "source": [
    "### Support Vector Machine"
   ]
  },
  {
   "cell_type": "code",
   "execution_count": 277,
   "metadata": {},
   "outputs": [
    {
     "data": {
      "text/plain": [
       "SVC()"
      ]
     },
     "execution_count": 277,
     "metadata": {},
     "output_type": "execute_result"
    }
   ],
   "source": [
    "from sklearn.svm import SVC\n",
    "SVMmodel = SVC()\n",
    "SVMmodel.fit(X_train, y_train)"
   ]
  },
  {
   "cell_type": "code",
   "execution_count": 278,
   "metadata": {},
   "outputs": [],
   "source": [
    "SVMmodel_prediction = SVMmodel.predict(X_test)"
   ]
  },
  {
   "cell_type": "code",
   "execution_count": 279,
   "metadata": {},
   "outputs": [
    {
     "data": {
      "text/plain": [
       "array([0, 0, 0, 1, 0, 0, 0, 0, 1, 0, 1, 0, 0, 1, 1, 0, 0, 0, 0, 0, 1, 0,\n",
       "       1, 0, 1, 0, 0, 0, 1, 0, 0, 0, 0, 1, 0, 0, 1, 1, 1, 0, 0, 1, 0, 0,\n",
       "       0, 0, 0, 0, 0, 0, 0, 0, 1, 0, 0, 0, 1, 0, 0, 0, 0, 0, 0, 1, 0, 0,\n",
       "       0, 0, 1, 0, 0, 0, 0, 1, 0, 0, 0, 0, 0, 0, 0, 0, 1, 1, 0, 1, 0, 0,\n",
       "       0, 0, 0, 0, 0, 0, 0, 0, 0, 0, 0, 1, 0, 0, 0, 0, 0, 1, 0, 0, 0, 0,\n",
       "       0, 0, 1, 0, 0, 0, 0, 0, 0, 0, 0, 0, 1, 0, 0, 0, 1, 1, 0, 0, 0, 1,\n",
       "       0, 0, 0, 0, 0, 0, 0, 0, 0, 0, 0, 0, 0, 1, 1, 1, 0, 0, 0, 0, 0, 0,\n",
       "       0, 0, 0, 0, 0, 0, 0, 0, 0, 0, 0, 1, 0, 0, 0, 1, 0, 0, 0, 1, 0, 0,\n",
       "       1, 0, 1, 0, 0, 0, 0, 0, 1, 0, 0, 0, 0, 0, 0, 0, 0, 0, 1, 0, 0, 0,\n",
       "       0, 0, 0, 1, 0, 0, 0, 0, 0, 1, 0, 0, 1, 1, 0, 1, 1, 1, 0, 0, 0, 1,\n",
       "       0, 0, 0, 1, 0, 0, 0, 0, 0, 1, 0, 1, 0, 1, 0, 0, 0, 0, 0, 0, 0, 0,\n",
       "       0, 0, 0, 0, 1, 0, 0, 0, 0, 0, 1, 1, 1, 0, 1, 0, 0, 0, 0, 0, 0, 1,\n",
       "       0, 0, 0, 0, 0, 1, 1, 0, 1, 0, 0, 0, 1, 0, 0, 0, 1, 0, 1, 0, 0, 0,\n",
       "       1, 0, 0, 0, 0, 0, 1, 0, 0, 1, 0, 0, 0, 0, 0, 0, 0, 0, 0, 0, 0, 0,\n",
       "       0, 0, 0, 0, 0, 1], dtype=int64)"
      ]
     },
     "execution_count": 279,
     "metadata": {},
     "output_type": "execute_result"
    }
   ],
   "source": [
    "SVMmodel_prediction"
   ]
  },
  {
   "cell_type": "code",
   "execution_count": 280,
   "metadata": {},
   "outputs": [
    {
     "data": {
      "image/png": "[encoded data removed]",
      "text/plain": [
       "<Figure size 504x360 with 1 Axes>"
      ]
     },
     "metadata": {
      "needs_background": "light"
     },
     "output_type": "display_data"
    }
   ],
   "source": [
    "ConfusionMatrix(y_test, SVMmodel_prediction, label= [\"Accepted\", \"Not Accepted\"])"
   ]
  },
  {
   "cell_type": "code",
   "execution_count": 281,
   "metadata": {},
   "outputs": [
    {
     "data": {
      "text/plain": [
       "0.8375796178343949"
      ]
     },
     "execution_count": 281,
     "metadata": {},
     "output_type": "execute_result"
    }
   ],
   "source": [
    "metrics.accuracy_score(y_test, SVMmodel_prediction)"
   ]
  },
  {
   "cell_type": "code",
   "execution_count": 282,
   "metadata": {},
   "outputs": [
    {
     "data": {
      "text/plain": [
       "0.5321100917431193"
      ]
     },
     "execution_count": 282,
     "metadata": {},
     "output_type": "execute_result"
    }
   ],
   "source": [
    "metrics.f1_score(y_test, SVMmodel_prediction)"
   ]
  },
  {
   "cell_type": "code",
   "execution_count": 283,
   "metadata": {},
   "outputs": [
    {
     "name": "stdout",
     "output_type": "stream",
     "text": [
      "Classification report : \n",
      "               precision    recall  f1-score   support\n",
      "\n",
      "           1       0.43      0.69      0.53        42\n",
      "           0       0.95      0.86      0.90       272\n",
      "\n",
      "    accuracy                           0.84       314\n",
      "   macro avg       0.69      0.78      0.72       314\n",
      "weighted avg       0.88      0.84      0.85       314\n",
      "\n"
     ]
    }
   ],
   "source": [
    "matrix = classification_report(y_test,SVMmodel_prediction,labels=[1,0])\n",
    "print('Classification report : \\n',matrix)\n"
   ]
  },
  {
   "cell_type": "code",
   "execution_count": 64,
   "metadata": {},
   "outputs": [],
   "source": [
    "prediction_2 = SVMmodel.predict(test)"
   ]
  },
  {
   "cell_type": "code",
   "execution_count": 65,
   "metadata": {},
   "outputs": [],
   "source": [
    "submission.Responses = prediction_2"
   ]
  },
  {
   "cell_type": "code",
   "execution_count": 66,
   "metadata": {},
   "outputs": [],
   "source": [
    "submission.to_csv(\"My second Prediction.csv\", index= False)"
   ]
  },
  {
   "cell_type": "markdown",
   "metadata": {},
   "source": [
    "### K Nearest Neighbors"
   ]
  },
  {
   "cell_type": "code",
   "execution_count": 157,
   "metadata": {},
   "outputs": [
    {
     "data": {
      "text/plain": [
       "KNeighborsClassifier()"
      ]
     },
     "execution_count": 157,
     "metadata": {},
     "output_type": "execute_result"
    }
   ],
   "source": [
    "from sklearn.neighbors import KNeighborsClassifier\n",
    "\n",
    "knmodel = KNeighborsClassifier(n_neighbors = 5, metric = 'minkowski', p = 2)\n",
    "knmodel.fit(X_train,y_train)\n"
   ]
  },
  {
   "cell_type": "code",
   "execution_count": 158,
   "metadata": {},
   "outputs": [],
   "source": [
    "knmodel_prediction = knmodel.predict(X_test)"
   ]
  },
  {
   "cell_type": "code",
   "execution_count": 159,
   "metadata": {},
   "outputs": [
    {
     "data": {
      "text/plain": [
       "array([0, 0, 0, 1, 0, 1, 0, 0, 1, 0, 0, 0, 0, 1, 1, 0, 0, 0, 0, 0, 0, 0,\n",
       "       1, 0, 1, 0, 0, 0, 1, 0, 0, 0, 1, 1, 0, 0, 1, 0, 1, 0, 0, 0, 0, 0,\n",
       "       0, 0, 0, 0, 0, 0, 0, 0, 0, 0, 0, 0, 1, 0, 0, 1, 0, 0, 1, 0, 0, 0,\n",
       "       1, 0, 1, 0, 0, 0, 0, 1, 0, 0, 0, 0, 0, 0, 0, 0, 0, 1, 0, 1, 0, 1,\n",
       "       0, 1, 0, 0, 1, 1, 0, 0, 0, 1, 0, 1, 0, 0, 0, 0, 0, 1, 0, 0, 0, 0,\n",
       "       0, 0, 1, 1, 0, 0, 0, 1, 0, 0, 0, 0, 1, 1, 0, 0, 1, 1, 0, 1, 1, 1,\n",
       "       0, 0, 0, 0, 0, 0, 0, 0, 1, 1, 0, 0, 0, 1, 1, 0, 0, 0, 0, 1, 0, 1,\n",
       "       1, 1, 0, 0, 0, 0, 1, 0, 0, 0, 0, 1, 0, 0, 1, 1, 0, 0, 0, 1, 1, 0,\n",
       "       1, 0, 0, 0, 0, 0, 1, 0, 1, 0, 0, 0, 1, 0, 0, 0, 0, 0, 0, 0, 1, 0,\n",
       "       0, 0, 0, 0, 0, 0, 1, 0, 0, 1, 0, 0, 1, 1, 0, 1, 1, 1, 0, 0, 1, 1,\n",
       "       0, 0, 0, 1, 1, 0, 0, 1, 0, 0, 0, 0, 0, 1, 0, 0, 0, 1, 0, 0, 0, 0,\n",
       "       1, 0, 0, 0, 1, 0, 0, 0, 0, 0, 1, 1, 1, 0, 0, 0, 0, 0, 0, 0, 0, 1,\n",
       "       0, 0, 0, 0, 0, 0, 1, 0, 1, 0, 1, 0, 0, 0, 0, 0, 0, 0, 1, 0, 0, 0,\n",
       "       0, 0, 1, 0, 0, 0, 1, 0, 0, 1, 0, 0, 0, 0, 0, 1, 0, 0, 0, 0, 0, 0,\n",
       "       0, 1, 0, 0, 0, 1], dtype=int64)"
      ]
     },
     "execution_count": 159,
     "metadata": {},
     "output_type": "execute_result"
    }
   ],
   "source": [
    "knmodel_prediction"
   ]
  },
  {
   "cell_type": "code",
   "execution_count": 160,
   "metadata": {},
   "outputs": [
    {
     "data": {
      "image/png": "[encoded data removed]",
      "text/plain": [
       "<Figure size 504x360 with 1 Axes>"
      ]
     },
     "metadata": {
      "needs_background": "light"
     },
     "output_type": "display_data"
    }
   ],
   "source": [
    "ConfusionMatrix(y_test, knmodel_prediction, label= [\"Accepted\", \"Not Accepted\"])"
   ]
  },
  {
   "cell_type": "code",
   "execution_count": 161,
   "metadata": {},
   "outputs": [
    {
     "name": "stdout",
     "output_type": "stream",
     "text": [
      "Classification report : \n",
      "               precision    recall  f1-score   support\n",
      "\n",
      "           1       0.31      0.64      0.42        42\n",
      "           0       0.93      0.78      0.85       272\n",
      "\n",
      "    accuracy                           0.76       314\n",
      "   macro avg       0.62      0.71      0.64       314\n",
      "weighted avg       0.85      0.76      0.79       314\n",
      "\n"
     ]
    }
   ],
   "source": [
    "matrix = classification_report(y_test,knmodel_prediction,labels=[1,0])\n",
    "print('Classification report : \\n',matrix)\n"
   ]
  },
  {
   "cell_type": "code",
   "execution_count": 72,
   "metadata": {},
   "outputs": [],
   "source": [
    "prediction_3 = knmodel.predict(test)\n",
    "\n",
    "submission.Response = prediction_3"
   ]
  },
  {
   "cell_type": "code",
   "execution_count": 73,
   "metadata": {},
   "outputs": [],
   "source": [
    "submission.to_csv(\"My third submission.csv\", index=False)"
   ]
  },
  {
   "cell_type": "markdown",
   "metadata": {},
   "source": [
    "#### Random Forest"
   ]
  },
  {
   "cell_type": "code",
   "execution_count": 86,
   "metadata": {},
   "outputs": [],
   "source": [
    "from sklearn.ensemble import RandomForestClassifier"
   ]
  },
  {
   "cell_type": "code",
   "execution_count": 87,
   "metadata": {},
   "outputs": [],
   "source": [
    "rn_forest = RandomForestClassifier()"
   ]
  },
  {
   "cell_type": "code",
   "execution_count": 88,
   "metadata": {},
   "outputs": [
    {
     "data": {
      "text/plain": [
       "RandomForestClassifier()"
      ]
     },
     "execution_count": 88,
     "metadata": {},
     "output_type": "execute_result"
    }
   ],
   "source": [
    "rn_forest.fit(X_train, y_train)"
   ]
  },
  {
   "cell_type": "code",
   "execution_count": 89,
   "metadata": {},
   "outputs": [],
   "source": [
    "rn_forest_prediction = rn_forest.predict(X_test)"
   ]
  },
  {
   "cell_type": "code",
   "execution_count": 90,
   "metadata": {},
   "outputs": [
    {
     "name": "stdout",
     "output_type": "stream",
     "text": [
      "Accuracy score: 0.8757961783439491\n",
      "F1 score: 0.49350649350649345\n"
     ]
    }
   ],
   "source": [
    "from sklearn.metrics import accuracy_score, f1_score, roc_auc_score\n",
    "print('Accuracy score:', accuracy_score(y_test, rn_forest_prediction))\n",
    "print('F1 score:', f1_score(y_test, rn_forest_prediction))"
   ]
  },
  {
   "cell_type": "code",
   "execution_count": 91,
   "metadata": {},
   "outputs": [
    {
     "ename": "ValueError",
     "evalue": "Input contains NaN, infinity or a value too large for dtype('float32').",
     "output_type": "error",
     "traceback": [
      "\u001b[1;31m---------------------------------------------------------------------------\u001b[0m",
      "\u001b[1;31mValueError\u001b[0m                                Traceback (most recent call last)",
      "\u001b[1;32m<ipython-input-91-b2943308bffd>\u001b[0m in \u001b[0;36m<module>\u001b[1;34m\u001b[0m\n\u001b[1;32m----> 1\u001b[1;33m \u001b[0mprediction_4\u001b[0m \u001b[1;33m=\u001b[0m \u001b[0mrn_forest\u001b[0m\u001b[1;33m.\u001b[0m\u001b[0mpredict\u001b[0m\u001b[1;33m(\u001b[0m\u001b[0mtest\u001b[0m\u001b[1;33m)\u001b[0m\u001b[1;33m\u001b[0m\u001b[1;33m\u001b[0m\u001b[0m\n\u001b[0m",
      "\u001b[1;32m~\\anaconda3\\lib\\site-packages\\sklearn\\ensemble\\_forest.py\u001b[0m in \u001b[0;36mpredict\u001b[1;34m(self, X)\u001b[0m\n\u001b[0;32m    795\u001b[0m             \u001b[0mThe\u001b[0m \u001b[0mpredicted\u001b[0m \u001b[0mclasses\u001b[0m\u001b[1;33m.\u001b[0m\u001b[1;33m\u001b[0m\u001b[1;33m\u001b[0m\u001b[0m\n\u001b[0;32m    796\u001b[0m         \"\"\"\n\u001b[1;32m--> 797\u001b[1;33m         \u001b[0mproba\u001b[0m \u001b[1;33m=\u001b[0m \u001b[0mself\u001b[0m\u001b[1;33m.\u001b[0m\u001b[0mpredict_proba\u001b[0m\u001b[1;33m(\u001b[0m\u001b[0mX\u001b[0m\u001b[1;33m)\u001b[0m\u001b[1;33m\u001b[0m\u001b[1;33m\u001b[0m\u001b[0m\n\u001b[0m\u001b[0;32m    798\u001b[0m \u001b[1;33m\u001b[0m\u001b[0m\n\u001b[0;32m    799\u001b[0m         \u001b[1;32mif\u001b[0m \u001b[0mself\u001b[0m\u001b[1;33m.\u001b[0m\u001b[0mn_outputs_\u001b[0m \u001b[1;33m==\u001b[0m \u001b[1;36m1\u001b[0m\u001b[1;33m:\u001b[0m\u001b[1;33m\u001b[0m\u001b[1;33m\u001b[0m\u001b[0m\n",
      "\u001b[1;32m~\\anaconda3\\lib\\site-packages\\sklearn\\ensemble\\_forest.py\u001b[0m in \u001b[0;36mpredict_proba\u001b[1;34m(self, X)\u001b[0m\n\u001b[0;32m    837\u001b[0m         \u001b[0mcheck_is_fitted\u001b[0m\u001b[1;33m(\u001b[0m\u001b[0mself\u001b[0m\u001b[1;33m)\u001b[0m\u001b[1;33m\u001b[0m\u001b[1;33m\u001b[0m\u001b[0m\n\u001b[0;32m    838\u001b[0m         \u001b[1;31m# Check data\u001b[0m\u001b[1;33m\u001b[0m\u001b[1;33m\u001b[0m\u001b[1;33m\u001b[0m\u001b[0m\n\u001b[1;32m--> 839\u001b[1;33m         \u001b[0mX\u001b[0m \u001b[1;33m=\u001b[0m \u001b[0mself\u001b[0m\u001b[1;33m.\u001b[0m\u001b[0m_validate_X_predict\u001b[0m\u001b[1;33m(\u001b[0m\u001b[0mX\u001b[0m\u001b[1;33m)\u001b[0m\u001b[1;33m\u001b[0m\u001b[1;33m\u001b[0m\u001b[0m\n\u001b[0m\u001b[0;32m    840\u001b[0m \u001b[1;33m\u001b[0m\u001b[0m\n\u001b[0;32m    841\u001b[0m         \u001b[1;31m# Assign chunk of trees to jobs\u001b[0m\u001b[1;33m\u001b[0m\u001b[1;33m\u001b[0m\u001b[1;33m\u001b[0m\u001b[0m\n",
      "\u001b[1;32m~\\anaconda3\\lib\\site-packages\\sklearn\\ensemble\\_forest.py\u001b[0m in \u001b[0;36m_validate_X_predict\u001b[1;34m(self, X)\u001b[0m\n\u001b[0;32m    566\u001b[0m         Validate X whenever one tries to predict, apply, predict_proba.\"\"\"\n\u001b[0;32m    567\u001b[0m         \u001b[0mcheck_is_fitted\u001b[0m\u001b[1;33m(\u001b[0m\u001b[0mself\u001b[0m\u001b[1;33m)\u001b[0m\u001b[1;33m\u001b[0m\u001b[1;33m\u001b[0m\u001b[0m\n\u001b[1;32m--> 568\u001b[1;33m         \u001b[0mX\u001b[0m \u001b[1;33m=\u001b[0m \u001b[0mself\u001b[0m\u001b[1;33m.\u001b[0m\u001b[0m_validate_data\u001b[0m\u001b[1;33m(\u001b[0m\u001b[0mX\u001b[0m\u001b[1;33m,\u001b[0m \u001b[0mdtype\u001b[0m\u001b[1;33m=\u001b[0m\u001b[0mDTYPE\u001b[0m\u001b[1;33m,\u001b[0m \u001b[0maccept_sparse\u001b[0m\u001b[1;33m=\u001b[0m\u001b[1;34m\"csr\"\u001b[0m\u001b[1;33m,\u001b[0m \u001b[0mreset\u001b[0m\u001b[1;33m=\u001b[0m\u001b[1;32mFalse\u001b[0m\u001b[1;33m)\u001b[0m\u001b[1;33m\u001b[0m\u001b[1;33m\u001b[0m\u001b[0m\n\u001b[0m\u001b[0;32m    569\u001b[0m         \u001b[1;32mif\u001b[0m \u001b[0missparse\u001b[0m\u001b[1;33m(\u001b[0m\u001b[0mX\u001b[0m\u001b[1;33m)\u001b[0m \u001b[1;32mand\u001b[0m \u001b[1;33m(\u001b[0m\u001b[0mX\u001b[0m\u001b[1;33m.\u001b[0m\u001b[0mindices\u001b[0m\u001b[1;33m.\u001b[0m\u001b[0mdtype\u001b[0m \u001b[1;33m!=\u001b[0m \u001b[0mnp\u001b[0m\u001b[1;33m.\u001b[0m\u001b[0mintc\u001b[0m \u001b[1;32mor\u001b[0m \u001b[0mX\u001b[0m\u001b[1;33m.\u001b[0m\u001b[0mindptr\u001b[0m\u001b[1;33m.\u001b[0m\u001b[0mdtype\u001b[0m \u001b[1;33m!=\u001b[0m \u001b[0mnp\u001b[0m\u001b[1;33m.\u001b[0m\u001b[0mintc\u001b[0m\u001b[1;33m)\u001b[0m\u001b[1;33m:\u001b[0m\u001b[1;33m\u001b[0m\u001b[1;33m\u001b[0m\u001b[0m\n\u001b[0;32m    570\u001b[0m             \u001b[1;32mraise\u001b[0m \u001b[0mValueError\u001b[0m\u001b[1;33m(\u001b[0m\u001b[1;34m\"No support for np.int64 index based sparse matrices\"\u001b[0m\u001b[1;33m)\u001b[0m\u001b[1;33m\u001b[0m\u001b[1;33m\u001b[0m\u001b[0m\n",
      "\u001b[1;32m~\\anaconda3\\lib\\site-packages\\sklearn\\base.py\u001b[0m in \u001b[0;36m_validate_data\u001b[1;34m(self, X, y, reset, validate_separately, **check_params)\u001b[0m\n\u001b[0;32m    555\u001b[0m             \u001b[1;32mraise\u001b[0m \u001b[0mValueError\u001b[0m\u001b[1;33m(\u001b[0m\u001b[1;34m\"Validation should be done on X, y or both.\"\u001b[0m\u001b[1;33m)\u001b[0m\u001b[1;33m\u001b[0m\u001b[1;33m\u001b[0m\u001b[0m\n\u001b[0;32m    556\u001b[0m         \u001b[1;32melif\u001b[0m \u001b[1;32mnot\u001b[0m \u001b[0mno_val_X\u001b[0m \u001b[1;32mand\u001b[0m \u001b[0mno_val_y\u001b[0m\u001b[1;33m:\u001b[0m\u001b[1;33m\u001b[0m\u001b[1;33m\u001b[0m\u001b[0m\n\u001b[1;32m--> 557\u001b[1;33m             \u001b[0mX\u001b[0m \u001b[1;33m=\u001b[0m \u001b[0mcheck_array\u001b[0m\u001b[1;33m(\u001b[0m\u001b[0mX\u001b[0m\u001b[1;33m,\u001b[0m \u001b[1;33m**\u001b[0m\u001b[0mcheck_params\u001b[0m\u001b[1;33m)\u001b[0m\u001b[1;33m\u001b[0m\u001b[1;33m\u001b[0m\u001b[0m\n\u001b[0m\u001b[0;32m    558\u001b[0m             \u001b[0mout\u001b[0m \u001b[1;33m=\u001b[0m \u001b[0mX\u001b[0m\u001b[1;33m\u001b[0m\u001b[1;33m\u001b[0m\u001b[0m\n\u001b[0;32m    559\u001b[0m         \u001b[1;32melif\u001b[0m \u001b[0mno_val_X\u001b[0m \u001b[1;32mand\u001b[0m \u001b[1;32mnot\u001b[0m \u001b[0mno_val_y\u001b[0m\u001b[1;33m:\u001b[0m\u001b[1;33m\u001b[0m\u001b[1;33m\u001b[0m\u001b[0m\n",
      "\u001b[1;32m~\\anaconda3\\lib\\site-packages\\sklearn\\utils\\validation.py\u001b[0m in \u001b[0;36mcheck_array\u001b[1;34m(array, accept_sparse, accept_large_sparse, dtype, order, copy, force_all_finite, ensure_2d, allow_nd, ensure_min_samples, ensure_min_features, estimator)\u001b[0m\n\u001b[0;32m    790\u001b[0m \u001b[1;33m\u001b[0m\u001b[0m\n\u001b[0;32m    791\u001b[0m         \u001b[1;32mif\u001b[0m \u001b[0mforce_all_finite\u001b[0m\u001b[1;33m:\u001b[0m\u001b[1;33m\u001b[0m\u001b[1;33m\u001b[0m\u001b[0m\n\u001b[1;32m--> 792\u001b[1;33m             \u001b[0m_assert_all_finite\u001b[0m\u001b[1;33m(\u001b[0m\u001b[0marray\u001b[0m\u001b[1;33m,\u001b[0m \u001b[0mallow_nan\u001b[0m\u001b[1;33m=\u001b[0m\u001b[0mforce_all_finite\u001b[0m \u001b[1;33m==\u001b[0m \u001b[1;34m\"allow-nan\"\u001b[0m\u001b[1;33m)\u001b[0m\u001b[1;33m\u001b[0m\u001b[1;33m\u001b[0m\u001b[0m\n\u001b[0m\u001b[0;32m    793\u001b[0m \u001b[1;33m\u001b[0m\u001b[0m\n\u001b[0;32m    794\u001b[0m     \u001b[1;32mif\u001b[0m \u001b[0mensure_min_samples\u001b[0m \u001b[1;33m>\u001b[0m \u001b[1;36m0\u001b[0m\u001b[1;33m:\u001b[0m\u001b[1;33m\u001b[0m\u001b[1;33m\u001b[0m\u001b[0m\n",
      "\u001b[1;32m~\\anaconda3\\lib\\site-packages\\sklearn\\utils\\validation.py\u001b[0m in \u001b[0;36m_assert_all_finite\u001b[1;34m(X, allow_nan, msg_dtype)\u001b[0m\n\u001b[0;32m    112\u001b[0m         ):\n\u001b[0;32m    113\u001b[0m             \u001b[0mtype_err\u001b[0m \u001b[1;33m=\u001b[0m \u001b[1;34m\"infinity\"\u001b[0m \u001b[1;32mif\u001b[0m \u001b[0mallow_nan\u001b[0m \u001b[1;32melse\u001b[0m \u001b[1;34m\"NaN, infinity\"\u001b[0m\u001b[1;33m\u001b[0m\u001b[1;33m\u001b[0m\u001b[0m\n\u001b[1;32m--> 114\u001b[1;33m             raise ValueError(\n\u001b[0m\u001b[0;32m    115\u001b[0m                 msg_err.format(\n\u001b[0;32m    116\u001b[0m                     \u001b[0mtype_err\u001b[0m\u001b[1;33m,\u001b[0m \u001b[0mmsg_dtype\u001b[0m \u001b[1;32mif\u001b[0m \u001b[0mmsg_dtype\u001b[0m \u001b[1;32mis\u001b[0m \u001b[1;32mnot\u001b[0m \u001b[1;32mNone\u001b[0m \u001b[1;32melse\u001b[0m \u001b[0mX\u001b[0m\u001b[1;33m.\u001b[0m\u001b[0mdtype\u001b[0m\u001b[1;33m\u001b[0m\u001b[1;33m\u001b[0m\u001b[0m\n",
      "\u001b[1;31mValueError\u001b[0m: Input contains NaN, infinity or a value too large for dtype('float32')."
     ]
    }
   ],
   "source": [
    "prediction_4 = rn_forest.predict(test)"
   ]
  },
  {
   "cell_type": "code",
   "execution_count": 74,
   "metadata": {},
   "outputs": [
    {
     "ename": "ValueError",
     "evalue": "Length of values (314) does not match length of index (672)",
     "output_type": "error",
     "traceback": [
      "\u001b[1;31m---------------------------------------------------------------------------\u001b[0m",
      "\u001b[1;31mValueError\u001b[0m                                Traceback (most recent call last)",
      "\u001b[1;32m<ipython-input-74-68737f96c00f>\u001b[0m in \u001b[0;36m<module>\u001b[1;34m\u001b[0m\n\u001b[1;32m----> 1\u001b[1;33m \u001b[0msubmission\u001b[0m\u001b[1;33m.\u001b[0m\u001b[0mResponse\u001b[0m \u001b[1;33m=\u001b[0m \u001b[0mprediction_4\u001b[0m\u001b[1;33m\u001b[0m\u001b[1;33m\u001b[0m\u001b[0m\n\u001b[0m",
      "\u001b[1;32m~\\anaconda3\\lib\\site-packages\\pandas\\core\\generic.py\u001b[0m in \u001b[0;36m__setattr__\u001b[1;34m(self, name, value)\u001b[0m\n\u001b[0;32m   5166\u001b[0m                     \u001b[0mobject\u001b[0m\u001b[1;33m.\u001b[0m\u001b[0m__setattr__\u001b[0m\u001b[1;33m(\u001b[0m\u001b[0mself\u001b[0m\u001b[1;33m,\u001b[0m \u001b[0mname\u001b[0m\u001b[1;33m,\u001b[0m \u001b[0mvalue\u001b[0m\u001b[1;33m)\u001b[0m\u001b[1;33m\u001b[0m\u001b[1;33m\u001b[0m\u001b[0m\n\u001b[0;32m   5167\u001b[0m                 \u001b[1;32melif\u001b[0m \u001b[0mname\u001b[0m \u001b[1;32min\u001b[0m \u001b[0mself\u001b[0m\u001b[1;33m.\u001b[0m\u001b[0m_info_axis\u001b[0m\u001b[1;33m:\u001b[0m\u001b[1;33m\u001b[0m\u001b[1;33m\u001b[0m\u001b[0m\n\u001b[1;32m-> 5168\u001b[1;33m                     \u001b[0mself\u001b[0m\u001b[1;33m[\u001b[0m\u001b[0mname\u001b[0m\u001b[1;33m]\u001b[0m \u001b[1;33m=\u001b[0m \u001b[0mvalue\u001b[0m\u001b[1;33m\u001b[0m\u001b[1;33m\u001b[0m\u001b[0m\n\u001b[0m\u001b[0;32m   5169\u001b[0m                 \u001b[1;32melse\u001b[0m\u001b[1;33m:\u001b[0m\u001b[1;33m\u001b[0m\u001b[1;33m\u001b[0m\u001b[0m\n\u001b[0;32m   5170\u001b[0m                     \u001b[0mobject\u001b[0m\u001b[1;33m.\u001b[0m\u001b[0m__setattr__\u001b[0m\u001b[1;33m(\u001b[0m\u001b[0mself\u001b[0m\u001b[1;33m,\u001b[0m \u001b[0mname\u001b[0m\u001b[1;33m,\u001b[0m \u001b[0mvalue\u001b[0m\u001b[1;33m)\u001b[0m\u001b[1;33m\u001b[0m\u001b[1;33m\u001b[0m\u001b[0m\n",
      "\u001b[1;32m~\\anaconda3\\lib\\site-packages\\pandas\\core\\frame.py\u001b[0m in \u001b[0;36m__setitem__\u001b[1;34m(self, key, value)\u001b[0m\n\u001b[0;32m   3038\u001b[0m         \u001b[1;32melse\u001b[0m\u001b[1;33m:\u001b[0m\u001b[1;33m\u001b[0m\u001b[1;33m\u001b[0m\u001b[0m\n\u001b[0;32m   3039\u001b[0m             \u001b[1;31m# set column\u001b[0m\u001b[1;33m\u001b[0m\u001b[1;33m\u001b[0m\u001b[1;33m\u001b[0m\u001b[0m\n\u001b[1;32m-> 3040\u001b[1;33m             \u001b[0mself\u001b[0m\u001b[1;33m.\u001b[0m\u001b[0m_set_item\u001b[0m\u001b[1;33m(\u001b[0m\u001b[0mkey\u001b[0m\u001b[1;33m,\u001b[0m \u001b[0mvalue\u001b[0m\u001b[1;33m)\u001b[0m\u001b[1;33m\u001b[0m\u001b[1;33m\u001b[0m\u001b[0m\n\u001b[0m\u001b[0;32m   3041\u001b[0m \u001b[1;33m\u001b[0m\u001b[0m\n\u001b[0;32m   3042\u001b[0m     \u001b[1;32mdef\u001b[0m \u001b[0m_setitem_slice\u001b[0m\u001b[1;33m(\u001b[0m\u001b[0mself\u001b[0m\u001b[1;33m,\u001b[0m \u001b[0mkey\u001b[0m\u001b[1;33m:\u001b[0m \u001b[0mslice\u001b[0m\u001b[1;33m,\u001b[0m \u001b[0mvalue\u001b[0m\u001b[1;33m)\u001b[0m\u001b[1;33m:\u001b[0m\u001b[1;33m\u001b[0m\u001b[1;33m\u001b[0m\u001b[0m\n",
      "\u001b[1;32m~\\anaconda3\\lib\\site-packages\\pandas\\core\\frame.py\u001b[0m in \u001b[0;36m_set_item\u001b[1;34m(self, key, value)\u001b[0m\n\u001b[0;32m   3114\u001b[0m         \"\"\"\n\u001b[0;32m   3115\u001b[0m         \u001b[0mself\u001b[0m\u001b[1;33m.\u001b[0m\u001b[0m_ensure_valid_index\u001b[0m\u001b[1;33m(\u001b[0m\u001b[0mvalue\u001b[0m\u001b[1;33m)\u001b[0m\u001b[1;33m\u001b[0m\u001b[1;33m\u001b[0m\u001b[0m\n\u001b[1;32m-> 3116\u001b[1;33m         \u001b[0mvalue\u001b[0m \u001b[1;33m=\u001b[0m \u001b[0mself\u001b[0m\u001b[1;33m.\u001b[0m\u001b[0m_sanitize_column\u001b[0m\u001b[1;33m(\u001b[0m\u001b[0mkey\u001b[0m\u001b[1;33m,\u001b[0m \u001b[0mvalue\u001b[0m\u001b[1;33m)\u001b[0m\u001b[1;33m\u001b[0m\u001b[1;33m\u001b[0m\u001b[0m\n\u001b[0m\u001b[0;32m   3117\u001b[0m         \u001b[0mNDFrame\u001b[0m\u001b[1;33m.\u001b[0m\u001b[0m_set_item\u001b[0m\u001b[1;33m(\u001b[0m\u001b[0mself\u001b[0m\u001b[1;33m,\u001b[0m \u001b[0mkey\u001b[0m\u001b[1;33m,\u001b[0m \u001b[0mvalue\u001b[0m\u001b[1;33m)\u001b[0m\u001b[1;33m\u001b[0m\u001b[1;33m\u001b[0m\u001b[0m\n\u001b[0;32m   3118\u001b[0m \u001b[1;33m\u001b[0m\u001b[0m\n",
      "\u001b[1;32m~\\anaconda3\\lib\\site-packages\\pandas\\core\\frame.py\u001b[0m in \u001b[0;36m_sanitize_column\u001b[1;34m(self, key, value, broadcast)\u001b[0m\n\u001b[0;32m   3762\u001b[0m \u001b[1;33m\u001b[0m\u001b[0m\n\u001b[0;32m   3763\u001b[0m             \u001b[1;31m# turn me into an ndarray\u001b[0m\u001b[1;33m\u001b[0m\u001b[1;33m\u001b[0m\u001b[1;33m\u001b[0m\u001b[0m\n\u001b[1;32m-> 3764\u001b[1;33m             \u001b[0mvalue\u001b[0m \u001b[1;33m=\u001b[0m \u001b[0msanitize_index\u001b[0m\u001b[1;33m(\u001b[0m\u001b[0mvalue\u001b[0m\u001b[1;33m,\u001b[0m \u001b[0mself\u001b[0m\u001b[1;33m.\u001b[0m\u001b[0mindex\u001b[0m\u001b[1;33m)\u001b[0m\u001b[1;33m\u001b[0m\u001b[1;33m\u001b[0m\u001b[0m\n\u001b[0m\u001b[0;32m   3765\u001b[0m             \u001b[1;32mif\u001b[0m \u001b[1;32mnot\u001b[0m \u001b[0misinstance\u001b[0m\u001b[1;33m(\u001b[0m\u001b[0mvalue\u001b[0m\u001b[1;33m,\u001b[0m \u001b[1;33m(\u001b[0m\u001b[0mnp\u001b[0m\u001b[1;33m.\u001b[0m\u001b[0mndarray\u001b[0m\u001b[1;33m,\u001b[0m \u001b[0mIndex\u001b[0m\u001b[1;33m)\u001b[0m\u001b[1;33m)\u001b[0m\u001b[1;33m:\u001b[0m\u001b[1;33m\u001b[0m\u001b[1;33m\u001b[0m\u001b[0m\n\u001b[0;32m   3766\u001b[0m                 \u001b[1;32mif\u001b[0m \u001b[0misinstance\u001b[0m\u001b[1;33m(\u001b[0m\u001b[0mvalue\u001b[0m\u001b[1;33m,\u001b[0m \u001b[0mlist\u001b[0m\u001b[1;33m)\u001b[0m \u001b[1;32mand\u001b[0m \u001b[0mlen\u001b[0m\u001b[1;33m(\u001b[0m\u001b[0mvalue\u001b[0m\u001b[1;33m)\u001b[0m \u001b[1;33m>\u001b[0m \u001b[1;36m0\u001b[0m\u001b[1;33m:\u001b[0m\u001b[1;33m\u001b[0m\u001b[1;33m\u001b[0m\u001b[0m\n",
      "\u001b[1;32m~\\anaconda3\\lib\\site-packages\\pandas\\core\\internals\\construction.py\u001b[0m in \u001b[0;36msanitize_index\u001b[1;34m(data, index)\u001b[0m\n\u001b[0;32m    745\u001b[0m     \"\"\"\n\u001b[0;32m    746\u001b[0m     \u001b[1;32mif\u001b[0m \u001b[0mlen\u001b[0m\u001b[1;33m(\u001b[0m\u001b[0mdata\u001b[0m\u001b[1;33m)\u001b[0m \u001b[1;33m!=\u001b[0m \u001b[0mlen\u001b[0m\u001b[1;33m(\u001b[0m\u001b[0mindex\u001b[0m\u001b[1;33m)\u001b[0m\u001b[1;33m:\u001b[0m\u001b[1;33m\u001b[0m\u001b[1;33m\u001b[0m\u001b[0m\n\u001b[1;32m--> 747\u001b[1;33m         raise ValueError(\n\u001b[0m\u001b[0;32m    748\u001b[0m             \u001b[1;34m\"Length of values \"\u001b[0m\u001b[1;33m\u001b[0m\u001b[1;33m\u001b[0m\u001b[0m\n\u001b[0;32m    749\u001b[0m             \u001b[1;34mf\"({len(data)}) \"\u001b[0m\u001b[1;33m\u001b[0m\u001b[1;33m\u001b[0m\u001b[0m\n",
      "\u001b[1;31mValueError\u001b[0m: Length of values (314) does not match length of index (672)"
     ]
    }
   ],
   "source": [
    "submission.Response = prediction_4"
   ]
  },
  {
   "cell_type": "code",
   "execution_count": 290,
   "metadata": {},
   "outputs": [],
   "source": [
    "submission.to_csv(\"prediction11.csv\", index=False)"
   ]
  },
  {
   "cell_type": "markdown",
   "metadata": {},
   "source": [
    "### XGBoost"
   ]
  },
  {
   "cell_type": "code",
   "execution_count": 85,
   "metadata": {},
   "outputs": [
    {
     "name": "stdout",
     "output_type": "stream",
     "text": [
      "Collecting xgboostNote: you may need to restart the kernel to use updated packages.\n",
      "  Downloading xgboost-1.4.2-py3-none-win_amd64.whl (97.8 MB)\n",
      "Requirement already satisfied: scipy in c:\\users\\user\\anaconda3\\lib\\site-packages (from xgboost) (1.5.2)\n",
      "Requirement already satisfied: numpy in c:\\users\\user\\anaconda3\\lib\\site-packages (from xgboost) (1.19.2)\n",
      "Installing collected packages: xgboost\n",
      "Successfully installed xgboost-1.4.2\n",
      "\n"
     ]
    }
   ],
   "source": [
    "pip install xgboost"
   ]
  },
  {
   "cell_type": "code",
   "execution_count": 92,
   "metadata": {},
   "outputs": [],
   "source": [
    "from xgboost import XGBClassifier"
   ]
  },
  {
   "cell_type": "code",
   "execution_count": 93,
   "metadata": {},
   "outputs": [],
   "source": [
    "xg_model = XGBClassifier(learning_rate =0.1,\n",
    "                                           n_estimators=1000,\n",
    "                                           max_depth=6,\n",
    "                                           subsample = 0.50,\n",
    "                                           verbosity = 0,\n",
    "                                           scale_pos_weight = 2.5,\n",
    "                                           updater =\"grow_histmaker\",\n",
    "                                           base_score  = 0.5)"
   ]
  },
  {
   "cell_type": "code",
   "execution_count": 94,
   "metadata": {},
   "outputs": [
    {
     "data": {
      "text/plain": [
       "XGBClassifier(base_score=0.5, booster='gbtree', colsample_bylevel=1,\n",
       "              colsample_bynode=1, colsample_bytree=1, gamma=0, gpu_id=-1,\n",
       "              importance_type='gain', interaction_constraints='',\n",
       "              learning_rate=0.1, max_delta_step=0, max_depth=6,\n",
       "              min_child_weight=1, missing=nan, monotone_constraints='()',\n",
       "              n_estimators=1000, n_jobs=4, num_parallel_tree=1, random_state=0,\n",
       "              reg_alpha=0, reg_lambda=1, scale_pos_weight=2.5, subsample=0.5,\n",
       "              tree_method='auto', updater='grow_histmaker',\n",
       "              validate_parameters=1, verbosity=0)"
      ]
     },
     "execution_count": 94,
     "metadata": {},
     "output_type": "execute_result"
    }
   ],
   "source": [
    "xg_model.fit(X_train, y_train)"
   ]
  },
  {
   "cell_type": "code",
   "execution_count": 95,
   "metadata": {},
   "outputs": [],
   "source": [
    "xg_model_prediction = xg_model.predict(X_test)"
   ]
  },
  {
   "cell_type": "code",
   "execution_count": 96,
   "metadata": {},
   "outputs": [
    {
     "name": "stdout",
     "output_type": "stream",
     "text": [
      "Accuracy score: 0.8789808917197452\n",
      "F1 score: 0.4864864864864864\n"
     ]
    }
   ],
   "source": [
    "print('Accuracy score:', accuracy_score(y_test, xg_model_prediction))\n",
    "print('F1 score:', f1_score(y_test, xg_model_prediction))"
   ]
  },
  {
   "cell_type": "code",
   "execution_count": 60,
   "metadata": {},
   "outputs": [],
   "source": [
    "prediction_5 = xg_model.predict(test)"
   ]
  },
  {
   "cell_type": "code",
   "execution_count": 61,
   "metadata": {},
   "outputs": [],
   "source": [
    "submission.Response = prediction_5"
   ]
  },
  {
   "cell_type": "code",
   "execution_count": 62,
   "metadata": {},
   "outputs": [],
   "source": [
    "submission.to_csv(\"My prediction12.csv\", index=False)"
   ]
  },
  {
   "cell_type": "code",
   "execution_count": 95,
   "metadata": {},
   "outputs": [],
   "source": [
    "%%capture\n",
    "!pip install catboost"
   ]
  },
  {
   "cell_type": "markdown",
   "metadata": {},
   "source": [
    "### CatBoost"
   ]
  },
  {
   "cell_type": "code",
   "execution_count": 97,
   "metadata": {},
   "outputs": [],
   "source": [
    "\n",
    "from catboost import CatBoostClassifier"
   ]
  },
  {
   "cell_type": "code",
   "execution_count": 98,
   "metadata": {},
   "outputs": [
    {
     "name": "stdout",
     "output_type": "stream",
     "text": [
      "0:\tlearn: 0.6120092\ttotal: 17.8ms\tremaining: 17.8s\n",
      "1:\tlearn: 0.5481692\ttotal: 33.6ms\tremaining: 16.8s\n",
      "2:\tlearn: 0.4996187\ttotal: 46.3ms\tremaining: 15.4s\n",
      "3:\tlearn: 0.4762006\ttotal: 66.5ms\tremaining: 16.6s\n",
      "4:\tlearn: 0.4501097\ttotal: 86.5ms\tremaining: 17.2s\n",
      "5:\tlearn: 0.4314097\ttotal: 104ms\tremaining: 17.3s\n",
      "6:\tlearn: 0.4154594\ttotal: 125ms\tremaining: 17.7s\n",
      "7:\tlearn: 0.4014988\ttotal: 142ms\tremaining: 17.6s\n",
      "8:\tlearn: 0.3872749\ttotal: 159ms\tremaining: 17.5s\n",
      "9:\tlearn: 0.3733472\ttotal: 174ms\tremaining: 17.2s\n",
      "10:\tlearn: 0.3662130\ttotal: 194ms\tremaining: 17.5s\n",
      "11:\tlearn: 0.3594381\ttotal: 217ms\tremaining: 17.9s\n",
      "12:\tlearn: 0.3504308\ttotal: 251ms\tremaining: 19s\n",
      "13:\tlearn: 0.3422112\ttotal: 275ms\tremaining: 19.4s\n",
      "14:\tlearn: 0.3369661\ttotal: 292ms\tremaining: 19.2s\n",
      "15:\tlearn: 0.3308096\ttotal: 313ms\tremaining: 19.2s\n",
      "16:\tlearn: 0.3242270\ttotal: 329ms\tremaining: 19s\n",
      "17:\tlearn: 0.3179275\ttotal: 346ms\tremaining: 18.9s\n",
      "18:\tlearn: 0.3138662\ttotal: 366ms\tremaining: 18.9s\n",
      "19:\tlearn: 0.3069637\ttotal: 385ms\tremaining: 18.9s\n",
      "20:\tlearn: 0.3034013\ttotal: 408ms\tremaining: 19s\n",
      "21:\tlearn: 0.3001421\ttotal: 436ms\tremaining: 19.4s\n",
      "22:\tlearn: 0.2945165\ttotal: 464ms\tremaining: 19.7s\n",
      "23:\tlearn: 0.2901457\ttotal: 485ms\tremaining: 19.7s\n",
      "24:\tlearn: 0.2875907\ttotal: 501ms\tremaining: 19.5s\n",
      "25:\tlearn: 0.2820247\ttotal: 524ms\tremaining: 19.6s\n",
      "26:\tlearn: 0.2775967\ttotal: 549ms\tremaining: 19.8s\n",
      "27:\tlearn: 0.2743907\ttotal: 573ms\tremaining: 19.9s\n",
      "28:\tlearn: 0.2710374\ttotal: 602ms\tremaining: 20.2s\n",
      "29:\tlearn: 0.2684035\ttotal: 630ms\tremaining: 20.4s\n",
      "30:\tlearn: 0.2640290\ttotal: 662ms\tremaining: 20.7s\n",
      "31:\tlearn: 0.2623146\ttotal: 686ms\tremaining: 20.7s\n",
      "32:\tlearn: 0.2580559\ttotal: 704ms\tremaining: 20.6s\n",
      "33:\tlearn: 0.2566472\ttotal: 727ms\tremaining: 20.6s\n",
      "34:\tlearn: 0.2521780\ttotal: 748ms\tremaining: 20.6s\n",
      "35:\tlearn: 0.2505925\ttotal: 777ms\tremaining: 20.8s\n",
      "36:\tlearn: 0.2466876\ttotal: 804ms\tremaining: 20.9s\n",
      "37:\tlearn: 0.2442445\ttotal: 836ms\tremaining: 21.2s\n",
      "38:\tlearn: 0.2433499\ttotal: 889ms\tremaining: 21.9s\n",
      "39:\tlearn: 0.2395452\ttotal: 909ms\tremaining: 21.8s\n",
      "40:\tlearn: 0.2385784\ttotal: 929ms\tremaining: 21.7s\n",
      "41:\tlearn: 0.2380773\ttotal: 949ms\tremaining: 21.6s\n",
      "42:\tlearn: 0.2362558\ttotal: 978ms\tremaining: 21.8s\n",
      "43:\tlearn: 0.2336620\ttotal: 1s\tremaining: 21.8s\n",
      "44:\tlearn: 0.2311891\ttotal: 1.02s\tremaining: 21.7s\n",
      "45:\tlearn: 0.2308290\ttotal: 1.05s\tremaining: 21.9s\n",
      "46:\tlearn: 0.2287295\ttotal: 1.07s\tremaining: 21.8s\n",
      "47:\tlearn: 0.2274430\ttotal: 1.09s\tremaining: 21.7s\n",
      "48:\tlearn: 0.2258427\ttotal: 1.11s\tremaining: 21.5s\n",
      "49:\tlearn: 0.2246419\ttotal: 1.13s\tremaining: 21.4s\n",
      "50:\tlearn: 0.2228528\ttotal: 1.15s\tremaining: 21.4s\n",
      "51:\tlearn: 0.2220303\ttotal: 1.18s\tremaining: 21.6s\n",
      "52:\tlearn: 0.2207185\ttotal: 1.21s\tremaining: 21.6s\n",
      "53:\tlearn: 0.2195738\ttotal: 1.23s\tremaining: 21.6s\n",
      "54:\tlearn: 0.2171410\ttotal: 1.25s\tremaining: 21.6s\n",
      "55:\tlearn: 0.2154750\ttotal: 1.28s\tremaining: 21.6s\n",
      "56:\tlearn: 0.2151903\ttotal: 1.31s\tremaining: 21.7s\n",
      "57:\tlearn: 0.2138933\ttotal: 1.34s\tremaining: 21.7s\n",
      "58:\tlearn: 0.2107914\ttotal: 1.35s\tremaining: 21.6s\n",
      "59:\tlearn: 0.2089437\ttotal: 1.38s\tremaining: 21.6s\n",
      "60:\tlearn: 0.2066666\ttotal: 1.4s\tremaining: 21.6s\n",
      "61:\tlearn: 0.2047775\ttotal: 1.42s\tremaining: 21.5s\n",
      "62:\tlearn: 0.2031219\ttotal: 1.44s\tremaining: 21.4s\n",
      "63:\tlearn: 0.2018567\ttotal: 1.46s\tremaining: 21.3s\n",
      "64:\tlearn: 0.2003619\ttotal: 1.47s\tremaining: 21.2s\n",
      "65:\tlearn: 0.1983147\ttotal: 1.5s\tremaining: 21.2s\n",
      "66:\tlearn: 0.1978020\ttotal: 1.52s\tremaining: 21.2s\n",
      "67:\tlearn: 0.1951751\ttotal: 1.55s\tremaining: 21.2s\n",
      "68:\tlearn: 0.1942937\ttotal: 1.57s\tremaining: 21.1s\n",
      "69:\tlearn: 0.1938002\ttotal: 1.59s\tremaining: 21.1s\n",
      "70:\tlearn: 0.1924622\ttotal: 1.61s\tremaining: 21.1s\n",
      "71:\tlearn: 0.1908143\ttotal: 1.64s\tremaining: 21.2s\n",
      "72:\tlearn: 0.1896208\ttotal: 1.67s\tremaining: 21.2s\n",
      "73:\tlearn: 0.1881775\ttotal: 1.69s\tremaining: 21.1s\n",
      "74:\tlearn: 0.1870343\ttotal: 1.72s\tremaining: 21.2s\n",
      "75:\tlearn: 0.1867894\ttotal: 1.75s\tremaining: 21.3s\n",
      "76:\tlearn: 0.1861691\ttotal: 1.78s\tremaining: 21.3s\n",
      "77:\tlearn: 0.1848119\ttotal: 1.81s\tremaining: 21.4s\n",
      "78:\tlearn: 0.1821680\ttotal: 1.83s\tremaining: 21.3s\n",
      "79:\tlearn: 0.1794224\ttotal: 1.86s\tremaining: 21.4s\n",
      "80:\tlearn: 0.1779945\ttotal: 1.88s\tremaining: 21.4s\n",
      "81:\tlearn: 0.1777630\ttotal: 1.91s\tremaining: 21.4s\n",
      "82:\tlearn: 0.1770079\ttotal: 1.93s\tremaining: 21.3s\n",
      "83:\tlearn: 0.1761252\ttotal: 1.95s\tremaining: 21.3s\n",
      "84:\tlearn: 0.1751350\ttotal: 1.98s\tremaining: 21.3s\n",
      "85:\tlearn: 0.1740894\ttotal: 2s\tremaining: 21.2s\n",
      "86:\tlearn: 0.1735206\ttotal: 2.02s\tremaining: 21.2s\n",
      "87:\tlearn: 0.1728001\ttotal: 2.05s\tremaining: 21.2s\n",
      "88:\tlearn: 0.1714658\ttotal: 2.07s\tremaining: 21.2s\n",
      "89:\tlearn: 0.1700438\ttotal: 2.09s\tremaining: 21.2s\n",
      "90:\tlearn: 0.1689870\ttotal: 2.12s\tremaining: 21.2s\n",
      "91:\tlearn: 0.1683848\ttotal: 2.14s\tremaining: 21.2s\n",
      "92:\tlearn: 0.1680558\ttotal: 2.17s\tremaining: 21.1s\n",
      "93:\tlearn: 0.1674094\ttotal: 2.19s\tremaining: 21.1s\n",
      "94:\tlearn: 0.1658688\ttotal: 2.21s\tremaining: 21s\n",
      "95:\tlearn: 0.1646118\ttotal: 2.23s\tremaining: 21s\n",
      "96:\tlearn: 0.1637689\ttotal: 2.25s\tremaining: 21s\n",
      "97:\tlearn: 0.1636228\ttotal: 2.27s\tremaining: 20.9s\n",
      "98:\tlearn: 0.1622971\ttotal: 2.3s\tremaining: 20.9s\n",
      "99:\tlearn: 0.1614928\ttotal: 2.33s\tremaining: 21s\n",
      "100:\tlearn: 0.1609900\ttotal: 2.36s\tremaining: 21s\n",
      "101:\tlearn: 0.1599516\ttotal: 2.38s\tremaining: 21s\n",
      "102:\tlearn: 0.1586446\ttotal: 2.4s\tremaining: 20.9s\n",
      "103:\tlearn: 0.1576511\ttotal: 2.43s\tremaining: 20.9s\n",
      "104:\tlearn: 0.1562782\ttotal: 2.46s\tremaining: 20.9s\n",
      "105:\tlearn: 0.1556585\ttotal: 2.48s\tremaining: 20.9s\n",
      "106:\tlearn: 0.1551160\ttotal: 2.5s\tremaining: 20.9s\n",
      "107:\tlearn: 0.1538748\ttotal: 2.52s\tremaining: 20.8s\n",
      "108:\tlearn: 0.1517814\ttotal: 2.55s\tremaining: 20.8s\n",
      "109:\tlearn: 0.1515031\ttotal: 2.57s\tremaining: 20.8s\n",
      "110:\tlearn: 0.1501846\ttotal: 2.6s\tremaining: 20.8s\n",
      "111:\tlearn: 0.1501442\ttotal: 2.62s\tremaining: 20.8s\n",
      "112:\tlearn: 0.1478541\ttotal: 2.64s\tremaining: 20.7s\n",
      "113:\tlearn: 0.1466526\ttotal: 2.69s\tremaining: 20.9s\n",
      "114:\tlearn: 0.1463642\ttotal: 2.72s\tremaining: 20.9s\n",
      "115:\tlearn: 0.1460966\ttotal: 2.75s\tremaining: 21s\n",
      "116:\tlearn: 0.1457344\ttotal: 2.77s\tremaining: 20.9s\n",
      "117:\tlearn: 0.1435692\ttotal: 2.81s\tremaining: 21s\n",
      "118:\tlearn: 0.1426617\ttotal: 2.83s\tremaining: 21s\n",
      "119:\tlearn: 0.1421734\ttotal: 2.86s\tremaining: 21s\n",
      "120:\tlearn: 0.1413724\ttotal: 2.89s\tremaining: 21s\n",
      "121:\tlearn: 0.1410220\ttotal: 2.9s\tremaining: 20.9s\n",
      "122:\tlearn: 0.1401455\ttotal: 2.92s\tremaining: 20.8s\n",
      "123:\tlearn: 0.1396573\ttotal: 2.95s\tremaining: 20.8s\n",
      "124:\tlearn: 0.1393193\ttotal: 2.97s\tremaining: 20.8s\n",
      "125:\tlearn: 0.1386718\ttotal: 2.98s\tremaining: 20.7s\n",
      "126:\tlearn: 0.1380551\ttotal: 3.01s\tremaining: 20.7s\n",
      "127:\tlearn: 0.1378424\ttotal: 3.03s\tremaining: 20.6s\n",
      "128:\tlearn: 0.1372618\ttotal: 3.05s\tremaining: 20.6s\n",
      "129:\tlearn: 0.1368848\ttotal: 3.07s\tremaining: 20.5s\n",
      "130:\tlearn: 0.1365066\ttotal: 3.09s\tremaining: 20.5s\n",
      "131:\tlearn: 0.1355111\ttotal: 3.11s\tremaining: 20.5s\n",
      "132:\tlearn: 0.1351835\ttotal: 3.14s\tremaining: 20.5s\n",
      "133:\tlearn: 0.1343339\ttotal: 3.16s\tremaining: 20.4s\n",
      "134:\tlearn: 0.1342289\ttotal: 3.17s\tremaining: 20.3s\n",
      "135:\tlearn: 0.1337299\ttotal: 3.19s\tremaining: 20.3s\n",
      "136:\tlearn: 0.1323415\ttotal: 3.21s\tremaining: 20.2s\n",
      "137:\tlearn: 0.1312590\ttotal: 3.23s\tremaining: 20.2s\n",
      "138:\tlearn: 0.1309073\ttotal: 3.25s\tremaining: 20.1s\n",
      "139:\tlearn: 0.1301584\ttotal: 3.28s\tremaining: 20.2s\n",
      "140:\tlearn: 0.1296567\ttotal: 3.31s\tremaining: 20.2s\n",
      "141:\tlearn: 0.1292682\ttotal: 3.33s\tremaining: 20.1s\n",
      "142:\tlearn: 0.1287739\ttotal: 3.36s\tremaining: 20.1s\n",
      "143:\tlearn: 0.1280161\ttotal: 3.38s\tremaining: 20.1s\n",
      "144:\tlearn: 0.1274145\ttotal: 3.4s\tremaining: 20.1s\n",
      "145:\tlearn: 0.1272531\ttotal: 3.42s\tremaining: 20s\n",
      "146:\tlearn: 0.1265676\ttotal: 3.45s\tremaining: 20s\n",
      "147:\tlearn: 0.1263068\ttotal: 3.47s\tremaining: 20s\n",
      "148:\tlearn: 0.1258521\ttotal: 3.5s\tremaining: 20s\n",
      "149:\tlearn: 0.1248314\ttotal: 3.52s\tremaining: 20s\n",
      "150:\tlearn: 0.1241056\ttotal: 3.54s\tremaining: 19.9s\n",
      "151:\tlearn: 0.1234021\ttotal: 3.56s\tremaining: 19.9s\n",
      "152:\tlearn: 0.1232960\ttotal: 3.58s\tremaining: 19.8s\n",
      "153:\tlearn: 0.1232209\ttotal: 3.6s\tremaining: 19.8s\n",
      "154:\tlearn: 0.1231801\ttotal: 3.62s\tremaining: 19.7s\n",
      "155:\tlearn: 0.1226440\ttotal: 3.64s\tremaining: 19.7s\n",
      "156:\tlearn: 0.1215085\ttotal: 3.66s\tremaining: 19.7s\n",
      "157:\tlearn: 0.1212006\ttotal: 3.68s\tremaining: 19.6s\n",
      "158:\tlearn: 0.1204348\ttotal: 3.69s\tremaining: 19.5s\n",
      "159:\tlearn: 0.1199592\ttotal: 3.71s\tremaining: 19.5s\n",
      "160:\tlearn: 0.1193356\ttotal: 3.73s\tremaining: 19.4s\n",
      "161:\tlearn: 0.1190138\ttotal: 3.75s\tremaining: 19.4s\n"
     ]
    },
    {
     "name": "stdout",
     "output_type": "stream",
     "text": [
      "162:\tlearn: 0.1188944\ttotal: 3.77s\tremaining: 19.4s\n",
      "163:\tlearn: 0.1182558\ttotal: 3.79s\tremaining: 19.3s\n",
      "164:\tlearn: 0.1182279\ttotal: 3.81s\tremaining: 19.3s\n",
      "165:\tlearn: 0.1177051\ttotal: 3.84s\tremaining: 19.3s\n",
      "166:\tlearn: 0.1165818\ttotal: 3.85s\tremaining: 19.2s\n",
      "167:\tlearn: 0.1156644\ttotal: 3.87s\tremaining: 19.2s\n",
      "168:\tlearn: 0.1141164\ttotal: 3.89s\tremaining: 19.1s\n",
      "169:\tlearn: 0.1134913\ttotal: 3.91s\tremaining: 19.1s\n",
      "170:\tlearn: 0.1128853\ttotal: 3.92s\tremaining: 19s\n",
      "171:\tlearn: 0.1127918\ttotal: 3.94s\tremaining: 19s\n",
      "172:\tlearn: 0.1120357\ttotal: 3.97s\tremaining: 19s\n",
      "173:\tlearn: 0.1117524\ttotal: 3.99s\tremaining: 19s\n",
      "174:\tlearn: 0.1113334\ttotal: 4.01s\tremaining: 18.9s\n",
      "175:\tlearn: 0.1112266\ttotal: 4.03s\tremaining: 18.9s\n",
      "176:\tlearn: 0.1106828\ttotal: 4.04s\tremaining: 18.8s\n",
      "177:\tlearn: 0.1104540\ttotal: 4.06s\tremaining: 18.8s\n",
      "178:\tlearn: 0.1099521\ttotal: 4.08s\tremaining: 18.7s\n",
      "179:\tlearn: 0.1097332\ttotal: 4.09s\tremaining: 18.7s\n",
      "180:\tlearn: 0.1093936\ttotal: 4.12s\tremaining: 18.6s\n",
      "181:\tlearn: 0.1091567\ttotal: 4.14s\tremaining: 18.6s\n",
      "182:\tlearn: 0.1088414\ttotal: 4.15s\tremaining: 18.5s\n",
      "183:\tlearn: 0.1079556\ttotal: 4.17s\tremaining: 18.5s\n",
      "184:\tlearn: 0.1077440\ttotal: 4.19s\tremaining: 18.4s\n",
      "185:\tlearn: 0.1070157\ttotal: 4.2s\tremaining: 18.4s\n",
      "186:\tlearn: 0.1064013\ttotal: 4.22s\tremaining: 18.4s\n",
      "187:\tlearn: 0.1060167\ttotal: 4.24s\tremaining: 18.3s\n",
      "188:\tlearn: 0.1052901\ttotal: 4.25s\tremaining: 18.3s\n",
      "189:\tlearn: 0.1050716\ttotal: 4.27s\tremaining: 18.2s\n",
      "190:\tlearn: 0.1046508\ttotal: 4.29s\tremaining: 18.2s\n",
      "191:\tlearn: 0.1044611\ttotal: 4.32s\tremaining: 18.2s\n",
      "192:\tlearn: 0.1039094\ttotal: 4.34s\tremaining: 18.1s\n",
      "193:\tlearn: 0.1035610\ttotal: 4.36s\tremaining: 18.1s\n",
      "194:\tlearn: 0.1029636\ttotal: 4.37s\tremaining: 18.1s\n",
      "195:\tlearn: 0.1027684\ttotal: 4.39s\tremaining: 18s\n",
      "196:\tlearn: 0.1023059\ttotal: 4.41s\tremaining: 18s\n",
      "197:\tlearn: 0.1016834\ttotal: 4.43s\tremaining: 17.9s\n",
      "198:\tlearn: 0.1011791\ttotal: 4.44s\tremaining: 17.9s\n",
      "199:\tlearn: 0.1005363\ttotal: 4.46s\tremaining: 17.8s\n",
      "200:\tlearn: 0.1004981\ttotal: 4.49s\tremaining: 17.8s\n",
      "201:\tlearn: 0.0995598\ttotal: 4.5s\tremaining: 17.8s\n",
      "202:\tlearn: 0.0992867\ttotal: 4.52s\tremaining: 17.7s\n",
      "203:\tlearn: 0.0988403\ttotal: 4.53s\tremaining: 17.7s\n",
      "204:\tlearn: 0.0981917\ttotal: 4.55s\tremaining: 17.6s\n",
      "205:\tlearn: 0.0978263\ttotal: 4.57s\tremaining: 17.6s\n",
      "206:\tlearn: 0.0975199\ttotal: 4.58s\tremaining: 17.5s\n",
      "207:\tlearn: 0.0971577\ttotal: 4.59s\tremaining: 17.5s\n",
      "208:\tlearn: 0.0966062\ttotal: 4.61s\tremaining: 17.5s\n",
      "209:\tlearn: 0.0960067\ttotal: 4.63s\tremaining: 17.4s\n",
      "210:\tlearn: 0.0955863\ttotal: 4.65s\tremaining: 17.4s\n",
      "211:\tlearn: 0.0949006\ttotal: 4.67s\tremaining: 17.4s\n",
      "212:\tlearn: 0.0945287\ttotal: 4.69s\tremaining: 17.3s\n",
      "213:\tlearn: 0.0943803\ttotal: 4.71s\tremaining: 17.3s\n",
      "214:\tlearn: 0.0936984\ttotal: 4.73s\tremaining: 17.3s\n",
      "215:\tlearn: 0.0933411\ttotal: 4.75s\tremaining: 17.3s\n",
      "216:\tlearn: 0.0929850\ttotal: 4.77s\tremaining: 17.2s\n",
      "217:\tlearn: 0.0921589\ttotal: 4.79s\tremaining: 17.2s\n",
      "218:\tlearn: 0.0920212\ttotal: 4.81s\tremaining: 17.1s\n",
      "219:\tlearn: 0.0915454\ttotal: 4.83s\tremaining: 17.1s\n",
      "220:\tlearn: 0.0913469\ttotal: 4.85s\tremaining: 17.1s\n",
      "221:\tlearn: 0.0906035\ttotal: 4.87s\tremaining: 17.1s\n",
      "222:\tlearn: 0.0902302\ttotal: 4.89s\tremaining: 17.1s\n",
      "223:\tlearn: 0.0898814\ttotal: 4.91s\tremaining: 17s\n",
      "224:\tlearn: 0.0892443\ttotal: 4.93s\tremaining: 17s\n",
      "225:\tlearn: 0.0889416\ttotal: 4.96s\tremaining: 17s\n",
      "226:\tlearn: 0.0887739\ttotal: 4.98s\tremaining: 16.9s\n",
      "227:\tlearn: 0.0883890\ttotal: 5s\tremaining: 16.9s\n",
      "228:\tlearn: 0.0880016\ttotal: 5.03s\tremaining: 16.9s\n",
      "229:\tlearn: 0.0874570\ttotal: 5.05s\tremaining: 16.9s\n",
      "230:\tlearn: 0.0868190\ttotal: 5.07s\tremaining: 16.9s\n",
      "231:\tlearn: 0.0864148\ttotal: 5.09s\tremaining: 16.9s\n",
      "232:\tlearn: 0.0857345\ttotal: 5.11s\tremaining: 16.8s\n",
      "233:\tlearn: 0.0854783\ttotal: 5.14s\tremaining: 16.8s\n",
      "234:\tlearn: 0.0853069\ttotal: 5.16s\tremaining: 16.8s\n",
      "235:\tlearn: 0.0852398\ttotal: 5.18s\tremaining: 16.8s\n",
      "236:\tlearn: 0.0849921\ttotal: 5.22s\tremaining: 16.8s\n",
      "237:\tlearn: 0.0849051\ttotal: 5.24s\tremaining: 16.8s\n",
      "238:\tlearn: 0.0848224\ttotal: 5.25s\tremaining: 16.7s\n",
      "239:\tlearn: 0.0844305\ttotal: 5.27s\tremaining: 16.7s\n",
      "240:\tlearn: 0.0843719\ttotal: 5.29s\tremaining: 16.7s\n",
      "241:\tlearn: 0.0839389\ttotal: 5.31s\tremaining: 16.6s\n",
      "242:\tlearn: 0.0834175\ttotal: 5.34s\tremaining: 16.6s\n",
      "243:\tlearn: 0.0832308\ttotal: 5.36s\tremaining: 16.6s\n",
      "244:\tlearn: 0.0825762\ttotal: 5.38s\tremaining: 16.6s\n",
      "245:\tlearn: 0.0822010\ttotal: 5.4s\tremaining: 16.6s\n",
      "246:\tlearn: 0.0819342\ttotal: 5.42s\tremaining: 16.5s\n",
      "247:\tlearn: 0.0815254\ttotal: 5.44s\tremaining: 16.5s\n",
      "248:\tlearn: 0.0813184\ttotal: 5.46s\tremaining: 16.5s\n",
      "249:\tlearn: 0.0811523\ttotal: 5.47s\tremaining: 16.4s\n",
      "250:\tlearn: 0.0811115\ttotal: 5.48s\tremaining: 16.4s\n",
      "251:\tlearn: 0.0808749\ttotal: 5.5s\tremaining: 16.3s\n",
      "252:\tlearn: 0.0806320\ttotal: 5.52s\tremaining: 16.3s\n",
      "253:\tlearn: 0.0804452\ttotal: 5.54s\tremaining: 16.3s\n",
      "254:\tlearn: 0.0804329\ttotal: 5.56s\tremaining: 16.2s\n",
      "255:\tlearn: 0.0801542\ttotal: 5.58s\tremaining: 16.2s\n",
      "256:\tlearn: 0.0798405\ttotal: 5.6s\tremaining: 16.2s\n",
      "257:\tlearn: 0.0797778\ttotal: 5.62s\tremaining: 16.2s\n",
      "258:\tlearn: 0.0797668\ttotal: 5.64s\tremaining: 16.1s\n",
      "259:\tlearn: 0.0795699\ttotal: 5.66s\tremaining: 16.1s\n",
      "260:\tlearn: 0.0791633\ttotal: 5.68s\tremaining: 16.1s\n",
      "261:\tlearn: 0.0787233\ttotal: 5.71s\tremaining: 16.1s\n",
      "262:\tlearn: 0.0782322\ttotal: 5.73s\tremaining: 16.1s\n",
      "263:\tlearn: 0.0777404\ttotal: 5.75s\tremaining: 16s\n",
      "264:\tlearn: 0.0772683\ttotal: 5.77s\tremaining: 16s\n",
      "265:\tlearn: 0.0772469\ttotal: 5.79s\tremaining: 16s\n",
      "266:\tlearn: 0.0771501\ttotal: 5.81s\tremaining: 15.9s\n",
      "267:\tlearn: 0.0768746\ttotal: 5.82s\tremaining: 15.9s\n",
      "268:\tlearn: 0.0765243\ttotal: 5.84s\tremaining: 15.9s\n",
      "269:\tlearn: 0.0761412\ttotal: 5.86s\tremaining: 15.8s\n",
      "270:\tlearn: 0.0758433\ttotal: 5.87s\tremaining: 15.8s\n",
      "271:\tlearn: 0.0757870\ttotal: 5.89s\tremaining: 15.8s\n",
      "272:\tlearn: 0.0755939\ttotal: 5.91s\tremaining: 15.7s\n",
      "273:\tlearn: 0.0753576\ttotal: 5.94s\tremaining: 15.7s\n",
      "274:\tlearn: 0.0747720\ttotal: 5.96s\tremaining: 15.7s\n",
      "275:\tlearn: 0.0742110\ttotal: 5.97s\tremaining: 15.7s\n",
      "276:\tlearn: 0.0740063\ttotal: 6s\tremaining: 15.7s\n",
      "277:\tlearn: 0.0739332\ttotal: 6.01s\tremaining: 15.6s\n",
      "278:\tlearn: 0.0739025\ttotal: 6.03s\tremaining: 15.6s\n",
      "279:\tlearn: 0.0738413\ttotal: 6.04s\tremaining: 15.5s\n",
      "280:\tlearn: 0.0736908\ttotal: 6.07s\tremaining: 15.5s\n",
      "281:\tlearn: 0.0728652\ttotal: 6.08s\tremaining: 15.5s\n",
      "282:\tlearn: 0.0723515\ttotal: 6.11s\tremaining: 15.5s\n",
      "283:\tlearn: 0.0723171\ttotal: 6.13s\tremaining: 15.4s\n",
      "284:\tlearn: 0.0720299\ttotal: 6.14s\tremaining: 15.4s\n",
      "285:\tlearn: 0.0713674\ttotal: 6.16s\tremaining: 15.4s\n",
      "286:\tlearn: 0.0705724\ttotal: 6.21s\tremaining: 15.4s\n",
      "287:\tlearn: 0.0703981\ttotal: 6.23s\tremaining: 15.4s\n",
      "288:\tlearn: 0.0700635\ttotal: 6.25s\tremaining: 15.4s\n",
      "289:\tlearn: 0.0698183\ttotal: 6.27s\tremaining: 15.3s\n",
      "290:\tlearn: 0.0696011\ttotal: 6.29s\tremaining: 15.3s\n",
      "291:\tlearn: 0.0690574\ttotal: 6.31s\tremaining: 15.3s\n",
      "292:\tlearn: 0.0688102\ttotal: 6.32s\tremaining: 15.3s\n",
      "293:\tlearn: 0.0684422\ttotal: 6.34s\tremaining: 15.2s\n",
      "294:\tlearn: 0.0683394\ttotal: 6.36s\tremaining: 15.2s\n",
      "295:\tlearn: 0.0683052\ttotal: 6.38s\tremaining: 15.2s\n",
      "296:\tlearn: 0.0682349\ttotal: 6.4s\tremaining: 15.2s\n",
      "297:\tlearn: 0.0680992\ttotal: 6.43s\tremaining: 15.1s\n",
      "298:\tlearn: 0.0678191\ttotal: 6.45s\tremaining: 15.1s\n",
      "299:\tlearn: 0.0677612\ttotal: 6.47s\tremaining: 15.1s\n",
      "300:\tlearn: 0.0676590\ttotal: 6.5s\tremaining: 15.1s\n",
      "301:\tlearn: 0.0674795\ttotal: 6.53s\tremaining: 15.1s\n",
      "302:\tlearn: 0.0674567\ttotal: 6.55s\tremaining: 15.1s\n",
      "303:\tlearn: 0.0673052\ttotal: 6.57s\tremaining: 15s\n",
      "304:\tlearn: 0.0672428\ttotal: 6.6s\tremaining: 15s\n",
      "305:\tlearn: 0.0671673\ttotal: 6.62s\tremaining: 15s\n",
      "306:\tlearn: 0.0669686\ttotal: 6.64s\tremaining: 15s\n",
      "307:\tlearn: 0.0669596\ttotal: 6.66s\tremaining: 15s\n",
      "308:\tlearn: 0.0664096\ttotal: 6.68s\tremaining: 14.9s\n",
      "309:\tlearn: 0.0663564\ttotal: 6.69s\tremaining: 14.9s\n",
      "310:\tlearn: 0.0657658\ttotal: 6.72s\tremaining: 14.9s\n",
      "311:\tlearn: 0.0657548\ttotal: 6.74s\tremaining: 14.9s\n",
      "312:\tlearn: 0.0656613\ttotal: 6.77s\tremaining: 14.9s\n",
      "313:\tlearn: 0.0654302\ttotal: 6.8s\tremaining: 14.8s\n",
      "314:\tlearn: 0.0652267\ttotal: 6.82s\tremaining: 14.8s\n",
      "315:\tlearn: 0.0648923\ttotal: 6.84s\tremaining: 14.8s\n",
      "316:\tlearn: 0.0648505\ttotal: 6.86s\tremaining: 14.8s\n",
      "317:\tlearn: 0.0647295\ttotal: 6.89s\tremaining: 14.8s\n",
      "318:\tlearn: 0.0644177\ttotal: 6.91s\tremaining: 14.7s\n",
      "319:\tlearn: 0.0643679\ttotal: 6.93s\tremaining: 14.7s\n",
      "320:\tlearn: 0.0641828\ttotal: 6.95s\tremaining: 14.7s\n",
      "321:\tlearn: 0.0638011\ttotal: 6.97s\tremaining: 14.7s\n",
      "322:\tlearn: 0.0636206\ttotal: 7s\tremaining: 14.7s\n",
      "323:\tlearn: 0.0631897\ttotal: 7.02s\tremaining: 14.6s\n",
      "324:\tlearn: 0.0631386\ttotal: 7.04s\tremaining: 14.6s\n",
      "325:\tlearn: 0.0631286\ttotal: 7.06s\tremaining: 14.6s\n",
      "326:\tlearn: 0.0628655\ttotal: 7.09s\tremaining: 14.6s\n",
      "327:\tlearn: 0.0627432\ttotal: 7.11s\tremaining: 14.6s\n"
     ]
    },
    {
     "name": "stdout",
     "output_type": "stream",
     "text": [
      "328:\tlearn: 0.0622853\ttotal: 7.13s\tremaining: 14.5s\n",
      "329:\tlearn: 0.0622665\ttotal: 7.15s\tremaining: 14.5s\n",
      "330:\tlearn: 0.0621728\ttotal: 7.18s\tremaining: 14.5s\n",
      "331:\tlearn: 0.0621463\ttotal: 7.21s\tremaining: 14.5s\n",
      "332:\tlearn: 0.0617227\ttotal: 7.23s\tremaining: 14.5s\n",
      "333:\tlearn: 0.0617039\ttotal: 7.25s\tremaining: 14.5s\n",
      "334:\tlearn: 0.0611316\ttotal: 7.27s\tremaining: 14.4s\n",
      "335:\tlearn: 0.0607672\ttotal: 7.29s\tremaining: 14.4s\n",
      "336:\tlearn: 0.0604639\ttotal: 7.31s\tremaining: 14.4s\n",
      "337:\tlearn: 0.0599646\ttotal: 7.33s\tremaining: 14.4s\n",
      "338:\tlearn: 0.0599440\ttotal: 7.35s\tremaining: 14.3s\n",
      "339:\tlearn: 0.0594397\ttotal: 7.37s\tremaining: 14.3s\n",
      "340:\tlearn: 0.0593775\ttotal: 7.39s\tremaining: 14.3s\n",
      "341:\tlearn: 0.0591050\ttotal: 7.4s\tremaining: 14.2s\n",
      "342:\tlearn: 0.0589289\ttotal: 7.42s\tremaining: 14.2s\n",
      "343:\tlearn: 0.0587332\ttotal: 7.44s\tremaining: 14.2s\n",
      "344:\tlearn: 0.0585630\ttotal: 7.46s\tremaining: 14.2s\n",
      "345:\tlearn: 0.0584233\ttotal: 7.47s\tremaining: 14.1s\n",
      "346:\tlearn: 0.0584022\ttotal: 7.5s\tremaining: 14.1s\n",
      "347:\tlearn: 0.0580004\ttotal: 7.53s\tremaining: 14.1s\n",
      "348:\tlearn: 0.0577729\ttotal: 7.55s\tremaining: 14.1s\n",
      "349:\tlearn: 0.0574590\ttotal: 7.56s\tremaining: 14s\n",
      "350:\tlearn: 0.0573619\ttotal: 7.58s\tremaining: 14s\n",
      "351:\tlearn: 0.0573444\ttotal: 7.6s\tremaining: 14s\n",
      "352:\tlearn: 0.0572239\ttotal: 7.61s\tremaining: 14s\n",
      "353:\tlearn: 0.0569707\ttotal: 7.63s\tremaining: 13.9s\n",
      "354:\tlearn: 0.0569530\ttotal: 7.65s\tremaining: 13.9s\n",
      "355:\tlearn: 0.0568782\ttotal: 7.67s\tremaining: 13.9s\n",
      "356:\tlearn: 0.0566757\ttotal: 7.69s\tremaining: 13.9s\n",
      "357:\tlearn: 0.0564214\ttotal: 7.71s\tremaining: 13.8s\n",
      "358:\tlearn: 0.0564095\ttotal: 7.73s\tremaining: 13.8s\n",
      "359:\tlearn: 0.0562182\ttotal: 7.75s\tremaining: 13.8s\n",
      "360:\tlearn: 0.0560247\ttotal: 7.76s\tremaining: 13.7s\n",
      "361:\tlearn: 0.0560009\ttotal: 7.78s\tremaining: 13.7s\n",
      "362:\tlearn: 0.0558928\ttotal: 7.8s\tremaining: 13.7s\n",
      "363:\tlearn: 0.0556103\ttotal: 7.82s\tremaining: 13.7s\n",
      "364:\tlearn: 0.0555974\ttotal: 7.84s\tremaining: 13.6s\n",
      "365:\tlearn: 0.0554769\ttotal: 7.87s\tremaining: 13.6s\n",
      "366:\tlearn: 0.0551793\ttotal: 7.89s\tremaining: 13.6s\n",
      "367:\tlearn: 0.0551126\ttotal: 7.9s\tremaining: 13.6s\n",
      "368:\tlearn: 0.0549952\ttotal: 7.92s\tremaining: 13.5s\n",
      "369:\tlearn: 0.0545962\ttotal: 7.94s\tremaining: 13.5s\n",
      "370:\tlearn: 0.0541993\ttotal: 7.95s\tremaining: 13.5s\n",
      "371:\tlearn: 0.0539325\ttotal: 7.97s\tremaining: 13.5s\n",
      "372:\tlearn: 0.0536606\ttotal: 7.99s\tremaining: 13.4s\n",
      "373:\tlearn: 0.0535354\ttotal: 8.01s\tremaining: 13.4s\n",
      "374:\tlearn: 0.0533412\ttotal: 8.03s\tremaining: 13.4s\n",
      "375:\tlearn: 0.0530087\ttotal: 8.05s\tremaining: 13.4s\n",
      "376:\tlearn: 0.0526304\ttotal: 8.07s\tremaining: 13.3s\n",
      "377:\tlearn: 0.0524186\ttotal: 8.09s\tremaining: 13.3s\n",
      "378:\tlearn: 0.0522294\ttotal: 8.11s\tremaining: 13.3s\n",
      "379:\tlearn: 0.0521817\ttotal: 8.13s\tremaining: 13.3s\n",
      "380:\tlearn: 0.0520399\ttotal: 8.15s\tremaining: 13.2s\n",
      "381:\tlearn: 0.0518364\ttotal: 8.16s\tremaining: 13.2s\n",
      "382:\tlearn: 0.0514664\ttotal: 8.18s\tremaining: 13.2s\n",
      "383:\tlearn: 0.0513929\ttotal: 8.2s\tremaining: 13.2s\n",
      "384:\tlearn: 0.0513795\ttotal: 8.22s\tremaining: 13.1s\n",
      "385:\tlearn: 0.0512537\ttotal: 8.24s\tremaining: 13.1s\n",
      "386:\tlearn: 0.0507936\ttotal: 8.26s\tremaining: 13.1s\n",
      "387:\tlearn: 0.0507472\ttotal: 8.27s\tremaining: 13.1s\n",
      "388:\tlearn: 0.0504597\ttotal: 8.29s\tremaining: 13s\n",
      "389:\tlearn: 0.0503645\ttotal: 8.31s\tremaining: 13s\n",
      "390:\tlearn: 0.0501873\ttotal: 8.32s\tremaining: 13s\n",
      "391:\tlearn: 0.0501805\ttotal: 8.34s\tremaining: 12.9s\n",
      "392:\tlearn: 0.0500796\ttotal: 8.36s\tremaining: 12.9s\n",
      "393:\tlearn: 0.0500334\ttotal: 8.38s\tremaining: 12.9s\n",
      "394:\tlearn: 0.0499429\ttotal: 8.4s\tremaining: 12.9s\n",
      "395:\tlearn: 0.0498990\ttotal: 8.42s\tremaining: 12.8s\n",
      "396:\tlearn: 0.0498493\ttotal: 8.44s\tremaining: 12.8s\n",
      "397:\tlearn: 0.0497574\ttotal: 8.46s\tremaining: 12.8s\n",
      "398:\tlearn: 0.0496876\ttotal: 8.48s\tremaining: 12.8s\n",
      "399:\tlearn: 0.0495670\ttotal: 8.5s\tremaining: 12.8s\n",
      "400:\tlearn: 0.0494608\ttotal: 8.52s\tremaining: 12.7s\n",
      "401:\tlearn: 0.0492672\ttotal: 8.54s\tremaining: 12.7s\n",
      "402:\tlearn: 0.0490009\ttotal: 8.56s\tremaining: 12.7s\n",
      "403:\tlearn: 0.0487863\ttotal: 8.58s\tremaining: 12.7s\n",
      "404:\tlearn: 0.0487694\ttotal: 8.6s\tremaining: 12.6s\n",
      "405:\tlearn: 0.0485699\ttotal: 8.62s\tremaining: 12.6s\n",
      "406:\tlearn: 0.0485260\ttotal: 8.64s\tremaining: 12.6s\n",
      "407:\tlearn: 0.0483787\ttotal: 8.65s\tremaining: 12.6s\n",
      "408:\tlearn: 0.0481823\ttotal: 8.67s\tremaining: 12.5s\n",
      "409:\tlearn: 0.0480604\ttotal: 8.69s\tremaining: 12.5s\n",
      "410:\tlearn: 0.0480302\ttotal: 8.71s\tremaining: 12.5s\n",
      "411:\tlearn: 0.0478446\ttotal: 8.73s\tremaining: 12.5s\n",
      "412:\tlearn: 0.0478215\ttotal: 8.75s\tremaining: 12.4s\n",
      "413:\tlearn: 0.0475045\ttotal: 8.77s\tremaining: 12.4s\n",
      "414:\tlearn: 0.0473463\ttotal: 8.79s\tremaining: 12.4s\n",
      "415:\tlearn: 0.0472984\ttotal: 8.81s\tremaining: 12.4s\n",
      "416:\tlearn: 0.0472486\ttotal: 8.83s\tremaining: 12.3s\n",
      "417:\tlearn: 0.0472160\ttotal: 8.85s\tremaining: 12.3s\n",
      "418:\tlearn: 0.0470965\ttotal: 8.87s\tremaining: 12.3s\n",
      "419:\tlearn: 0.0469639\ttotal: 8.88s\tremaining: 12.3s\n",
      "420:\tlearn: 0.0466553\ttotal: 8.9s\tremaining: 12.2s\n",
      "421:\tlearn: 0.0464549\ttotal: 8.92s\tremaining: 12.2s\n",
      "422:\tlearn: 0.0463716\ttotal: 8.94s\tremaining: 12.2s\n",
      "423:\tlearn: 0.0461505\ttotal: 8.96s\tremaining: 12.2s\n",
      "424:\tlearn: 0.0460578\ttotal: 8.97s\tremaining: 12.1s\n",
      "425:\tlearn: 0.0460087\ttotal: 8.99s\tremaining: 12.1s\n",
      "426:\tlearn: 0.0458014\ttotal: 9s\tremaining: 12.1s\n",
      "427:\tlearn: 0.0456406\ttotal: 9.02s\tremaining: 12.1s\n",
      "428:\tlearn: 0.0455604\ttotal: 9.04s\tremaining: 12s\n",
      "429:\tlearn: 0.0454996\ttotal: 9.05s\tremaining: 12s\n",
      "430:\tlearn: 0.0454003\ttotal: 9.07s\tremaining: 12s\n",
      "431:\tlearn: 0.0451506\ttotal: 9.09s\tremaining: 11.9s\n",
      "432:\tlearn: 0.0449373\ttotal: 9.11s\tremaining: 11.9s\n",
      "433:\tlearn: 0.0448931\ttotal: 9.13s\tremaining: 11.9s\n",
      "434:\tlearn: 0.0447691\ttotal: 9.15s\tremaining: 11.9s\n",
      "435:\tlearn: 0.0447516\ttotal: 9.18s\tremaining: 11.9s\n",
      "436:\tlearn: 0.0446575\ttotal: 9.2s\tremaining: 11.8s\n",
      "437:\tlearn: 0.0444308\ttotal: 9.21s\tremaining: 11.8s\n",
      "438:\tlearn: 0.0441968\ttotal: 9.23s\tremaining: 11.8s\n",
      "439:\tlearn: 0.0439537\ttotal: 9.25s\tremaining: 11.8s\n",
      "440:\tlearn: 0.0437247\ttotal: 9.28s\tremaining: 11.8s\n",
      "441:\tlearn: 0.0436890\ttotal: 9.32s\tremaining: 11.8s\n",
      "442:\tlearn: 0.0434713\ttotal: 9.34s\tremaining: 11.7s\n",
      "443:\tlearn: 0.0434069\ttotal: 9.37s\tremaining: 11.7s\n",
      "444:\tlearn: 0.0432004\ttotal: 9.4s\tremaining: 11.7s\n",
      "445:\tlearn: 0.0431515\ttotal: 9.42s\tremaining: 11.7s\n",
      "446:\tlearn: 0.0431138\ttotal: 9.44s\tremaining: 11.7s\n",
      "447:\tlearn: 0.0430696\ttotal: 9.47s\tremaining: 11.7s\n",
      "448:\tlearn: 0.0429809\ttotal: 9.49s\tremaining: 11.6s\n",
      "449:\tlearn: 0.0428803\ttotal: 9.51s\tremaining: 11.6s\n",
      "450:\tlearn: 0.0426400\ttotal: 9.54s\tremaining: 11.6s\n",
      "451:\tlearn: 0.0425104\ttotal: 9.56s\tremaining: 11.6s\n",
      "452:\tlearn: 0.0424439\ttotal: 9.59s\tremaining: 11.6s\n",
      "453:\tlearn: 0.0423246\ttotal: 9.61s\tremaining: 11.6s\n",
      "454:\tlearn: 0.0422467\ttotal: 9.64s\tremaining: 11.5s\n",
      "455:\tlearn: 0.0422258\ttotal: 9.66s\tremaining: 11.5s\n",
      "456:\tlearn: 0.0422183\ttotal: 9.68s\tremaining: 11.5s\n",
      "457:\tlearn: 0.0421775\ttotal: 9.69s\tremaining: 11.5s\n",
      "458:\tlearn: 0.0420931\ttotal: 9.72s\tremaining: 11.5s\n",
      "459:\tlearn: 0.0418521\ttotal: 9.76s\tremaining: 11.5s\n",
      "460:\tlearn: 0.0417316\ttotal: 9.79s\tremaining: 11.5s\n",
      "461:\tlearn: 0.0416152\ttotal: 9.82s\tremaining: 11.4s\n",
      "462:\tlearn: 0.0414979\ttotal: 9.85s\tremaining: 11.4s\n",
      "463:\tlearn: 0.0412700\ttotal: 9.87s\tremaining: 11.4s\n",
      "464:\tlearn: 0.0411467\ttotal: 9.89s\tremaining: 11.4s\n",
      "465:\tlearn: 0.0410642\ttotal: 9.91s\tremaining: 11.4s\n",
      "466:\tlearn: 0.0410196\ttotal: 9.93s\tremaining: 11.3s\n",
      "467:\tlearn: 0.0409734\ttotal: 9.95s\tremaining: 11.3s\n",
      "468:\tlearn: 0.0408458\ttotal: 9.97s\tremaining: 11.3s\n",
      "469:\tlearn: 0.0407514\ttotal: 9.98s\tremaining: 11.3s\n",
      "470:\tlearn: 0.0404896\ttotal: 10s\tremaining: 11.2s\n",
      "471:\tlearn: 0.0401953\ttotal: 10s\tremaining: 11.2s\n",
      "472:\tlearn: 0.0400693\ttotal: 10s\tremaining: 11.2s\n",
      "473:\tlearn: 0.0399361\ttotal: 10.1s\tremaining: 11.2s\n",
      "474:\tlearn: 0.0398826\ttotal: 10.1s\tremaining: 11.1s\n",
      "475:\tlearn: 0.0397344\ttotal: 10.1s\tremaining: 11.1s\n",
      "476:\tlearn: 0.0396031\ttotal: 10.1s\tremaining: 11.1s\n",
      "477:\tlearn: 0.0395502\ttotal: 10.1s\tremaining: 11.1s\n",
      "478:\tlearn: 0.0395053\ttotal: 10.2s\tremaining: 11s\n",
      "479:\tlearn: 0.0394454\ttotal: 10.2s\tremaining: 11s\n",
      "480:\tlearn: 0.0393081\ttotal: 10.2s\tremaining: 11s\n",
      "481:\tlearn: 0.0391897\ttotal: 10.2s\tremaining: 11s\n",
      "482:\tlearn: 0.0391468\ttotal: 10.2s\tremaining: 11s\n",
      "483:\tlearn: 0.0391293\ttotal: 10.3s\tremaining: 10.9s\n",
      "484:\tlearn: 0.0389446\ttotal: 10.3s\tremaining: 10.9s\n",
      "485:\tlearn: 0.0388638\ttotal: 10.3s\tremaining: 10.9s\n",
      "486:\tlearn: 0.0388637\ttotal: 10.3s\tremaining: 10.9s\n",
      "487:\tlearn: 0.0387812\ttotal: 10.3s\tremaining: 10.8s\n",
      "488:\tlearn: 0.0387128\ttotal: 10.3s\tremaining: 10.8s\n",
      "489:\tlearn: 0.0386339\ttotal: 10.4s\tremaining: 10.8s\n"
     ]
    },
    {
     "name": "stdout",
     "output_type": "stream",
     "text": [
      "490:\tlearn: 0.0385451\ttotal: 10.4s\tremaining: 10.8s\n",
      "491:\tlearn: 0.0384115\ttotal: 10.4s\tremaining: 10.7s\n",
      "492:\tlearn: 0.0382569\ttotal: 10.4s\tremaining: 10.7s\n",
      "493:\tlearn: 0.0381422\ttotal: 10.4s\tremaining: 10.7s\n",
      "494:\tlearn: 0.0380722\ttotal: 10.5s\tremaining: 10.7s\n",
      "495:\tlearn: 0.0379300\ttotal: 10.5s\tremaining: 10.6s\n",
      "496:\tlearn: 0.0378265\ttotal: 10.5s\tremaining: 10.6s\n",
      "497:\tlearn: 0.0377003\ttotal: 10.5s\tremaining: 10.6s\n",
      "498:\tlearn: 0.0375214\ttotal: 10.5s\tremaining: 10.6s\n",
      "499:\tlearn: 0.0374574\ttotal: 10.5s\tremaining: 10.5s\n",
      "500:\tlearn: 0.0373922\ttotal: 10.6s\tremaining: 10.5s\n",
      "501:\tlearn: 0.0372920\ttotal: 10.6s\tremaining: 10.5s\n",
      "502:\tlearn: 0.0372364\ttotal: 10.6s\tremaining: 10.5s\n",
      "503:\tlearn: 0.0371360\ttotal: 10.7s\tremaining: 10.5s\n",
      "504:\tlearn: 0.0370399\ttotal: 10.7s\tremaining: 10.5s\n",
      "505:\tlearn: 0.0369683\ttotal: 10.7s\tremaining: 10.4s\n",
      "506:\tlearn: 0.0368767\ttotal: 10.7s\tremaining: 10.4s\n",
      "507:\tlearn: 0.0367742\ttotal: 10.7s\tremaining: 10.4s\n",
      "508:\tlearn: 0.0367655\ttotal: 10.7s\tremaining: 10.4s\n",
      "509:\tlearn: 0.0367172\ttotal: 10.8s\tremaining: 10.3s\n",
      "510:\tlearn: 0.0365635\ttotal: 10.8s\tremaining: 10.3s\n",
      "511:\tlearn: 0.0364462\ttotal: 10.8s\tremaining: 10.3s\n",
      "512:\tlearn: 0.0363182\ttotal: 10.8s\tremaining: 10.3s\n",
      "513:\tlearn: 0.0360844\ttotal: 10.8s\tremaining: 10.2s\n",
      "514:\tlearn: 0.0360412\ttotal: 10.9s\tremaining: 10.2s\n",
      "515:\tlearn: 0.0360193\ttotal: 10.9s\tremaining: 10.2s\n",
      "516:\tlearn: 0.0359349\ttotal: 10.9s\tremaining: 10.2s\n",
      "517:\tlearn: 0.0358261\ttotal: 10.9s\tremaining: 10.1s\n",
      "518:\tlearn: 0.0356662\ttotal: 10.9s\tremaining: 10.1s\n",
      "519:\tlearn: 0.0356016\ttotal: 10.9s\tremaining: 10.1s\n",
      "520:\tlearn: 0.0354260\ttotal: 11s\tremaining: 10.1s\n",
      "521:\tlearn: 0.0352585\ttotal: 11s\tremaining: 10.1s\n",
      "522:\tlearn: 0.0352127\ttotal: 11s\tremaining: 10s\n",
      "523:\tlearn: 0.0350159\ttotal: 11s\tremaining: 10s\n",
      "524:\tlearn: 0.0349777\ttotal: 11s\tremaining: 9.97s\n",
      "525:\tlearn: 0.0349343\ttotal: 11s\tremaining: 9.95s\n",
      "526:\tlearn: 0.0348646\ttotal: 11.1s\tremaining: 9.93s\n",
      "527:\tlearn: 0.0348335\ttotal: 11.1s\tremaining: 9.9s\n",
      "528:\tlearn: 0.0347627\ttotal: 11.1s\tremaining: 9.88s\n",
      "529:\tlearn: 0.0347410\ttotal: 11.1s\tremaining: 9.85s\n",
      "530:\tlearn: 0.0346931\ttotal: 11.1s\tremaining: 9.84s\n",
      "531:\tlearn: 0.0346612\ttotal: 11.2s\tremaining: 9.82s\n",
      "532:\tlearn: 0.0346318\ttotal: 11.2s\tremaining: 9.8s\n",
      "533:\tlearn: 0.0345791\ttotal: 11.2s\tremaining: 9.77s\n",
      "534:\tlearn: 0.0345712\ttotal: 11.2s\tremaining: 9.75s\n",
      "535:\tlearn: 0.0345285\ttotal: 11.2s\tremaining: 9.73s\n",
      "536:\tlearn: 0.0344917\ttotal: 11.3s\tremaining: 9.71s\n",
      "537:\tlearn: 0.0342915\ttotal: 11.3s\tremaining: 9.68s\n",
      "538:\tlearn: 0.0342272\ttotal: 11.3s\tremaining: 9.66s\n",
      "539:\tlearn: 0.0340844\ttotal: 11.3s\tremaining: 9.64s\n",
      "540:\tlearn: 0.0340002\ttotal: 11.3s\tremaining: 9.62s\n",
      "541:\tlearn: 0.0339388\ttotal: 11.4s\tremaining: 9.6s\n",
      "542:\tlearn: 0.0339002\ttotal: 11.4s\tremaining: 9.57s\n",
      "543:\tlearn: 0.0336288\ttotal: 11.4s\tremaining: 9.56s\n",
      "544:\tlearn: 0.0335163\ttotal: 11.4s\tremaining: 9.53s\n",
      "545:\tlearn: 0.0334340\ttotal: 11.4s\tremaining: 9.51s\n",
      "546:\tlearn: 0.0333636\ttotal: 11.5s\tremaining: 9.49s\n",
      "547:\tlearn: 0.0332976\ttotal: 11.5s\tremaining: 9.47s\n",
      "548:\tlearn: 0.0330972\ttotal: 11.5s\tremaining: 9.45s\n",
      "549:\tlearn: 0.0330499\ttotal: 11.5s\tremaining: 9.42s\n",
      "550:\tlearn: 0.0329763\ttotal: 11.5s\tremaining: 9.4s\n",
      "551:\tlearn: 0.0329551\ttotal: 11.6s\tremaining: 9.38s\n",
      "552:\tlearn: 0.0327898\ttotal: 11.6s\tremaining: 9.36s\n",
      "553:\tlearn: 0.0327501\ttotal: 11.6s\tremaining: 9.33s\n",
      "554:\tlearn: 0.0327278\ttotal: 11.6s\tremaining: 9.31s\n",
      "555:\tlearn: 0.0327276\ttotal: 11.6s\tremaining: 9.28s\n",
      "556:\tlearn: 0.0325867\ttotal: 11.6s\tremaining: 9.26s\n",
      "557:\tlearn: 0.0325310\ttotal: 11.7s\tremaining: 9.24s\n",
      "558:\tlearn: 0.0324872\ttotal: 11.7s\tremaining: 9.22s\n",
      "559:\tlearn: 0.0324556\ttotal: 11.7s\tremaining: 9.2s\n",
      "560:\tlearn: 0.0323924\ttotal: 11.7s\tremaining: 9.17s\n",
      "561:\tlearn: 0.0323228\ttotal: 11.7s\tremaining: 9.15s\n",
      "562:\tlearn: 0.0321956\ttotal: 11.8s\tremaining: 9.13s\n",
      "563:\tlearn: 0.0321579\ttotal: 11.8s\tremaining: 9.1s\n",
      "564:\tlearn: 0.0320576\ttotal: 11.8s\tremaining: 9.08s\n",
      "565:\tlearn: 0.0319700\ttotal: 11.8s\tremaining: 9.06s\n",
      "566:\tlearn: 0.0319114\ttotal: 11.8s\tremaining: 9.04s\n",
      "567:\tlearn: 0.0319036\ttotal: 11.9s\tremaining: 9.01s\n",
      "568:\tlearn: 0.0318680\ttotal: 11.9s\tremaining: 8.99s\n",
      "569:\tlearn: 0.0317112\ttotal: 11.9s\tremaining: 8.96s\n",
      "570:\tlearn: 0.0316442\ttotal: 11.9s\tremaining: 8.94s\n",
      "571:\tlearn: 0.0316193\ttotal: 11.9s\tremaining: 8.92s\n",
      "572:\tlearn: 0.0315747\ttotal: 11.9s\tremaining: 8.89s\n",
      "573:\tlearn: 0.0315515\ttotal: 12s\tremaining: 8.87s\n",
      "574:\tlearn: 0.0315369\ttotal: 12s\tremaining: 8.85s\n",
      "575:\tlearn: 0.0315324\ttotal: 12s\tremaining: 8.82s\n",
      "576:\tlearn: 0.0314706\ttotal: 12s\tremaining: 8.8s\n",
      "577:\tlearn: 0.0312898\ttotal: 12s\tremaining: 8.78s\n",
      "578:\tlearn: 0.0312896\ttotal: 12s\tremaining: 8.76s\n",
      "579:\tlearn: 0.0311864\ttotal: 12.1s\tremaining: 8.73s\n",
      "580:\tlearn: 0.0311567\ttotal: 12.1s\tremaining: 8.71s\n",
      "581:\tlearn: 0.0311306\ttotal: 12.1s\tremaining: 8.69s\n",
      "582:\tlearn: 0.0311054\ttotal: 12.1s\tremaining: 8.66s\n",
      "583:\tlearn: 0.0309711\ttotal: 12.1s\tremaining: 8.64s\n",
      "584:\tlearn: 0.0308987\ttotal: 12.1s\tremaining: 8.62s\n",
      "585:\tlearn: 0.0307636\ttotal: 12.2s\tremaining: 8.6s\n",
      "586:\tlearn: 0.0307308\ttotal: 12.2s\tremaining: 8.57s\n",
      "587:\tlearn: 0.0305646\ttotal: 12.2s\tremaining: 8.55s\n",
      "588:\tlearn: 0.0304519\ttotal: 12.2s\tremaining: 8.53s\n",
      "589:\tlearn: 0.0304258\ttotal: 12.2s\tremaining: 8.51s\n",
      "590:\tlearn: 0.0302009\ttotal: 12.3s\tremaining: 8.48s\n",
      "591:\tlearn: 0.0300696\ttotal: 12.3s\tremaining: 8.47s\n",
      "592:\tlearn: 0.0300178\ttotal: 12.3s\tremaining: 8.45s\n",
      "593:\tlearn: 0.0299160\ttotal: 12.3s\tremaining: 8.43s\n",
      "594:\tlearn: 0.0298177\ttotal: 12.4s\tremaining: 8.41s\n",
      "595:\tlearn: 0.0296907\ttotal: 12.4s\tremaining: 8.39s\n",
      "596:\tlearn: 0.0296123\ttotal: 12.4s\tremaining: 8.37s\n",
      "597:\tlearn: 0.0295816\ttotal: 12.4s\tremaining: 8.35s\n",
      "598:\tlearn: 0.0295794\ttotal: 12.4s\tremaining: 8.32s\n",
      "599:\tlearn: 0.0295461\ttotal: 12.4s\tremaining: 8.29s\n",
      "600:\tlearn: 0.0294598\ttotal: 12.5s\tremaining: 8.27s\n",
      "601:\tlearn: 0.0293689\ttotal: 12.5s\tremaining: 8.25s\n",
      "602:\tlearn: 0.0292321\ttotal: 12.5s\tremaining: 8.22s\n",
      "603:\tlearn: 0.0291894\ttotal: 12.5s\tremaining: 8.2s\n",
      "604:\tlearn: 0.0290947\ttotal: 12.5s\tremaining: 8.18s\n",
      "605:\tlearn: 0.0289915\ttotal: 12.5s\tremaining: 8.15s\n",
      "606:\tlearn: 0.0288447\ttotal: 12.6s\tremaining: 8.13s\n",
      "607:\tlearn: 0.0287830\ttotal: 12.6s\tremaining: 8.11s\n",
      "608:\tlearn: 0.0287511\ttotal: 12.6s\tremaining: 8.09s\n",
      "609:\tlearn: 0.0285852\ttotal: 12.6s\tremaining: 8.06s\n",
      "610:\tlearn: 0.0285649\ttotal: 12.6s\tremaining: 8.04s\n",
      "611:\tlearn: 0.0284304\ttotal: 12.6s\tremaining: 8.02s\n",
      "612:\tlearn: 0.0283411\ttotal: 12.7s\tremaining: 7.99s\n",
      "613:\tlearn: 0.0282502\ttotal: 12.7s\tremaining: 7.97s\n",
      "614:\tlearn: 0.0282436\ttotal: 12.7s\tremaining: 7.95s\n",
      "615:\tlearn: 0.0281197\ttotal: 12.7s\tremaining: 7.92s\n",
      "616:\tlearn: 0.0280313\ttotal: 12.7s\tremaining: 7.9s\n",
      "617:\tlearn: 0.0280312\ttotal: 12.7s\tremaining: 7.88s\n",
      "618:\tlearn: 0.0279878\ttotal: 12.8s\tremaining: 7.86s\n",
      "619:\tlearn: 0.0278698\ttotal: 12.8s\tremaining: 7.83s\n",
      "620:\tlearn: 0.0278468\ttotal: 12.8s\tremaining: 7.81s\n",
      "621:\tlearn: 0.0278035\ttotal: 12.8s\tremaining: 7.79s\n",
      "622:\tlearn: 0.0277415\ttotal: 12.8s\tremaining: 7.76s\n",
      "623:\tlearn: 0.0276269\ttotal: 12.8s\tremaining: 7.74s\n",
      "624:\tlearn: 0.0275105\ttotal: 12.9s\tremaining: 7.71s\n",
      "625:\tlearn: 0.0274801\ttotal: 12.9s\tremaining: 7.69s\n",
      "626:\tlearn: 0.0273553\ttotal: 12.9s\tremaining: 7.67s\n",
      "627:\tlearn: 0.0273384\ttotal: 12.9s\tremaining: 7.64s\n",
      "628:\tlearn: 0.0273339\ttotal: 12.9s\tremaining: 7.62s\n",
      "629:\tlearn: 0.0273174\ttotal: 12.9s\tremaining: 7.6s\n",
      "630:\tlearn: 0.0272709\ttotal: 12.9s\tremaining: 7.57s\n",
      "631:\tlearn: 0.0272592\ttotal: 13s\tremaining: 7.55s\n",
      "632:\tlearn: 0.0272178\ttotal: 13s\tremaining: 7.53s\n",
      "633:\tlearn: 0.0271366\ttotal: 13s\tremaining: 7.51s\n",
      "634:\tlearn: 0.0269745\ttotal: 13s\tremaining: 7.48s\n",
      "635:\tlearn: 0.0269416\ttotal: 13s\tremaining: 7.46s\n",
      "636:\tlearn: 0.0268867\ttotal: 13.1s\tremaining: 7.44s\n",
      "637:\tlearn: 0.0268514\ttotal: 13.1s\tremaining: 7.42s\n",
      "638:\tlearn: 0.0268510\ttotal: 13.1s\tremaining: 7.4s\n",
      "639:\tlearn: 0.0268435\ttotal: 13.1s\tremaining: 7.38s\n",
      "640:\tlearn: 0.0267069\ttotal: 13.1s\tremaining: 7.35s\n",
      "641:\tlearn: 0.0266402\ttotal: 13.1s\tremaining: 7.33s\n",
      "642:\tlearn: 0.0265286\ttotal: 13.2s\tremaining: 7.31s\n",
      "643:\tlearn: 0.0265035\ttotal: 13.2s\tremaining: 7.28s\n",
      "644:\tlearn: 0.0263617\ttotal: 13.2s\tremaining: 7.26s\n",
      "645:\tlearn: 0.0262677\ttotal: 13.2s\tremaining: 7.24s\n",
      "646:\tlearn: 0.0262675\ttotal: 13.2s\tremaining: 7.21s\n",
      "647:\tlearn: 0.0262294\ttotal: 13.2s\tremaining: 7.19s\n",
      "648:\tlearn: 0.0262101\ttotal: 13.3s\tremaining: 7.17s\n",
      "649:\tlearn: 0.0261400\ttotal: 13.3s\tremaining: 7.15s\n",
      "650:\tlearn: 0.0260983\ttotal: 13.3s\tremaining: 7.13s\n",
      "651:\tlearn: 0.0260191\ttotal: 13.3s\tremaining: 7.1s\n",
      "652:\tlearn: 0.0259719\ttotal: 13.3s\tremaining: 7.08s\n",
      "653:\tlearn: 0.0259023\ttotal: 13.3s\tremaining: 7.06s\n",
      "654:\tlearn: 0.0258964\ttotal: 13.4s\tremaining: 7.04s\n",
      "655:\tlearn: 0.0258500\ttotal: 13.4s\tremaining: 7.01s\n",
      "656:\tlearn: 0.0257758\ttotal: 13.4s\tremaining: 6.99s\n"
     ]
    },
    {
     "name": "stdout",
     "output_type": "stream",
     "text": [
      "657:\tlearn: 0.0257310\ttotal: 13.4s\tremaining: 6.97s\n",
      "658:\tlearn: 0.0256618\ttotal: 13.4s\tremaining: 6.95s\n",
      "659:\tlearn: 0.0255984\ttotal: 13.4s\tremaining: 6.93s\n",
      "660:\tlearn: 0.0255728\ttotal: 13.5s\tremaining: 6.91s\n",
      "661:\tlearn: 0.0255586\ttotal: 13.5s\tremaining: 6.89s\n",
      "662:\tlearn: 0.0255303\ttotal: 13.5s\tremaining: 6.87s\n",
      "663:\tlearn: 0.0255101\ttotal: 13.5s\tremaining: 6.85s\n",
      "664:\tlearn: 0.0254981\ttotal: 13.6s\tremaining: 6.83s\n",
      "665:\tlearn: 0.0254421\ttotal: 13.6s\tremaining: 6.81s\n",
      "666:\tlearn: 0.0253855\ttotal: 13.6s\tremaining: 6.78s\n",
      "667:\tlearn: 0.0252614\ttotal: 13.6s\tremaining: 6.76s\n",
      "668:\tlearn: 0.0252148\ttotal: 13.6s\tremaining: 6.74s\n",
      "669:\tlearn: 0.0252045\ttotal: 13.6s\tremaining: 6.72s\n",
      "670:\tlearn: 0.0250703\ttotal: 13.7s\tremaining: 6.69s\n",
      "671:\tlearn: 0.0250070\ttotal: 13.7s\tremaining: 6.67s\n",
      "672:\tlearn: 0.0249764\ttotal: 13.7s\tremaining: 6.65s\n",
      "673:\tlearn: 0.0249065\ttotal: 13.7s\tremaining: 6.62s\n",
      "674:\tlearn: 0.0248278\ttotal: 13.7s\tremaining: 6.6s\n",
      "675:\tlearn: 0.0247370\ttotal: 13.7s\tremaining: 6.58s\n",
      "676:\tlearn: 0.0246443\ttotal: 13.8s\tremaining: 6.56s\n",
      "677:\tlearn: 0.0246178\ttotal: 13.8s\tremaining: 6.54s\n",
      "678:\tlearn: 0.0245990\ttotal: 13.8s\tremaining: 6.52s\n",
      "679:\tlearn: 0.0245404\ttotal: 13.8s\tremaining: 6.5s\n",
      "680:\tlearn: 0.0244748\ttotal: 13.8s\tremaining: 6.47s\n",
      "681:\tlearn: 0.0243829\ttotal: 13.8s\tremaining: 6.45s\n",
      "682:\tlearn: 0.0242798\ttotal: 13.9s\tremaining: 6.43s\n",
      "683:\tlearn: 0.0242220\ttotal: 13.9s\tremaining: 6.41s\n",
      "684:\tlearn: 0.0241520\ttotal: 13.9s\tremaining: 6.39s\n",
      "685:\tlearn: 0.0241008\ttotal: 13.9s\tremaining: 6.37s\n",
      "686:\tlearn: 0.0240093\ttotal: 13.9s\tremaining: 6.34s\n",
      "687:\tlearn: 0.0239571\ttotal: 13.9s\tremaining: 6.32s\n",
      "688:\tlearn: 0.0237952\ttotal: 14s\tremaining: 6.3s\n",
      "689:\tlearn: 0.0237438\ttotal: 14s\tremaining: 6.28s\n",
      "690:\tlearn: 0.0236237\ttotal: 14s\tremaining: 6.26s\n",
      "691:\tlearn: 0.0236063\ttotal: 14s\tremaining: 6.24s\n",
      "692:\tlearn: 0.0235893\ttotal: 14s\tremaining: 6.21s\n",
      "693:\tlearn: 0.0235308\ttotal: 14s\tremaining: 6.19s\n",
      "694:\tlearn: 0.0234291\ttotal: 14.1s\tremaining: 6.17s\n",
      "695:\tlearn: 0.0233904\ttotal: 14.1s\tremaining: 6.15s\n",
      "696:\tlearn: 0.0233902\ttotal: 14.1s\tremaining: 6.13s\n",
      "697:\tlearn: 0.0233416\ttotal: 14.1s\tremaining: 6.11s\n",
      "698:\tlearn: 0.0233048\ttotal: 14.1s\tremaining: 6.08s\n",
      "699:\tlearn: 0.0231890\ttotal: 14.2s\tremaining: 6.07s\n",
      "700:\tlearn: 0.0231247\ttotal: 14.2s\tremaining: 6.04s\n",
      "701:\tlearn: 0.0231247\ttotal: 14.2s\tremaining: 6.02s\n",
      "702:\tlearn: 0.0230811\ttotal: 14.2s\tremaining: 6s\n",
      "703:\tlearn: 0.0230410\ttotal: 14.2s\tremaining: 5.98s\n",
      "704:\tlearn: 0.0230102\ttotal: 14.2s\tremaining: 5.96s\n",
      "705:\tlearn: 0.0230101\ttotal: 14.3s\tremaining: 5.94s\n",
      "706:\tlearn: 0.0229804\ttotal: 14.3s\tremaining: 5.92s\n",
      "707:\tlearn: 0.0228922\ttotal: 14.3s\tremaining: 5.9s\n",
      "708:\tlearn: 0.0228540\ttotal: 14.3s\tremaining: 5.88s\n",
      "709:\tlearn: 0.0227999\ttotal: 14.3s\tremaining: 5.86s\n",
      "710:\tlearn: 0.0227914\ttotal: 14.4s\tremaining: 5.84s\n",
      "711:\tlearn: 0.0227164\ttotal: 14.4s\tremaining: 5.82s\n",
      "712:\tlearn: 0.0227034\ttotal: 14.4s\tremaining: 5.8s\n",
      "713:\tlearn: 0.0226065\ttotal: 14.4s\tremaining: 5.78s\n",
      "714:\tlearn: 0.0225437\ttotal: 14.5s\tremaining: 5.76s\n",
      "715:\tlearn: 0.0225073\ttotal: 14.5s\tremaining: 5.74s\n",
      "716:\tlearn: 0.0224408\ttotal: 14.5s\tremaining: 5.73s\n",
      "717:\tlearn: 0.0223902\ttotal: 14.5s\tremaining: 5.71s\n",
      "718:\tlearn: 0.0223902\ttotal: 14.6s\tremaining: 5.69s\n",
      "719:\tlearn: 0.0223678\ttotal: 14.6s\tremaining: 5.67s\n",
      "720:\tlearn: 0.0223676\ttotal: 14.6s\tremaining: 5.64s\n",
      "721:\tlearn: 0.0223077\ttotal: 14.6s\tremaining: 5.62s\n",
      "722:\tlearn: 0.0222263\ttotal: 14.6s\tremaining: 5.6s\n",
      "723:\tlearn: 0.0222131\ttotal: 14.6s\tremaining: 5.58s\n",
      "724:\tlearn: 0.0221870\ttotal: 14.7s\tremaining: 5.56s\n",
      "725:\tlearn: 0.0221482\ttotal: 14.7s\tremaining: 5.54s\n",
      "726:\tlearn: 0.0220138\ttotal: 14.7s\tremaining: 5.52s\n",
      "727:\tlearn: 0.0218841\ttotal: 14.7s\tremaining: 5.51s\n",
      "728:\tlearn: 0.0218654\ttotal: 14.8s\tremaining: 5.49s\n",
      "729:\tlearn: 0.0217288\ttotal: 14.8s\tremaining: 5.47s\n",
      "730:\tlearn: 0.0216422\ttotal: 14.8s\tremaining: 5.45s\n",
      "731:\tlearn: 0.0215476\ttotal: 14.8s\tremaining: 5.43s\n",
      "732:\tlearn: 0.0215079\ttotal: 14.9s\tremaining: 5.41s\n",
      "733:\tlearn: 0.0213777\ttotal: 14.9s\tremaining: 5.39s\n",
      "734:\tlearn: 0.0213471\ttotal: 14.9s\tremaining: 5.38s\n",
      "735:\tlearn: 0.0212659\ttotal: 14.9s\tremaining: 5.36s\n",
      "736:\tlearn: 0.0212130\ttotal: 15s\tremaining: 5.34s\n",
      "737:\tlearn: 0.0211495\ttotal: 15s\tremaining: 5.32s\n",
      "738:\tlearn: 0.0211280\ttotal: 15s\tremaining: 5.3s\n",
      "739:\tlearn: 0.0210783\ttotal: 15.1s\tremaining: 5.29s\n",
      "740:\tlearn: 0.0210299\ttotal: 15.1s\tremaining: 5.28s\n",
      "741:\tlearn: 0.0209725\ttotal: 15.1s\tremaining: 5.26s\n",
      "742:\tlearn: 0.0209318\ttotal: 15.1s\tremaining: 5.24s\n",
      "743:\tlearn: 0.0209186\ttotal: 15.2s\tremaining: 5.22s\n",
      "744:\tlearn: 0.0209094\ttotal: 15.2s\tremaining: 5.2s\n",
      "745:\tlearn: 0.0208803\ttotal: 15.2s\tremaining: 5.18s\n",
      "746:\tlearn: 0.0208803\ttotal: 15.2s\tremaining: 5.16s\n",
      "747:\tlearn: 0.0208331\ttotal: 15.2s\tremaining: 5.13s\n",
      "748:\tlearn: 0.0207602\ttotal: 15.3s\tremaining: 5.12s\n",
      "749:\tlearn: 0.0207086\ttotal: 15.3s\tremaining: 5.09s\n",
      "750:\tlearn: 0.0206802\ttotal: 15.3s\tremaining: 5.07s\n",
      "751:\tlearn: 0.0206655\ttotal: 15.3s\tremaining: 5.05s\n",
      "752:\tlearn: 0.0206655\ttotal: 15.3s\tremaining: 5.03s\n",
      "753:\tlearn: 0.0206224\ttotal: 15.4s\tremaining: 5.01s\n",
      "754:\tlearn: 0.0205748\ttotal: 15.4s\tremaining: 4.99s\n",
      "755:\tlearn: 0.0205257\ttotal: 15.4s\tremaining: 4.97s\n",
      "756:\tlearn: 0.0204771\ttotal: 15.4s\tremaining: 4.95s\n",
      "757:\tlearn: 0.0204771\ttotal: 15.4s\tremaining: 4.93s\n",
      "758:\tlearn: 0.0204530\ttotal: 15.5s\tremaining: 4.91s\n",
      "759:\tlearn: 0.0204140\ttotal: 15.5s\tremaining: 4.89s\n",
      "760:\tlearn: 0.0203924\ttotal: 15.5s\tremaining: 4.87s\n",
      "761:\tlearn: 0.0203381\ttotal: 15.5s\tremaining: 4.85s\n",
      "762:\tlearn: 0.0203381\ttotal: 15.5s\tremaining: 4.83s\n",
      "763:\tlearn: 0.0202770\ttotal: 15.6s\tremaining: 4.81s\n",
      "764:\tlearn: 0.0202243\ttotal: 15.6s\tremaining: 4.79s\n",
      "765:\tlearn: 0.0202243\ttotal: 15.6s\tremaining: 4.77s\n",
      "766:\tlearn: 0.0201945\ttotal: 15.6s\tremaining: 4.75s\n",
      "767:\tlearn: 0.0201584\ttotal: 15.7s\tremaining: 4.73s\n",
      "768:\tlearn: 0.0201285\ttotal: 15.7s\tremaining: 4.71s\n",
      "769:\tlearn: 0.0201285\ttotal: 15.7s\tremaining: 4.69s\n",
      "770:\tlearn: 0.0201011\ttotal: 15.7s\tremaining: 4.67s\n",
      "771:\tlearn: 0.0200973\ttotal: 15.7s\tremaining: 4.65s\n",
      "772:\tlearn: 0.0200573\ttotal: 15.8s\tremaining: 4.63s\n",
      "773:\tlearn: 0.0200318\ttotal: 15.8s\tremaining: 4.61s\n",
      "774:\tlearn: 0.0199951\ttotal: 15.8s\tremaining: 4.59s\n",
      "775:\tlearn: 0.0199849\ttotal: 15.8s\tremaining: 4.57s\n",
      "776:\tlearn: 0.0199378\ttotal: 15.8s\tremaining: 4.55s\n",
      "777:\tlearn: 0.0199125\ttotal: 15.9s\tremaining: 4.53s\n",
      "778:\tlearn: 0.0199125\ttotal: 15.9s\tremaining: 4.5s\n",
      "779:\tlearn: 0.0198852\ttotal: 15.9s\tremaining: 4.48s\n",
      "780:\tlearn: 0.0197757\ttotal: 15.9s\tremaining: 4.46s\n",
      "781:\tlearn: 0.0197756\ttotal: 15.9s\tremaining: 4.44s\n",
      "782:\tlearn: 0.0197596\ttotal: 15.9s\tremaining: 4.42s\n",
      "783:\tlearn: 0.0197241\ttotal: 16s\tremaining: 4.4s\n",
      "784:\tlearn: 0.0197241\ttotal: 16s\tremaining: 4.38s\n",
      "785:\tlearn: 0.0197007\ttotal: 16s\tremaining: 4.36s\n",
      "786:\tlearn: 0.0196933\ttotal: 16s\tremaining: 4.34s\n",
      "787:\tlearn: 0.0196573\ttotal: 16.1s\tremaining: 4.32s\n",
      "788:\tlearn: 0.0196001\ttotal: 16.1s\tremaining: 4.3s\n",
      "789:\tlearn: 0.0195018\ttotal: 16.1s\tremaining: 4.28s\n",
      "790:\tlearn: 0.0194554\ttotal: 16.1s\tremaining: 4.26s\n",
      "791:\tlearn: 0.0194554\ttotal: 16.1s\tremaining: 4.23s\n",
      "792:\tlearn: 0.0194196\ttotal: 16.1s\tremaining: 4.21s\n",
      "793:\tlearn: 0.0193764\ttotal: 16.2s\tremaining: 4.19s\n",
      "794:\tlearn: 0.0193539\ttotal: 16.2s\tremaining: 4.17s\n",
      "795:\tlearn: 0.0192880\ttotal: 16.2s\tremaining: 4.15s\n",
      "796:\tlearn: 0.0192367\ttotal: 16.2s\tremaining: 4.13s\n",
      "797:\tlearn: 0.0192366\ttotal: 16.2s\tremaining: 4.11s\n",
      "798:\tlearn: 0.0191976\ttotal: 16.3s\tremaining: 4.09s\n",
      "799:\tlearn: 0.0191976\ttotal: 16.3s\tremaining: 4.07s\n",
      "800:\tlearn: 0.0191546\ttotal: 16.3s\tremaining: 4.05s\n",
      "801:\tlearn: 0.0191170\ttotal: 16.3s\tremaining: 4.03s\n",
      "802:\tlearn: 0.0191022\ttotal: 16.3s\tremaining: 4.01s\n",
      "803:\tlearn: 0.0191020\ttotal: 16.4s\tremaining: 3.99s\n",
      "804:\tlearn: 0.0190831\ttotal: 16.4s\tremaining: 3.97s\n",
      "805:\tlearn: 0.0190402\ttotal: 16.4s\tremaining: 3.95s\n",
      "806:\tlearn: 0.0190033\ttotal: 16.4s\tremaining: 3.93s\n",
      "807:\tlearn: 0.0189048\ttotal: 16.4s\tremaining: 3.91s\n",
      "808:\tlearn: 0.0188753\ttotal: 16.5s\tremaining: 3.88s\n",
      "809:\tlearn: 0.0188538\ttotal: 16.5s\tremaining: 3.86s\n",
      "810:\tlearn: 0.0187791\ttotal: 16.5s\tremaining: 3.84s\n",
      "811:\tlearn: 0.0187791\ttotal: 16.5s\tremaining: 3.82s\n",
      "812:\tlearn: 0.0187228\ttotal: 16.5s\tremaining: 3.8s\n",
      "813:\tlearn: 0.0187228\ttotal: 16.5s\tremaining: 3.78s\n",
      "814:\tlearn: 0.0185909\ttotal: 16.6s\tremaining: 3.76s\n",
      "815:\tlearn: 0.0185453\ttotal: 16.6s\tremaining: 3.74s\n",
      "816:\tlearn: 0.0184630\ttotal: 16.6s\tremaining: 3.72s\n",
      "817:\tlearn: 0.0184338\ttotal: 16.6s\tremaining: 3.7s\n",
      "818:\tlearn: 0.0184337\ttotal: 16.6s\tremaining: 3.68s\n",
      "819:\tlearn: 0.0183964\ttotal: 16.7s\tremaining: 3.65s\n",
      "820:\tlearn: 0.0183544\ttotal: 16.7s\tremaining: 3.63s\n"
     ]
    },
    {
     "name": "stdout",
     "output_type": "stream",
     "text": [
      "821:\tlearn: 0.0183057\ttotal: 16.7s\tremaining: 3.61s\n",
      "822:\tlearn: 0.0182812\ttotal: 16.7s\tremaining: 3.59s\n",
      "823:\tlearn: 0.0182812\ttotal: 16.7s\tremaining: 3.57s\n",
      "824:\tlearn: 0.0182609\ttotal: 16.8s\tremaining: 3.55s\n",
      "825:\tlearn: 0.0182608\ttotal: 16.8s\tremaining: 3.53s\n",
      "826:\tlearn: 0.0182453\ttotal: 16.8s\tremaining: 3.51s\n",
      "827:\tlearn: 0.0181925\ttotal: 16.8s\tremaining: 3.49s\n",
      "828:\tlearn: 0.0181925\ttotal: 16.8s\tremaining: 3.47s\n",
      "829:\tlearn: 0.0181727\ttotal: 16.8s\tremaining: 3.45s\n",
      "830:\tlearn: 0.0181727\ttotal: 16.9s\tremaining: 3.43s\n",
      "831:\tlearn: 0.0181166\ttotal: 16.9s\tremaining: 3.41s\n",
      "832:\tlearn: 0.0180976\ttotal: 16.9s\tremaining: 3.39s\n",
      "833:\tlearn: 0.0180725\ttotal: 16.9s\tremaining: 3.37s\n",
      "834:\tlearn: 0.0180406\ttotal: 16.9s\tremaining: 3.35s\n",
      "835:\tlearn: 0.0180189\ttotal: 17s\tremaining: 3.33s\n",
      "836:\tlearn: 0.0180188\ttotal: 17s\tremaining: 3.3s\n",
      "837:\tlearn: 0.0179507\ttotal: 17s\tremaining: 3.28s\n",
      "838:\tlearn: 0.0179265\ttotal: 17s\tremaining: 3.26s\n",
      "839:\tlearn: 0.0178793\ttotal: 17s\tremaining: 3.24s\n",
      "840:\tlearn: 0.0178792\ttotal: 17s\tremaining: 3.22s\n",
      "841:\tlearn: 0.0178172\ttotal: 17.1s\tremaining: 3.2s\n",
      "842:\tlearn: 0.0177933\ttotal: 17.1s\tremaining: 3.18s\n",
      "843:\tlearn: 0.0177932\ttotal: 17.1s\tremaining: 3.16s\n",
      "844:\tlearn: 0.0177258\ttotal: 17.1s\tremaining: 3.14s\n",
      "845:\tlearn: 0.0176974\ttotal: 17.1s\tremaining: 3.12s\n",
      "846:\tlearn: 0.0176730\ttotal: 17.1s\tremaining: 3.1s\n",
      "847:\tlearn: 0.0176729\ttotal: 17.2s\tremaining: 3.08s\n",
      "848:\tlearn: 0.0176382\ttotal: 17.2s\tremaining: 3.05s\n",
      "849:\tlearn: 0.0176194\ttotal: 17.2s\tremaining: 3.03s\n",
      "850:\tlearn: 0.0175898\ttotal: 17.2s\tremaining: 3.01s\n",
      "851:\tlearn: 0.0175616\ttotal: 17.2s\tremaining: 2.99s\n",
      "852:\tlearn: 0.0175022\ttotal: 17.2s\tremaining: 2.97s\n",
      "853:\tlearn: 0.0175021\ttotal: 17.3s\tremaining: 2.95s\n",
      "854:\tlearn: 0.0174784\ttotal: 17.3s\tremaining: 2.93s\n",
      "855:\tlearn: 0.0174631\ttotal: 17.3s\tremaining: 2.91s\n",
      "856:\tlearn: 0.0174354\ttotal: 17.3s\tremaining: 2.89s\n",
      "857:\tlearn: 0.0174354\ttotal: 17.3s\tremaining: 2.87s\n",
      "858:\tlearn: 0.0174099\ttotal: 17.3s\tremaining: 2.85s\n",
      "859:\tlearn: 0.0174099\ttotal: 17.4s\tremaining: 2.83s\n",
      "860:\tlearn: 0.0173580\ttotal: 17.4s\tremaining: 2.81s\n",
      "861:\tlearn: 0.0173328\ttotal: 17.4s\tremaining: 2.79s\n",
      "862:\tlearn: 0.0173014\ttotal: 17.4s\tremaining: 2.77s\n",
      "863:\tlearn: 0.0172795\ttotal: 17.4s\tremaining: 2.75s\n",
      "864:\tlearn: 0.0172471\ttotal: 17.5s\tremaining: 2.72s\n",
      "865:\tlearn: 0.0172470\ttotal: 17.5s\tremaining: 2.7s\n",
      "866:\tlearn: 0.0172470\ttotal: 17.5s\tremaining: 2.68s\n",
      "867:\tlearn: 0.0172130\ttotal: 17.5s\tremaining: 2.66s\n",
      "868:\tlearn: 0.0171522\ttotal: 17.5s\tremaining: 2.64s\n",
      "869:\tlearn: 0.0170990\ttotal: 17.5s\tremaining: 2.62s\n",
      "870:\tlearn: 0.0170593\ttotal: 17.6s\tremaining: 2.6s\n",
      "871:\tlearn: 0.0170456\ttotal: 17.6s\tremaining: 2.58s\n",
      "872:\tlearn: 0.0170455\ttotal: 17.6s\tremaining: 2.56s\n",
      "873:\tlearn: 0.0170454\ttotal: 17.6s\tremaining: 2.54s\n",
      "874:\tlearn: 0.0169907\ttotal: 17.6s\tremaining: 2.52s\n",
      "875:\tlearn: 0.0169907\ttotal: 17.6s\tremaining: 2.5s\n",
      "876:\tlearn: 0.0169851\ttotal: 17.7s\tremaining: 2.48s\n",
      "877:\tlearn: 0.0169612\ttotal: 17.7s\tremaining: 2.46s\n",
      "878:\tlearn: 0.0169373\ttotal: 17.7s\tremaining: 2.44s\n",
      "879:\tlearn: 0.0169371\ttotal: 17.7s\tremaining: 2.41s\n",
      "880:\tlearn: 0.0169018\ttotal: 17.7s\tremaining: 2.39s\n",
      "881:\tlearn: 0.0168858\ttotal: 17.7s\tremaining: 2.37s\n",
      "882:\tlearn: 0.0168736\ttotal: 17.8s\tremaining: 2.35s\n",
      "883:\tlearn: 0.0168539\ttotal: 17.8s\tremaining: 2.33s\n",
      "884:\tlearn: 0.0168539\ttotal: 17.8s\tremaining: 2.31s\n",
      "885:\tlearn: 0.0167825\ttotal: 17.8s\tremaining: 2.29s\n",
      "886:\tlearn: 0.0167306\ttotal: 17.8s\tremaining: 2.27s\n",
      "887:\tlearn: 0.0167056\ttotal: 17.8s\tremaining: 2.25s\n",
      "888:\tlearn: 0.0167056\ttotal: 17.9s\tremaining: 2.23s\n",
      "889:\tlearn: 0.0167054\ttotal: 17.9s\tremaining: 2.21s\n",
      "890:\tlearn: 0.0167052\ttotal: 17.9s\tremaining: 2.19s\n",
      "891:\tlearn: 0.0166657\ttotal: 17.9s\tremaining: 2.17s\n",
      "892:\tlearn: 0.0165943\ttotal: 17.9s\tremaining: 2.15s\n",
      "893:\tlearn: 0.0165942\ttotal: 17.9s\tremaining: 2.13s\n",
      "894:\tlearn: 0.0165888\ttotal: 18s\tremaining: 2.11s\n",
      "895:\tlearn: 0.0165887\ttotal: 18s\tremaining: 2.09s\n",
      "896:\tlearn: 0.0165887\ttotal: 18s\tremaining: 2.06s\n",
      "897:\tlearn: 0.0165868\ttotal: 18s\tremaining: 2.04s\n",
      "898:\tlearn: 0.0165737\ttotal: 18s\tremaining: 2.02s\n",
      "899:\tlearn: 0.0165310\ttotal: 18s\tremaining: 2s\n",
      "900:\tlearn: 0.0165309\ttotal: 18.1s\tremaining: 1.98s\n",
      "901:\tlearn: 0.0164955\ttotal: 18.1s\tremaining: 1.96s\n",
      "902:\tlearn: 0.0164636\ttotal: 18.1s\tremaining: 1.94s\n",
      "903:\tlearn: 0.0164106\ttotal: 18.1s\tremaining: 1.92s\n",
      "904:\tlearn: 0.0163682\ttotal: 18.1s\tremaining: 1.9s\n",
      "905:\tlearn: 0.0163358\ttotal: 18.1s\tremaining: 1.88s\n",
      "906:\tlearn: 0.0162876\ttotal: 18.2s\tremaining: 1.86s\n",
      "907:\tlearn: 0.0162876\ttotal: 18.2s\tremaining: 1.84s\n",
      "908:\tlearn: 0.0162664\ttotal: 18.2s\tremaining: 1.82s\n",
      "909:\tlearn: 0.0162425\ttotal: 18.2s\tremaining: 1.8s\n",
      "910:\tlearn: 0.0161960\ttotal: 18.2s\tremaining: 1.78s\n",
      "911:\tlearn: 0.0161308\ttotal: 18.2s\tremaining: 1.76s\n",
      "912:\tlearn: 0.0161149\ttotal: 18.3s\tremaining: 1.74s\n",
      "913:\tlearn: 0.0161148\ttotal: 18.3s\tremaining: 1.72s\n",
      "914:\tlearn: 0.0160908\ttotal: 18.3s\tremaining: 1.7s\n",
      "915:\tlearn: 0.0160908\ttotal: 18.3s\tremaining: 1.68s\n",
      "916:\tlearn: 0.0160907\ttotal: 18.3s\tremaining: 1.66s\n",
      "917:\tlearn: 0.0160417\ttotal: 18.3s\tremaining: 1.64s\n",
      "918:\tlearn: 0.0159946\ttotal: 18.4s\tremaining: 1.62s\n",
      "919:\tlearn: 0.0159945\ttotal: 18.4s\tremaining: 1.6s\n",
      "920:\tlearn: 0.0159378\ttotal: 18.4s\tremaining: 1.58s\n",
      "921:\tlearn: 0.0158946\ttotal: 18.4s\tremaining: 1.56s\n",
      "922:\tlearn: 0.0158946\ttotal: 18.4s\tremaining: 1.54s\n",
      "923:\tlearn: 0.0158222\ttotal: 18.4s\tremaining: 1.52s\n",
      "924:\tlearn: 0.0157803\ttotal: 18.5s\tremaining: 1.5s\n",
      "925:\tlearn: 0.0157802\ttotal: 18.5s\tremaining: 1.48s\n",
      "926:\tlearn: 0.0157802\ttotal: 18.5s\tremaining: 1.46s\n",
      "927:\tlearn: 0.0157802\ttotal: 18.5s\tremaining: 1.44s\n",
      "928:\tlearn: 0.0157801\ttotal: 18.5s\tremaining: 1.42s\n",
      "929:\tlearn: 0.0157799\ttotal: 18.5s\tremaining: 1.4s\n",
      "930:\tlearn: 0.0157502\ttotal: 18.6s\tremaining: 1.38s\n",
      "931:\tlearn: 0.0157502\ttotal: 18.6s\tremaining: 1.35s\n",
      "932:\tlearn: 0.0157047\ttotal: 18.6s\tremaining: 1.33s\n",
      "933:\tlearn: 0.0156648\ttotal: 18.6s\tremaining: 1.31s\n",
      "934:\tlearn: 0.0156366\ttotal: 18.6s\tremaining: 1.29s\n",
      "935:\tlearn: 0.0156040\ttotal: 18.6s\tremaining: 1.27s\n",
      "936:\tlearn: 0.0155772\ttotal: 18.7s\tremaining: 1.25s\n",
      "937:\tlearn: 0.0155498\ttotal: 18.7s\tremaining: 1.23s\n",
      "938:\tlearn: 0.0155498\ttotal: 18.7s\tremaining: 1.22s\n",
      "939:\tlearn: 0.0155498\ttotal: 18.7s\tremaining: 1.19s\n",
      "940:\tlearn: 0.0155052\ttotal: 18.7s\tremaining: 1.17s\n",
      "941:\tlearn: 0.0154748\ttotal: 18.8s\tremaining: 1.15s\n",
      "942:\tlearn: 0.0154748\ttotal: 18.8s\tremaining: 1.13s\n",
      "943:\tlearn: 0.0154713\ttotal: 18.8s\tremaining: 1.11s\n",
      "944:\tlearn: 0.0154712\ttotal: 18.8s\tremaining: 1.09s\n",
      "945:\tlearn: 0.0154277\ttotal: 18.8s\tremaining: 1.07s\n",
      "946:\tlearn: 0.0153955\ttotal: 18.8s\tremaining: 1.05s\n",
      "947:\tlearn: 0.0153942\ttotal: 18.9s\tremaining: 1.03s\n",
      "948:\tlearn: 0.0153710\ttotal: 18.9s\tremaining: 1.01s\n",
      "949:\tlearn: 0.0153154\ttotal: 18.9s\tremaining: 994ms\n",
      "950:\tlearn: 0.0153151\ttotal: 18.9s\tremaining: 974ms\n",
      "951:\tlearn: 0.0153151\ttotal: 18.9s\tremaining: 954ms\n",
      "952:\tlearn: 0.0153048\ttotal: 18.9s\tremaining: 934ms\n",
      "953:\tlearn: 0.0153047\ttotal: 19s\tremaining: 914ms\n",
      "954:\tlearn: 0.0152595\ttotal: 19s\tremaining: 894ms\n",
      "955:\tlearn: 0.0152593\ttotal: 19s\tremaining: 874ms\n",
      "956:\tlearn: 0.0152073\ttotal: 19s\tremaining: 854ms\n",
      "957:\tlearn: 0.0151863\ttotal: 19s\tremaining: 834ms\n",
      "958:\tlearn: 0.0151674\ttotal: 19s\tremaining: 814ms\n",
      "959:\tlearn: 0.0151443\ttotal: 19.1s\tremaining: 794ms\n",
      "960:\tlearn: 0.0151443\ttotal: 19.1s\tremaining: 774ms\n",
      "961:\tlearn: 0.0151442\ttotal: 19.1s\tremaining: 754ms\n",
      "962:\tlearn: 0.0151442\ttotal: 19.1s\tremaining: 734ms\n",
      "963:\tlearn: 0.0151240\ttotal: 19.1s\tremaining: 714ms\n",
      "964:\tlearn: 0.0150731\ttotal: 19.1s\tremaining: 694ms\n",
      "965:\tlearn: 0.0150473\ttotal: 19.2s\tremaining: 674ms\n",
      "966:\tlearn: 0.0150133\ttotal: 19.2s\tremaining: 654ms\n",
      "967:\tlearn: 0.0150133\ttotal: 19.2s\tremaining: 634ms\n",
      "968:\tlearn: 0.0149652\ttotal: 19.2s\tremaining: 614ms\n",
      "969:\tlearn: 0.0149488\ttotal: 19.2s\tremaining: 595ms\n",
      "970:\tlearn: 0.0149486\ttotal: 19.2s\tremaining: 575ms\n",
      "971:\tlearn: 0.0149485\ttotal: 19.3s\tremaining: 555ms\n",
      "972:\tlearn: 0.0149486\ttotal: 19.3s\tremaining: 535ms\n",
      "973:\tlearn: 0.0149486\ttotal: 19.3s\tremaining: 515ms\n",
      "974:\tlearn: 0.0149485\ttotal: 19.3s\tremaining: 495ms\n",
      "975:\tlearn: 0.0149207\ttotal: 19.3s\tremaining: 475ms\n",
      "976:\tlearn: 0.0148999\ttotal: 19.3s\tremaining: 456ms\n",
      "977:\tlearn: 0.0148951\ttotal: 19.4s\tremaining: 436ms\n",
      "978:\tlearn: 0.0148951\ttotal: 19.4s\tremaining: 416ms\n",
      "979:\tlearn: 0.0148440\ttotal: 19.4s\tremaining: 396ms\n",
      "980:\tlearn: 0.0148439\ttotal: 19.4s\tremaining: 376ms\n",
      "981:\tlearn: 0.0148371\ttotal: 19.4s\tremaining: 356ms\n",
      "982:\tlearn: 0.0148326\ttotal: 19.4s\tremaining: 336ms\n",
      "983:\tlearn: 0.0148319\ttotal: 19.5s\tremaining: 317ms\n",
      "984:\tlearn: 0.0148317\ttotal: 19.5s\tremaining: 297ms\n"
     ]
    },
    {
     "name": "stdout",
     "output_type": "stream",
     "text": [
      "985:\tlearn: 0.0147894\ttotal: 19.5s\tremaining: 277ms\n",
      "986:\tlearn: 0.0147894\ttotal: 19.5s\tremaining: 257ms\n",
      "987:\tlearn: 0.0147736\ttotal: 19.5s\tremaining: 237ms\n",
      "988:\tlearn: 0.0147446\ttotal: 19.6s\tremaining: 218ms\n",
      "989:\tlearn: 0.0147445\ttotal: 19.6s\tremaining: 198ms\n",
      "990:\tlearn: 0.0147438\ttotal: 19.6s\tremaining: 178ms\n",
      "991:\tlearn: 0.0147190\ttotal: 19.6s\tremaining: 158ms\n",
      "992:\tlearn: 0.0147190\ttotal: 19.6s\tremaining: 138ms\n",
      "993:\tlearn: 0.0147031\ttotal: 19.7s\tremaining: 119ms\n",
      "994:\tlearn: 0.0146678\ttotal: 19.7s\tremaining: 98.9ms\n",
      "995:\tlearn: 0.0145993\ttotal: 19.7s\tremaining: 79.2ms\n",
      "996:\tlearn: 0.0145992\ttotal: 19.7s\tremaining: 59.4ms\n",
      "997:\tlearn: 0.0145666\ttotal: 19.8s\tremaining: 39.6ms\n",
      "998:\tlearn: 0.0145405\ttotal: 19.8s\tremaining: 19.8ms\n",
      "999:\tlearn: 0.0145117\ttotal: 19.8s\tremaining: 0us\n",
      "F1 score: 0.4675324675324675\n"
     ]
    }
   ],
   "source": [
    "cat_model=CatBoostClassifier(learning_rate=0.15, n_estimators=1000,\n",
    "                                                 subsample=0.085,\n",
    "                                                 max_depth=5,\n",
    "                                                 scale_pos_weight=2.5)\n",
    "\n",
    "#Training Catboost Model on train set\n",
    "cat_model.fit(X_train,y_train)\n",
    "\n",
    "#Predictiing on Test Set\n",
    "cat_model_prediction = cat_model.predict(X_test)\n",
    "print('F1 score:', f1_score(y_test, cat_model_prediction))\n"
   ]
  },
  {
   "cell_type": "code",
   "execution_count": 342,
   "metadata": {},
   "outputs": [],
   "source": [
    "prediction_6 = cat_model.predict(test)"
   ]
  },
  {
   "cell_type": "code",
   "execution_count": 343,
   "metadata": {},
   "outputs": [],
   "source": [
    "submission.Response = prediction_6"
   ]
  },
  {
   "cell_type": "code",
   "execution_count": 344,
   "metadata": {},
   "outputs": [],
   "source": [
    "submission.to_csv(\"My prediction15.csv\", index=False)"
   ]
  },
  {
   "cell_type": "code",
   "execution_count": 201,
   "metadata": {},
   "outputs": [],
   "source": [
    "%%capture\n",
    "!pip install LightGBM"
   ]
  },
  {
   "cell_type": "markdown",
   "metadata": {},
   "source": [
    "### LightGBM"
   ]
  },
  {
   "cell_type": "code",
   "execution_count": 99,
   "metadata": {},
   "outputs": [],
   "source": [
    "from lightgbm import LGBMClassifier"
   ]
  },
  {
   "cell_type": "code",
   "execution_count": 100,
   "metadata": {},
   "outputs": [],
   "source": [
    "lg_model = LGBMClassifier(subsample_freq = 2,\n",
    "                                             objective =\"binary\",\n",
    "                                             importance_type = \"gain\",\n",
    "                                             verbosity = -1,\n",
    "                                             max_bin = 60,\n",
    "                                             num_leaves = 400,\n",
    "                                             boosting_type = 'dart',\n",
    "                                             learning_rate=0.15,\n",
    "                                             n_estimators=1000,\n",
    "                                             max_depth=5,\n",
    "                                             scale_pos_weight=2.5)"
   ]
  },
  {
   "cell_type": "code",
   "execution_count": 101,
   "metadata": {},
   "outputs": [
    {
     "data": {
      "text/plain": [
       "LGBMClassifier(boosting_type='dart', importance_type='gain', learning_rate=0.15,\n",
       "               max_bin=60, max_depth=5, n_estimators=1000, num_leaves=400,\n",
       "               objective='binary', scale_pos_weight=2.5, subsample_freq=2,\n",
       "               verbosity=-1)"
      ]
     },
     "execution_count": 101,
     "metadata": {},
     "output_type": "execute_result"
    }
   ],
   "source": [
    "lg_model.fit(X_train,y_train)"
   ]
  },
  {
   "cell_type": "code",
   "execution_count": 104,
   "metadata": {},
   "outputs": [],
   "source": [
    "lg_model_prediction = lg_model.predict(X_test)"
   ]
  },
  {
   "cell_type": "code",
   "execution_count": 105,
   "metadata": {},
   "outputs": [
    {
     "name": "stdout",
     "output_type": "stream",
     "text": [
      "F1 score: 0.4931506849315069\n"
     ]
    }
   ],
   "source": [
    "print('F1 score:', f1_score(y_test, lg_model_prediction))"
   ]
  },
  {
   "cell_type": "code",
   "execution_count": 106,
   "metadata": {},
   "outputs": [],
   "source": [
    "prediction_7 = lg_model.predict(test)"
   ]
  },
  {
   "cell_type": "code",
   "execution_count": 107,
   "metadata": {},
   "outputs": [],
   "source": [
    "submission.Response = prediction_7"
   ]
  },
  {
   "cell_type": "code",
   "execution_count": 108,
   "metadata": {},
   "outputs": [],
   "source": [
    "submission.to_csv(\"Prediction19.csv\", index=False)"
   ]
  },
  {
   "cell_type": "code",
   "execution_count": null,
   "metadata": {},
   "outputs": [],
   "source": []
  }
 ],
 "metadata": {
  "kernelspec": {
   "display_name": "Python 3",
   "language": "python",
   "name": "python3"
  },
  "language_info": {
   "codemirror_mode": {
    "name": "ipython",
    "version": 3
   },
   "file_extension": ".py",
   "mimetype": "text/x-python",
   "name": "python",
   "nbconvert_exporter": "python",
   "pygments_lexer": "ipython3",
   "version": "3.8.5"
  }
 },
 "nbformat": 4,
 "nbformat_minor": 4
}
