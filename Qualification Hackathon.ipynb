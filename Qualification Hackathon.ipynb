{
 "cells": [
  {
   "cell_type": "markdown",
   "metadata": {},
   "source": [
    "## First we start by importing the required libraries\n"
   ]
  },
  {
   "cell_type": "code",
   "execution_count": 1,
   "metadata": {},
   "outputs": [],
   "source": [
    "import numpy as np\n",
    "import pandas as pd\n",
    "import matplotlib.pyplot as plt\n",
    "%matplotlib inline\n",
    "import seaborn as sns\n",
    "from datetime import datetime\n",
    "import warnings\n",
    "warnings.filterwarnings('ignore')"
   ]
  },
  {
   "cell_type": "markdown",
   "metadata": {},
   "source": [
    "### Next we load our datasets"
   ]
  },
  {
   "cell_type": "code",
   "execution_count": 2,
   "metadata": {},
   "outputs": [],
   "source": [
    "train = pd.read_csv(\"/Users/USER/Documents/DataScienceNigeria/Data Science Hackathon Qualification/train.csv\")\n",
    "test = pd.read_csv(\"/Users/USER/Documents/DataScienceNigeria/Data Science Hackathon Qualification/test.csv\")\n",
    "# sample_submission = pd.read_csv(\"/Users/USER/Documents/DataScienceNigeria/Data Science Hackathon Qualification/SampleSubmission.csv\")"
   ]
  },
  {
   "cell_type": "markdown",
   "metadata": {},
   "source": [
    "Let us now see the shape of our datasets\n"
   ]
  },
  {
   "cell_type": "code",
   "execution_count": 3,
   "metadata": {},
   "outputs": [
    {
     "name": "stdout",
     "output_type": "stream",
     "text": [
      "The shape of our train data is : (1568, 27)\n",
      "The shape of our test data is:  (672, 26)\n"
     ]
    }
   ],
   "source": [
    "print(\"The shape of our train data is :\", train.shape)\n",
    "print(\"The shape of our test data is: \", test.shape)\n",
    "# print(\"The shape of our sample submision data is: \", sample_submission.shape)"
   ]
  },
  {
   "cell_type": "markdown",
   "metadata": {},
   "source": [
    "WE can see that our train data contains 27 columns and 1568 rows\n",
    "\n",
    "Let us now inspect the columns of our datasets\n"
   ]
  },
  {
   "cell_type": "code",
   "execution_count": 4,
   "metadata": {},
   "outputs": [
    {
     "data": {
      "text/html": [
       "<div>\n",
       "<style scoped>\n",
       "    .dataframe tbody tr th:only-of-type {\n",
       "        vertical-align: middle;\n",
       "    }\n",
       "\n",
       "    .dataframe tbody tr th {\n",
       "        vertical-align: top;\n",
       "    }\n",
       "\n",
       "    .dataframe thead th {\n",
       "        text-align: right;\n",
       "    }\n",
       "</style>\n",
       "<table border=\"1\" class=\"dataframe\">\n",
       "  <thead>\n",
       "    <tr style=\"text-align: right;\">\n",
       "      <th></th>\n",
       "      <th>ID</th>\n",
       "      <th>Year_of_Birth</th>\n",
       "      <th>Education_Level</th>\n",
       "      <th>Marital_Status</th>\n",
       "      <th>Disposable_Income</th>\n",
       "      <th>No_of_Kids_in_home</th>\n",
       "      <th>No_of_Teen_in_home</th>\n",
       "      <th>Date_Customer</th>\n",
       "      <th>Recency</th>\n",
       "      <th>Discounted_Purchases</th>\n",
       "      <th>...</th>\n",
       "      <th>Amount_on_SweetProducts</th>\n",
       "      <th>Amount_on_GoldProds</th>\n",
       "      <th>WebVisitsMonth</th>\n",
       "      <th>Cmp3Accepted</th>\n",
       "      <th>Cmp4Accepted</th>\n",
       "      <th>Cmp5Accepted</th>\n",
       "      <th>Cmp1Accepted</th>\n",
       "      <th>Cmp2Accepted</th>\n",
       "      <th>Any_Complain</th>\n",
       "      <th>Response</th>\n",
       "    </tr>\n",
       "  </thead>\n",
       "  <tbody>\n",
       "    <tr>\n",
       "      <th>0</th>\n",
       "      <td>ID_4A9AR6FQ</td>\n",
       "      <td>1955</td>\n",
       "      <td>Graduation</td>\n",
       "      <td>Divorced</td>\n",
       "      <td>77504.4</td>\n",
       "      <td>1</td>\n",
       "      <td>1</td>\n",
       "      <td>22-06-2014</td>\n",
       "      <td>56</td>\n",
       "      <td>2</td>\n",
       "      <td>...</td>\n",
       "      <td>6</td>\n",
       "      <td>20</td>\n",
       "      <td>3</td>\n",
       "      <td>0</td>\n",
       "      <td>0</td>\n",
       "      <td>0</td>\n",
       "      <td>0</td>\n",
       "      <td>0</td>\n",
       "      <td>0</td>\n",
       "      <td>0</td>\n",
       "    </tr>\n",
       "    <tr>\n",
       "      <th>1</th>\n",
       "      <td>ID_X28T3VEK</td>\n",
       "      <td>1958</td>\n",
       "      <td>Graduation</td>\n",
       "      <td>Together</td>\n",
       "      <td>56784.0</td>\n",
       "      <td>0</td>\n",
       "      <td>1</td>\n",
       "      <td>01-08-2013</td>\n",
       "      <td>17</td>\n",
       "      <td>6</td>\n",
       "      <td>...</td>\n",
       "      <td>15</td>\n",
       "      <td>19</td>\n",
       "      <td>6</td>\n",
       "      <td>0</td>\n",
       "      <td>0</td>\n",
       "      <td>0</td>\n",
       "      <td>0</td>\n",
       "      <td>0</td>\n",
       "      <td>0</td>\n",
       "      <td>0</td>\n",
       "    </tr>\n",
       "    <tr>\n",
       "      <th>2</th>\n",
       "      <td>ID_AWXARH57</td>\n",
       "      <td>1962</td>\n",
       "      <td>Graduation</td>\n",
       "      <td>Single</td>\n",
       "      <td>103714.8</td>\n",
       "      <td>0</td>\n",
       "      <td>0</td>\n",
       "      <td>21-11-2013</td>\n",
       "      <td>17</td>\n",
       "      <td>0</td>\n",
       "      <td>...</td>\n",
       "      <td>18</td>\n",
       "      <td>37</td>\n",
       "      <td>2</td>\n",
       "      <td>0</td>\n",
       "      <td>0</td>\n",
       "      <td>0</td>\n",
       "      <td>1</td>\n",
       "      <td>0</td>\n",
       "      <td>0</td>\n",
       "      <td>1</td>\n",
       "    </tr>\n",
       "    <tr>\n",
       "      <th>3</th>\n",
       "      <td>ID_FQVZHE81</td>\n",
       "      <td>1979</td>\n",
       "      <td>2n Cycle</td>\n",
       "      <td>Single</td>\n",
       "      <td>46311.6</td>\n",
       "      <td>1</td>\n",
       "      <td>0</td>\n",
       "      <td>13-09-2013</td>\n",
       "      <td>49</td>\n",
       "      <td>3</td>\n",
       "      <td>...</td>\n",
       "      <td>24</td>\n",
       "      <td>24</td>\n",
       "      <td>8</td>\n",
       "      <td>0</td>\n",
       "      <td>0</td>\n",
       "      <td>0</td>\n",
       "      <td>0</td>\n",
       "      <td>0</td>\n",
       "      <td>0</td>\n",
       "      <td>0</td>\n",
       "    </tr>\n",
       "    <tr>\n",
       "      <th>4</th>\n",
       "      <td>ID_QVLWGPRN</td>\n",
       "      <td>1959</td>\n",
       "      <td>Graduation</td>\n",
       "      <td>Married</td>\n",
       "      <td>87486.0</td>\n",
       "      <td>0</td>\n",
       "      <td>0</td>\n",
       "      <td>21-01-2014</td>\n",
       "      <td>59</td>\n",
       "      <td>1</td>\n",
       "      <td>...</td>\n",
       "      <td>165</td>\n",
       "      <td>203</td>\n",
       "      <td>1</td>\n",
       "      <td>0</td>\n",
       "      <td>0</td>\n",
       "      <td>0</td>\n",
       "      <td>1</td>\n",
       "      <td>0</td>\n",
       "      <td>0</td>\n",
       "      <td>0</td>\n",
       "    </tr>\n",
       "  </tbody>\n",
       "</table>\n",
       "<p>5 rows × 27 columns</p>\n",
       "</div>"
      ],
      "text/plain": [
       "            ID  Year_of_Birth Education_Level Marital_Status  \\\n",
       "0  ID_4A9AR6FQ           1955      Graduation       Divorced   \n",
       "1  ID_X28T3VEK           1958      Graduation       Together   \n",
       "2  ID_AWXARH57           1962      Graduation         Single   \n",
       "3  ID_FQVZHE81           1979        2n Cycle         Single   \n",
       "4  ID_QVLWGPRN           1959      Graduation        Married   \n",
       "\n",
       "   Disposable_Income  No_of_Kids_in_home  No_of_Teen_in_home Date_Customer  \\\n",
       "0            77504.4                   1                   1    22-06-2014   \n",
       "1            56784.0                   0                   1    01-08-2013   \n",
       "2           103714.8                   0                   0    21-11-2013   \n",
       "3            46311.6                   1                   0    13-09-2013   \n",
       "4            87486.0                   0                   0    21-01-2014   \n",
       "\n",
       "   Recency  Discounted_Purchases  ...  Amount_on_SweetProducts  \\\n",
       "0       56                     2  ...                        6   \n",
       "1       17                     6  ...                       15   \n",
       "2       17                     0  ...                       18   \n",
       "3       49                     3  ...                       24   \n",
       "4       59                     1  ...                      165   \n",
       "\n",
       "   Amount_on_GoldProds  WebVisitsMonth  Cmp3Accepted  Cmp4Accepted  \\\n",
       "0                   20               3             0             0   \n",
       "1                   19               6             0             0   \n",
       "2                   37               2             0             0   \n",
       "3                   24               8             0             0   \n",
       "4                  203               1             0             0   \n",
       "\n",
       "   Cmp5Accepted  Cmp1Accepted  Cmp2Accepted  Any_Complain  Response  \n",
       "0             0             0             0             0         0  \n",
       "1             0             0             0             0         0  \n",
       "2             0             1             0             0         1  \n",
       "3             0             0             0             0         0  \n",
       "4             0             1             0             0         0  \n",
       "\n",
       "[5 rows x 27 columns]"
      ]
     },
     "execution_count": 4,
     "metadata": {},
     "output_type": "execute_result"
    }
   ],
   "source": [
    "train.head()"
   ]
  },
  {
   "cell_type": "code",
   "execution_count": 5,
   "metadata": {},
   "outputs": [
    {
     "data": {
      "text/html": [
       "<div>\n",
       "<style scoped>\n",
       "    .dataframe tbody tr th:only-of-type {\n",
       "        vertical-align: middle;\n",
       "    }\n",
       "\n",
       "    .dataframe tbody tr th {\n",
       "        vertical-align: top;\n",
       "    }\n",
       "\n",
       "    .dataframe thead th {\n",
       "        text-align: right;\n",
       "    }\n",
       "</style>\n",
       "<table border=\"1\" class=\"dataframe\">\n",
       "  <thead>\n",
       "    <tr style=\"text-align: right;\">\n",
       "      <th></th>\n",
       "      <th>ID</th>\n",
       "      <th>Year_of_Birth</th>\n",
       "      <th>Education_Level</th>\n",
       "      <th>Marital_Status</th>\n",
       "      <th>Disposable_Income</th>\n",
       "      <th>No_of_Kids_in_home</th>\n",
       "      <th>No_of_Teen_in_home</th>\n",
       "      <th>Date_Customer</th>\n",
       "      <th>Recency</th>\n",
       "      <th>Discounted_Purchases</th>\n",
       "      <th>...</th>\n",
       "      <th>Amount_on_FishProducts</th>\n",
       "      <th>Amount_on_SweetProducts</th>\n",
       "      <th>Amount_on_GoldProds</th>\n",
       "      <th>WebVisitsMonth</th>\n",
       "      <th>Cmp3Accepted</th>\n",
       "      <th>Cmp4Accepted</th>\n",
       "      <th>Cmp5Accepted</th>\n",
       "      <th>Cmp1Accepted</th>\n",
       "      <th>Cmp2Accepted</th>\n",
       "      <th>Any_Complain</th>\n",
       "    </tr>\n",
       "  </thead>\n",
       "  <tbody>\n",
       "    <tr>\n",
       "      <th>0</th>\n",
       "      <td>ID_ZPMABNVX</td>\n",
       "      <td>1954</td>\n",
       "      <td>Graduation</td>\n",
       "      <td>Single</td>\n",
       "      <td>48556.8</td>\n",
       "      <td>0</td>\n",
       "      <td>1</td>\n",
       "      <td>11-01-2013</td>\n",
       "      <td>85</td>\n",
       "      <td>6</td>\n",
       "      <td>...</td>\n",
       "      <td>7</td>\n",
       "      <td>23</td>\n",
       "      <td>41</td>\n",
       "      <td>8</td>\n",
       "      <td>0</td>\n",
       "      <td>0</td>\n",
       "      <td>0</td>\n",
       "      <td>0</td>\n",
       "      <td>0</td>\n",
       "      <td>0</td>\n",
       "    </tr>\n",
       "    <tr>\n",
       "      <th>1</th>\n",
       "      <td>ID_WFE91NAA</td>\n",
       "      <td>1961</td>\n",
       "      <td>Graduation</td>\n",
       "      <td>Widow</td>\n",
       "      <td>57499.2</td>\n",
       "      <td>0</td>\n",
       "      <td>1</td>\n",
       "      <td>22-11-2012</td>\n",
       "      <td>79</td>\n",
       "      <td>5</td>\n",
       "      <td>...</td>\n",
       "      <td>0</td>\n",
       "      <td>0</td>\n",
       "      <td>75</td>\n",
       "      <td>6</td>\n",
       "      <td>0</td>\n",
       "      <td>1</td>\n",
       "      <td>0</td>\n",
       "      <td>0</td>\n",
       "      <td>0</td>\n",
       "      <td>0</td>\n",
       "    </tr>\n",
       "    <tr>\n",
       "      <th>2</th>\n",
       "      <td>ID_JV11RBRK</td>\n",
       "      <td>1973</td>\n",
       "      <td>Basic</td>\n",
       "      <td>Married</td>\n",
       "      <td>17025.6</td>\n",
       "      <td>0</td>\n",
       "      <td>0</td>\n",
       "      <td>28-02-2013</td>\n",
       "      <td>47</td>\n",
       "      <td>1</td>\n",
       "      <td>...</td>\n",
       "      <td>16</td>\n",
       "      <td>12</td>\n",
       "      <td>27</td>\n",
       "      <td>6</td>\n",
       "      <td>0</td>\n",
       "      <td>0</td>\n",
       "      <td>0</td>\n",
       "      <td>0</td>\n",
       "      <td>0</td>\n",
       "      <td>0</td>\n",
       "    </tr>\n",
       "    <tr>\n",
       "      <th>3</th>\n",
       "      <td>ID_6B7SVKY9</td>\n",
       "      <td>1970</td>\n",
       "      <td>Graduation</td>\n",
       "      <td>Together</td>\n",
       "      <td>91983.6</td>\n",
       "      <td>0</td>\n",
       "      <td>0</td>\n",
       "      <td>16-08-2013</td>\n",
       "      <td>98</td>\n",
       "      <td>1</td>\n",
       "      <td>...</td>\n",
       "      <td>219</td>\n",
       "      <td>189</td>\n",
       "      <td>126</td>\n",
       "      <td>2</td>\n",
       "      <td>0</td>\n",
       "      <td>0</td>\n",
       "      <td>1</td>\n",
       "      <td>1</td>\n",
       "      <td>0</td>\n",
       "      <td>0</td>\n",
       "    </tr>\n",
       "    <tr>\n",
       "      <th>4</th>\n",
       "      <td>ID_GOVUZ545</td>\n",
       "      <td>1959</td>\n",
       "      <td>Graduation</td>\n",
       "      <td>Together</td>\n",
       "      <td>78235.2</td>\n",
       "      <td>0</td>\n",
       "      <td>2</td>\n",
       "      <td>25-07-2013</td>\n",
       "      <td>41</td>\n",
       "      <td>2</td>\n",
       "      <td>...</td>\n",
       "      <td>12</td>\n",
       "      <td>0</td>\n",
       "      <td>200</td>\n",
       "      <td>5</td>\n",
       "      <td>1</td>\n",
       "      <td>0</td>\n",
       "      <td>0</td>\n",
       "      <td>0</td>\n",
       "      <td>0</td>\n",
       "      <td>0</td>\n",
       "    </tr>\n",
       "  </tbody>\n",
       "</table>\n",
       "<p>5 rows × 26 columns</p>\n",
       "</div>"
      ],
      "text/plain": [
       "            ID  Year_of_Birth Education_Level Marital_Status  \\\n",
       "0  ID_ZPMABNVX           1954      Graduation         Single   \n",
       "1  ID_WFE91NAA           1961      Graduation          Widow   \n",
       "2  ID_JV11RBRK           1973           Basic        Married   \n",
       "3  ID_6B7SVKY9           1970      Graduation       Together   \n",
       "4  ID_GOVUZ545           1959      Graduation       Together   \n",
       "\n",
       "   Disposable_Income  No_of_Kids_in_home  No_of_Teen_in_home Date_Customer  \\\n",
       "0            48556.8                   0                   1    11-01-2013   \n",
       "1            57499.2                   0                   1    22-11-2012   \n",
       "2            17025.6                   0                   0    28-02-2013   \n",
       "3            91983.6                   0                   0    16-08-2013   \n",
       "4            78235.2                   0                   2    25-07-2013   \n",
       "\n",
       "   Recency  Discounted_Purchases  ...  Amount_on_FishProducts  \\\n",
       "0       85                     6  ...                       7   \n",
       "1       79                     5  ...                       0   \n",
       "2       47                     1  ...                      16   \n",
       "3       98                     1  ...                     219   \n",
       "4       41                     2  ...                      12   \n",
       "\n",
       "   Amount_on_SweetProducts  Amount_on_GoldProds  WebVisitsMonth  Cmp3Accepted  \\\n",
       "0                       23                   41               8             0   \n",
       "1                        0                   75               6             0   \n",
       "2                       12                   27               6             0   \n",
       "3                      189                  126               2             0   \n",
       "4                        0                  200               5             1   \n",
       "\n",
       "   Cmp4Accepted  Cmp5Accepted  Cmp1Accepted  Cmp2Accepted  Any_Complain  \n",
       "0             0             0             0             0             0  \n",
       "1             1             0             0             0             0  \n",
       "2             0             0             0             0             0  \n",
       "3             0             1             1             0             0  \n",
       "4             0             0             0             0             0  \n",
       "\n",
       "[5 rows x 26 columns]"
      ]
     },
     "execution_count": 5,
     "metadata": {},
     "output_type": "execute_result"
    }
   ],
   "source": [
    "test.head()"
   ]
  },
  {
   "cell_type": "code",
   "execution_count": 6,
   "metadata": {},
   "outputs": [
    {
     "data": {
      "text/html": [
       "<div>\n",
       "<style scoped>\n",
       "    .dataframe tbody tr th:only-of-type {\n",
       "        vertical-align: middle;\n",
       "    }\n",
       "\n",
       "    .dataframe tbody tr th {\n",
       "        vertical-align: top;\n",
       "    }\n",
       "\n",
       "    .dataframe thead th {\n",
       "        text-align: right;\n",
       "    }\n",
       "</style>\n",
       "<table border=\"1\" class=\"dataframe\">\n",
       "  <thead>\n",
       "    <tr style=\"text-align: right;\">\n",
       "      <th></th>\n",
       "      <th>ID</th>\n",
       "      <th>Response</th>\n",
       "    </tr>\n",
       "  </thead>\n",
       "  <tbody>\n",
       "  </tbody>\n",
       "</table>\n",
       "</div>"
      ],
      "text/plain": [
       "Empty DataFrame\n",
       "Columns: [ID, Response]\n",
       "Index: []"
      ]
     },
     "execution_count": 6,
     "metadata": {},
     "output_type": "execute_result"
    }
   ],
   "source": [
    "#Create submission file using an empty/dummy dataframe\n",
    "submission = pd.DataFrame(columns=['ID', 'Response'])\n",
    "submission.head() "
   ]
  },
  {
   "cell_type": "code",
   "execution_count": 7,
   "metadata": {},
   "outputs": [
    {
     "data": {
      "text/html": [
       "<div>\n",
       "<style scoped>\n",
       "    .dataframe tbody tr th:only-of-type {\n",
       "        vertical-align: middle;\n",
       "    }\n",
       "\n",
       "    .dataframe tbody tr th {\n",
       "        vertical-align: top;\n",
       "    }\n",
       "\n",
       "    .dataframe thead th {\n",
       "        text-align: right;\n",
       "    }\n",
       "</style>\n",
       "<table border=\"1\" class=\"dataframe\">\n",
       "  <thead>\n",
       "    <tr style=\"text-align: right;\">\n",
       "      <th></th>\n",
       "      <th>ID</th>\n",
       "      <th>Response</th>\n",
       "    </tr>\n",
       "  </thead>\n",
       "  <tbody>\n",
       "    <tr>\n",
       "      <th>0</th>\n",
       "      <td>ID_ZPMABNVX</td>\n",
       "      <td>NaN</td>\n",
       "    </tr>\n",
       "    <tr>\n",
       "      <th>1</th>\n",
       "      <td>ID_WFE91NAA</td>\n",
       "      <td>NaN</td>\n",
       "    </tr>\n",
       "    <tr>\n",
       "      <th>2</th>\n",
       "      <td>ID_JV11RBRK</td>\n",
       "      <td>NaN</td>\n",
       "    </tr>\n",
       "    <tr>\n",
       "      <th>3</th>\n",
       "      <td>ID_6B7SVKY9</td>\n",
       "      <td>NaN</td>\n",
       "    </tr>\n",
       "    <tr>\n",
       "      <th>4</th>\n",
       "      <td>ID_GOVUZ545</td>\n",
       "      <td>NaN</td>\n",
       "    </tr>\n",
       "  </tbody>\n",
       "</table>\n",
       "</div>"
      ],
      "text/plain": [
       "            ID Response\n",
       "0  ID_ZPMABNVX      NaN\n",
       "1  ID_WFE91NAA      NaN\n",
       "2  ID_JV11RBRK      NaN\n",
       "3  ID_6B7SVKY9      NaN\n",
       "4  ID_GOVUZ545      NaN"
      ]
     },
     "execution_count": 7,
     "metadata": {},
     "output_type": "execute_result"
    }
   ],
   "source": [
    "#Save test ID in a copy for creating submission file later\n",
    "submission.ID = test.ID\n",
    "submission.head()"
   ]
  },
  {
   "cell_type": "code",
   "execution_count": 8,
   "metadata": {},
   "outputs": [
    {
     "data": {
      "text/plain": [
       "(672, 2)"
      ]
     },
     "execution_count": 8,
     "metadata": {},
     "output_type": "execute_result"
    }
   ],
   "source": [
    "submission.shape"
   ]
  },
  {
   "cell_type": "markdown",
   "metadata": {},
   "source": [
    "We want to now get some information about the features using the pandas **info()** method"
   ]
  },
  {
   "cell_type": "markdown",
   "metadata": {},
   "source": [
    "## Exploratory data Analysis"
   ]
  },
  {
   "cell_type": "code",
   "execution_count": 9,
   "metadata": {},
   "outputs": [
    {
     "name": "stdout",
     "output_type": "stream",
     "text": [
      "<class 'pandas.core.frame.DataFrame'>\n",
      "RangeIndex: 1568 entries, 0 to 1567\n",
      "Data columns (total 27 columns):\n",
      " #   Column                   Non-Null Count  Dtype  \n",
      "---  ------                   --------------  -----  \n",
      " 0   ID                       1568 non-null   object \n",
      " 1   Year_of_Birth            1568 non-null   int64  \n",
      " 2   Education_Level          1568 non-null   object \n",
      " 3   Marital_Status           1568 non-null   object \n",
      " 4   Disposable_Income        1552 non-null   float64\n",
      " 5   No_of_Kids_in_home       1568 non-null   int64  \n",
      " 6   No_of_Teen_in_home       1568 non-null   int64  \n",
      " 7   Date_Customer            1568 non-null   object \n",
      " 8   Recency                  1568 non-null   int64  \n",
      " 9   Discounted_Purchases     1568 non-null   int64  \n",
      " 10  WebPurchases             1568 non-null   int64  \n",
      " 11  CatalogPurchases         1568 non-null   int64  \n",
      " 12  StorePurchases           1568 non-null   int64  \n",
      " 13  Amount_on_Wines          1568 non-null   int64  \n",
      " 14  Amount_on_Fruits         1568 non-null   int64  \n",
      " 15  Amount_on_MeatProducts   1568 non-null   int64  \n",
      " 16  Amount_on_FishProducts   1568 non-null   int64  \n",
      " 17  Amount_on_SweetProducts  1568 non-null   int64  \n",
      " 18  Amount_on_GoldProds      1568 non-null   int64  \n",
      " 19  WebVisitsMonth           1568 non-null   int64  \n",
      " 20  Cmp3Accepted             1568 non-null   int64  \n",
      " 21  Cmp4Accepted             1568 non-null   int64  \n",
      " 22  Cmp5Accepted             1568 non-null   int64  \n",
      " 23  Cmp1Accepted             1568 non-null   int64  \n",
      " 24  Cmp2Accepted             1568 non-null   int64  \n",
      " 25  Any_Complain             1568 non-null   int64  \n",
      " 26  Response                 1568 non-null   int64  \n",
      "dtypes: float64(1), int64(22), object(4)\n",
      "memory usage: 330.9+ KB\n"
     ]
    }
   ],
   "source": [
    "train.info()"
   ]
  },
  {
   "cell_type": "code",
   "execution_count": 10,
   "metadata": {},
   "outputs": [
    {
     "name": "stdout",
     "output_type": "stream",
     "text": [
      "<class 'pandas.core.frame.DataFrame'>\n",
      "RangeIndex: 672 entries, 0 to 671\n",
      "Data columns (total 26 columns):\n",
      " #   Column                   Non-Null Count  Dtype  \n",
      "---  ------                   --------------  -----  \n",
      " 0   ID                       672 non-null    object \n",
      " 1   Year_of_Birth            672 non-null    int64  \n",
      " 2   Education_Level          672 non-null    object \n",
      " 3   Marital_Status           672 non-null    object \n",
      " 4   Disposable_Income        664 non-null    float64\n",
      " 5   No_of_Kids_in_home       672 non-null    int64  \n",
      " 6   No_of_Teen_in_home       672 non-null    int64  \n",
      " 7   Date_Customer            672 non-null    object \n",
      " 8   Recency                  672 non-null    int64  \n",
      " 9   Discounted_Purchases     672 non-null    int64  \n",
      " 10  WebPurchases             672 non-null    int64  \n",
      " 11  CatalogPurchases         672 non-null    int64  \n",
      " 12  StorePurchases           672 non-null    int64  \n",
      " 13  Amount_on_Wines          672 non-null    int64  \n",
      " 14  Amount_on_Fruits         672 non-null    int64  \n",
      " 15  Amount_on_MeatProducts   672 non-null    int64  \n",
      " 16  Amount_on_FishProducts   672 non-null    int64  \n",
      " 17  Amount_on_SweetProducts  672 non-null    int64  \n",
      " 18  Amount_on_GoldProds      672 non-null    int64  \n",
      " 19  WebVisitsMonth           672 non-null    int64  \n",
      " 20  Cmp3Accepted             672 non-null    int64  \n",
      " 21  Cmp4Accepted             672 non-null    int64  \n",
      " 22  Cmp5Accepted             672 non-null    int64  \n",
      " 23  Cmp1Accepted             672 non-null    int64  \n",
      " 24  Cmp2Accepted             672 non-null    int64  \n",
      " 25  Any_Complain             672 non-null    int64  \n",
      "dtypes: float64(1), int64(21), object(4)\n",
      "memory usage: 136.6+ KB\n"
     ]
    }
   ],
   "source": [
    "test.info()"
   ]
  },
  {
   "cell_type": "code",
   "execution_count": 11,
   "metadata": {},
   "outputs": [
    {
     "data": {
      "text/plain": [
       "ID                          0\n",
       "Year_of_Birth               0\n",
       "Education_Level             0\n",
       "Marital_Status              0\n",
       "Disposable_Income          16\n",
       "No_of_Kids_in_home          0\n",
       "No_of_Teen_in_home          0\n",
       "Date_Customer               0\n",
       "Recency                     0\n",
       "Discounted_Purchases        0\n",
       "WebPurchases                0\n",
       "CatalogPurchases            0\n",
       "StorePurchases              0\n",
       "Amount_on_Wines             0\n",
       "Amount_on_Fruits            0\n",
       "Amount_on_MeatProducts      0\n",
       "Amount_on_FishProducts      0\n",
       "Amount_on_SweetProducts     0\n",
       "Amount_on_GoldProds         0\n",
       "WebVisitsMonth              0\n",
       "Cmp3Accepted                0\n",
       "Cmp4Accepted                0\n",
       "Cmp5Accepted                0\n",
       "Cmp1Accepted                0\n",
       "Cmp2Accepted                0\n",
       "Any_Complain                0\n",
       "Response                    0\n",
       "dtype: int64"
      ]
     },
     "execution_count": 11,
     "metadata": {},
     "output_type": "execute_result"
    }
   ],
   "source": [
    "# Let us now check for missing values\n",
    "train.isnull().sum()"
   ]
  },
  {
   "cell_type": "code",
   "execution_count": 12,
   "metadata": {},
   "outputs": [
    {
     "data": {
      "text/plain": [
       "ID                         0\n",
       "Year_of_Birth              0\n",
       "Education_Level            0\n",
       "Marital_Status             0\n",
       "Disposable_Income          8\n",
       "No_of_Kids_in_home         0\n",
       "No_of_Teen_in_home         0\n",
       "Date_Customer              0\n",
       "Recency                    0\n",
       "Discounted_Purchases       0\n",
       "WebPurchases               0\n",
       "CatalogPurchases           0\n",
       "StorePurchases             0\n",
       "Amount_on_Wines            0\n",
       "Amount_on_Fruits           0\n",
       "Amount_on_MeatProducts     0\n",
       "Amount_on_FishProducts     0\n",
       "Amount_on_SweetProducts    0\n",
       "Amount_on_GoldProds        0\n",
       "WebVisitsMonth             0\n",
       "Cmp3Accepted               0\n",
       "Cmp4Accepted               0\n",
       "Cmp5Accepted               0\n",
       "Cmp1Accepted               0\n",
       "Cmp2Accepted               0\n",
       "Any_Complain               0\n",
       "dtype: int64"
      ]
     },
     "execution_count": 12,
     "metadata": {},
     "output_type": "execute_result"
    }
   ],
   "source": [
    "test.isnull().sum()"
   ]
  },
  {
   "cell_type": "markdown",
   "metadata": {},
   "source": [
    "We see that the train data contains 16 missing values while the test data contains 8 missing values"
   ]
  },
  {
   "cell_type": "code",
   "execution_count": 13,
   "metadata": {},
   "outputs": [
    {
     "data": {
      "text/plain": [
       "ID                          object\n",
       "Year_of_Birth                int64\n",
       "Education_Level             object\n",
       "Marital_Status              object\n",
       "Disposable_Income          float64\n",
       "No_of_Kids_in_home           int64\n",
       "No_of_Teen_in_home           int64\n",
       "Date_Customer               object\n",
       "Recency                      int64\n",
       "Discounted_Purchases         int64\n",
       "WebPurchases                 int64\n",
       "CatalogPurchases             int64\n",
       "StorePurchases               int64\n",
       "Amount_on_Wines              int64\n",
       "Amount_on_Fruits             int64\n",
       "Amount_on_MeatProducts       int64\n",
       "Amount_on_FishProducts       int64\n",
       "Amount_on_SweetProducts      int64\n",
       "Amount_on_GoldProds          int64\n",
       "WebVisitsMonth               int64\n",
       "Cmp3Accepted                 int64\n",
       "Cmp4Accepted                 int64\n",
       "Cmp5Accepted                 int64\n",
       "Cmp1Accepted                 int64\n",
       "Cmp2Accepted                 int64\n",
       "Any_Complain                 int64\n",
       "Response                     int64\n",
       "dtype: object"
      ]
     },
     "execution_count": 13,
     "metadata": {},
     "output_type": "execute_result"
    }
   ],
   "source": [
    "# let us now check for the data types in the train and test data\n",
    "\n",
    "train.dtypes"
   ]
  },
  {
   "cell_type": "code",
   "execution_count": 14,
   "metadata": {},
   "outputs": [
    {
     "data": {
      "text/plain": [
       "ID                          object\n",
       "Year_of_Birth                int64\n",
       "Education_Level             object\n",
       "Marital_Status              object\n",
       "Disposable_Income          float64\n",
       "No_of_Kids_in_home           int64\n",
       "No_of_Teen_in_home           int64\n",
       "Date_Customer               object\n",
       "Recency                      int64\n",
       "Discounted_Purchases         int64\n",
       "WebPurchases                 int64\n",
       "CatalogPurchases             int64\n",
       "StorePurchases               int64\n",
       "Amount_on_Wines              int64\n",
       "Amount_on_Fruits             int64\n",
       "Amount_on_MeatProducts       int64\n",
       "Amount_on_FishProducts       int64\n",
       "Amount_on_SweetProducts      int64\n",
       "Amount_on_GoldProds          int64\n",
       "WebVisitsMonth               int64\n",
       "Cmp3Accepted                 int64\n",
       "Cmp4Accepted                 int64\n",
       "Cmp5Accepted                 int64\n",
       "Cmp1Accepted                 int64\n",
       "Cmp2Accepted                 int64\n",
       "Any_Complain                 int64\n",
       "dtype: object"
      ]
     },
     "execution_count": 14,
     "metadata": {},
     "output_type": "execute_result"
    }
   ],
   "source": [
    "test.dtypes"
   ]
  },
  {
   "cell_type": "markdown",
   "metadata": {},
   "source": [
    "We have 3 categorical features aside the ID columns, and 22 numerical features aside the target column "
   ]
  },
  {
   "cell_type": "markdown",
   "metadata": {},
   "source": [
    "**We now want to drop the ID columns in the train and test data as we wont need them for modelling. We will also drop the date_customer column as this is not a good predictor of a customer response to marketing campaign**"
   ]
  },
  {
   "cell_type": "code",
   "execution_count": 15,
   "metadata": {},
   "outputs": [],
   "source": [
    "train.drop('ID', axis=1, inplace=True)\n",
    "test.drop('ID', axis=1, inplace=True)\n",
    "train.drop('Date_Customer', axis=1, inplace=True)\n",
    "test.drop('Date_Customer', axis=1, inplace=True)"
   ]
  },
  {
   "cell_type": "code",
   "execution_count": 16,
   "metadata": {},
   "outputs": [
    {
     "data": {
      "text/plain": [
       "<AxesSubplot:xlabel='Education_Level', ylabel='count'>"
      ]
     },
     "execution_count": 16,
     "metadata": {},
     "output_type": "execute_result"
    },
    {
     "data": {
      "image/png": "[encoded data removed]",
      "text/plain": [
       "<Figure size 432x288 with 1 Axes>"
      ]
     },
     "metadata": {
      "needs_background": "light"
     },
     "output_type": "display_data"
    }
   ],
   "source": [
    "sns.countplot(x= \"Education_Level\", data= train)"
   ]
  },
  {
   "cell_type": "code",
   "execution_count": 17,
   "metadata": {},
   "outputs": [
    {
     "data": {
      "text/plain": [
       "<AxesSubplot:xlabel='Marital_Status', ylabel='count'>"
      ]
     },
     "execution_count": 17,
     "metadata": {},
     "output_type": "execute_result"
    },
    {
     "data": {
      "image/png": "[encoded data removed]",
      "text/plain": [
       "<Figure size 432x288 with 1 Axes>"
      ]
     },
     "metadata": {
      "needs_background": "light"
     },
     "output_type": "display_data"
    }
   ],
   "source": [
    "sns.countplot(x= \"Marital_Status\", data= train)"
   ]
  },
  {
   "cell_type": "code",
   "execution_count": 18,
   "metadata": {},
   "outputs": [
    {
     "data": {
      "text/plain": [
       "<AxesSubplot:xlabel='Response', ylabel='count'>"
      ]
     },
     "execution_count": 18,
     "metadata": {},
     "output_type": "execute_result"
    },
    {
     "data": {
      "image/png": "[encoded data removed]",
      "text/plain": [
       "<Figure size 432x288 with 1 Axes>"
      ]
     },
     "metadata": {
      "needs_background": "light"
     },
     "output_type": "display_data"
    }
   ],
   "source": [
    "sns.countplot(x=\"Response\", data= train)"
   ]
  },
  {
   "cell_type": "code",
   "execution_count": 19,
   "metadata": {},
   "outputs": [
    {
     "data": {
      "text/plain": [
       "0    1329\n",
       "1     239\n",
       "Name: Response, dtype: int64"
      ]
     },
     "execution_count": 19,
     "metadata": {},
     "output_type": "execute_result"
    }
   ],
   "source": [
    "train['Response'].value_counts()"
   ]
  },
  {
   "cell_type": "markdown",
   "metadata": {},
   "source": [
    "From the above Visualization, we noticed an imbalanced dataset. so lets try installing the imblearn module for balancing our dataset later on."
   ]
  },
  {
   "cell_type": "code",
   "execution_count": 531,
   "metadata": {},
   "outputs": [
    {
     "name": "stdout",
     "output_type": "stream",
     "text": [
      "Collecting package metadata (current_repodata.json): ...working... done\n",
      "Solving environment: ...working... done\n",
      "\n",
      "## Package Plan ##\n",
      "\n",
      "  environment location: C:\\Users\\USER\\anaconda3\n",
      "\n",
      "  added / updated specs:\n",
      "    - imbalanced-learn\n",
      "\n",
      "\n",
      "The following packages will be downloaded:\n",
      "\n",
      "    package                    |            build\n",
      "    ---------------------------|-----------------\n",
      "    conda-4.10.3               |   py38haa244fe_2         3.1 MB  conda-forge\n",
      "    imbalanced-learn-0.7.0     |             py_1          97 KB  conda-forge\n",
      "    ------------------------------------------------------------\n",
      "                                           Total:         3.2 MB\n",
      "\n",
      "The following NEW packages will be INSTALLED:\n",
      "\n",
      "  imbalanced-learn   conda-forge/noarch::imbalanced-learn-0.7.0-py_1\n",
      "Note: you may need to restart the kernel to use updated packages.\n",
      "\n",
      "\n",
      "The following packages will be UPDATED:\n",
      "\n",
      "  conda                               4.10.3-py38haa244fe_0 --> 4.10.3-py38haa244fe_2\n",
      "\n",
      "\n",
      "\n",
      "Downloading and Extracting Packages\n",
      "\n",
      "imbalanced-learn-0.7 | 97 KB     |            |   0% \n",
      "imbalanced-learn-0.7 | 97 KB     | #6         |  17% \n",
      "imbalanced-learn-0.7 | 97 KB     | ####9      |  50% \n",
      "imbalanced-learn-0.7 | 97 KB     | #########9 |  99% \n",
      "imbalanced-learn-0.7 | 97 KB     | ########## | 100% \n",
      "\n",
      "conda-4.10.3         | 3.1 MB    |            |   0% \n",
      "conda-4.10.3         | 3.1 MB    |            |   1% \n",
      "conda-4.10.3         | 3.1 MB    | 3          |   4% \n",
      "conda-4.10.3         | 3.1 MB    | 6          |   7% \n",
      "conda-4.10.3         | 3.1 MB    | #3         |  14% \n",
      "conda-4.10.3         | 3.1 MB    | ##1        |  21% \n",
      "conda-4.10.3         | 3.1 MB    | ###3       |  34% \n",
      "conda-4.10.3         | 3.1 MB    | ####6      |  47% \n",
      "conda-4.10.3         | 3.1 MB    | ######2    |  62% \n",
      "conda-4.10.3         | 3.1 MB    | #######7   |  77% \n",
      "conda-4.10.3         | 3.1 MB    | ########8  |  89% \n",
      "conda-4.10.3         | 3.1 MB    | #########9 | 100% \n",
      "conda-4.10.3         | 3.1 MB    | ########## | 100% \n",
      "Preparing transaction: ...working... done\n",
      "Verifying transaction: ...working... done\n",
      "Executing transaction: ...working... done\n"
     ]
    }
   ],
   "source": [
    "conda install -c conda-forge imbalanced-learn"
   ]
  },
  {
   "cell_type": "markdown",
   "metadata": {},
   "source": [
    "**From the univariate analysis, above we noticed that in the Educational_Level feature most participants were graduates, while the least participant had basic education.\n",
    "Also, in the Marital_Status feature, the most particpant were married, while the least participant were absurd**\n",
    "\n",
    "**Additionally, 1329 participant did not respond to the marketing campaign, while 239 participant did respond to the campaign**"
   ]
  },
  {
   "cell_type": "code",
   "execution_count": 20,
   "metadata": {},
   "outputs": [
    {
     "data": {
      "text/plain": [
       "<AxesSubplot:xlabel='Education_Level', ylabel='count'>"
      ]
     },
     "execution_count": 20,
     "metadata": {},
     "output_type": "execute_result"
    },
    {
     "data": {
      "image/png": "[encoded data removed]",
      "text/plain": [
       "<Figure size 432x288 with 1 Axes>"
      ]
     },
     "metadata": {
      "needs_background": "light"
     },
     "output_type": "display_data"
    }
   ],
   "source": [
    "# Let us now explore the Educational_Status agaisnt the Response\n",
    "sns.countplot(x=\"Education_Level\", hue=\"Response\", data= train)"
   ]
  },
  {
   "cell_type": "code",
   "execution_count": 21,
   "metadata": {},
   "outputs": [
    {
     "data": {
      "text/plain": [
       "<AxesSubplot:xlabel='Marital_Status', ylabel='count'>"
      ]
     },
     "execution_count": 21,
     "metadata": {},
     "output_type": "execute_result"
    },
    {
     "data": {
      "image/png": "[encoded data removed]",
      "text/plain": [
       "<Figure size 432x288 with 1 Axes>"
      ]
     },
     "metadata": {
      "needs_background": "light"
     },
     "output_type": "display_data"
    }
   ],
   "source": [
    "#let us explore Marital_Status against the Response\n",
    "sns.countplot(x=\"Marital_Status\", hue=\"Response\", data= train)"
   ]
  },
  {
   "cell_type": "markdown",
   "metadata": {},
   "source": [
    "### Filling Missing Values\n",
    "\n",
    "We want to now fill in the missing values using the mean"
   ]
  },
  {
   "cell_type": "code",
   "execution_count": 22,
   "metadata": {},
   "outputs": [],
   "source": [
    "train['Disposable_Income'].fillna((train['Disposable_Income'].mean()) , inplace = True)"
   ]
  },
  {
   "cell_type": "code",
   "execution_count": 23,
   "metadata": {},
   "outputs": [
    {
     "data": {
      "text/plain": [
       "Year_of_Birth              0\n",
       "Education_Level            0\n",
       "Marital_Status             0\n",
       "Disposable_Income          0\n",
       "No_of_Kids_in_home         0\n",
       "No_of_Teen_in_home         0\n",
       "Recency                    0\n",
       "Discounted_Purchases       0\n",
       "WebPurchases               0\n",
       "CatalogPurchases           0\n",
       "StorePurchases             0\n",
       "Amount_on_Wines            0\n",
       "Amount_on_Fruits           0\n",
       "Amount_on_MeatProducts     0\n",
       "Amount_on_FishProducts     0\n",
       "Amount_on_SweetProducts    0\n",
       "Amount_on_GoldProds        0\n",
       "WebVisitsMonth             0\n",
       "Cmp3Accepted               0\n",
       "Cmp4Accepted               0\n",
       "Cmp5Accepted               0\n",
       "Cmp1Accepted               0\n",
       "Cmp2Accepted               0\n",
       "Any_Complain               0\n",
       "Response                   0\n",
       "dtype: int64"
      ]
     },
     "execution_count": 23,
     "metadata": {},
     "output_type": "execute_result"
    }
   ],
   "source": [
    "train.isnull().sum()"
   ]
  },
  {
   "cell_type": "code",
   "execution_count": 24,
   "metadata": {},
   "outputs": [],
   "source": [
    "test['Disposable_Income'].fillna((test['Disposable_Income'].mean()) , inplace = True)"
   ]
  },
  {
   "cell_type": "code",
   "execution_count": 25,
   "metadata": {},
   "outputs": [
    {
     "data": {
      "text/plain": [
       "Year_of_Birth              0\n",
       "Education_Level            0\n",
       "Marital_Status             0\n",
       "Disposable_Income          0\n",
       "No_of_Kids_in_home         0\n",
       "No_of_Teen_in_home         0\n",
       "Recency                    0\n",
       "Discounted_Purchases       0\n",
       "WebPurchases               0\n",
       "CatalogPurchases           0\n",
       "StorePurchases             0\n",
       "Amount_on_Wines            0\n",
       "Amount_on_Fruits           0\n",
       "Amount_on_MeatProducts     0\n",
       "Amount_on_FishProducts     0\n",
       "Amount_on_SweetProducts    0\n",
       "Amount_on_GoldProds        0\n",
       "WebVisitsMonth             0\n",
       "Cmp3Accepted               0\n",
       "Cmp4Accepted               0\n",
       "Cmp5Accepted               0\n",
       "Cmp1Accepted               0\n",
       "Cmp2Accepted               0\n",
       "Any_Complain               0\n",
       "dtype: int64"
      ]
     },
     "execution_count": 25,
     "metadata": {},
     "output_type": "execute_result"
    }
   ],
   "source": [
    "test.isnull().sum()"
   ]
  },
  {
   "cell_type": "markdown",
   "metadata": {},
   "source": [
    "### Encoding Categorical Variables "
   ]
  },
  {
   "cell_type": "markdown",
   "metadata": {},
   "source": [
    "Before we move forward with the encoding, let us separate the categorical variables from the numerical\n"
   ]
  },
  {
   "cell_type": "code",
   "execution_count": 26,
   "metadata": {},
   "outputs": [],
   "source": [
    "categorical_data = train.select_dtypes(exclude=[np.number])\n",
    "numeric_data = train.select_dtypes(include=[np.number])\n",
    "\n"
   ]
  },
  {
   "cell_type": "code",
   "execution_count": null,
   "metadata": {},
   "outputs": [],
   "source": [
    "# Lets confirm our categorical data"
   ]
  },
  {
   "cell_type": "code",
   "execution_count": 27,
   "metadata": {},
   "outputs": [
    {
     "data": {
      "text/html": [
       "<div>\n",
       "<style scoped>\n",
       "    .dataframe tbody tr th:only-of-type {\n",
       "        vertical-align: middle;\n",
       "    }\n",
       "\n",
       "    .dataframe tbody tr th {\n",
       "        vertical-align: top;\n",
       "    }\n",
       "\n",
       "    .dataframe thead th {\n",
       "        text-align: right;\n",
       "    }\n",
       "</style>\n",
       "<table border=\"1\" class=\"dataframe\">\n",
       "  <thead>\n",
       "    <tr style=\"text-align: right;\">\n",
       "      <th></th>\n",
       "      <th>Education_Level</th>\n",
       "      <th>Marital_Status</th>\n",
       "    </tr>\n",
       "  </thead>\n",
       "  <tbody>\n",
       "    <tr>\n",
       "      <th>0</th>\n",
       "      <td>Graduation</td>\n",
       "      <td>Divorced</td>\n",
       "    </tr>\n",
       "    <tr>\n",
       "      <th>1</th>\n",
       "      <td>Graduation</td>\n",
       "      <td>Together</td>\n",
       "    </tr>\n",
       "    <tr>\n",
       "      <th>2</th>\n",
       "      <td>Graduation</td>\n",
       "      <td>Single</td>\n",
       "    </tr>\n",
       "    <tr>\n",
       "      <th>3</th>\n",
       "      <td>2n Cycle</td>\n",
       "      <td>Single</td>\n",
       "    </tr>\n",
       "    <tr>\n",
       "      <th>4</th>\n",
       "      <td>Graduation</td>\n",
       "      <td>Married</td>\n",
       "    </tr>\n",
       "    <tr>\n",
       "      <th>...</th>\n",
       "      <td>...</td>\n",
       "      <td>...</td>\n",
       "    </tr>\n",
       "    <tr>\n",
       "      <th>1563</th>\n",
       "      <td>Graduation</td>\n",
       "      <td>Married</td>\n",
       "    </tr>\n",
       "    <tr>\n",
       "      <th>1564</th>\n",
       "      <td>Graduation</td>\n",
       "      <td>Single</td>\n",
       "    </tr>\n",
       "    <tr>\n",
       "      <th>1565</th>\n",
       "      <td>Master</td>\n",
       "      <td>Married</td>\n",
       "    </tr>\n",
       "    <tr>\n",
       "      <th>1566</th>\n",
       "      <td>PhD</td>\n",
       "      <td>Single</td>\n",
       "    </tr>\n",
       "    <tr>\n",
       "      <th>1567</th>\n",
       "      <td>Graduation</td>\n",
       "      <td>Together</td>\n",
       "    </tr>\n",
       "  </tbody>\n",
       "</table>\n",
       "<p>1568 rows × 2 columns</p>\n",
       "</div>"
      ],
      "text/plain": [
       "     Education_Level Marital_Status\n",
       "0         Graduation       Divorced\n",
       "1         Graduation       Together\n",
       "2         Graduation         Single\n",
       "3           2n Cycle         Single\n",
       "4         Graduation        Married\n",
       "...              ...            ...\n",
       "1563      Graduation        Married\n",
       "1564      Graduation         Single\n",
       "1565          Master        Married\n",
       "1566             PhD         Single\n",
       "1567      Graduation       Together\n",
       "\n",
       "[1568 rows x 2 columns]"
      ]
     },
     "execution_count": 27,
     "metadata": {},
     "output_type": "execute_result"
    }
   ],
   "source": [
    "categorical_data"
   ]
  },
  {
   "cell_type": "code",
   "execution_count": 28,
   "metadata": {},
   "outputs": [
    {
     "data": {
      "text/html": [
       "<div>\n",
       "<style scoped>\n",
       "    .dataframe tbody tr th:only-of-type {\n",
       "        vertical-align: middle;\n",
       "    }\n",
       "\n",
       "    .dataframe tbody tr th {\n",
       "        vertical-align: top;\n",
       "    }\n",
       "\n",
       "    .dataframe thead th {\n",
       "        text-align: right;\n",
       "    }\n",
       "</style>\n",
       "<table border=\"1\" class=\"dataframe\">\n",
       "  <thead>\n",
       "    <tr style=\"text-align: right;\">\n",
       "      <th></th>\n",
       "      <th>Year_of_Birth</th>\n",
       "      <th>Disposable_Income</th>\n",
       "      <th>No_of_Kids_in_home</th>\n",
       "      <th>No_of_Teen_in_home</th>\n",
       "      <th>Recency</th>\n",
       "      <th>Discounted_Purchases</th>\n",
       "      <th>WebPurchases</th>\n",
       "      <th>CatalogPurchases</th>\n",
       "      <th>StorePurchases</th>\n",
       "      <th>Amount_on_Wines</th>\n",
       "      <th>...</th>\n",
       "      <th>Amount_on_SweetProducts</th>\n",
       "      <th>Amount_on_GoldProds</th>\n",
       "      <th>WebVisitsMonth</th>\n",
       "      <th>Cmp3Accepted</th>\n",
       "      <th>Cmp4Accepted</th>\n",
       "      <th>Cmp5Accepted</th>\n",
       "      <th>Cmp1Accepted</th>\n",
       "      <th>Cmp2Accepted</th>\n",
       "      <th>Any_Complain</th>\n",
       "      <th>Response</th>\n",
       "    </tr>\n",
       "  </thead>\n",
       "  <tbody>\n",
       "    <tr>\n",
       "      <th>0</th>\n",
       "      <td>1955</td>\n",
       "      <td>77504.4</td>\n",
       "      <td>1</td>\n",
       "      <td>1</td>\n",
       "      <td>56</td>\n",
       "      <td>2</td>\n",
       "      <td>1</td>\n",
       "      <td>1</td>\n",
       "      <td>4</td>\n",
       "      <td>71</td>\n",
       "      <td>...</td>\n",
       "      <td>6</td>\n",
       "      <td>20</td>\n",
       "      <td>3</td>\n",
       "      <td>0</td>\n",
       "      <td>0</td>\n",
       "      <td>0</td>\n",
       "      <td>0</td>\n",
       "      <td>0</td>\n",
       "      <td>0</td>\n",
       "      <td>0</td>\n",
       "    </tr>\n",
       "    <tr>\n",
       "      <th>1</th>\n",
       "      <td>1958</td>\n",
       "      <td>56784.0</td>\n",
       "      <td>0</td>\n",
       "      <td>1</td>\n",
       "      <td>17</td>\n",
       "      <td>6</td>\n",
       "      <td>5</td>\n",
       "      <td>1</td>\n",
       "      <td>8</td>\n",
       "      <td>205</td>\n",
       "      <td>...</td>\n",
       "      <td>15</td>\n",
       "      <td>19</td>\n",
       "      <td>6</td>\n",
       "      <td>0</td>\n",
       "      <td>0</td>\n",
       "      <td>0</td>\n",
       "      <td>0</td>\n",
       "      <td>0</td>\n",
       "      <td>0</td>\n",
       "      <td>0</td>\n",
       "    </tr>\n",
       "    <tr>\n",
       "      <th>2</th>\n",
       "      <td>1962</td>\n",
       "      <td>103714.8</td>\n",
       "      <td>0</td>\n",
       "      <td>0</td>\n",
       "      <td>17</td>\n",
       "      <td>0</td>\n",
       "      <td>7</td>\n",
       "      <td>4</td>\n",
       "      <td>7</td>\n",
       "      <td>469</td>\n",
       "      <td>...</td>\n",
       "      <td>18</td>\n",
       "      <td>37</td>\n",
       "      <td>2</td>\n",
       "      <td>0</td>\n",
       "      <td>0</td>\n",
       "      <td>0</td>\n",
       "      <td>1</td>\n",
       "      <td>0</td>\n",
       "      <td>0</td>\n",
       "      <td>1</td>\n",
       "    </tr>\n",
       "    <tr>\n",
       "      <th>3</th>\n",
       "      <td>1979</td>\n",
       "      <td>46311.6</td>\n",
       "      <td>1</td>\n",
       "      <td>0</td>\n",
       "      <td>49</td>\n",
       "      <td>3</td>\n",
       "      <td>4</td>\n",
       "      <td>1</td>\n",
       "      <td>3</td>\n",
       "      <td>56</td>\n",
       "      <td>...</td>\n",
       "      <td>24</td>\n",
       "      <td>24</td>\n",
       "      <td>8</td>\n",
       "      <td>0</td>\n",
       "      <td>0</td>\n",
       "      <td>0</td>\n",
       "      <td>0</td>\n",
       "      <td>0</td>\n",
       "      <td>0</td>\n",
       "      <td>0</td>\n",
       "    </tr>\n",
       "    <tr>\n",
       "      <th>4</th>\n",
       "      <td>1959</td>\n",
       "      <td>87486.0</td>\n",
       "      <td>0</td>\n",
       "      <td>0</td>\n",
       "      <td>59</td>\n",
       "      <td>1</td>\n",
       "      <td>3</td>\n",
       "      <td>7</td>\n",
       "      <td>9</td>\n",
       "      <td>412</td>\n",
       "      <td>...</td>\n",
       "      <td>165</td>\n",
       "      <td>203</td>\n",
       "      <td>1</td>\n",
       "      <td>0</td>\n",
       "      <td>0</td>\n",
       "      <td>0</td>\n",
       "      <td>1</td>\n",
       "      <td>0</td>\n",
       "      <td>0</td>\n",
       "      <td>0</td>\n",
       "    </tr>\n",
       "    <tr>\n",
       "      <th>...</th>\n",
       "      <td>...</td>\n",
       "      <td>...</td>\n",
       "      <td>...</td>\n",
       "      <td>...</td>\n",
       "      <td>...</td>\n",
       "      <td>...</td>\n",
       "      <td>...</td>\n",
       "      <td>...</td>\n",
       "      <td>...</td>\n",
       "      <td>...</td>\n",
       "      <td>...</td>\n",
       "      <td>...</td>\n",
       "      <td>...</td>\n",
       "      <td>...</td>\n",
       "      <td>...</td>\n",
       "      <td>...</td>\n",
       "      <td>...</td>\n",
       "      <td>...</td>\n",
       "      <td>...</td>\n",
       "      <td>...</td>\n",
       "      <td>...</td>\n",
       "    </tr>\n",
       "    <tr>\n",
       "      <th>1563</th>\n",
       "      <td>1970</td>\n",
       "      <td>52893.6</td>\n",
       "      <td>1</td>\n",
       "      <td>1</td>\n",
       "      <td>24</td>\n",
       "      <td>2</td>\n",
       "      <td>2</td>\n",
       "      <td>0</td>\n",
       "      <td>3</td>\n",
       "      <td>29</td>\n",
       "      <td>...</td>\n",
       "      <td>0</td>\n",
       "      <td>4</td>\n",
       "      <td>5</td>\n",
       "      <td>0</td>\n",
       "      <td>0</td>\n",
       "      <td>0</td>\n",
       "      <td>0</td>\n",
       "      <td>0</td>\n",
       "      <td>0</td>\n",
       "      <td>0</td>\n",
       "    </tr>\n",
       "    <tr>\n",
       "      <th>1564</th>\n",
       "      <td>1980</td>\n",
       "      <td>74190.0</td>\n",
       "      <td>0</td>\n",
       "      <td>1</td>\n",
       "      <td>63</td>\n",
       "      <td>1</td>\n",
       "      <td>4</td>\n",
       "      <td>2</td>\n",
       "      <td>8</td>\n",
       "      <td>167</td>\n",
       "      <td>...</td>\n",
       "      <td>30</td>\n",
       "      <td>27</td>\n",
       "      <td>4</td>\n",
       "      <td>0</td>\n",
       "      <td>0</td>\n",
       "      <td>0</td>\n",
       "      <td>0</td>\n",
       "      <td>0</td>\n",
       "      <td>0</td>\n",
       "      <td>0</td>\n",
       "    </tr>\n",
       "    <tr>\n",
       "      <th>1565</th>\n",
       "      <td>1952</td>\n",
       "      <td>80857.2</td>\n",
       "      <td>0</td>\n",
       "      <td>1</td>\n",
       "      <td>74</td>\n",
       "      <td>4</td>\n",
       "      <td>2</td>\n",
       "      <td>2</td>\n",
       "      <td>9</td>\n",
       "      <td>820</td>\n",
       "      <td>...</td>\n",
       "      <td>0</td>\n",
       "      <td>70</td>\n",
       "      <td>7</td>\n",
       "      <td>0</td>\n",
       "      <td>1</td>\n",
       "      <td>0</td>\n",
       "      <td>0</td>\n",
       "      <td>0</td>\n",
       "      <td>0</td>\n",
       "      <td>0</td>\n",
       "    </tr>\n",
       "    <tr>\n",
       "      <th>1566</th>\n",
       "      <td>1964</td>\n",
       "      <td>58701.6</td>\n",
       "      <td>1</td>\n",
       "      <td>1</td>\n",
       "      <td>28</td>\n",
       "      <td>2</td>\n",
       "      <td>1</td>\n",
       "      <td>0</td>\n",
       "      <td>4</td>\n",
       "      <td>57</td>\n",
       "      <td>...</td>\n",
       "      <td>0</td>\n",
       "      <td>1</td>\n",
       "      <td>4</td>\n",
       "      <td>0</td>\n",
       "      <td>0</td>\n",
       "      <td>0</td>\n",
       "      <td>0</td>\n",
       "      <td>0</td>\n",
       "      <td>0</td>\n",
       "      <td>0</td>\n",
       "    </tr>\n",
       "    <tr>\n",
       "      <th>1567</th>\n",
       "      <td>1970</td>\n",
       "      <td>27873.6</td>\n",
       "      <td>1</td>\n",
       "      <td>0</td>\n",
       "      <td>78</td>\n",
       "      <td>2</td>\n",
       "      <td>2</td>\n",
       "      <td>0</td>\n",
       "      <td>3</td>\n",
       "      <td>18</td>\n",
       "      <td>...</td>\n",
       "      <td>1</td>\n",
       "      <td>0</td>\n",
       "      <td>8</td>\n",
       "      <td>0</td>\n",
       "      <td>0</td>\n",
       "      <td>0</td>\n",
       "      <td>0</td>\n",
       "      <td>0</td>\n",
       "      <td>0</td>\n",
       "      <td>0</td>\n",
       "    </tr>\n",
       "  </tbody>\n",
       "</table>\n",
       "<p>1568 rows × 23 columns</p>\n",
       "</div>"
      ],
      "text/plain": [
       "      Year_of_Birth  Disposable_Income  No_of_Kids_in_home  \\\n",
       "0              1955            77504.4                   1   \n",
       "1              1958            56784.0                   0   \n",
       "2              1962           103714.8                   0   \n",
       "3              1979            46311.6                   1   \n",
       "4              1959            87486.0                   0   \n",
       "...             ...                ...                 ...   \n",
       "1563           1970            52893.6                   1   \n",
       "1564           1980            74190.0                   0   \n",
       "1565           1952            80857.2                   0   \n",
       "1566           1964            58701.6                   1   \n",
       "1567           1970            27873.6                   1   \n",
       "\n",
       "      No_of_Teen_in_home  Recency  Discounted_Purchases  WebPurchases  \\\n",
       "0                      1       56                     2             1   \n",
       "1                      1       17                     6             5   \n",
       "2                      0       17                     0             7   \n",
       "3                      0       49                     3             4   \n",
       "4                      0       59                     1             3   \n",
       "...                  ...      ...                   ...           ...   \n",
       "1563                   1       24                     2             2   \n",
       "1564                   1       63                     1             4   \n",
       "1565                   1       74                     4             2   \n",
       "1566                   1       28                     2             1   \n",
       "1567                   0       78                     2             2   \n",
       "\n",
       "      CatalogPurchases  StorePurchases  Amount_on_Wines  ...  \\\n",
       "0                    1               4               71  ...   \n",
       "1                    1               8              205  ...   \n",
       "2                    4               7              469  ...   \n",
       "3                    1               3               56  ...   \n",
       "4                    7               9              412  ...   \n",
       "...                ...             ...              ...  ...   \n",
       "1563                 0               3               29  ...   \n",
       "1564                 2               8              167  ...   \n",
       "1565                 2               9              820  ...   \n",
       "1566                 0               4               57  ...   \n",
       "1567                 0               3               18  ...   \n",
       "\n",
       "      Amount_on_SweetProducts  Amount_on_GoldProds  WebVisitsMonth  \\\n",
       "0                           6                   20               3   \n",
       "1                          15                   19               6   \n",
       "2                          18                   37               2   \n",
       "3                          24                   24               8   \n",
       "4                         165                  203               1   \n",
       "...                       ...                  ...             ...   \n",
       "1563                        0                    4               5   \n",
       "1564                       30                   27               4   \n",
       "1565                        0                   70               7   \n",
       "1566                        0                    1               4   \n",
       "1567                        1                    0               8   \n",
       "\n",
       "      Cmp3Accepted  Cmp4Accepted  Cmp5Accepted  Cmp1Accepted  Cmp2Accepted  \\\n",
       "0                0             0             0             0             0   \n",
       "1                0             0             0             0             0   \n",
       "2                0             0             0             1             0   \n",
       "3                0             0             0             0             0   \n",
       "4                0             0             0             1             0   \n",
       "...            ...           ...           ...           ...           ...   \n",
       "1563             0             0             0             0             0   \n",
       "1564             0             0             0             0             0   \n",
       "1565             0             1             0             0             0   \n",
       "1566             0             0             0             0             0   \n",
       "1567             0             0             0             0             0   \n",
       "\n",
       "      Any_Complain  Response  \n",
       "0                0         0  \n",
       "1                0         0  \n",
       "2                0         1  \n",
       "3                0         0  \n",
       "4                0         0  \n",
       "...            ...       ...  \n",
       "1563             0         0  \n",
       "1564             0         0  \n",
       "1565             0         0  \n",
       "1566             0         0  \n",
       "1567             0         0  \n",
       "\n",
       "[1568 rows x 23 columns]"
      ]
     },
     "execution_count": 28,
     "metadata": {},
     "output_type": "execute_result"
    }
   ],
   "source": [
    "numeric_data"
   ]
  },
  {
   "cell_type": "code",
   "execution_count": 29,
   "metadata": {},
   "outputs": [],
   "source": [
    "numeric_data = numeric_data.astype(int)"
   ]
  },
  {
   "cell_type": "code",
   "execution_count": 30,
   "metadata": {},
   "outputs": [],
   "source": [
    "# We now proceed with encoding the categorical variables.\n",
    "\n",
    "from sklearn.preprocessing import LabelEncoder,OneHotEncoder\n"
   ]
  },
  {
   "cell_type": "code",
   "execution_count": 31,
   "metadata": {},
   "outputs": [],
   "source": [
    "label_encoder = LabelEncoder()\n",
    "for i in categorical_data:\n",
    "    train[i] = label_encoder.fit_transform(train[i])\n",
    "    test[i] = label_encoder.transform(test[i])"
   ]
  },
  {
   "cell_type": "code",
   "execution_count": 32,
   "metadata": {},
   "outputs": [
    {
     "data": {
      "text/html": [
       "<div>\n",
       "<style scoped>\n",
       "    .dataframe tbody tr th:only-of-type {\n",
       "        vertical-align: middle;\n",
       "    }\n",
       "\n",
       "    .dataframe tbody tr th {\n",
       "        vertical-align: top;\n",
       "    }\n",
       "\n",
       "    .dataframe thead th {\n",
       "        text-align: right;\n",
       "    }\n",
       "</style>\n",
       "<table border=\"1\" class=\"dataframe\">\n",
       "  <thead>\n",
       "    <tr style=\"text-align: right;\">\n",
       "      <th></th>\n",
       "      <th>Year_of_Birth</th>\n",
       "      <th>Education_Level</th>\n",
       "      <th>Marital_Status</th>\n",
       "      <th>Disposable_Income</th>\n",
       "      <th>No_of_Kids_in_home</th>\n",
       "      <th>No_of_Teen_in_home</th>\n",
       "      <th>Recency</th>\n",
       "      <th>Discounted_Purchases</th>\n",
       "      <th>WebPurchases</th>\n",
       "      <th>CatalogPurchases</th>\n",
       "      <th>...</th>\n",
       "      <th>Amount_on_SweetProducts</th>\n",
       "      <th>Amount_on_GoldProds</th>\n",
       "      <th>WebVisitsMonth</th>\n",
       "      <th>Cmp3Accepted</th>\n",
       "      <th>Cmp4Accepted</th>\n",
       "      <th>Cmp5Accepted</th>\n",
       "      <th>Cmp1Accepted</th>\n",
       "      <th>Cmp2Accepted</th>\n",
       "      <th>Any_Complain</th>\n",
       "      <th>Response</th>\n",
       "    </tr>\n",
       "  </thead>\n",
       "  <tbody>\n",
       "    <tr>\n",
       "      <th>0</th>\n",
       "      <td>1955</td>\n",
       "      <td>2</td>\n",
       "      <td>2</td>\n",
       "      <td>77504.4</td>\n",
       "      <td>1</td>\n",
       "      <td>1</td>\n",
       "      <td>56</td>\n",
       "      <td>2</td>\n",
       "      <td>1</td>\n",
       "      <td>1</td>\n",
       "      <td>...</td>\n",
       "      <td>6</td>\n",
       "      <td>20</td>\n",
       "      <td>3</td>\n",
       "      <td>0</td>\n",
       "      <td>0</td>\n",
       "      <td>0</td>\n",
       "      <td>0</td>\n",
       "      <td>0</td>\n",
       "      <td>0</td>\n",
       "      <td>0</td>\n",
       "    </tr>\n",
       "    <tr>\n",
       "      <th>1</th>\n",
       "      <td>1958</td>\n",
       "      <td>2</td>\n",
       "      <td>5</td>\n",
       "      <td>56784.0</td>\n",
       "      <td>0</td>\n",
       "      <td>1</td>\n",
       "      <td>17</td>\n",
       "      <td>6</td>\n",
       "      <td>5</td>\n",
       "      <td>1</td>\n",
       "      <td>...</td>\n",
       "      <td>15</td>\n",
       "      <td>19</td>\n",
       "      <td>6</td>\n",
       "      <td>0</td>\n",
       "      <td>0</td>\n",
       "      <td>0</td>\n",
       "      <td>0</td>\n",
       "      <td>0</td>\n",
       "      <td>0</td>\n",
       "      <td>0</td>\n",
       "    </tr>\n",
       "    <tr>\n",
       "      <th>2</th>\n",
       "      <td>1962</td>\n",
       "      <td>2</td>\n",
       "      <td>4</td>\n",
       "      <td>103714.8</td>\n",
       "      <td>0</td>\n",
       "      <td>0</td>\n",
       "      <td>17</td>\n",
       "      <td>0</td>\n",
       "      <td>7</td>\n",
       "      <td>4</td>\n",
       "      <td>...</td>\n",
       "      <td>18</td>\n",
       "      <td>37</td>\n",
       "      <td>2</td>\n",
       "      <td>0</td>\n",
       "      <td>0</td>\n",
       "      <td>0</td>\n",
       "      <td>1</td>\n",
       "      <td>0</td>\n",
       "      <td>0</td>\n",
       "      <td>1</td>\n",
       "    </tr>\n",
       "    <tr>\n",
       "      <th>3</th>\n",
       "      <td>1979</td>\n",
       "      <td>0</td>\n",
       "      <td>4</td>\n",
       "      <td>46311.6</td>\n",
       "      <td>1</td>\n",
       "      <td>0</td>\n",
       "      <td>49</td>\n",
       "      <td>3</td>\n",
       "      <td>4</td>\n",
       "      <td>1</td>\n",
       "      <td>...</td>\n",
       "      <td>24</td>\n",
       "      <td>24</td>\n",
       "      <td>8</td>\n",
       "      <td>0</td>\n",
       "      <td>0</td>\n",
       "      <td>0</td>\n",
       "      <td>0</td>\n",
       "      <td>0</td>\n",
       "      <td>0</td>\n",
       "      <td>0</td>\n",
       "    </tr>\n",
       "    <tr>\n",
       "      <th>4</th>\n",
       "      <td>1959</td>\n",
       "      <td>2</td>\n",
       "      <td>3</td>\n",
       "      <td>87486.0</td>\n",
       "      <td>0</td>\n",
       "      <td>0</td>\n",
       "      <td>59</td>\n",
       "      <td>1</td>\n",
       "      <td>3</td>\n",
       "      <td>7</td>\n",
       "      <td>...</td>\n",
       "      <td>165</td>\n",
       "      <td>203</td>\n",
       "      <td>1</td>\n",
       "      <td>0</td>\n",
       "      <td>0</td>\n",
       "      <td>0</td>\n",
       "      <td>1</td>\n",
       "      <td>0</td>\n",
       "      <td>0</td>\n",
       "      <td>0</td>\n",
       "    </tr>\n",
       "  </tbody>\n",
       "</table>\n",
       "<p>5 rows × 25 columns</p>\n",
       "</div>"
      ],
      "text/plain": [
       "   Year_of_Birth  Education_Level  Marital_Status  Disposable_Income  \\\n",
       "0           1955                2               2            77504.4   \n",
       "1           1958                2               5            56784.0   \n",
       "2           1962                2               4           103714.8   \n",
       "3           1979                0               4            46311.6   \n",
       "4           1959                2               3            87486.0   \n",
       "\n",
       "   No_of_Kids_in_home  No_of_Teen_in_home  Recency  Discounted_Purchases  \\\n",
       "0                   1                   1       56                     2   \n",
       "1                   0                   1       17                     6   \n",
       "2                   0                   0       17                     0   \n",
       "3                   1                   0       49                     3   \n",
       "4                   0                   0       59                     1   \n",
       "\n",
       "   WebPurchases  CatalogPurchases  ...  Amount_on_SweetProducts  \\\n",
       "0             1                 1  ...                        6   \n",
       "1             5                 1  ...                       15   \n",
       "2             7                 4  ...                       18   \n",
       "3             4                 1  ...                       24   \n",
       "4             3                 7  ...                      165   \n",
       "\n",
       "   Amount_on_GoldProds  WebVisitsMonth  Cmp3Accepted  Cmp4Accepted  \\\n",
       "0                   20               3             0             0   \n",
       "1                   19               6             0             0   \n",
       "2                   37               2             0             0   \n",
       "3                   24               8             0             0   \n",
       "4                  203               1             0             0   \n",
       "\n",
       "   Cmp5Accepted  Cmp1Accepted  Cmp2Accepted  Any_Complain  Response  \n",
       "0             0             0             0             0         0  \n",
       "1             0             0             0             0         0  \n",
       "2             0             1             0             0         1  \n",
       "3             0             0             0             0         0  \n",
       "4             0             1             0             0         0  \n",
       "\n",
       "[5 rows x 25 columns]"
      ]
     },
     "execution_count": 32,
     "metadata": {},
     "output_type": "execute_result"
    }
   ],
   "source": [
    "# Let us check it out\n",
    "\n",
    "train.head()"
   ]
  },
  {
   "cell_type": "code",
   "execution_count": 33,
   "metadata": {},
   "outputs": [
    {
     "data": {
      "text/html": [
       "<div>\n",
       "<style scoped>\n",
       "    .dataframe tbody tr th:only-of-type {\n",
       "        vertical-align: middle;\n",
       "    }\n",
       "\n",
       "    .dataframe tbody tr th {\n",
       "        vertical-align: top;\n",
       "    }\n",
       "\n",
       "    .dataframe thead th {\n",
       "        text-align: right;\n",
       "    }\n",
       "</style>\n",
       "<table border=\"1\" class=\"dataframe\">\n",
       "  <thead>\n",
       "    <tr style=\"text-align: right;\">\n",
       "      <th></th>\n",
       "      <th>Year_of_Birth</th>\n",
       "      <th>Education_Level</th>\n",
       "      <th>Marital_Status</th>\n",
       "      <th>Disposable_Income</th>\n",
       "      <th>No_of_Kids_in_home</th>\n",
       "      <th>No_of_Teen_in_home</th>\n",
       "      <th>Recency</th>\n",
       "      <th>Discounted_Purchases</th>\n",
       "      <th>WebPurchases</th>\n",
       "      <th>CatalogPurchases</th>\n",
       "      <th>...</th>\n",
       "      <th>Amount_on_FishProducts</th>\n",
       "      <th>Amount_on_SweetProducts</th>\n",
       "      <th>Amount_on_GoldProds</th>\n",
       "      <th>WebVisitsMonth</th>\n",
       "      <th>Cmp3Accepted</th>\n",
       "      <th>Cmp4Accepted</th>\n",
       "      <th>Cmp5Accepted</th>\n",
       "      <th>Cmp1Accepted</th>\n",
       "      <th>Cmp2Accepted</th>\n",
       "      <th>Any_Complain</th>\n",
       "    </tr>\n",
       "  </thead>\n",
       "  <tbody>\n",
       "    <tr>\n",
       "      <th>0</th>\n",
       "      <td>1954</td>\n",
       "      <td>2</td>\n",
       "      <td>4</td>\n",
       "      <td>48556.8</td>\n",
       "      <td>0</td>\n",
       "      <td>1</td>\n",
       "      <td>85</td>\n",
       "      <td>6</td>\n",
       "      <td>8</td>\n",
       "      <td>2</td>\n",
       "      <td>...</td>\n",
       "      <td>7</td>\n",
       "      <td>23</td>\n",
       "      <td>41</td>\n",
       "      <td>8</td>\n",
       "      <td>0</td>\n",
       "      <td>0</td>\n",
       "      <td>0</td>\n",
       "      <td>0</td>\n",
       "      <td>0</td>\n",
       "      <td>0</td>\n",
       "    </tr>\n",
       "    <tr>\n",
       "      <th>1</th>\n",
       "      <td>1961</td>\n",
       "      <td>2</td>\n",
       "      <td>6</td>\n",
       "      <td>57499.2</td>\n",
       "      <td>0</td>\n",
       "      <td>1</td>\n",
       "      <td>79</td>\n",
       "      <td>5</td>\n",
       "      <td>7</td>\n",
       "      <td>4</td>\n",
       "      <td>...</td>\n",
       "      <td>0</td>\n",
       "      <td>0</td>\n",
       "      <td>75</td>\n",
       "      <td>6</td>\n",
       "      <td>0</td>\n",
       "      <td>1</td>\n",
       "      <td>0</td>\n",
       "      <td>0</td>\n",
       "      <td>0</td>\n",
       "      <td>0</td>\n",
       "    </tr>\n",
       "    <tr>\n",
       "      <th>2</th>\n",
       "      <td>1973</td>\n",
       "      <td>1</td>\n",
       "      <td>3</td>\n",
       "      <td>17025.6</td>\n",
       "      <td>0</td>\n",
       "      <td>0</td>\n",
       "      <td>47</td>\n",
       "      <td>1</td>\n",
       "      <td>2</td>\n",
       "      <td>0</td>\n",
       "      <td>...</td>\n",
       "      <td>16</td>\n",
       "      <td>12</td>\n",
       "      <td>27</td>\n",
       "      <td>6</td>\n",
       "      <td>0</td>\n",
       "      <td>0</td>\n",
       "      <td>0</td>\n",
       "      <td>0</td>\n",
       "      <td>0</td>\n",
       "      <td>0</td>\n",
       "    </tr>\n",
       "    <tr>\n",
       "      <th>3</th>\n",
       "      <td>1970</td>\n",
       "      <td>2</td>\n",
       "      <td>5</td>\n",
       "      <td>91983.6</td>\n",
       "      <td>0</td>\n",
       "      <td>0</td>\n",
       "      <td>98</td>\n",
       "      <td>1</td>\n",
       "      <td>4</td>\n",
       "      <td>7</td>\n",
       "      <td>...</td>\n",
       "      <td>219</td>\n",
       "      <td>189</td>\n",
       "      <td>126</td>\n",
       "      <td>2</td>\n",
       "      <td>0</td>\n",
       "      <td>0</td>\n",
       "      <td>1</td>\n",
       "      <td>1</td>\n",
       "      <td>0</td>\n",
       "      <td>0</td>\n",
       "    </tr>\n",
       "    <tr>\n",
       "      <th>4</th>\n",
       "      <td>1959</td>\n",
       "      <td>2</td>\n",
       "      <td>5</td>\n",
       "      <td>78235.2</td>\n",
       "      <td>0</td>\n",
       "      <td>2</td>\n",
       "      <td>41</td>\n",
       "      <td>2</td>\n",
       "      <td>7</td>\n",
       "      <td>6</td>\n",
       "      <td>...</td>\n",
       "      <td>12</td>\n",
       "      <td>0</td>\n",
       "      <td>200</td>\n",
       "      <td>5</td>\n",
       "      <td>1</td>\n",
       "      <td>0</td>\n",
       "      <td>0</td>\n",
       "      <td>0</td>\n",
       "      <td>0</td>\n",
       "      <td>0</td>\n",
       "    </tr>\n",
       "  </tbody>\n",
       "</table>\n",
       "<p>5 rows × 24 columns</p>\n",
       "</div>"
      ],
      "text/plain": [
       "   Year_of_Birth  Education_Level  Marital_Status  Disposable_Income  \\\n",
       "0           1954                2               4            48556.8   \n",
       "1           1961                2               6            57499.2   \n",
       "2           1973                1               3            17025.6   \n",
       "3           1970                2               5            91983.6   \n",
       "4           1959                2               5            78235.2   \n",
       "\n",
       "   No_of_Kids_in_home  No_of_Teen_in_home  Recency  Discounted_Purchases  \\\n",
       "0                   0                   1       85                     6   \n",
       "1                   0                   1       79                     5   \n",
       "2                   0                   0       47                     1   \n",
       "3                   0                   0       98                     1   \n",
       "4                   0                   2       41                     2   \n",
       "\n",
       "   WebPurchases  CatalogPurchases  ...  Amount_on_FishProducts  \\\n",
       "0             8                 2  ...                       7   \n",
       "1             7                 4  ...                       0   \n",
       "2             2                 0  ...                      16   \n",
       "3             4                 7  ...                     219   \n",
       "4             7                 6  ...                      12   \n",
       "\n",
       "   Amount_on_SweetProducts  Amount_on_GoldProds  WebVisitsMonth  Cmp3Accepted  \\\n",
       "0                       23                   41               8             0   \n",
       "1                        0                   75               6             0   \n",
       "2                       12                   27               6             0   \n",
       "3                      189                  126               2             0   \n",
       "4                        0                  200               5             1   \n",
       "\n",
       "   Cmp4Accepted  Cmp5Accepted  Cmp1Accepted  Cmp2Accepted  Any_Complain  \n",
       "0             0             0             0             0             0  \n",
       "1             1             0             0             0             0  \n",
       "2             0             0             0             0             0  \n",
       "3             0             1             1             0             0  \n",
       "4             0             0             0             0             0  \n",
       "\n",
       "[5 rows x 24 columns]"
      ]
     },
     "execution_count": 33,
     "metadata": {},
     "output_type": "execute_result"
    }
   ],
   "source": [
    "test.head()"
   ]
  },
  {
   "cell_type": "markdown",
   "metadata": {},
   "source": [
    "nice one!"
   ]
  },
  {
   "cell_type": "markdown",
   "metadata": {},
   "source": [
    "#### Split the dataset into Features (Independent) and Target (dependent)"
   ]
  },
  {
   "cell_type": "code",
   "execution_count": 34,
   "metadata": {},
   "outputs": [],
   "source": [
    "from sklearn import metrics # for model evaluation\n",
    "from sklearn.model_selection import train_test_split # to divide the data in training and test set"
   ]
  },
  {
   "cell_type": "code",
   "execution_count": 35,
   "metadata": {},
   "outputs": [],
   "source": [
    "# Split train into X (Features) and y (Target)\n",
    "\n",
    "X = train.drop('Response', axis=1)\n",
    "y = train.Response"
   ]
  },
  {
   "cell_type": "markdown",
   "metadata": {},
   "source": [
    "<u1><li>**Split the data into training and test set**</li>\n",
    "</u1>\n",
    "We will split the dataset Features(X) and Label(Y) into training and test data. The training set will be 80% while the test set will be 20%"
   ]
  },
  {
   "cell_type": "code",
   "execution_count": 36,
   "metadata": {},
   "outputs": [],
   "source": [
    "#Split into train and test set\n",
    "X_train, X_test, y_train, y_test = train_test_split(X, y, test_size=0.2, random_state=42)\n"
   ]
  },
  {
   "cell_type": "markdown",
   "metadata": {},
   "source": [
    "#### Feature scaling"
   ]
  },
  {
   "cell_type": "markdown",
   "metadata": {},
   "source": [
    "To normalize your data, you need to import the MinMaxScalar from the sklearn library and apply it to our dataset. So, let’s do that!"
   ]
  },
  {
   "cell_type": "code",
   "execution_count": 37,
   "metadata": {},
   "outputs": [],
   "source": [
    "from sklearn import preprocessing\n",
    "from sklearn.preprocessing import MinMaxScaler\n",
    "\n",
    "scaler = MinMaxScaler(feature_range =(0,1))\n",
    "X_train = scaler.fit_transform(X_train) # Fit and transform the training data\n",
    "X_test = scaler.transform(X_test) # Transform the test data"
   ]
  },
  {
   "cell_type": "markdown",
   "metadata": {},
   "source": [
    "#### Overcoming our imbalance class using SMOTE"
   ]
  },
  {
   "cell_type": "code",
   "execution_count": 38,
   "metadata": {},
   "outputs": [],
   "source": [
    "from imblearn.over_sampling import SMOTE\n",
    "from collections import Counter"
   ]
  },
  {
   "cell_type": "code",
   "execution_count": 39,
   "metadata": {},
   "outputs": [
    {
     "name": "stdout",
     "output_type": "stream",
     "text": [
      "Before Counter({0: 1057, 1: 197})\n",
      "After Counter({0: 1057, 1: 1057})\n"
     ]
    }
   ],
   "source": [
    "counter = Counter(y_train)\n",
    "print('Before', counter)\n",
    "\n",
    "# Oversampling the train dataset\n",
    "smote = SMOTE()\n",
    "X_train, y_train = smote.fit_resample(X_train, y_train)\n",
    "\n",
    "counter = Counter(y_train)\n",
    "print('After', counter)"
   ]
  },
  {
   "cell_type": "markdown",
   "metadata": {},
   "source": [
    "<u1><li>**Model Training**</li>\n",
    "</u1>\n",
    "\n",
    "We will use the training data to build the model and then use the test data to make prediction and evaluation respectively"
   ]
  },
  {
   "cell_type": "markdown",
   "metadata": {},
   "source": [
    "## Logistic Regression\n",
    "\n",
    "We want to now train a logistic model with our training data. But we need to first import the Logistic Regression from the sklearn modelling "
   ]
  },
  {
   "cell_type": "code",
   "execution_count": 40,
   "metadata": {},
   "outputs": [
    {
     "data": {
      "text/plain": [
       "LogisticRegression()"
      ]
     },
     "execution_count": 40,
     "metadata": {},
     "output_type": "execute_result"
    }
   ],
   "source": [
    "from sklearn.linear_model import LogisticRegression\n",
    "\n",
    "logisticmodel = LogisticRegression()\n",
    "logisticmodel.fit(X_train, y_train)"
   ]
  },
  {
   "cell_type": "code",
   "execution_count": 41,
   "metadata": {},
   "outputs": [
    {
     "data": {
      "text/plain": [
       "array([0, 1, 0, 1, 0, 0, 0, 0, 1, 0, 1, 0, 0, 1, 1, 0, 0, 0, 0, 0, 1, 0,\n",
       "       1, 0, 1, 0, 1, 0, 1, 0, 0, 0, 0, 1, 0, 0, 1, 1, 1, 0, 0, 1, 0, 0,\n",
       "       0, 0, 0, 0, 0, 0, 0, 0, 1, 0, 1, 0, 1, 0, 0, 1, 0, 0, 1, 1, 0, 1,\n",
       "       0, 0, 1, 0, 0, 0, 1, 1, 0, 0, 0, 0, 0, 0, 0, 0, 1, 0, 0, 1, 0, 0,\n",
       "       0, 0, 0, 1, 0, 0, 0, 0, 0, 0, 1, 1, 0, 0, 0, 0, 0, 1, 0, 0, 0, 0,\n",
       "       0, 0, 1, 0, 0, 0, 0, 0, 0, 1, 0, 0, 0, 0, 0, 0, 1, 1, 0, 0, 0, 0,\n",
       "       0, 0, 0, 0, 0, 0, 0, 0, 0, 0, 0, 0, 0, 1, 1, 1, 0, 0, 0, 0, 0, 0,\n",
       "       0, 0, 0, 0, 0, 0, 0, 0, 0, 0, 0, 1, 0, 0, 1, 1, 0, 0, 0, 1, 0, 0,\n",
       "       1, 0, 1, 0, 0, 0, 0, 0, 1, 0, 0, 0, 0, 0, 0, 0, 0, 0, 1, 0, 0, 0,\n",
       "       0, 1, 0, 1, 0, 0, 0, 0, 0, 0, 0, 0, 1, 1, 1, 1, 1, 0, 0, 0, 1, 1,\n",
       "       1, 0, 0, 1, 0, 0, 0, 1, 0, 1, 0, 0, 0, 1, 0, 0, 0, 0, 0, 0, 0, 0,\n",
       "       0, 1, 0, 0, 1, 0, 0, 0, 1, 0, 1, 1, 1, 0, 1, 0, 0, 0, 0, 0, 0, 1,\n",
       "       0, 0, 0, 0, 0, 1, 1, 0, 1, 0, 0, 1, 1, 0, 0, 0, 1, 0, 1, 0, 0, 0,\n",
       "       1, 0, 0, 0, 0, 0, 1, 0, 0, 1, 1, 0, 0, 0, 0, 0, 0, 1, 0, 0, 0, 0,\n",
       "       0, 0, 0, 0, 0, 0], dtype=int64)"
      ]
     },
     "execution_count": 41,
     "metadata": {},
     "output_type": "execute_result"
    }
   ],
   "source": [
    "logisticmodel.predict(X_test)"
   ]
  },
  {
   "cell_type": "markdown",
   "metadata": {},
   "source": [
    "That is what the model predicted for us. we will now save our result into the variable logistic_prediction"
   ]
  },
  {
   "cell_type": "code",
   "execution_count": 42,
   "metadata": {},
   "outputs": [],
   "source": [
    "logistic_prediction = logisticmodel.predict(X_test)"
   ]
  },
  {
   "cell_type": "markdown",
   "metadata": {},
   "source": [
    "<u1><li>**Model Evaluation**</li>\n",
    "</u1>\n",
    "We want to now evaluate our model using the classification matrix"
   ]
  },
  {
   "cell_type": "code",
   "execution_count": 43,
   "metadata": {},
   "outputs": [],
   "source": [
    "def ConfusionMatrix(ytest, ypred, label = [\"Accepted\",\"Not Accepted\"]):\n",
    "    from sklearn.metrics import confusion_matrix\n",
    "    c_matrix = confusion_matrix(ytest, ypred)\n",
    "    plt.figure(figsize= (7,5))\n",
    "    sns.heatmap(c_matrix, annot= True, cbar= False, fmt= \"d\", cmap= \"Oranges\", linewidths= .5)\n",
    "    plt.xlabel(\"Actual\", fontsize= 15)\n",
    "    plt.xticks([0.5, 1.5], label)\n",
    "    plt.ylabel(\"Predicted\", fontsize= 15)\n",
    "    plt.yticks([0.5, 1.5], label)\n",
    "    plt.title(\"A confusion Matrix\")"
   ]
  },
  {
   "cell_type": "code",
   "execution_count": 44,
   "metadata": {},
   "outputs": [
    {
     "data": {
      "image/png": "[encoded data removed]",
      "text/plain": [
       "<Figure size 504x360 with 1 Axes>"
      ]
     },
     "metadata": {
      "needs_background": "light"
     },
     "output_type": "display_data"
    }
   ],
   "source": [
    "ConfusionMatrix(y_test, logistic_prediction, label= [\"Accepted\", \"Not Accepted\"])"
   ]
  },
  {
   "cell_type": "code",
   "execution_count": 45,
   "metadata": {},
   "outputs": [
    {
     "data": {
      "text/plain": [
       "0.8057324840764332"
      ]
     },
     "execution_count": 45,
     "metadata": {},
     "output_type": "execute_result"
    }
   ],
   "source": [
    "metrics.accuracy_score(y_test, logistic_prediction)"
   ]
  },
  {
   "cell_type": "code",
   "execution_count": 46,
   "metadata": {},
   "outputs": [
    {
     "data": {
      "text/plain": [
       "0.5040650406504065"
      ]
     },
     "execution_count": 46,
     "metadata": {},
     "output_type": "execute_result"
    }
   ],
   "source": [
    "metrics.f1_score(y_test, logistic_prediction)"
   ]
  },
  {
   "cell_type": "code",
   "execution_count": 47,
   "metadata": {},
   "outputs": [
    {
     "name": "stdout",
     "output_type": "stream",
     "text": [
      "Classification report : \n",
      "               precision    recall  f1-score   support\n",
      "\n",
      "           1       0.38      0.74      0.50        42\n",
      "           0       0.95      0.82      0.88       272\n",
      "\n",
      "    accuracy                           0.81       314\n",
      "   macro avg       0.67      0.78      0.69       314\n",
      "weighted avg       0.88      0.81      0.83       314\n",
      "\n"
     ]
    }
   ],
   "source": [
    "# classification report for precision, recall f1-score and accuracy\n",
    "from sklearn.metrics import classification_report\n",
    "matrix = classification_report(y_test,logistic_prediction,labels=[1,0])\n",
    "print('Classification report : \\n',matrix)\n"
   ]
  },
  {
   "cell_type": "markdown",
   "metadata": {},
   "source": [
    "Get the predicted result for the test data"
   ]
  },
  {
   "cell_type": "code",
   "execution_count": 274,
   "metadata": {},
   "outputs": [],
   "source": [
    "prediction1 = logisticmodel.predict(test)"
   ]
  },
  {
   "cell_type": "code",
   "execution_count": 275,
   "metadata": {},
   "outputs": [],
   "source": [
    "submission.Response = prediction1"
   ]
  },
  {
   "cell_type": "code",
   "execution_count": 276,
   "metadata": {},
   "outputs": [],
   "source": [
    "submission.to_csv(\"Prediction10.csv\", index=False)"
   ]
  },
  {
   "cell_type": "markdown",
   "metadata": {},
   "source": [
    "### Support Vector Machine"
   ]
  },
  {
   "cell_type": "code",
   "execution_count": 277,
   "metadata": {},
   "outputs": [
    {
     "data": {
      "text/plain": [
       "SVC()"
      ]
     },
     "execution_count": 277,
     "metadata": {},
     "output_type": "execute_result"
    }
   ],
   "source": [
    "from sklearn.svm import SVC\n",
    "SVMmodel = SVC()\n",
    "SVMmodel.fit(X_train, y_train)"
   ]
  },
  {
   "cell_type": "code",
   "execution_count": 278,
   "metadata": {},
   "outputs": [],
   "source": [
    "SVMmodel_prediction = SVMmodel.predict(X_test)"
   ]
  },
  {
   "cell_type": "code",
   "execution_count": 279,
   "metadata": {},
   "outputs": [
    {
     "data": {
      "text/plain": [
       "array([0, 0, 0, 1, 0, 0, 0, 0, 1, 0, 1, 0, 0, 1, 1, 0, 0, 0, 0, 0, 1, 0,\n",
       "       1, 0, 1, 0, 0, 0, 1, 0, 0, 0, 0, 1, 0, 0, 1, 1, 1, 0, 0, 1, 0, 0,\n",
       "       0, 0, 0, 0, 0, 0, 0, 0, 1, 0, 0, 0, 1, 0, 0, 0, 0, 0, 0, 1, 0, 0,\n",
       "       0, 0, 1, 0, 0, 0, 0, 1, 0, 0, 0, 0, 0, 0, 0, 0, 1, 1, 0, 1, 0, 0,\n",
       "       0, 0, 0, 0, 0, 0, 0, 0, 0, 0, 0, 1, 0, 0, 0, 0, 0, 1, 0, 0, 0, 0,\n",
       "       0, 0, 1, 0, 0, 0, 0, 0, 0, 0, 0, 0, 1, 0, 0, 0, 1, 1, 0, 0, 0, 1,\n",
       "       0, 0, 0, 0, 0, 0, 0, 0, 0, 0, 0, 0, 0, 1, 1, 1, 0, 0, 0, 0, 0, 0,\n",
       "       0, 0, 0, 0, 0, 0, 0, 0, 0, 0, 0, 1, 0, 0, 0, 1, 0, 0, 0, 1, 0, 0,\n",
       "       1, 0, 1, 0, 0, 0, 0, 0, 1, 0, 0, 0, 0, 0, 0, 0, 0, 0, 1, 0, 0, 0,\n",
       "       0, 0, 0, 1, 0, 0, 0, 0, 0, 1, 0, 0, 1, 1, 0, 1, 1, 1, 0, 0, 0, 1,\n",
       "       0, 0, 0, 1, 0, 0, 0, 0, 0, 1, 0, 1, 0, 1, 0, 0, 0, 0, 0, 0, 0, 0,\n",
       "       0, 0, 0, 0, 1, 0, 0, 0, 0, 0, 1, 1, 1, 0, 1, 0, 0, 0, 0, 0, 0, 1,\n",
       "       0, 0, 0, 0, 0, 1, 1, 0, 1, 0, 0, 0, 1, 0, 0, 0, 1, 0, 1, 0, 0, 0,\n",
       "       1, 0, 0, 0, 0, 0, 1, 0, 0, 1, 0, 0, 0, 0, 0, 0, 0, 0, 0, 0, 0, 0,\n",
       "       0, 0, 0, 0, 0, 1], dtype=int64)"
      ]
     },
     "execution_count": 279,
     "metadata": {},
     "output_type": "execute_result"
    }
   ],
   "source": [
    "SVMmodel_prediction"
   ]
  },
  {
   "cell_type": "code",
   "execution_count": 280,
   "metadata": {},
   "outputs": [
    {
     "data": {
      "image/png": "[encoded data removed]",
      "text/plain": [
       "<Figure size 504x360 with 1 Axes>"
      ]
     },
     "metadata": {
      "needs_background": "light"
     },
     "output_type": "display_data"
    }
   ],
   "source": [
    "ConfusionMatrix(y_test, SVMmodel_prediction, label= [\"Accepted\", \"Not Accepted\"])"
   ]
  },
  {
   "cell_type": "code",
   "execution_count": 281,
   "metadata": {},
   "outputs": [
    {
     "data": {
      "text/plain": [
       "0.8375796178343949"
      ]
     },
     "execution_count": 281,
     "metadata": {},
     "output_type": "execute_result"
    }
   ],
   "source": [
    "metrics.accuracy_score(y_test, SVMmodel_prediction)"
   ]
  },
  {
   "cell_type": "code",
   "execution_count": 282,
   "metadata": {},
   "outputs": [
    {
     "data": {
      "text/plain": [
       "0.5321100917431193"
      ]
     },
     "execution_count": 282,
     "metadata": {},
     "output_type": "execute_result"
    }
   ],
   "source": [
    "metrics.f1_score(y_test, SVMmodel_prediction)"
   ]
  },
  {
   "cell_type": "code",
   "execution_count": 283,
   "metadata": {},
   "outputs": [
    {
     "name": "stdout",
     "output_type": "stream",
     "text": [
      "Classification report : \n",
      "               precision    recall  f1-score   support\n",
      "\n",
      "           1       0.43      0.69      0.53        42\n",
      "           0       0.95      0.86      0.90       272\n",
      "\n",
      "    accuracy                           0.84       314\n",
      "   macro avg       0.69      0.78      0.72       314\n",
      "weighted avg       0.88      0.84      0.85       314\n",
      "\n"
     ]
    }
   ],
   "source": [
    "matrix = classification_report(y_test,SVMmodel_prediction,labels=[1,0])\n",
    "print('Classification report : \\n',matrix)\n"
   ]
  },
  {
   "cell_type": "code",
   "execution_count": 64,
   "metadata": {},
   "outputs": [],
   "source": [
    "prediction_2 = SVMmodel.predict(test)"
   ]
  },
  {
   "cell_type": "code",
   "execution_count": 65,
   "metadata": {},
   "outputs": [],
   "source": [
    "submission.Responses = prediction_2"
   ]
  },
  {
   "cell_type": "code",
   "execution_count": 66,
   "metadata": {},
   "outputs": [],
   "source": [
    "submission.to_csv(\"My second Prediction.csv\", index= False)"
   ]
  },
  {
   "cell_type": "markdown",
   "metadata": {},
   "source": [
    "### K Nearest Neighbors"
   ]
  },
  {
   "cell_type": "code",
   "execution_count": 157,
   "metadata": {},
   "outputs": [
    {
     "data": {
      "text/plain": [
       "KNeighborsClassifier()"
      ]
     },
     "execution_count": 157,
     "metadata": {},
     "output_type": "execute_result"
    }
   ],
   "source": [
    "from sklearn.neighbors import KNeighborsClassifier\n",
    "\n",
    "knmodel = KNeighborsClassifier(n_neighbors = 5, metric = 'minkowski', p = 2)\n",
    "knmodel.fit(X_train,y_train)\n"
   ]
  },
  {
   "cell_type": "code",
   "execution_count": 158,
   "metadata": {},
   "outputs": [],
   "source": [
    "knmodel_prediction = knmodel.predict(X_test)"
   ]
  },
  {
   "cell_type": "code",
   "execution_count": 159,
   "metadata": {},
   "outputs": [
    {
     "data": {
      "text/plain": [
       "array([0, 0, 0, 1, 0, 1, 0, 0, 1, 0, 0, 0, 0, 1, 1, 0, 0, 0, 0, 0, 0, 0,\n",
       "       1, 0, 1, 0, 0, 0, 1, 0, 0, 0, 1, 1, 0, 0, 1, 0, 1, 0, 0, 0, 0, 0,\n",
       "       0, 0, 0, 0, 0, 0, 0, 0, 0, 0, 0, 0, 1, 0, 0, 1, 0, 0, 1, 0, 0, 0,\n",
       "       1, 0, 1, 0, 0, 0, 0, 1, 0, 0, 0, 0, 0, 0, 0, 0, 0, 1, 0, 1, 0, 1,\n",
       "       0, 1, 0, 0, 1, 1, 0, 0, 0, 1, 0, 1, 0, 0, 0, 0, 0, 1, 0, 0, 0, 0,\n",
       "       0, 0, 1, 1, 0, 0, 0, 1, 0, 0, 0, 0, 1, 1, 0, 0, 1, 1, 0, 1, 1, 1,\n",
       "       0, 0, 0, 0, 0, 0, 0, 0, 1, 1, 0, 0, 0, 1, 1, 0, 0, 0, 0, 1, 0, 1,\n",
       "       1, 1, 0, 0, 0, 0, 1, 0, 0, 0, 0, 1, 0, 0, 1, 1, 0, 0, 0, 1, 1, 0,\n",
       "       1, 0, 0, 0, 0, 0, 1, 0, 1, 0, 0, 0, 1, 0, 0, 0, 0, 0, 0, 0, 1, 0,\n",
       "       0, 0, 0, 0, 0, 0, 1, 0, 0, 1, 0, 0, 1, 1, 0, 1, 1, 1, 0, 0, 1, 1,\n",
       "       0, 0, 0, 1, 1, 0, 0, 1, 0, 0, 0, 0, 0, 1, 0, 0, 0, 1, 0, 0, 0, 0,\n",
       "       1, 0, 0, 0, 1, 0, 0, 0, 0, 0, 1, 1, 1, 0, 0, 0, 0, 0, 0, 0, 0, 1,\n",
       "       0, 0, 0, 0, 0, 0, 1, 0, 1, 0, 1, 0, 0, 0, 0, 0, 0, 0, 1, 0, 0, 0,\n",
       "       0, 0, 1, 0, 0, 0, 1, 0, 0, 1, 0, 0, 0, 0, 0, 1, 0, 0, 0, 0, 0, 0,\n",
       "       0, 1, 0, 0, 0, 1], dtype=int64)"
      ]
     },
     "execution_count": 159,
     "metadata": {},
     "output_type": "execute_result"
    }
   ],
   "source": [
    "knmodel_prediction"
   ]
  },
  {
   "cell_type": "code",
   "execution_count": 160,
   "metadata": {},
   "outputs": [
    {
     "data": {
      "image/png": "[encoded data removed]",
      "text/plain": [
       "<Figure size 504x360 with 1 Axes>"
      ]
     },
     "metadata": {
      "needs_background": "light"
     },
     "output_type": "display_data"
    }
   ],
   "source": [
    "ConfusionMatrix(y_test, knmodel_prediction, label= [\"Accepted\", \"Not Accepted\"])"
   ]
  },
  {
   "cell_type": "code",
   "execution_count": 161,
   "metadata": {},
   "outputs": [
    {
     "name": "stdout",
     "output_type": "stream",
     "text": [
      "Classification report : \n",
      "               precision    recall  f1-score   support\n",
      "\n",
      "           1       0.31      0.64      0.42        42\n",
      "           0       0.93      0.78      0.85       272\n",
      "\n",
      "    accuracy                           0.76       314\n",
      "   macro avg       0.62      0.71      0.64       314\n",
      "weighted avg       0.85      0.76      0.79       314\n",
      "\n"
     ]
    }
   ],
   "source": [
    "matrix = classification_report(y_test,knmodel_prediction,labels=[1,0])\n",
    "print('Classification report : \\n',matrix)\n"
   ]
  },
  {
   "cell_type": "code",
   "execution_count": 72,
   "metadata": {},
   "outputs": [],
   "source": [
    "prediction_3 = knmodel.predict(test)\n",
    "\n",
    "submission.Response = prediction_3"
   ]
  },
  {
   "cell_type": "code",
   "execution_count": 73,
   "metadata": {},
   "outputs": [],
   "source": [
    "submission.to_csv(\"My third submission.csv\", index=False)"
   ]
  },
  {
   "cell_type": "markdown",
   "metadata": {},
   "source": [
    "#### Random Forest"
   ]
  },
  {
   "cell_type": "code",
   "execution_count": 48,
   "metadata": {},
   "outputs": [],
   "source": [
    "from sklearn.ensemble import RandomForestClassifier"
   ]
  },
  {
   "cell_type": "code",
   "execution_count": 49,
   "metadata": {},
   "outputs": [],
   "source": [
    "rn_forest = RandomForestClassifier()"
   ]
  },
  {
   "cell_type": "code",
   "execution_count": 50,
   "metadata": {},
   "outputs": [
    {
     "data": {
      "text/plain": [
       "RandomForestClassifier()"
      ]
     },
     "execution_count": 50,
     "metadata": {},
     "output_type": "execute_result"
    }
   ],
   "source": [
    "rn_forest.fit(X_train, y_train)"
   ]
  },
  {
   "cell_type": "code",
   "execution_count": 51,
   "metadata": {},
   "outputs": [],
   "source": [
    "rn_forest_prediction = rn_forest.predict(X_test)"
   ]
  },
  {
   "cell_type": "code",
   "execution_count": 52,
   "metadata": {},
   "outputs": [
    {
     "name": "stdout",
     "output_type": "stream",
     "text": [
      "Accuracy score: 0.89171974522293\n",
      "F1 score: 0.5277777777777778\n"
     ]
    }
   ],
   "source": [
    "from sklearn.metrics import accuracy_score, f1_score, roc_auc_score\n",
    "print('Accuracy score:', accuracy_score(y_test, rn_forest_prediction))\n",
    "print('F1 score:', f1_score(y_test, rn_forest_prediction))"
   ]
  },
  {
   "cell_type": "code",
   "execution_count": 288,
   "metadata": {},
   "outputs": [],
   "source": [
    "prediction_4 = rn_forest.predict(test)"
   ]
  },
  {
   "cell_type": "code",
   "execution_count": 289,
   "metadata": {},
   "outputs": [],
   "source": [
    "submission.Response = prediction_4"
   ]
  },
  {
   "cell_type": "code",
   "execution_count": 290,
   "metadata": {},
   "outputs": [],
   "source": [
    "submission.to_csv(\"prediction11.csv\", index=False)"
   ]
  },
  {
   "cell_type": "markdown",
   "metadata": {},
   "source": [
    "### XGBoost"
   ]
  },
  {
   "cell_type": "code",
   "execution_count": 85,
   "metadata": {},
   "outputs": [
    {
     "name": "stdout",
     "output_type": "stream",
     "text": [
      "Collecting xgboostNote: you may need to restart the kernel to use updated packages.\n",
      "  Downloading xgboost-1.4.2-py3-none-win_amd64.whl (97.8 MB)\n",
      "Requirement already satisfied: scipy in c:\\users\\user\\anaconda3\\lib\\site-packages (from xgboost) (1.5.2)\n",
      "Requirement already satisfied: numpy in c:\\users\\user\\anaconda3\\lib\\site-packages (from xgboost) (1.19.2)\n",
      "Installing collected packages: xgboost\n",
      "Successfully installed xgboost-1.4.2\n",
      "\n"
     ]
    }
   ],
   "source": [
    "pip install xgboost"
   ]
  },
  {
   "cell_type": "code",
   "execution_count": 53,
   "metadata": {},
   "outputs": [],
   "source": [
    "from xgboost import XGBClassifier"
   ]
  },
  {
   "cell_type": "code",
   "execution_count": 54,
   "metadata": {},
   "outputs": [],
   "source": [
    "xg_model = XGBClassifier(learning_rate =0.1,\n",
    "                                           n_estimators=1000,\n",
    "                                           max_depth=6,\n",
    "                                           subsample = 0.50,\n",
    "                                           verbosity = 0,\n",
    "                                           scale_pos_weight = 2.5,\n",
    "                                           updater =\"grow_histmaker\",\n",
    "                                           base_score  = 0.5)"
   ]
  },
  {
   "cell_type": "code",
   "execution_count": 55,
   "metadata": {},
   "outputs": [
    {
     "data": {
      "text/plain": [
       "XGBClassifier(base_score=0.5, booster='gbtree', colsample_bylevel=1,\n",
       "              colsample_bynode=1, colsample_bytree=1, gamma=0, gpu_id=-1,\n",
       "              importance_type='gain', interaction_constraints='',\n",
       "              learning_rate=0.1, max_delta_step=0, max_depth=6,\n",
       "              min_child_weight=1, missing=nan, monotone_constraints='()',\n",
       "              n_estimators=1000, n_jobs=4, num_parallel_tree=1, random_state=0,\n",
       "              reg_alpha=0, reg_lambda=1, scale_pos_weight=2.5, subsample=0.5,\n",
       "              tree_method='auto', updater='grow_histmaker',\n",
       "              validate_parameters=1, verbosity=0)"
      ]
     },
     "execution_count": 55,
     "metadata": {},
     "output_type": "execute_result"
    }
   ],
   "source": [
    "xg_model.fit(X_train, y_train)"
   ]
  },
  {
   "cell_type": "code",
   "execution_count": 57,
   "metadata": {},
   "outputs": [],
   "source": [
    "xg_model_prediction = xg_model.predict(X_test)"
   ]
  },
  {
   "cell_type": "code",
   "execution_count": 58,
   "metadata": {},
   "outputs": [
    {
     "name": "stdout",
     "output_type": "stream",
     "text": [
      "Accuracy score: 0.8694267515923567\n",
      "F1 score: 0.48101265822784806\n"
     ]
    }
   ],
   "source": [
    "print('Accuracy score:', accuracy_score(y_test, xg_model_prediction))\n",
    "print('F1 score:', f1_score(y_test, xg_model_prediction))"
   ]
  },
  {
   "cell_type": "code",
   "execution_count": 296,
   "metadata": {},
   "outputs": [],
   "source": [
    "prediction_5 = xg_model.predict(test)"
   ]
  },
  {
   "cell_type": "code",
   "execution_count": 297,
   "metadata": {},
   "outputs": [],
   "source": [
    "submission.Response = prediction_5"
   ]
  },
  {
   "cell_type": "code",
   "execution_count": 298,
   "metadata": {},
   "outputs": [],
   "source": [
    "submission.to_csv(\"My prediction12.csv\", index=False)"
   ]
  },
  {
   "cell_type": "code",
   "execution_count": 95,
   "metadata": {},
   "outputs": [],
   "source": [
    "%%capture\n",
    "!pip install catboost"
   ]
  },
  {
   "cell_type": "markdown",
   "metadata": {},
   "source": [
    "### CatBoost"
   ]
  },
  {
   "cell_type": "code",
   "execution_count": 59,
   "metadata": {},
   "outputs": [],
   "source": [
    "\n",
    "from catboost import CatBoostClassifier"
   ]
  },
  {
   "cell_type": "code",
   "execution_count": 60,
   "metadata": {},
   "outputs": [
    {
     "name": "stdout",
     "output_type": "stream",
     "text": [
      "0:\tlearn: 0.6024866\ttotal: 169ms\tremaining: 2m 48s\n",
      "1:\tlearn: 0.5479811\ttotal: 174ms\tremaining: 1m 27s\n",
      "2:\tlearn: 0.5024224\ttotal: 180ms\tremaining: 59.9s\n",
      "3:\tlearn: 0.4700971\ttotal: 186ms\tremaining: 46.4s\n",
      "4:\tlearn: 0.4404080\ttotal: 192ms\tremaining: 38.2s\n",
      "5:\tlearn: 0.4203868\ttotal: 198ms\tremaining: 32.8s\n",
      "6:\tlearn: 0.3981320\ttotal: 204ms\tremaining: 28.9s\n",
      "7:\tlearn: 0.3811906\ttotal: 209ms\tremaining: 26s\n",
      "8:\tlearn: 0.3701644\ttotal: 215ms\tremaining: 23.7s\n",
      "9:\tlearn: 0.3599712\ttotal: 221ms\tremaining: 21.8s\n",
      "10:\tlearn: 0.3414306\ttotal: 226ms\tremaining: 20.3s\n",
      "11:\tlearn: 0.3342410\ttotal: 231ms\tremaining: 19.1s\n",
      "12:\tlearn: 0.3284417\ttotal: 237ms\tremaining: 18s\n",
      "13:\tlearn: 0.3245596\ttotal: 243ms\tremaining: 17.1s\n",
      "14:\tlearn: 0.3131284\ttotal: 248ms\tremaining: 16.3s\n",
      "15:\tlearn: 0.3033392\ttotal: 254ms\tremaining: 15.6s\n",
      "16:\tlearn: 0.2972483\ttotal: 259ms\tremaining: 15s\n",
      "17:\tlearn: 0.2917779\ttotal: 265ms\tremaining: 14.5s\n",
      "18:\tlearn: 0.2864157\ttotal: 271ms\tremaining: 14s\n",
      "19:\tlearn: 0.2836108\ttotal: 276ms\tremaining: 13.5s\n",
      "20:\tlearn: 0.2787528\ttotal: 282ms\tremaining: 13.1s\n",
      "21:\tlearn: 0.2738908\ttotal: 287ms\tremaining: 12.8s\n",
      "22:\tlearn: 0.2703845\ttotal: 293ms\tremaining: 12.4s\n",
      "23:\tlearn: 0.2653908\ttotal: 298ms\tremaining: 12.1s\n",
      "24:\tlearn: 0.2615064\ttotal: 304ms\tremaining: 11.8s\n",
      "25:\tlearn: 0.2586293\ttotal: 309ms\tremaining: 11.6s\n",
      "26:\tlearn: 0.2557022\ttotal: 315ms\tremaining: 11.3s\n",
      "27:\tlearn: 0.2527643\ttotal: 320ms\tremaining: 11.1s\n",
      "28:\tlearn: 0.2477375\ttotal: 326ms\tremaining: 10.9s\n",
      "29:\tlearn: 0.2445610\ttotal: 332ms\tremaining: 10.7s\n",
      "30:\tlearn: 0.2394753\ttotal: 339ms\tremaining: 10.6s\n",
      "31:\tlearn: 0.2385332\ttotal: 346ms\tremaining: 10.5s\n",
      "32:\tlearn: 0.2347085\ttotal: 353ms\tremaining: 10.3s\n",
      "33:\tlearn: 0.2330667\ttotal: 359ms\tremaining: 10.2s\n",
      "34:\tlearn: 0.2310636\ttotal: 366ms\tremaining: 10.1s\n",
      "35:\tlearn: 0.2281346\ttotal: 373ms\tremaining: 9.99s\n",
      "36:\tlearn: 0.2256089\ttotal: 379ms\tremaining: 9.85s\n",
      "37:\tlearn: 0.2238096\ttotal: 385ms\tremaining: 9.74s\n",
      "38:\tlearn: 0.2215846\ttotal: 391ms\tremaining: 9.63s\n",
      "39:\tlearn: 0.2183174\ttotal: 396ms\tremaining: 9.51s\n",
      "40:\tlearn: 0.2163311\ttotal: 402ms\tremaining: 9.39s\n",
      "41:\tlearn: 0.2126765\ttotal: 407ms\tremaining: 9.29s\n",
      "42:\tlearn: 0.2104752\ttotal: 413ms\tremaining: 9.2s\n",
      "43:\tlearn: 0.2085701\ttotal: 419ms\tremaining: 9.1s\n",
      "44:\tlearn: 0.2063470\ttotal: 424ms\tremaining: 9s\n",
      "45:\tlearn: 0.2035451\ttotal: 430ms\tremaining: 8.91s\n",
      "46:\tlearn: 0.2016272\ttotal: 435ms\tremaining: 8.83s\n",
      "47:\tlearn: 0.2010273\ttotal: 441ms\tremaining: 8.74s\n",
      "48:\tlearn: 0.1988480\ttotal: 447ms\tremaining: 8.68s\n",
      "49:\tlearn: 0.1963530\ttotal: 452ms\tremaining: 8.6s\n",
      "50:\tlearn: 0.1943455\ttotal: 458ms\tremaining: 8.52s\n",
      "51:\tlearn: 0.1927338\ttotal: 463ms\tremaining: 8.45s\n",
      "52:\tlearn: 0.1905883\ttotal: 469ms\tremaining: 8.38s\n",
      "53:\tlearn: 0.1841987\ttotal: 474ms\tremaining: 8.31s\n",
      "54:\tlearn: 0.1806309\ttotal: 480ms\tremaining: 8.25s\n",
      "55:\tlearn: 0.1798456\ttotal: 486ms\tremaining: 8.19s\n",
      "56:\tlearn: 0.1777980\ttotal: 491ms\tremaining: 8.13s\n",
      "57:\tlearn: 0.1762003\ttotal: 497ms\tremaining: 8.07s\n",
      "58:\tlearn: 0.1756242\ttotal: 502ms\tremaining: 8.01s\n",
      "59:\tlearn: 0.1739520\ttotal: 511ms\tremaining: 8s\n",
      "60:\tlearn: 0.1728054\ttotal: 517ms\tremaining: 7.96s\n",
      "61:\tlearn: 0.1716475\ttotal: 524ms\tremaining: 7.93s\n",
      "62:\tlearn: 0.1705418\ttotal: 531ms\tremaining: 7.89s\n",
      "63:\tlearn: 0.1700560\ttotal: 539ms\tremaining: 7.88s\n",
      "64:\tlearn: 0.1691301\ttotal: 546ms\tremaining: 7.85s\n",
      "65:\tlearn: 0.1681114\ttotal: 552ms\tremaining: 7.82s\n",
      "66:\tlearn: 0.1668013\ttotal: 559ms\tremaining: 7.78s\n",
      "67:\tlearn: 0.1652412\ttotal: 565ms\tremaining: 7.75s\n",
      "68:\tlearn: 0.1627277\ttotal: 572ms\tremaining: 7.72s\n",
      "69:\tlearn: 0.1621568\ttotal: 578ms\tremaining: 7.68s\n",
      "70:\tlearn: 0.1616116\ttotal: 584ms\tremaining: 7.64s\n",
      "71:\tlearn: 0.1610749\ttotal: 589ms\tremaining: 7.59s\n",
      "72:\tlearn: 0.1597045\ttotal: 595ms\tremaining: 7.56s\n",
      "73:\tlearn: 0.1591066\ttotal: 601ms\tremaining: 7.51s\n",
      "74:\tlearn: 0.1582391\ttotal: 606ms\tremaining: 7.47s\n",
      "75:\tlearn: 0.1566826\ttotal: 612ms\tremaining: 7.44s\n",
      "76:\tlearn: 0.1552284\ttotal: 617ms\tremaining: 7.4s\n",
      "77:\tlearn: 0.1532984\ttotal: 623ms\tremaining: 7.36s\n",
      "78:\tlearn: 0.1515307\ttotal: 629ms\tremaining: 7.33s\n",
      "79:\tlearn: 0.1502649\ttotal: 634ms\tremaining: 7.29s\n",
      "80:\tlearn: 0.1497190\ttotal: 640ms\tremaining: 7.26s\n",
      "81:\tlearn: 0.1491354\ttotal: 645ms\tremaining: 7.22s\n",
      "82:\tlearn: 0.1484988\ttotal: 651ms\tremaining: 7.19s\n",
      "83:\tlearn: 0.1475199\ttotal: 656ms\tremaining: 7.16s\n",
      "84:\tlearn: 0.1470345\ttotal: 662ms\tremaining: 7.12s\n",
      "85:\tlearn: 0.1455552\ttotal: 667ms\tremaining: 7.09s\n",
      "86:\tlearn: 0.1451966\ttotal: 673ms\tremaining: 7.06s\n",
      "87:\tlearn: 0.1435648\ttotal: 680ms\tremaining: 7.05s\n",
      "88:\tlearn: 0.1430365\ttotal: 687ms\tremaining: 7.03s\n",
      "89:\tlearn: 0.1420983\ttotal: 693ms\tremaining: 7.01s\n",
      "90:\tlearn: 0.1418702\ttotal: 700ms\tremaining: 6.99s\n",
      "91:\tlearn: 0.1412895\ttotal: 706ms\tremaining: 6.97s\n",
      "92:\tlearn: 0.1401352\ttotal: 716ms\tremaining: 6.98s\n",
      "93:\tlearn: 0.1390036\ttotal: 722ms\tremaining: 6.96s\n",
      "94:\tlearn: 0.1372735\ttotal: 728ms\tremaining: 6.93s\n",
      "95:\tlearn: 0.1363074\ttotal: 734ms\tremaining: 6.91s\n",
      "96:\tlearn: 0.1351821\ttotal: 742ms\tremaining: 6.9s\n",
      "97:\tlearn: 0.1347389\ttotal: 747ms\tremaining: 6.88s\n",
      "98:\tlearn: 0.1343681\ttotal: 754ms\tremaining: 6.86s\n",
      "99:\tlearn: 0.1326314\ttotal: 760ms\tremaining: 6.84s\n",
      "100:\tlearn: 0.1322049\ttotal: 765ms\tremaining: 6.81s\n",
      "101:\tlearn: 0.1316213\ttotal: 771ms\tremaining: 6.79s\n",
      "102:\tlearn: 0.1306796\ttotal: 777ms\tremaining: 6.77s\n",
      "103:\tlearn: 0.1300758\ttotal: 783ms\tremaining: 6.74s\n",
      "104:\tlearn: 0.1298983\ttotal: 788ms\tremaining: 6.72s\n",
      "105:\tlearn: 0.1295240\ttotal: 794ms\tremaining: 6.69s\n",
      "106:\tlearn: 0.1292572\ttotal: 800ms\tremaining: 6.67s\n",
      "107:\tlearn: 0.1284610\ttotal: 805ms\tremaining: 6.65s\n",
      "108:\tlearn: 0.1280203\ttotal: 811ms\tremaining: 6.63s\n",
      "109:\tlearn: 0.1274864\ttotal: 816ms\tremaining: 6.6s\n",
      "110:\tlearn: 0.1263699\ttotal: 822ms\tremaining: 6.58s\n",
      "111:\tlearn: 0.1260859\ttotal: 827ms\tremaining: 6.56s\n",
      "112:\tlearn: 0.1247223\ttotal: 833ms\tremaining: 6.54s\n",
      "113:\tlearn: 0.1244375\ttotal: 840ms\tremaining: 6.52s\n",
      "114:\tlearn: 0.1236446\ttotal: 850ms\tremaining: 6.54s\n",
      "115:\tlearn: 0.1233073\ttotal: 859ms\tremaining: 6.55s\n",
      "116:\tlearn: 0.1227637\ttotal: 866ms\tremaining: 6.54s\n",
      "117:\tlearn: 0.1227196\ttotal: 873ms\tremaining: 6.52s\n",
      "118:\tlearn: 0.1224362\ttotal: 883ms\tremaining: 6.54s\n",
      "119:\tlearn: 0.1216089\ttotal: 890ms\tremaining: 6.53s\n",
      "120:\tlearn: 0.1212150\ttotal: 897ms\tremaining: 6.52s\n",
      "121:\tlearn: 0.1199147\ttotal: 904ms\tremaining: 6.5s\n",
      "122:\tlearn: 0.1190647\ttotal: 910ms\tremaining: 6.49s\n",
      "123:\tlearn: 0.1184553\ttotal: 917ms\tremaining: 6.48s\n",
      "124:\tlearn: 0.1179785\ttotal: 928ms\tremaining: 6.5s\n",
      "125:\tlearn: 0.1179572\ttotal: 938ms\tremaining: 6.5s\n",
      "126:\tlearn: 0.1178176\ttotal: 947ms\tremaining: 6.51s\n",
      "127:\tlearn: 0.1172445\ttotal: 953ms\tremaining: 6.5s\n",
      "128:\tlearn: 0.1169326\ttotal: 961ms\tremaining: 6.49s\n",
      "129:\tlearn: 0.1162687\ttotal: 966ms\tremaining: 6.47s\n",
      "130:\tlearn: 0.1159233\ttotal: 973ms\tremaining: 6.46s\n",
      "131:\tlearn: 0.1154540\ttotal: 978ms\tremaining: 6.43s\n",
      "132:\tlearn: 0.1151608\ttotal: 985ms\tremaining: 6.42s\n",
      "133:\tlearn: 0.1145205\ttotal: 991ms\tremaining: 6.4s\n",
      "134:\tlearn: 0.1135664\ttotal: 996ms\tremaining: 6.38s\n",
      "135:\tlearn: 0.1131091\ttotal: 1s\tremaining: 6.36s\n",
      "136:\tlearn: 0.1124435\ttotal: 1.01s\tremaining: 6.34s\n",
      "137:\tlearn: 0.1122637\ttotal: 1.01s\tremaining: 6.33s\n",
      "138:\tlearn: 0.1119809\ttotal: 1.02s\tremaining: 6.32s\n",
      "139:\tlearn: 0.1116180\ttotal: 1.03s\tremaining: 6.31s\n",
      "140:\tlearn: 0.1110621\ttotal: 1.03s\tremaining: 6.3s\n",
      "141:\tlearn: 0.1106228\ttotal: 1.04s\tremaining: 6.3s\n",
      "142:\tlearn: 0.1097750\ttotal: 1.05s\tremaining: 6.29s\n",
      "143:\tlearn: 0.1094604\ttotal: 1.06s\tremaining: 6.29s\n",
      "144:\tlearn: 0.1086619\ttotal: 1.06s\tremaining: 6.27s\n",
      "145:\tlearn: 0.1083875\ttotal: 1.07s\tremaining: 6.25s\n",
      "146:\tlearn: 0.1081281\ttotal: 1.07s\tremaining: 6.24s\n",
      "147:\tlearn: 0.1075023\ttotal: 1.08s\tremaining: 6.22s\n",
      "148:\tlearn: 0.1071088\ttotal: 1.08s\tremaining: 6.2s\n",
      "149:\tlearn: 0.1062587\ttotal: 1.09s\tremaining: 6.18s\n",
      "150:\tlearn: 0.1060368\ttotal: 1.1s\tremaining: 6.17s\n",
      "151:\tlearn: 0.1057578\ttotal: 1.1s\tremaining: 6.15s\n",
      "152:\tlearn: 0.1056452\ttotal: 1.11s\tremaining: 6.14s\n",
      "153:\tlearn: 0.1053941\ttotal: 1.11s\tremaining: 6.12s\n",
      "154:\tlearn: 0.1047609\ttotal: 1.12s\tremaining: 6.1s\n",
      "155:\tlearn: 0.1043164\ttotal: 1.12s\tremaining: 6.09s\n",
      "156:\tlearn: 0.1041225\ttotal: 1.13s\tremaining: 6.07s\n",
      "157:\tlearn: 0.1034328\ttotal: 1.14s\tremaining: 6.05s\n",
      "158:\tlearn: 0.1031928\ttotal: 1.14s\tremaining: 6.04s\n",
      "159:\tlearn: 0.1027062\ttotal: 1.15s\tremaining: 6.02s\n",
      "160:\tlearn: 0.1023287\ttotal: 1.15s\tremaining: 6.01s\n",
      "161:\tlearn: 0.1018769\ttotal: 1.16s\tremaining: 5.99s\n",
      "162:\tlearn: 0.1017565\ttotal: 1.16s\tremaining: 5.97s\n",
      "163:\tlearn: 0.1013450\ttotal: 1.17s\tremaining: 5.96s\n",
      "164:\tlearn: 0.1007329\ttotal: 1.17s\tremaining: 5.94s\n",
      "165:\tlearn: 0.1006515\ttotal: 1.18s\tremaining: 5.93s\n"
     ]
    },
    {
     "name": "stdout",
     "output_type": "stream",
     "text": [
      "166:\tlearn: 0.1004593\ttotal: 1.19s\tremaining: 5.92s\n",
      "167:\tlearn: 0.1003687\ttotal: 1.19s\tremaining: 5.92s\n",
      "168:\tlearn: 0.0998234\ttotal: 1.2s\tremaining: 5.9s\n",
      "169:\tlearn: 0.0989823\ttotal: 1.21s\tremaining: 5.9s\n",
      "170:\tlearn: 0.0985818\ttotal: 1.21s\tremaining: 5.89s\n",
      "171:\tlearn: 0.0984450\ttotal: 1.22s\tremaining: 5.88s\n",
      "172:\tlearn: 0.0981290\ttotal: 1.23s\tremaining: 5.87s\n",
      "173:\tlearn: 0.0972056\ttotal: 1.23s\tremaining: 5.85s\n",
      "174:\tlearn: 0.0969134\ttotal: 1.24s\tremaining: 5.84s\n",
      "175:\tlearn: 0.0961110\ttotal: 1.24s\tremaining: 5.82s\n",
      "176:\tlearn: 0.0960425\ttotal: 1.25s\tremaining: 5.81s\n",
      "177:\tlearn: 0.0956750\ttotal: 1.25s\tremaining: 5.8s\n",
      "178:\tlearn: 0.0954881\ttotal: 1.26s\tremaining: 5.78s\n",
      "179:\tlearn: 0.0949807\ttotal: 1.27s\tremaining: 5.77s\n",
      "180:\tlearn: 0.0948427\ttotal: 1.27s\tremaining: 5.75s\n",
      "181:\tlearn: 0.0945513\ttotal: 1.28s\tremaining: 5.74s\n",
      "182:\tlearn: 0.0943928\ttotal: 1.28s\tremaining: 5.73s\n",
      "183:\tlearn: 0.0939382\ttotal: 1.29s\tremaining: 5.71s\n",
      "184:\tlearn: 0.0936284\ttotal: 1.29s\tremaining: 5.7s\n",
      "185:\tlearn: 0.0926915\ttotal: 1.3s\tremaining: 5.69s\n",
      "186:\tlearn: 0.0926759\ttotal: 1.31s\tremaining: 5.69s\n",
      "187:\tlearn: 0.0926472\ttotal: 1.31s\tremaining: 5.68s\n",
      "188:\tlearn: 0.0922730\ttotal: 1.32s\tremaining: 5.68s\n",
      "189:\tlearn: 0.0919654\ttotal: 1.33s\tremaining: 5.67s\n",
      "190:\tlearn: 0.0909697\ttotal: 1.33s\tremaining: 5.66s\n",
      "191:\tlearn: 0.0908543\ttotal: 1.34s\tremaining: 5.64s\n",
      "192:\tlearn: 0.0899400\ttotal: 1.35s\tremaining: 5.63s\n",
      "193:\tlearn: 0.0898642\ttotal: 1.35s\tremaining: 5.62s\n",
      "194:\tlearn: 0.0889282\ttotal: 1.36s\tremaining: 5.62s\n",
      "195:\tlearn: 0.0888322\ttotal: 1.37s\tremaining: 5.61s\n",
      "196:\tlearn: 0.0886366\ttotal: 1.37s\tremaining: 5.6s\n",
      "197:\tlearn: 0.0885836\ttotal: 1.38s\tremaining: 5.6s\n",
      "198:\tlearn: 0.0879740\ttotal: 1.39s\tremaining: 5.61s\n",
      "199:\tlearn: 0.0879136\ttotal: 1.4s\tremaining: 5.6s\n",
      "200:\tlearn: 0.0876956\ttotal: 1.41s\tremaining: 5.59s\n",
      "201:\tlearn: 0.0871081\ttotal: 1.41s\tremaining: 5.59s\n",
      "202:\tlearn: 0.0867269\ttotal: 1.42s\tremaining: 5.58s\n",
      "203:\tlearn: 0.0864801\ttotal: 1.43s\tremaining: 5.56s\n",
      "204:\tlearn: 0.0856882\ttotal: 1.43s\tremaining: 5.55s\n",
      "205:\tlearn: 0.0851903\ttotal: 1.44s\tremaining: 5.54s\n",
      "206:\tlearn: 0.0844527\ttotal: 1.44s\tremaining: 5.53s\n",
      "207:\tlearn: 0.0844226\ttotal: 1.45s\tremaining: 5.52s\n",
      "208:\tlearn: 0.0839583\ttotal: 1.46s\tremaining: 5.51s\n",
      "209:\tlearn: 0.0836769\ttotal: 1.46s\tremaining: 5.5s\n",
      "210:\tlearn: 0.0826203\ttotal: 1.47s\tremaining: 5.49s\n",
      "211:\tlearn: 0.0822912\ttotal: 1.47s\tremaining: 5.48s\n",
      "212:\tlearn: 0.0817675\ttotal: 1.48s\tremaining: 5.47s\n",
      "213:\tlearn: 0.0814559\ttotal: 1.49s\tremaining: 5.46s\n",
      "214:\tlearn: 0.0812461\ttotal: 1.49s\tremaining: 5.45s\n",
      "215:\tlearn: 0.0808616\ttotal: 1.5s\tremaining: 5.44s\n",
      "216:\tlearn: 0.0805372\ttotal: 1.5s\tremaining: 5.42s\n",
      "217:\tlearn: 0.0803556\ttotal: 1.51s\tremaining: 5.42s\n",
      "218:\tlearn: 0.0801720\ttotal: 1.52s\tremaining: 5.41s\n",
      "219:\tlearn: 0.0801119\ttotal: 1.52s\tremaining: 5.4s\n",
      "220:\tlearn: 0.0797553\ttotal: 1.53s\tremaining: 5.39s\n",
      "221:\tlearn: 0.0794376\ttotal: 1.54s\tremaining: 5.39s\n",
      "222:\tlearn: 0.0788576\ttotal: 1.54s\tremaining: 5.38s\n",
      "223:\tlearn: 0.0787533\ttotal: 1.55s\tremaining: 5.38s\n",
      "224:\tlearn: 0.0782864\ttotal: 1.56s\tremaining: 5.37s\n",
      "225:\tlearn: 0.0781204\ttotal: 1.56s\tremaining: 5.36s\n",
      "226:\tlearn: 0.0778666\ttotal: 1.57s\tremaining: 5.36s\n",
      "227:\tlearn: 0.0777648\ttotal: 1.58s\tremaining: 5.34s\n",
      "228:\tlearn: 0.0775093\ttotal: 1.58s\tremaining: 5.33s\n",
      "229:\tlearn: 0.0774248\ttotal: 1.59s\tremaining: 5.32s\n",
      "230:\tlearn: 0.0772558\ttotal: 1.6s\tremaining: 5.32s\n",
      "231:\tlearn: 0.0769960\ttotal: 1.6s\tremaining: 5.3s\n",
      "232:\tlearn: 0.0769723\ttotal: 1.61s\tremaining: 5.3s\n",
      "233:\tlearn: 0.0769075\ttotal: 1.61s\tremaining: 5.29s\n",
      "234:\tlearn: 0.0766911\ttotal: 1.62s\tremaining: 5.28s\n",
      "235:\tlearn: 0.0764333\ttotal: 1.63s\tremaining: 5.27s\n",
      "236:\tlearn: 0.0760179\ttotal: 1.63s\tremaining: 5.26s\n",
      "237:\tlearn: 0.0756241\ttotal: 1.64s\tremaining: 5.25s\n",
      "238:\tlearn: 0.0755341\ttotal: 1.65s\tremaining: 5.27s\n",
      "239:\tlearn: 0.0751244\ttotal: 1.66s\tremaining: 5.25s\n",
      "240:\tlearn: 0.0750710\ttotal: 1.67s\tremaining: 5.24s\n",
      "241:\tlearn: 0.0747465\ttotal: 1.67s\tremaining: 5.23s\n",
      "242:\tlearn: 0.0744297\ttotal: 1.68s\tremaining: 5.22s\n",
      "243:\tlearn: 0.0739116\ttotal: 1.68s\tremaining: 5.21s\n",
      "244:\tlearn: 0.0738844\ttotal: 1.69s\tremaining: 5.2s\n",
      "245:\tlearn: 0.0733627\ttotal: 1.69s\tremaining: 5.19s\n",
      "246:\tlearn: 0.0728682\ttotal: 1.7s\tremaining: 5.18s\n",
      "247:\tlearn: 0.0728072\ttotal: 1.71s\tremaining: 5.18s\n",
      "248:\tlearn: 0.0727416\ttotal: 1.71s\tremaining: 5.17s\n",
      "249:\tlearn: 0.0726616\ttotal: 1.72s\tremaining: 5.17s\n",
      "250:\tlearn: 0.0722673\ttotal: 1.73s\tremaining: 5.16s\n",
      "251:\tlearn: 0.0720583\ttotal: 1.73s\tremaining: 5.15s\n",
      "252:\tlearn: 0.0718142\ttotal: 1.74s\tremaining: 5.14s\n",
      "253:\tlearn: 0.0715908\ttotal: 1.75s\tremaining: 5.13s\n",
      "254:\tlearn: 0.0712441\ttotal: 1.75s\tremaining: 5.12s\n",
      "255:\tlearn: 0.0711793\ttotal: 1.76s\tremaining: 5.11s\n",
      "256:\tlearn: 0.0709074\ttotal: 1.76s\tremaining: 5.1s\n",
      "257:\tlearn: 0.0708609\ttotal: 1.77s\tremaining: 5.09s\n",
      "258:\tlearn: 0.0708271\ttotal: 1.77s\tremaining: 5.08s\n",
      "259:\tlearn: 0.0701578\ttotal: 1.78s\tremaining: 5.07s\n",
      "260:\tlearn: 0.0699471\ttotal: 1.79s\tremaining: 5.06s\n",
      "261:\tlearn: 0.0698765\ttotal: 1.79s\tremaining: 5.05s\n",
      "262:\tlearn: 0.0694268\ttotal: 1.8s\tremaining: 5.04s\n",
      "263:\tlearn: 0.0693973\ttotal: 1.8s\tremaining: 5.03s\n",
      "264:\tlearn: 0.0690549\ttotal: 1.81s\tremaining: 5.02s\n",
      "265:\tlearn: 0.0684436\ttotal: 1.81s\tremaining: 5.01s\n",
      "266:\tlearn: 0.0683025\ttotal: 1.82s\tremaining: 5s\n",
      "267:\tlearn: 0.0681021\ttotal: 1.83s\tremaining: 4.99s\n",
      "268:\tlearn: 0.0679653\ttotal: 1.83s\tremaining: 4.98s\n",
      "269:\tlearn: 0.0679301\ttotal: 1.84s\tremaining: 4.97s\n",
      "270:\tlearn: 0.0678095\ttotal: 1.84s\tremaining: 4.96s\n",
      "271:\tlearn: 0.0677744\ttotal: 1.85s\tremaining: 4.95s\n",
      "272:\tlearn: 0.0677342\ttotal: 1.86s\tremaining: 4.94s\n",
      "273:\tlearn: 0.0671683\ttotal: 1.86s\tremaining: 4.93s\n",
      "274:\tlearn: 0.0665841\ttotal: 1.87s\tremaining: 4.93s\n",
      "275:\tlearn: 0.0664404\ttotal: 1.88s\tremaining: 4.92s\n",
      "276:\tlearn: 0.0664232\ttotal: 1.88s\tremaining: 4.92s\n",
      "277:\tlearn: 0.0660790\ttotal: 1.89s\tremaining: 4.91s\n",
      "278:\tlearn: 0.0654928\ttotal: 1.9s\tremaining: 4.91s\n",
      "279:\tlearn: 0.0653238\ttotal: 1.9s\tremaining: 4.89s\n",
      "280:\tlearn: 0.0651762\ttotal: 1.91s\tremaining: 4.89s\n",
      "281:\tlearn: 0.0650163\ttotal: 1.92s\tremaining: 4.88s\n",
      "282:\tlearn: 0.0649415\ttotal: 1.92s\tremaining: 4.87s\n",
      "283:\tlearn: 0.0647527\ttotal: 1.93s\tremaining: 4.86s\n",
      "284:\tlearn: 0.0646254\ttotal: 1.93s\tremaining: 4.85s\n",
      "285:\tlearn: 0.0642352\ttotal: 1.94s\tremaining: 4.84s\n",
      "286:\tlearn: 0.0639062\ttotal: 1.95s\tremaining: 4.83s\n",
      "287:\tlearn: 0.0638718\ttotal: 1.95s\tremaining: 4.83s\n",
      "288:\tlearn: 0.0638412\ttotal: 1.96s\tremaining: 4.82s\n",
      "289:\tlearn: 0.0635861\ttotal: 1.97s\tremaining: 4.81s\n",
      "290:\tlearn: 0.0633593\ttotal: 1.97s\tremaining: 4.81s\n",
      "291:\tlearn: 0.0628439\ttotal: 1.98s\tremaining: 4.8s\n",
      "292:\tlearn: 0.0627284\ttotal: 1.99s\tremaining: 4.79s\n",
      "293:\tlearn: 0.0621607\ttotal: 1.99s\tremaining: 4.79s\n",
      "294:\tlearn: 0.0620684\ttotal: 2s\tremaining: 4.78s\n",
      "295:\tlearn: 0.0619535\ttotal: 2.01s\tremaining: 4.77s\n",
      "296:\tlearn: 0.0614952\ttotal: 2.01s\tremaining: 4.77s\n",
      "297:\tlearn: 0.0609162\ttotal: 2.02s\tremaining: 4.76s\n",
      "298:\tlearn: 0.0607244\ttotal: 2.03s\tremaining: 4.75s\n",
      "299:\tlearn: 0.0604016\ttotal: 2.04s\tremaining: 4.75s\n",
      "300:\tlearn: 0.0602573\ttotal: 2.04s\tremaining: 4.75s\n",
      "301:\tlearn: 0.0595919\ttotal: 2.05s\tremaining: 4.74s\n",
      "302:\tlearn: 0.0595340\ttotal: 2.06s\tremaining: 4.73s\n",
      "303:\tlearn: 0.0590559\ttotal: 2.06s\tremaining: 4.73s\n",
      "304:\tlearn: 0.0588599\ttotal: 2.07s\tremaining: 4.72s\n",
      "305:\tlearn: 0.0587034\ttotal: 2.08s\tremaining: 4.72s\n",
      "306:\tlearn: 0.0582116\ttotal: 2.09s\tremaining: 4.71s\n",
      "307:\tlearn: 0.0580328\ttotal: 2.1s\tremaining: 4.71s\n",
      "308:\tlearn: 0.0578340\ttotal: 2.1s\tremaining: 4.7s\n",
      "309:\tlearn: 0.0576200\ttotal: 2.11s\tremaining: 4.69s\n",
      "310:\tlearn: 0.0575826\ttotal: 2.12s\tremaining: 4.69s\n",
      "311:\tlearn: 0.0573221\ttotal: 2.12s\tremaining: 4.68s\n",
      "312:\tlearn: 0.0571953\ttotal: 2.13s\tremaining: 4.67s\n",
      "313:\tlearn: 0.0570228\ttotal: 2.14s\tremaining: 4.67s\n",
      "314:\tlearn: 0.0569321\ttotal: 2.14s\tremaining: 4.66s\n",
      "315:\tlearn: 0.0564662\ttotal: 2.15s\tremaining: 4.65s\n",
      "316:\tlearn: 0.0564475\ttotal: 2.15s\tremaining: 4.64s\n",
      "317:\tlearn: 0.0563252\ttotal: 2.16s\tremaining: 4.64s\n",
      "318:\tlearn: 0.0562012\ttotal: 2.17s\tremaining: 4.63s\n",
      "319:\tlearn: 0.0560601\ttotal: 2.18s\tremaining: 4.63s\n",
      "320:\tlearn: 0.0558415\ttotal: 2.19s\tremaining: 4.63s\n",
      "321:\tlearn: 0.0557602\ttotal: 2.19s\tremaining: 4.62s\n",
      "322:\tlearn: 0.0554569\ttotal: 2.2s\tremaining: 4.61s\n",
      "323:\tlearn: 0.0551816\ttotal: 2.21s\tremaining: 4.61s\n",
      "324:\tlearn: 0.0549342\ttotal: 2.21s\tremaining: 4.6s\n",
      "325:\tlearn: 0.0549217\ttotal: 2.22s\tremaining: 4.59s\n",
      "326:\tlearn: 0.0547873\ttotal: 2.23s\tremaining: 4.59s\n",
      "327:\tlearn: 0.0545084\ttotal: 2.24s\tremaining: 4.58s\n",
      "328:\tlearn: 0.0544994\ttotal: 2.25s\tremaining: 4.58s\n",
      "329:\tlearn: 0.0544196\ttotal: 2.26s\tremaining: 4.58s\n",
      "330:\tlearn: 0.0543202\ttotal: 2.26s\tremaining: 4.57s\n",
      "331:\tlearn: 0.0542842\ttotal: 2.27s\tremaining: 4.57s\n",
      "332:\tlearn: 0.0539989\ttotal: 2.28s\tremaining: 4.56s\n",
      "333:\tlearn: 0.0537877\ttotal: 2.29s\tremaining: 4.56s\n",
      "334:\tlearn: 0.0537378\ttotal: 2.29s\tremaining: 4.55s\n",
      "335:\tlearn: 0.0536854\ttotal: 2.3s\tremaining: 4.54s\n",
      "336:\tlearn: 0.0536063\ttotal: 2.31s\tremaining: 4.54s\n",
      "337:\tlearn: 0.0534552\ttotal: 2.31s\tremaining: 4.53s\n",
      "338:\tlearn: 0.0530496\ttotal: 2.32s\tremaining: 4.53s\n",
      "339:\tlearn: 0.0527807\ttotal: 2.33s\tremaining: 4.52s\n",
      "340:\tlearn: 0.0527706\ttotal: 2.33s\tremaining: 4.51s\n",
      "341:\tlearn: 0.0526399\ttotal: 2.34s\tremaining: 4.5s\n",
      "342:\tlearn: 0.0522744\ttotal: 2.35s\tremaining: 4.5s\n",
      "343:\tlearn: 0.0521390\ttotal: 2.35s\tremaining: 4.49s\n",
      "344:\tlearn: 0.0519315\ttotal: 2.36s\tremaining: 4.48s\n",
      "345:\tlearn: 0.0518142\ttotal: 2.37s\tremaining: 4.48s\n"
     ]
    },
    {
     "name": "stdout",
     "output_type": "stream",
     "text": [
      "346:\tlearn: 0.0517093\ttotal: 2.38s\tremaining: 4.47s\n",
      "347:\tlearn: 0.0513697\ttotal: 2.38s\tremaining: 4.46s\n",
      "348:\tlearn: 0.0511447\ttotal: 2.39s\tremaining: 4.46s\n",
      "349:\tlearn: 0.0510330\ttotal: 2.4s\tremaining: 4.46s\n",
      "350:\tlearn: 0.0506069\ttotal: 2.41s\tremaining: 4.45s\n",
      "351:\tlearn: 0.0504518\ttotal: 2.41s\tremaining: 4.44s\n",
      "352:\tlearn: 0.0504189\ttotal: 2.42s\tremaining: 4.44s\n",
      "353:\tlearn: 0.0502066\ttotal: 2.43s\tremaining: 4.44s\n",
      "354:\tlearn: 0.0501067\ttotal: 2.44s\tremaining: 4.43s\n",
      "355:\tlearn: 0.0500823\ttotal: 2.45s\tremaining: 4.42s\n",
      "356:\tlearn: 0.0499146\ttotal: 2.45s\tremaining: 4.42s\n",
      "357:\tlearn: 0.0498894\ttotal: 2.46s\tremaining: 4.41s\n",
      "358:\tlearn: 0.0498840\ttotal: 2.47s\tremaining: 4.4s\n",
      "359:\tlearn: 0.0497511\ttotal: 2.47s\tremaining: 4.39s\n",
      "360:\tlearn: 0.0494249\ttotal: 2.48s\tremaining: 4.39s\n",
      "361:\tlearn: 0.0491758\ttotal: 2.49s\tremaining: 4.38s\n",
      "362:\tlearn: 0.0489017\ttotal: 2.49s\tremaining: 4.38s\n",
      "363:\tlearn: 0.0487163\ttotal: 2.5s\tremaining: 4.37s\n",
      "364:\tlearn: 0.0486942\ttotal: 2.51s\tremaining: 4.36s\n",
      "365:\tlearn: 0.0482987\ttotal: 2.51s\tremaining: 4.35s\n",
      "366:\tlearn: 0.0482856\ttotal: 2.52s\tremaining: 4.35s\n",
      "367:\tlearn: 0.0480774\ttotal: 2.53s\tremaining: 4.34s\n",
      "368:\tlearn: 0.0480494\ttotal: 2.54s\tremaining: 4.34s\n",
      "369:\tlearn: 0.0476783\ttotal: 2.54s\tremaining: 4.33s\n",
      "370:\tlearn: 0.0473857\ttotal: 2.56s\tremaining: 4.33s\n",
      "371:\tlearn: 0.0470872\ttotal: 2.56s\tremaining: 4.33s\n",
      "372:\tlearn: 0.0468923\ttotal: 2.58s\tremaining: 4.33s\n",
      "373:\tlearn: 0.0468874\ttotal: 2.58s\tremaining: 4.33s\n",
      "374:\tlearn: 0.0464157\ttotal: 2.6s\tremaining: 4.33s\n",
      "375:\tlearn: 0.0459921\ttotal: 2.6s\tremaining: 4.32s\n",
      "376:\tlearn: 0.0457085\ttotal: 2.61s\tremaining: 4.32s\n",
      "377:\tlearn: 0.0456722\ttotal: 2.62s\tremaining: 4.31s\n",
      "378:\tlearn: 0.0456013\ttotal: 2.63s\tremaining: 4.31s\n",
      "379:\tlearn: 0.0454122\ttotal: 2.63s\tremaining: 4.3s\n",
      "380:\tlearn: 0.0452208\ttotal: 2.65s\tremaining: 4.3s\n",
      "381:\tlearn: 0.0451582\ttotal: 2.65s\tremaining: 4.29s\n",
      "382:\tlearn: 0.0450629\ttotal: 2.66s\tremaining: 4.29s\n",
      "383:\tlearn: 0.0450008\ttotal: 2.67s\tremaining: 4.28s\n",
      "384:\tlearn: 0.0447807\ttotal: 2.68s\tremaining: 4.28s\n",
      "385:\tlearn: 0.0446520\ttotal: 2.68s\tremaining: 4.27s\n",
      "386:\tlearn: 0.0445715\ttotal: 2.69s\tremaining: 4.26s\n",
      "387:\tlearn: 0.0444264\ttotal: 2.7s\tremaining: 4.26s\n",
      "388:\tlearn: 0.0443711\ttotal: 2.71s\tremaining: 4.25s\n",
      "389:\tlearn: 0.0441214\ttotal: 2.71s\tremaining: 4.24s\n",
      "390:\tlearn: 0.0436550\ttotal: 2.72s\tremaining: 4.24s\n",
      "391:\tlearn: 0.0436350\ttotal: 2.73s\tremaining: 4.23s\n",
      "392:\tlearn: 0.0433508\ttotal: 2.74s\tremaining: 4.23s\n",
      "393:\tlearn: 0.0433008\ttotal: 2.75s\tremaining: 4.22s\n",
      "394:\tlearn: 0.0429558\ttotal: 2.76s\tremaining: 4.22s\n",
      "395:\tlearn: 0.0427609\ttotal: 2.77s\tremaining: 4.22s\n",
      "396:\tlearn: 0.0426628\ttotal: 2.77s\tremaining: 4.21s\n",
      "397:\tlearn: 0.0426356\ttotal: 2.78s\tremaining: 4.21s\n",
      "398:\tlearn: 0.0425751\ttotal: 2.79s\tremaining: 4.2s\n",
      "399:\tlearn: 0.0425386\ttotal: 2.8s\tremaining: 4.19s\n",
      "400:\tlearn: 0.0423382\ttotal: 2.8s\tremaining: 4.19s\n",
      "401:\tlearn: 0.0421685\ttotal: 2.81s\tremaining: 4.18s\n",
      "402:\tlearn: 0.0421684\ttotal: 2.81s\tremaining: 4.17s\n",
      "403:\tlearn: 0.0420589\ttotal: 2.82s\tremaining: 4.16s\n",
      "404:\tlearn: 0.0420333\ttotal: 2.83s\tremaining: 4.16s\n",
      "405:\tlearn: 0.0420125\ttotal: 2.83s\tremaining: 4.15s\n",
      "406:\tlearn: 0.0418086\ttotal: 2.84s\tremaining: 4.14s\n",
      "407:\tlearn: 0.0416916\ttotal: 2.85s\tremaining: 4.13s\n",
      "408:\tlearn: 0.0415391\ttotal: 2.85s\tremaining: 4.12s\n",
      "409:\tlearn: 0.0413893\ttotal: 2.86s\tremaining: 4.12s\n",
      "410:\tlearn: 0.0410693\ttotal: 2.87s\tremaining: 4.11s\n",
      "411:\tlearn: 0.0410318\ttotal: 2.88s\tremaining: 4.1s\n",
      "412:\tlearn: 0.0409850\ttotal: 2.88s\tremaining: 4.1s\n",
      "413:\tlearn: 0.0407415\ttotal: 2.89s\tremaining: 4.09s\n",
      "414:\tlearn: 0.0405600\ttotal: 2.9s\tremaining: 4.09s\n",
      "415:\tlearn: 0.0405106\ttotal: 2.91s\tremaining: 4.09s\n",
      "416:\tlearn: 0.0404138\ttotal: 2.92s\tremaining: 4.08s\n",
      "417:\tlearn: 0.0404042\ttotal: 2.93s\tremaining: 4.08s\n",
      "418:\tlearn: 0.0402625\ttotal: 2.94s\tremaining: 4.07s\n",
      "419:\tlearn: 0.0402244\ttotal: 2.95s\tremaining: 4.07s\n",
      "420:\tlearn: 0.0401654\ttotal: 2.96s\tremaining: 4.06s\n",
      "421:\tlearn: 0.0401465\ttotal: 2.96s\tremaining: 4.06s\n",
      "422:\tlearn: 0.0399264\ttotal: 2.97s\tremaining: 4.05s\n",
      "423:\tlearn: 0.0399183\ttotal: 2.98s\tremaining: 4.05s\n",
      "424:\tlearn: 0.0398405\ttotal: 2.99s\tremaining: 4.04s\n",
      "425:\tlearn: 0.0398205\ttotal: 2.99s\tremaining: 4.03s\n",
      "426:\tlearn: 0.0397384\ttotal: 3s\tremaining: 4.03s\n",
      "427:\tlearn: 0.0396635\ttotal: 3.01s\tremaining: 4.02s\n",
      "428:\tlearn: 0.0395805\ttotal: 3.02s\tremaining: 4.02s\n",
      "429:\tlearn: 0.0394669\ttotal: 3.02s\tremaining: 4.01s\n",
      "430:\tlearn: 0.0391264\ttotal: 3.03s\tremaining: 4s\n",
      "431:\tlearn: 0.0388520\ttotal: 3.04s\tremaining: 4s\n",
      "432:\tlearn: 0.0388313\ttotal: 3.05s\tremaining: 3.99s\n",
      "433:\tlearn: 0.0388190\ttotal: 3.05s\tremaining: 3.98s\n",
      "434:\tlearn: 0.0387345\ttotal: 3.06s\tremaining: 3.98s\n",
      "435:\tlearn: 0.0386683\ttotal: 3.07s\tremaining: 3.97s\n",
      "436:\tlearn: 0.0383679\ttotal: 3.08s\tremaining: 3.97s\n",
      "437:\tlearn: 0.0383240\ttotal: 3.09s\tremaining: 3.96s\n",
      "438:\tlearn: 0.0379080\ttotal: 3.1s\tremaining: 3.96s\n",
      "439:\tlearn: 0.0375796\ttotal: 3.11s\tremaining: 3.95s\n",
      "440:\tlearn: 0.0375544\ttotal: 3.11s\tremaining: 3.95s\n",
      "441:\tlearn: 0.0373613\ttotal: 3.12s\tremaining: 3.94s\n",
      "442:\tlearn: 0.0371891\ttotal: 3.13s\tremaining: 3.93s\n",
      "443:\tlearn: 0.0371730\ttotal: 3.13s\tremaining: 3.92s\n",
      "444:\tlearn: 0.0371471\ttotal: 3.14s\tremaining: 3.92s\n",
      "445:\tlearn: 0.0370236\ttotal: 3.15s\tremaining: 3.91s\n",
      "446:\tlearn: 0.0369367\ttotal: 3.15s\tremaining: 3.9s\n",
      "447:\tlearn: 0.0368755\ttotal: 3.16s\tremaining: 3.9s\n",
      "448:\tlearn: 0.0368674\ttotal: 3.17s\tremaining: 3.89s\n",
      "449:\tlearn: 0.0368545\ttotal: 3.17s\tremaining: 3.88s\n",
      "450:\tlearn: 0.0368235\ttotal: 3.18s\tremaining: 3.87s\n",
      "451:\tlearn: 0.0367111\ttotal: 3.19s\tremaining: 3.86s\n",
      "452:\tlearn: 0.0367026\ttotal: 3.19s\tremaining: 3.86s\n",
      "453:\tlearn: 0.0366716\ttotal: 3.2s\tremaining: 3.85s\n",
      "454:\tlearn: 0.0365666\ttotal: 3.21s\tremaining: 3.84s\n",
      "455:\tlearn: 0.0365631\ttotal: 3.21s\tremaining: 3.83s\n",
      "456:\tlearn: 0.0364264\ttotal: 3.22s\tremaining: 3.83s\n",
      "457:\tlearn: 0.0363853\ttotal: 3.23s\tremaining: 3.82s\n",
      "458:\tlearn: 0.0363302\ttotal: 3.24s\tremaining: 3.82s\n",
      "459:\tlearn: 0.0362771\ttotal: 3.25s\tremaining: 3.82s\n",
      "460:\tlearn: 0.0362204\ttotal: 3.26s\tremaining: 3.81s\n",
      "461:\tlearn: 0.0360633\ttotal: 3.27s\tremaining: 3.81s\n",
      "462:\tlearn: 0.0359393\ttotal: 3.28s\tremaining: 3.8s\n",
      "463:\tlearn: 0.0358632\ttotal: 3.28s\tremaining: 3.79s\n",
      "464:\tlearn: 0.0357275\ttotal: 3.29s\tremaining: 3.79s\n",
      "465:\tlearn: 0.0355248\ttotal: 3.3s\tremaining: 3.78s\n",
      "466:\tlearn: 0.0354730\ttotal: 3.31s\tremaining: 3.77s\n",
      "467:\tlearn: 0.0354001\ttotal: 3.31s\tremaining: 3.77s\n",
      "468:\tlearn: 0.0351890\ttotal: 3.32s\tremaining: 3.76s\n",
      "469:\tlearn: 0.0351763\ttotal: 3.33s\tremaining: 3.75s\n",
      "470:\tlearn: 0.0349778\ttotal: 3.33s\tremaining: 3.74s\n",
      "471:\tlearn: 0.0349158\ttotal: 3.34s\tremaining: 3.74s\n",
      "472:\tlearn: 0.0348759\ttotal: 3.35s\tremaining: 3.73s\n",
      "473:\tlearn: 0.0347787\ttotal: 3.36s\tremaining: 3.72s\n",
      "474:\tlearn: 0.0347413\ttotal: 3.36s\tremaining: 3.72s\n",
      "475:\tlearn: 0.0345685\ttotal: 3.37s\tremaining: 3.71s\n",
      "476:\tlearn: 0.0345172\ttotal: 3.38s\tremaining: 3.7s\n",
      "477:\tlearn: 0.0344864\ttotal: 3.38s\tremaining: 3.7s\n",
      "478:\tlearn: 0.0344714\ttotal: 3.39s\tremaining: 3.69s\n",
      "479:\tlearn: 0.0343501\ttotal: 3.4s\tremaining: 3.68s\n",
      "480:\tlearn: 0.0343068\ttotal: 3.41s\tremaining: 3.68s\n",
      "481:\tlearn: 0.0340675\ttotal: 3.42s\tremaining: 3.67s\n",
      "482:\tlearn: 0.0340507\ttotal: 3.42s\tremaining: 3.66s\n",
      "483:\tlearn: 0.0339231\ttotal: 3.43s\tremaining: 3.66s\n",
      "484:\tlearn: 0.0339078\ttotal: 3.44s\tremaining: 3.65s\n",
      "485:\tlearn: 0.0337619\ttotal: 3.44s\tremaining: 3.64s\n",
      "486:\tlearn: 0.0337556\ttotal: 3.45s\tremaining: 3.63s\n",
      "487:\tlearn: 0.0336104\ttotal: 3.45s\tremaining: 3.62s\n",
      "488:\tlearn: 0.0333893\ttotal: 3.46s\tremaining: 3.61s\n",
      "489:\tlearn: 0.0332395\ttotal: 3.46s\tremaining: 3.6s\n",
      "490:\tlearn: 0.0330206\ttotal: 3.47s\tremaining: 3.6s\n",
      "491:\tlearn: 0.0328587\ttotal: 3.48s\tremaining: 3.59s\n",
      "492:\tlearn: 0.0326670\ttotal: 3.48s\tremaining: 3.58s\n",
      "493:\tlearn: 0.0325319\ttotal: 3.49s\tremaining: 3.57s\n",
      "494:\tlearn: 0.0325317\ttotal: 3.49s\tremaining: 3.56s\n",
      "495:\tlearn: 0.0323596\ttotal: 3.5s\tremaining: 3.55s\n",
      "496:\tlearn: 0.0322586\ttotal: 3.5s\tremaining: 3.54s\n",
      "497:\tlearn: 0.0322194\ttotal: 3.51s\tremaining: 3.54s\n",
      "498:\tlearn: 0.0321434\ttotal: 3.51s\tremaining: 3.53s\n",
      "499:\tlearn: 0.0320358\ttotal: 3.52s\tremaining: 3.52s\n",
      "500:\tlearn: 0.0319225\ttotal: 3.52s\tremaining: 3.51s\n",
      "501:\tlearn: 0.0318588\ttotal: 3.53s\tremaining: 3.5s\n",
      "502:\tlearn: 0.0317822\ttotal: 3.54s\tremaining: 3.5s\n",
      "503:\tlearn: 0.0317309\ttotal: 3.55s\tremaining: 3.49s\n",
      "504:\tlearn: 0.0315728\ttotal: 3.55s\tremaining: 3.48s\n",
      "505:\tlearn: 0.0314034\ttotal: 3.56s\tremaining: 3.48s\n",
      "506:\tlearn: 0.0313412\ttotal: 3.57s\tremaining: 3.47s\n",
      "507:\tlearn: 0.0313164\ttotal: 3.57s\tremaining: 3.46s\n",
      "508:\tlearn: 0.0310594\ttotal: 3.58s\tremaining: 3.45s\n",
      "509:\tlearn: 0.0309670\ttotal: 3.59s\tremaining: 3.45s\n",
      "510:\tlearn: 0.0309536\ttotal: 3.59s\tremaining: 3.44s\n",
      "511:\tlearn: 0.0309079\ttotal: 3.6s\tremaining: 3.43s\n",
      "512:\tlearn: 0.0308736\ttotal: 3.6s\tremaining: 3.42s\n",
      "513:\tlearn: 0.0307396\ttotal: 3.61s\tremaining: 3.41s\n",
      "514:\tlearn: 0.0306464\ttotal: 3.62s\tremaining: 3.41s\n",
      "515:\tlearn: 0.0305691\ttotal: 3.62s\tremaining: 3.4s\n",
      "516:\tlearn: 0.0304893\ttotal: 3.63s\tremaining: 3.39s\n",
      "517:\tlearn: 0.0304192\ttotal: 3.64s\tremaining: 3.38s\n",
      "518:\tlearn: 0.0303342\ttotal: 3.65s\tremaining: 3.38s\n",
      "519:\tlearn: 0.0303342\ttotal: 3.65s\tremaining: 3.37s\n",
      "520:\tlearn: 0.0301865\ttotal: 3.66s\tremaining: 3.36s\n",
      "521:\tlearn: 0.0301428\ttotal: 3.66s\tremaining: 3.35s\n",
      "522:\tlearn: 0.0300603\ttotal: 3.67s\tremaining: 3.35s\n",
      "523:\tlearn: 0.0298905\ttotal: 3.67s\tremaining: 3.34s\n",
      "524:\tlearn: 0.0297074\ttotal: 3.68s\tremaining: 3.33s\n",
      "525:\tlearn: 0.0296926\ttotal: 3.69s\tremaining: 3.32s\n",
      "526:\tlearn: 0.0296852\ttotal: 3.69s\tremaining: 3.31s\n"
     ]
    },
    {
     "name": "stdout",
     "output_type": "stream",
     "text": [
      "527:\tlearn: 0.0296417\ttotal: 3.7s\tremaining: 3.31s\n",
      "528:\tlearn: 0.0296197\ttotal: 3.71s\tremaining: 3.3s\n",
      "529:\tlearn: 0.0295949\ttotal: 3.71s\tremaining: 3.29s\n",
      "530:\tlearn: 0.0295085\ttotal: 3.72s\tremaining: 3.29s\n",
      "531:\tlearn: 0.0294395\ttotal: 3.73s\tremaining: 3.28s\n",
      "532:\tlearn: 0.0293641\ttotal: 3.74s\tremaining: 3.27s\n",
      "533:\tlearn: 0.0291927\ttotal: 3.74s\tremaining: 3.27s\n",
      "534:\tlearn: 0.0291927\ttotal: 3.75s\tremaining: 3.26s\n",
      "535:\tlearn: 0.0291401\ttotal: 3.76s\tremaining: 3.25s\n",
      "536:\tlearn: 0.0290935\ttotal: 3.76s\tremaining: 3.24s\n",
      "537:\tlearn: 0.0289011\ttotal: 3.77s\tremaining: 3.24s\n",
      "538:\tlearn: 0.0288117\ttotal: 3.77s\tremaining: 3.23s\n",
      "539:\tlearn: 0.0286917\ttotal: 3.78s\tremaining: 3.22s\n",
      "540:\tlearn: 0.0286436\ttotal: 3.79s\tremaining: 3.21s\n",
      "541:\tlearn: 0.0286011\ttotal: 3.79s\tremaining: 3.21s\n",
      "542:\tlearn: 0.0285792\ttotal: 3.8s\tremaining: 3.2s\n",
      "543:\tlearn: 0.0285108\ttotal: 3.81s\tremaining: 3.19s\n",
      "544:\tlearn: 0.0284502\ttotal: 3.81s\tremaining: 3.18s\n",
      "545:\tlearn: 0.0283919\ttotal: 3.82s\tremaining: 3.17s\n",
      "546:\tlearn: 0.0283406\ttotal: 3.82s\tremaining: 3.17s\n",
      "547:\tlearn: 0.0283379\ttotal: 3.83s\tremaining: 3.16s\n",
      "548:\tlearn: 0.0282331\ttotal: 3.84s\tremaining: 3.15s\n",
      "549:\tlearn: 0.0282092\ttotal: 3.84s\tremaining: 3.14s\n",
      "550:\tlearn: 0.0281790\ttotal: 3.85s\tremaining: 3.14s\n",
      "551:\tlearn: 0.0281774\ttotal: 3.85s\tremaining: 3.13s\n",
      "552:\tlearn: 0.0281266\ttotal: 3.86s\tremaining: 3.12s\n",
      "553:\tlearn: 0.0280192\ttotal: 3.87s\tremaining: 3.11s\n",
      "554:\tlearn: 0.0279519\ttotal: 3.87s\tremaining: 3.11s\n",
      "555:\tlearn: 0.0279129\ttotal: 3.88s\tremaining: 3.1s\n",
      "556:\tlearn: 0.0278528\ttotal: 3.89s\tremaining: 3.09s\n",
      "557:\tlearn: 0.0278174\ttotal: 3.89s\tremaining: 3.08s\n",
      "558:\tlearn: 0.0277241\ttotal: 3.9s\tremaining: 3.08s\n",
      "559:\tlearn: 0.0276694\ttotal: 3.91s\tremaining: 3.07s\n",
      "560:\tlearn: 0.0276247\ttotal: 3.91s\tremaining: 3.06s\n",
      "561:\tlearn: 0.0275259\ttotal: 3.92s\tremaining: 3.06s\n",
      "562:\tlearn: 0.0274916\ttotal: 3.93s\tremaining: 3.05s\n",
      "563:\tlearn: 0.0274135\ttotal: 3.93s\tremaining: 3.04s\n",
      "564:\tlearn: 0.0273490\ttotal: 3.94s\tremaining: 3.03s\n",
      "565:\tlearn: 0.0272933\ttotal: 3.94s\tremaining: 3.02s\n",
      "566:\tlearn: 0.0272604\ttotal: 3.95s\tremaining: 3.02s\n",
      "567:\tlearn: 0.0271943\ttotal: 3.96s\tremaining: 3.01s\n",
      "568:\tlearn: 0.0270877\ttotal: 3.96s\tremaining: 3s\n",
      "569:\tlearn: 0.0270015\ttotal: 3.97s\tremaining: 2.99s\n",
      "570:\tlearn: 0.0269671\ttotal: 3.97s\tremaining: 2.98s\n",
      "571:\tlearn: 0.0269264\ttotal: 3.98s\tremaining: 2.98s\n",
      "572:\tlearn: 0.0267447\ttotal: 3.98s\tremaining: 2.97s\n",
      "573:\tlearn: 0.0266870\ttotal: 3.99s\tremaining: 2.96s\n",
      "574:\tlearn: 0.0266638\ttotal: 4s\tremaining: 2.96s\n",
      "575:\tlearn: 0.0265734\ttotal: 4s\tremaining: 2.95s\n",
      "576:\tlearn: 0.0264408\ttotal: 4.01s\tremaining: 2.94s\n",
      "577:\tlearn: 0.0263697\ttotal: 4.02s\tremaining: 2.93s\n",
      "578:\tlearn: 0.0262278\ttotal: 4.02s\tremaining: 2.92s\n",
      "579:\tlearn: 0.0261791\ttotal: 4.03s\tremaining: 2.92s\n",
      "580:\tlearn: 0.0261755\ttotal: 4.03s\tremaining: 2.91s\n",
      "581:\tlearn: 0.0260179\ttotal: 4.04s\tremaining: 2.9s\n",
      "582:\tlearn: 0.0259199\ttotal: 4.05s\tremaining: 2.9s\n",
      "583:\tlearn: 0.0258078\ttotal: 4.05s\tremaining: 2.89s\n",
      "584:\tlearn: 0.0258007\ttotal: 4.06s\tremaining: 2.88s\n",
      "585:\tlearn: 0.0257675\ttotal: 4.07s\tremaining: 2.87s\n",
      "586:\tlearn: 0.0257226\ttotal: 4.08s\tremaining: 2.87s\n",
      "587:\tlearn: 0.0256652\ttotal: 4.08s\tremaining: 2.86s\n",
      "588:\tlearn: 0.0255640\ttotal: 4.09s\tremaining: 2.85s\n",
      "589:\tlearn: 0.0255232\ttotal: 4.09s\tremaining: 2.85s\n",
      "590:\tlearn: 0.0254413\ttotal: 4.1s\tremaining: 2.84s\n",
      "591:\tlearn: 0.0253099\ttotal: 4.11s\tremaining: 2.83s\n",
      "592:\tlearn: 0.0252463\ttotal: 4.11s\tremaining: 2.82s\n",
      "593:\tlearn: 0.0252215\ttotal: 4.12s\tremaining: 2.81s\n",
      "594:\tlearn: 0.0250553\ttotal: 4.13s\tremaining: 2.81s\n",
      "595:\tlearn: 0.0250235\ttotal: 4.13s\tremaining: 2.8s\n",
      "596:\tlearn: 0.0249679\ttotal: 4.14s\tremaining: 2.79s\n",
      "597:\tlearn: 0.0249436\ttotal: 4.14s\tremaining: 2.79s\n",
      "598:\tlearn: 0.0249108\ttotal: 4.15s\tremaining: 2.78s\n",
      "599:\tlearn: 0.0248520\ttotal: 4.16s\tremaining: 2.77s\n",
      "600:\tlearn: 0.0247348\ttotal: 4.16s\tremaining: 2.76s\n",
      "601:\tlearn: 0.0246145\ttotal: 4.17s\tremaining: 2.75s\n",
      "602:\tlearn: 0.0245636\ttotal: 4.17s\tremaining: 2.75s\n",
      "603:\tlearn: 0.0245535\ttotal: 4.18s\tremaining: 2.74s\n",
      "604:\tlearn: 0.0245311\ttotal: 4.18s\tremaining: 2.73s\n",
      "605:\tlearn: 0.0244805\ttotal: 4.19s\tremaining: 2.72s\n",
      "606:\tlearn: 0.0243820\ttotal: 4.2s\tremaining: 2.72s\n",
      "607:\tlearn: 0.0243340\ttotal: 4.2s\tremaining: 2.71s\n",
      "608:\tlearn: 0.0243204\ttotal: 4.21s\tremaining: 2.7s\n",
      "609:\tlearn: 0.0243204\ttotal: 4.22s\tremaining: 2.7s\n",
      "610:\tlearn: 0.0241626\ttotal: 4.22s\tremaining: 2.69s\n",
      "611:\tlearn: 0.0241224\ttotal: 4.23s\tremaining: 2.68s\n",
      "612:\tlearn: 0.0240250\ttotal: 4.24s\tremaining: 2.68s\n",
      "613:\tlearn: 0.0239965\ttotal: 4.25s\tremaining: 2.67s\n",
      "614:\tlearn: 0.0239776\ttotal: 4.25s\tremaining: 2.66s\n",
      "615:\tlearn: 0.0239445\ttotal: 4.26s\tremaining: 2.65s\n",
      "616:\tlearn: 0.0239003\ttotal: 4.26s\tremaining: 2.65s\n",
      "617:\tlearn: 0.0238950\ttotal: 4.27s\tremaining: 2.64s\n",
      "618:\tlearn: 0.0238226\ttotal: 4.28s\tremaining: 2.63s\n",
      "619:\tlearn: 0.0237591\ttotal: 4.28s\tremaining: 2.62s\n",
      "620:\tlearn: 0.0237131\ttotal: 4.29s\tremaining: 2.62s\n",
      "621:\tlearn: 0.0235712\ttotal: 4.29s\tremaining: 2.61s\n",
      "622:\tlearn: 0.0235263\ttotal: 4.3s\tremaining: 2.6s\n",
      "623:\tlearn: 0.0234814\ttotal: 4.31s\tremaining: 2.6s\n",
      "624:\tlearn: 0.0234250\ttotal: 4.31s\tremaining: 2.59s\n",
      "625:\tlearn: 0.0233988\ttotal: 4.32s\tremaining: 2.58s\n",
      "626:\tlearn: 0.0233377\ttotal: 4.33s\tremaining: 2.57s\n",
      "627:\tlearn: 0.0233211\ttotal: 4.33s\tremaining: 2.57s\n",
      "628:\tlearn: 0.0232833\ttotal: 4.34s\tremaining: 2.56s\n",
      "629:\tlearn: 0.0232512\ttotal: 4.34s\tremaining: 2.55s\n",
      "630:\tlearn: 0.0232105\ttotal: 4.35s\tremaining: 2.54s\n",
      "631:\tlearn: 0.0232103\ttotal: 4.36s\tremaining: 2.54s\n",
      "632:\tlearn: 0.0231183\ttotal: 4.37s\tremaining: 2.53s\n",
      "633:\tlearn: 0.0230822\ttotal: 4.37s\tremaining: 2.52s\n",
      "634:\tlearn: 0.0230729\ttotal: 4.38s\tremaining: 2.52s\n",
      "635:\tlearn: 0.0230634\ttotal: 4.39s\tremaining: 2.51s\n",
      "636:\tlearn: 0.0229228\ttotal: 4.4s\tremaining: 2.51s\n",
      "637:\tlearn: 0.0228834\ttotal: 4.41s\tremaining: 2.5s\n",
      "638:\tlearn: 0.0228712\ttotal: 4.41s\tremaining: 2.49s\n",
      "639:\tlearn: 0.0228370\ttotal: 4.42s\tremaining: 2.48s\n",
      "640:\tlearn: 0.0228182\ttotal: 4.42s\tremaining: 2.48s\n",
      "641:\tlearn: 0.0227000\ttotal: 4.43s\tremaining: 2.47s\n",
      "642:\tlearn: 0.0226753\ttotal: 4.44s\tremaining: 2.46s\n",
      "643:\tlearn: 0.0226251\ttotal: 4.44s\tremaining: 2.46s\n",
      "644:\tlearn: 0.0226120\ttotal: 4.45s\tremaining: 2.45s\n",
      "645:\tlearn: 0.0225172\ttotal: 4.46s\tremaining: 2.44s\n",
      "646:\tlearn: 0.0224900\ttotal: 4.46s\tremaining: 2.43s\n",
      "647:\tlearn: 0.0224641\ttotal: 4.47s\tremaining: 2.43s\n",
      "648:\tlearn: 0.0224580\ttotal: 4.47s\tremaining: 2.42s\n",
      "649:\tlearn: 0.0223434\ttotal: 4.48s\tremaining: 2.41s\n",
      "650:\tlearn: 0.0223034\ttotal: 4.49s\tremaining: 2.4s\n",
      "651:\tlearn: 0.0222453\ttotal: 4.49s\tremaining: 2.4s\n",
      "652:\tlearn: 0.0221960\ttotal: 4.5s\tremaining: 2.39s\n",
      "653:\tlearn: 0.0221960\ttotal: 4.5s\tremaining: 2.38s\n",
      "654:\tlearn: 0.0221649\ttotal: 4.51s\tremaining: 2.38s\n",
      "655:\tlearn: 0.0221639\ttotal: 4.52s\tremaining: 2.37s\n",
      "656:\tlearn: 0.0221426\ttotal: 4.52s\tremaining: 2.36s\n",
      "657:\tlearn: 0.0221200\ttotal: 4.53s\tremaining: 2.35s\n",
      "658:\tlearn: 0.0220497\ttotal: 4.54s\tremaining: 2.35s\n",
      "659:\tlearn: 0.0219755\ttotal: 4.55s\tremaining: 2.34s\n",
      "660:\tlearn: 0.0219636\ttotal: 4.56s\tremaining: 2.34s\n",
      "661:\tlearn: 0.0218632\ttotal: 4.56s\tremaining: 2.33s\n",
      "662:\tlearn: 0.0217426\ttotal: 4.57s\tremaining: 2.32s\n",
      "663:\tlearn: 0.0216834\ttotal: 4.58s\tremaining: 2.32s\n",
      "664:\tlearn: 0.0216562\ttotal: 4.59s\tremaining: 2.31s\n",
      "665:\tlearn: 0.0216466\ttotal: 4.59s\tremaining: 2.3s\n",
      "666:\tlearn: 0.0215438\ttotal: 4.6s\tremaining: 2.3s\n",
      "667:\tlearn: 0.0215437\ttotal: 4.61s\tremaining: 2.29s\n",
      "668:\tlearn: 0.0215213\ttotal: 4.61s\tremaining: 2.28s\n",
      "669:\tlearn: 0.0214857\ttotal: 4.62s\tremaining: 2.27s\n",
      "670:\tlearn: 0.0213404\ttotal: 4.63s\tremaining: 2.27s\n",
      "671:\tlearn: 0.0212990\ttotal: 4.63s\tremaining: 2.26s\n",
      "672:\tlearn: 0.0212802\ttotal: 4.64s\tremaining: 2.25s\n",
      "673:\tlearn: 0.0212226\ttotal: 4.65s\tremaining: 2.25s\n",
      "674:\tlearn: 0.0212034\ttotal: 4.65s\tremaining: 2.24s\n",
      "675:\tlearn: 0.0211280\ttotal: 4.67s\tremaining: 2.24s\n",
      "676:\tlearn: 0.0209926\ttotal: 4.68s\tremaining: 2.23s\n",
      "677:\tlearn: 0.0209234\ttotal: 4.68s\tremaining: 2.22s\n",
      "678:\tlearn: 0.0209234\ttotal: 4.69s\tremaining: 2.22s\n",
      "679:\tlearn: 0.0208141\ttotal: 4.7s\tremaining: 2.21s\n",
      "680:\tlearn: 0.0208140\ttotal: 4.71s\tremaining: 2.2s\n",
      "681:\tlearn: 0.0208035\ttotal: 4.71s\tremaining: 2.2s\n",
      "682:\tlearn: 0.0207685\ttotal: 4.72s\tremaining: 2.19s\n",
      "683:\tlearn: 0.0207342\ttotal: 4.73s\tremaining: 2.19s\n",
      "684:\tlearn: 0.0207206\ttotal: 4.74s\tremaining: 2.18s\n",
      "685:\tlearn: 0.0206479\ttotal: 4.75s\tremaining: 2.17s\n",
      "686:\tlearn: 0.0206044\ttotal: 4.75s\tremaining: 2.17s\n",
      "687:\tlearn: 0.0205854\ttotal: 4.76s\tremaining: 2.16s\n",
      "688:\tlearn: 0.0205854\ttotal: 4.76s\tremaining: 2.15s\n",
      "689:\tlearn: 0.0205591\ttotal: 4.77s\tremaining: 2.14s\n",
      "690:\tlearn: 0.0205434\ttotal: 4.78s\tremaining: 2.14s\n",
      "691:\tlearn: 0.0204738\ttotal: 4.78s\tremaining: 2.13s\n",
      "692:\tlearn: 0.0202858\ttotal: 4.79s\tremaining: 2.12s\n",
      "693:\tlearn: 0.0202396\ttotal: 4.8s\tremaining: 2.12s\n",
      "694:\tlearn: 0.0201681\ttotal: 4.8s\tremaining: 2.11s\n",
      "695:\tlearn: 0.0201493\ttotal: 4.81s\tremaining: 2.1s\n",
      "696:\tlearn: 0.0201167\ttotal: 4.82s\tremaining: 2.09s\n",
      "697:\tlearn: 0.0200740\ttotal: 4.82s\tremaining: 2.09s\n",
      "698:\tlearn: 0.0200251\ttotal: 4.83s\tremaining: 2.08s\n",
      "699:\tlearn: 0.0200250\ttotal: 4.83s\tremaining: 2.07s\n",
      "700:\tlearn: 0.0199940\ttotal: 4.84s\tremaining: 2.06s\n",
      "701:\tlearn: 0.0199597\ttotal: 4.85s\tremaining: 2.06s\n",
      "702:\tlearn: 0.0199597\ttotal: 4.85s\tremaining: 2.05s\n",
      "703:\tlearn: 0.0198888\ttotal: 4.86s\tremaining: 2.04s\n"
     ]
    },
    {
     "name": "stdout",
     "output_type": "stream",
     "text": [
      "704:\tlearn: 0.0198887\ttotal: 4.87s\tremaining: 2.04s\n",
      "705:\tlearn: 0.0198441\ttotal: 4.87s\tremaining: 2.03s\n",
      "706:\tlearn: 0.0198439\ttotal: 4.88s\tremaining: 2.02s\n",
      "707:\tlearn: 0.0198264\ttotal: 4.89s\tremaining: 2.02s\n",
      "708:\tlearn: 0.0197677\ttotal: 4.9s\tremaining: 2.01s\n",
      "709:\tlearn: 0.0197156\ttotal: 4.9s\tremaining: 2s\n",
      "710:\tlearn: 0.0196822\ttotal: 4.91s\tremaining: 2s\n",
      "711:\tlearn: 0.0196519\ttotal: 4.92s\tremaining: 1.99s\n",
      "712:\tlearn: 0.0196519\ttotal: 4.92s\tremaining: 1.98s\n",
      "713:\tlearn: 0.0196304\ttotal: 4.93s\tremaining: 1.97s\n",
      "714:\tlearn: 0.0196188\ttotal: 4.93s\tremaining: 1.97s\n",
      "715:\tlearn: 0.0195788\ttotal: 4.94s\tremaining: 1.96s\n",
      "716:\tlearn: 0.0195787\ttotal: 4.95s\tremaining: 1.95s\n",
      "717:\tlearn: 0.0195490\ttotal: 4.95s\tremaining: 1.95s\n",
      "718:\tlearn: 0.0194840\ttotal: 4.96s\tremaining: 1.94s\n",
      "719:\tlearn: 0.0194054\ttotal: 4.96s\tremaining: 1.93s\n",
      "720:\tlearn: 0.0193452\ttotal: 4.97s\tremaining: 1.92s\n",
      "721:\tlearn: 0.0193449\ttotal: 4.98s\tremaining: 1.92s\n",
      "722:\tlearn: 0.0193449\ttotal: 4.98s\tremaining: 1.91s\n",
      "723:\tlearn: 0.0192762\ttotal: 4.99s\tremaining: 1.9s\n",
      "724:\tlearn: 0.0192762\ttotal: 4.99s\tremaining: 1.89s\n",
      "725:\tlearn: 0.0192474\ttotal: 5s\tremaining: 1.89s\n",
      "726:\tlearn: 0.0192472\ttotal: 5.01s\tremaining: 1.88s\n",
      "727:\tlearn: 0.0191726\ttotal: 5.01s\tremaining: 1.87s\n",
      "728:\tlearn: 0.0191421\ttotal: 5.02s\tremaining: 1.86s\n",
      "729:\tlearn: 0.0191421\ttotal: 5.03s\tremaining: 1.86s\n",
      "730:\tlearn: 0.0190734\ttotal: 5.04s\tremaining: 1.85s\n",
      "731:\tlearn: 0.0190201\ttotal: 5.05s\tremaining: 1.85s\n",
      "732:\tlearn: 0.0190201\ttotal: 5.05s\tremaining: 1.84s\n",
      "733:\tlearn: 0.0189768\ttotal: 5.06s\tremaining: 1.83s\n",
      "734:\tlearn: 0.0189203\ttotal: 5.07s\tremaining: 1.83s\n",
      "735:\tlearn: 0.0188843\ttotal: 5.08s\tremaining: 1.82s\n",
      "736:\tlearn: 0.0188201\ttotal: 5.08s\tremaining: 1.81s\n",
      "737:\tlearn: 0.0187558\ttotal: 5.09s\tremaining: 1.81s\n",
      "738:\tlearn: 0.0187425\ttotal: 5.1s\tremaining: 1.8s\n",
      "739:\tlearn: 0.0187424\ttotal: 5.1s\tremaining: 1.79s\n",
      "740:\tlearn: 0.0186926\ttotal: 5.11s\tremaining: 1.79s\n",
      "741:\tlearn: 0.0186926\ttotal: 5.12s\tremaining: 1.78s\n",
      "742:\tlearn: 0.0186732\ttotal: 5.12s\tremaining: 1.77s\n",
      "743:\tlearn: 0.0186732\ttotal: 5.13s\tremaining: 1.76s\n",
      "744:\tlearn: 0.0185578\ttotal: 5.13s\tremaining: 1.76s\n",
      "745:\tlearn: 0.0185105\ttotal: 5.14s\tremaining: 1.75s\n",
      "746:\tlearn: 0.0184881\ttotal: 5.15s\tremaining: 1.74s\n",
      "747:\tlearn: 0.0184880\ttotal: 5.15s\tremaining: 1.74s\n",
      "748:\tlearn: 0.0184493\ttotal: 5.16s\tremaining: 1.73s\n",
      "749:\tlearn: 0.0183882\ttotal: 5.17s\tremaining: 1.72s\n",
      "750:\tlearn: 0.0183615\ttotal: 5.17s\tremaining: 1.72s\n",
      "751:\tlearn: 0.0183210\ttotal: 5.18s\tremaining: 1.71s\n",
      "752:\tlearn: 0.0183209\ttotal: 5.19s\tremaining: 1.7s\n",
      "753:\tlearn: 0.0182597\ttotal: 5.2s\tremaining: 1.7s\n",
      "754:\tlearn: 0.0182597\ttotal: 5.2s\tremaining: 1.69s\n",
      "755:\tlearn: 0.0181746\ttotal: 5.21s\tremaining: 1.68s\n",
      "756:\tlearn: 0.0181380\ttotal: 5.22s\tremaining: 1.68s\n",
      "757:\tlearn: 0.0180787\ttotal: 5.23s\tremaining: 1.67s\n",
      "758:\tlearn: 0.0180351\ttotal: 5.24s\tremaining: 1.66s\n",
      "759:\tlearn: 0.0180308\ttotal: 5.24s\tremaining: 1.66s\n",
      "760:\tlearn: 0.0180267\ttotal: 5.25s\tremaining: 1.65s\n",
      "761:\tlearn: 0.0179787\ttotal: 5.25s\tremaining: 1.64s\n",
      "762:\tlearn: 0.0179692\ttotal: 5.26s\tremaining: 1.63s\n",
      "763:\tlearn: 0.0179287\ttotal: 5.27s\tremaining: 1.63s\n",
      "764:\tlearn: 0.0179047\ttotal: 5.28s\tremaining: 1.62s\n",
      "765:\tlearn: 0.0179048\ttotal: 5.28s\tremaining: 1.61s\n",
      "766:\tlearn: 0.0178278\ttotal: 5.29s\tremaining: 1.61s\n",
      "767:\tlearn: 0.0177694\ttotal: 5.29s\tremaining: 1.6s\n",
      "768:\tlearn: 0.0177106\ttotal: 5.3s\tremaining: 1.59s\n",
      "769:\tlearn: 0.0176760\ttotal: 5.31s\tremaining: 1.58s\n",
      "770:\tlearn: 0.0176165\ttotal: 5.31s\tremaining: 1.58s\n",
      "771:\tlearn: 0.0175804\ttotal: 5.32s\tremaining: 1.57s\n",
      "772:\tlearn: 0.0175801\ttotal: 5.33s\tremaining: 1.56s\n",
      "773:\tlearn: 0.0175801\ttotal: 5.33s\tremaining: 1.56s\n",
      "774:\tlearn: 0.0175800\ttotal: 5.34s\tremaining: 1.55s\n",
      "775:\tlearn: 0.0175800\ttotal: 5.34s\tremaining: 1.54s\n",
      "776:\tlearn: 0.0175800\ttotal: 5.35s\tremaining: 1.53s\n",
      "777:\tlearn: 0.0175117\ttotal: 5.36s\tremaining: 1.53s\n",
      "778:\tlearn: 0.0175117\ttotal: 5.36s\tremaining: 1.52s\n",
      "779:\tlearn: 0.0174958\ttotal: 5.37s\tremaining: 1.51s\n",
      "780:\tlearn: 0.0174945\ttotal: 5.38s\tremaining: 1.51s\n",
      "781:\tlearn: 0.0174785\ttotal: 5.38s\tremaining: 1.5s\n",
      "782:\tlearn: 0.0174582\ttotal: 5.39s\tremaining: 1.49s\n",
      "783:\tlearn: 0.0173943\ttotal: 5.4s\tremaining: 1.49s\n",
      "784:\tlearn: 0.0173588\ttotal: 5.41s\tremaining: 1.48s\n",
      "785:\tlearn: 0.0173460\ttotal: 5.41s\tremaining: 1.47s\n",
      "786:\tlearn: 0.0173459\ttotal: 5.42s\tremaining: 1.47s\n",
      "787:\tlearn: 0.0172618\ttotal: 5.43s\tremaining: 1.46s\n",
      "788:\tlearn: 0.0172618\ttotal: 5.43s\tremaining: 1.45s\n",
      "789:\tlearn: 0.0172616\ttotal: 5.44s\tremaining: 1.45s\n",
      "790:\tlearn: 0.0172055\ttotal: 5.45s\tremaining: 1.44s\n",
      "791:\tlearn: 0.0171802\ttotal: 5.46s\tremaining: 1.43s\n",
      "792:\tlearn: 0.0171801\ttotal: 5.47s\tremaining: 1.43s\n",
      "793:\tlearn: 0.0171801\ttotal: 5.48s\tremaining: 1.42s\n",
      "794:\tlearn: 0.0171800\ttotal: 5.49s\tremaining: 1.42s\n",
      "795:\tlearn: 0.0171584\ttotal: 5.5s\tremaining: 1.41s\n",
      "796:\tlearn: 0.0171209\ttotal: 5.51s\tremaining: 1.4s\n",
      "797:\tlearn: 0.0170778\ttotal: 5.53s\tremaining: 1.4s\n",
      "798:\tlearn: 0.0170215\ttotal: 5.53s\tremaining: 1.39s\n",
      "799:\tlearn: 0.0169860\ttotal: 5.54s\tremaining: 1.39s\n",
      "800:\tlearn: 0.0169475\ttotal: 5.55s\tremaining: 1.38s\n",
      "801:\tlearn: 0.0169206\ttotal: 5.57s\tremaining: 1.37s\n",
      "802:\tlearn: 0.0169142\ttotal: 5.58s\tremaining: 1.37s\n",
      "803:\tlearn: 0.0168608\ttotal: 5.59s\tremaining: 1.36s\n",
      "804:\tlearn: 0.0168608\ttotal: 5.59s\tremaining: 1.35s\n",
      "805:\tlearn: 0.0168216\ttotal: 5.6s\tremaining: 1.35s\n",
      "806:\tlearn: 0.0168216\ttotal: 5.61s\tremaining: 1.34s\n",
      "807:\tlearn: 0.0167682\ttotal: 5.62s\tremaining: 1.33s\n",
      "808:\tlearn: 0.0167395\ttotal: 5.63s\tremaining: 1.33s\n",
      "809:\tlearn: 0.0166908\ttotal: 5.64s\tremaining: 1.32s\n",
      "810:\tlearn: 0.0166908\ttotal: 5.64s\tremaining: 1.31s\n",
      "811:\tlearn: 0.0166580\ttotal: 5.65s\tremaining: 1.31s\n",
      "812:\tlearn: 0.0166205\ttotal: 5.66s\tremaining: 1.3s\n",
      "813:\tlearn: 0.0166204\ttotal: 5.67s\tremaining: 1.29s\n",
      "814:\tlearn: 0.0165485\ttotal: 5.68s\tremaining: 1.29s\n",
      "815:\tlearn: 0.0165484\ttotal: 5.68s\tremaining: 1.28s\n",
      "816:\tlearn: 0.0165116\ttotal: 5.69s\tremaining: 1.27s\n",
      "817:\tlearn: 0.0165116\ttotal: 5.7s\tremaining: 1.27s\n",
      "818:\tlearn: 0.0164774\ttotal: 5.71s\tremaining: 1.26s\n",
      "819:\tlearn: 0.0164595\ttotal: 5.72s\tremaining: 1.25s\n",
      "820:\tlearn: 0.0164595\ttotal: 5.72s\tremaining: 1.25s\n",
      "821:\tlearn: 0.0164417\ttotal: 5.73s\tremaining: 1.24s\n",
      "822:\tlearn: 0.0164414\ttotal: 5.74s\tremaining: 1.23s\n",
      "823:\tlearn: 0.0164414\ttotal: 5.75s\tremaining: 1.23s\n",
      "824:\tlearn: 0.0163663\ttotal: 5.75s\tremaining: 1.22s\n",
      "825:\tlearn: 0.0162916\ttotal: 5.76s\tremaining: 1.21s\n",
      "826:\tlearn: 0.0162875\ttotal: 5.77s\tremaining: 1.21s\n",
      "827:\tlearn: 0.0162550\ttotal: 5.77s\tremaining: 1.2s\n",
      "828:\tlearn: 0.0162550\ttotal: 5.78s\tremaining: 1.19s\n",
      "829:\tlearn: 0.0162549\ttotal: 5.79s\tremaining: 1.19s\n",
      "830:\tlearn: 0.0162368\ttotal: 5.79s\tremaining: 1.18s\n",
      "831:\tlearn: 0.0162368\ttotal: 5.8s\tremaining: 1.17s\n",
      "832:\tlearn: 0.0162367\ttotal: 5.8s\tremaining: 1.16s\n",
      "833:\tlearn: 0.0162367\ttotal: 5.81s\tremaining: 1.16s\n",
      "834:\tlearn: 0.0162107\ttotal: 5.82s\tremaining: 1.15s\n",
      "835:\tlearn: 0.0161643\ttotal: 5.83s\tremaining: 1.14s\n",
      "836:\tlearn: 0.0161390\ttotal: 5.84s\tremaining: 1.14s\n",
      "837:\tlearn: 0.0160936\ttotal: 5.84s\tremaining: 1.13s\n",
      "838:\tlearn: 0.0160332\ttotal: 5.85s\tremaining: 1.12s\n",
      "839:\tlearn: 0.0159555\ttotal: 5.86s\tremaining: 1.12s\n",
      "840:\tlearn: 0.0159492\ttotal: 5.87s\tremaining: 1.11s\n",
      "841:\tlearn: 0.0158994\ttotal: 5.88s\tremaining: 1.1s\n",
      "842:\tlearn: 0.0158701\ttotal: 5.88s\tremaining: 1.09s\n",
      "843:\tlearn: 0.0158203\ttotal: 5.89s\tremaining: 1.09s\n",
      "844:\tlearn: 0.0158203\ttotal: 5.9s\tremaining: 1.08s\n",
      "845:\tlearn: 0.0158100\ttotal: 5.91s\tremaining: 1.07s\n",
      "846:\tlearn: 0.0158099\ttotal: 5.91s\tremaining: 1.07s\n",
      "847:\tlearn: 0.0157914\ttotal: 5.92s\tremaining: 1.06s\n",
      "848:\tlearn: 0.0157343\ttotal: 5.93s\tremaining: 1.05s\n",
      "849:\tlearn: 0.0157235\ttotal: 5.93s\tremaining: 1.05s\n",
      "850:\tlearn: 0.0157234\ttotal: 5.94s\tremaining: 1.04s\n",
      "851:\tlearn: 0.0157000\ttotal: 5.95s\tremaining: 1.03s\n",
      "852:\tlearn: 0.0156810\ttotal: 5.95s\tremaining: 1.03s\n",
      "853:\tlearn: 0.0156810\ttotal: 5.96s\tremaining: 1.02s\n",
      "854:\tlearn: 0.0156528\ttotal: 5.97s\tremaining: 1.01s\n",
      "855:\tlearn: 0.0156061\ttotal: 5.97s\tremaining: 1s\n",
      "856:\tlearn: 0.0155417\ttotal: 5.98s\tremaining: 998ms\n",
      "857:\tlearn: 0.0155136\ttotal: 5.99s\tremaining: 991ms\n",
      "858:\tlearn: 0.0154659\ttotal: 5.99s\tremaining: 984ms\n",
      "859:\tlearn: 0.0154594\ttotal: 6s\tremaining: 977ms\n",
      "860:\tlearn: 0.0154275\ttotal: 6.01s\tremaining: 970ms\n",
      "861:\tlearn: 0.0154074\ttotal: 6.01s\tremaining: 963ms\n",
      "862:\tlearn: 0.0153624\ttotal: 6.02s\tremaining: 956ms\n"
     ]
    },
    {
     "name": "stdout",
     "output_type": "stream",
     "text": [
      "863:\tlearn: 0.0153163\ttotal: 6.03s\tremaining: 949ms\n",
      "864:\tlearn: 0.0152915\ttotal: 6.04s\tremaining: 943ms\n",
      "865:\tlearn: 0.0152182\ttotal: 6.05s\tremaining: 936ms\n",
      "866:\tlearn: 0.0152182\ttotal: 6.05s\tremaining: 929ms\n",
      "867:\tlearn: 0.0151960\ttotal: 6.06s\tremaining: 922ms\n",
      "868:\tlearn: 0.0151384\ttotal: 6.07s\tremaining: 916ms\n",
      "869:\tlearn: 0.0151384\ttotal: 6.08s\tremaining: 909ms\n",
      "870:\tlearn: 0.0151384\ttotal: 6.09s\tremaining: 902ms\n",
      "871:\tlearn: 0.0151305\ttotal: 6.1s\tremaining: 895ms\n",
      "872:\tlearn: 0.0151021\ttotal: 6.11s\tremaining: 888ms\n",
      "873:\tlearn: 0.0150870\ttotal: 6.12s\tremaining: 882ms\n",
      "874:\tlearn: 0.0150869\ttotal: 6.12s\tremaining: 875ms\n",
      "875:\tlearn: 0.0150866\ttotal: 6.13s\tremaining: 868ms\n",
      "876:\tlearn: 0.0150169\ttotal: 6.14s\tremaining: 861ms\n",
      "877:\tlearn: 0.0149905\ttotal: 6.14s\tremaining: 854ms\n",
      "878:\tlearn: 0.0149605\ttotal: 6.15s\tremaining: 847ms\n",
      "879:\tlearn: 0.0149586\ttotal: 6.16s\tremaining: 840ms\n",
      "880:\tlearn: 0.0149586\ttotal: 6.17s\tremaining: 833ms\n",
      "881:\tlearn: 0.0149585\ttotal: 6.17s\tremaining: 826ms\n",
      "882:\tlearn: 0.0148872\ttotal: 6.18s\tremaining: 819ms\n",
      "883:\tlearn: 0.0148465\ttotal: 6.19s\tremaining: 812ms\n",
      "884:\tlearn: 0.0148464\ttotal: 6.19s\tremaining: 805ms\n",
      "885:\tlearn: 0.0147897\ttotal: 6.2s\tremaining: 798ms\n",
      "886:\tlearn: 0.0147595\ttotal: 6.21s\tremaining: 791ms\n",
      "887:\tlearn: 0.0146882\ttotal: 6.22s\tremaining: 784ms\n",
      "888:\tlearn: 0.0146879\ttotal: 6.22s\tremaining: 777ms\n",
      "889:\tlearn: 0.0146114\ttotal: 6.23s\tremaining: 770ms\n",
      "890:\tlearn: 0.0145917\ttotal: 6.24s\tremaining: 763ms\n",
      "891:\tlearn: 0.0145789\ttotal: 6.25s\tremaining: 756ms\n",
      "892:\tlearn: 0.0145788\ttotal: 6.25s\tremaining: 749ms\n",
      "893:\tlearn: 0.0145788\ttotal: 6.26s\tremaining: 742ms\n",
      "894:\tlearn: 0.0145201\ttotal: 6.27s\tremaining: 735ms\n",
      "895:\tlearn: 0.0145201\ttotal: 6.27s\tremaining: 728ms\n",
      "896:\tlearn: 0.0145201\ttotal: 6.28s\tremaining: 721ms\n",
      "897:\tlearn: 0.0144771\ttotal: 6.29s\tremaining: 714ms\n",
      "898:\tlearn: 0.0144606\ttotal: 6.29s\tremaining: 707ms\n",
      "899:\tlearn: 0.0144256\ttotal: 6.3s\tremaining: 700ms\n",
      "900:\tlearn: 0.0144256\ttotal: 6.3s\tremaining: 693ms\n",
      "901:\tlearn: 0.0144256\ttotal: 6.31s\tremaining: 686ms\n",
      "902:\tlearn: 0.0144026\ttotal: 6.32s\tremaining: 679ms\n",
      "903:\tlearn: 0.0144025\ttotal: 6.32s\tremaining: 672ms\n",
      "904:\tlearn: 0.0144001\ttotal: 6.33s\tremaining: 665ms\n",
      "905:\tlearn: 0.0144000\ttotal: 6.34s\tremaining: 658ms\n",
      "906:\tlearn: 0.0143820\ttotal: 6.35s\tremaining: 651ms\n",
      "907:\tlearn: 0.0143819\ttotal: 6.35s\tremaining: 644ms\n",
      "908:\tlearn: 0.0143433\ttotal: 6.36s\tremaining: 637ms\n",
      "909:\tlearn: 0.0143285\ttotal: 6.37s\tremaining: 630ms\n",
      "910:\tlearn: 0.0143285\ttotal: 6.38s\tremaining: 623ms\n",
      "911:\tlearn: 0.0143285\ttotal: 6.39s\tremaining: 616ms\n",
      "912:\tlearn: 0.0143285\ttotal: 6.4s\tremaining: 610ms\n",
      "913:\tlearn: 0.0143055\ttotal: 6.41s\tremaining: 603ms\n",
      "914:\tlearn: 0.0142721\ttotal: 6.42s\tremaining: 596ms\n",
      "915:\tlearn: 0.0142469\ttotal: 6.42s\tremaining: 589ms\n",
      "916:\tlearn: 0.0142467\ttotal: 6.43s\tremaining: 582ms\n",
      "917:\tlearn: 0.0142214\ttotal: 6.44s\tremaining: 575ms\n",
      "918:\tlearn: 0.0142214\ttotal: 6.45s\tremaining: 568ms\n",
      "919:\tlearn: 0.0141969\ttotal: 6.46s\tremaining: 561ms\n",
      "920:\tlearn: 0.0141584\ttotal: 6.46s\tremaining: 555ms\n",
      "921:\tlearn: 0.0141584\ttotal: 6.47s\tremaining: 547ms\n",
      "922:\tlearn: 0.0141584\ttotal: 6.48s\tremaining: 540ms\n",
      "923:\tlearn: 0.0141244\ttotal: 6.49s\tremaining: 533ms\n",
      "924:\tlearn: 0.0140935\ttotal: 6.49s\tremaining: 526ms\n",
      "925:\tlearn: 0.0140668\ttotal: 6.5s\tremaining: 519ms\n",
      "926:\tlearn: 0.0140668\ttotal: 6.51s\tremaining: 512ms\n",
      "927:\tlearn: 0.0140545\ttotal: 6.51s\tremaining: 505ms\n",
      "928:\tlearn: 0.0140544\ttotal: 6.52s\tremaining: 498ms\n",
      "929:\tlearn: 0.0140312\ttotal: 6.53s\tremaining: 491ms\n",
      "930:\tlearn: 0.0139775\ttotal: 6.53s\tremaining: 484ms\n",
      "931:\tlearn: 0.0139688\ttotal: 6.54s\tremaining: 477ms\n",
      "932:\tlearn: 0.0139486\ttotal: 6.55s\tremaining: 470ms\n",
      "933:\tlearn: 0.0139383\ttotal: 6.56s\tremaining: 463ms\n",
      "934:\tlearn: 0.0139383\ttotal: 6.57s\tremaining: 457ms\n",
      "935:\tlearn: 0.0139147\ttotal: 6.57s\tremaining: 450ms\n",
      "936:\tlearn: 0.0139146\ttotal: 6.58s\tremaining: 443ms\n",
      "937:\tlearn: 0.0138941\ttotal: 6.59s\tremaining: 436ms\n",
      "938:\tlearn: 0.0138939\ttotal: 6.6s\tremaining: 429ms\n",
      "939:\tlearn: 0.0138778\ttotal: 6.6s\tremaining: 421ms\n",
      "940:\tlearn: 0.0138500\ttotal: 6.61s\tremaining: 414ms\n",
      "941:\tlearn: 0.0137970\ttotal: 6.62s\tremaining: 408ms\n",
      "942:\tlearn: 0.0137694\ttotal: 6.63s\tremaining: 401ms\n",
      "943:\tlearn: 0.0137693\ttotal: 6.63s\tremaining: 394ms\n",
      "944:\tlearn: 0.0137693\ttotal: 6.64s\tremaining: 387ms\n",
      "945:\tlearn: 0.0137251\ttotal: 6.65s\tremaining: 380ms\n",
      "946:\tlearn: 0.0137250\ttotal: 6.66s\tremaining: 373ms\n",
      "947:\tlearn: 0.0136991\ttotal: 6.66s\tremaining: 366ms\n",
      "948:\tlearn: 0.0136463\ttotal: 6.67s\tremaining: 359ms\n",
      "949:\tlearn: 0.0136458\ttotal: 6.68s\tremaining: 351ms\n",
      "950:\tlearn: 0.0136097\ttotal: 6.68s\tremaining: 344ms\n",
      "951:\tlearn: 0.0136097\ttotal: 6.69s\tremaining: 337ms\n",
      "952:\tlearn: 0.0136096\ttotal: 6.7s\tremaining: 330ms\n",
      "953:\tlearn: 0.0135508\ttotal: 6.71s\tremaining: 323ms\n",
      "954:\tlearn: 0.0135288\ttotal: 6.71s\tremaining: 316ms\n",
      "955:\tlearn: 0.0134993\ttotal: 6.72s\tremaining: 309ms\n",
      "956:\tlearn: 0.0134993\ttotal: 6.73s\tremaining: 302ms\n",
      "957:\tlearn: 0.0134816\ttotal: 6.74s\tremaining: 295ms\n",
      "958:\tlearn: 0.0134815\ttotal: 6.75s\tremaining: 288ms\n",
      "959:\tlearn: 0.0134815\ttotal: 6.75s\tremaining: 281ms\n",
      "960:\tlearn: 0.0134814\ttotal: 6.76s\tremaining: 274ms\n",
      "961:\tlearn: 0.0134814\ttotal: 6.77s\tremaining: 267ms\n",
      "962:\tlearn: 0.0134812\ttotal: 6.77s\tremaining: 260ms\n",
      "963:\tlearn: 0.0134809\ttotal: 6.78s\tremaining: 253ms\n",
      "964:\tlearn: 0.0134679\ttotal: 6.79s\tremaining: 246ms\n",
      "965:\tlearn: 0.0134679\ttotal: 6.79s\tremaining: 239ms\n",
      "966:\tlearn: 0.0134633\ttotal: 6.8s\tremaining: 232ms\n",
      "967:\tlearn: 0.0134632\ttotal: 6.8s\tremaining: 225ms\n",
      "968:\tlearn: 0.0134556\ttotal: 6.81s\tremaining: 218ms\n",
      "969:\tlearn: 0.0134556\ttotal: 6.82s\tremaining: 211ms\n",
      "970:\tlearn: 0.0134215\ttotal: 6.82s\tremaining: 204ms\n",
      "971:\tlearn: 0.0134215\ttotal: 6.83s\tremaining: 197ms\n",
      "972:\tlearn: 0.0134214\ttotal: 6.83s\tremaining: 190ms\n",
      "973:\tlearn: 0.0133766\ttotal: 6.84s\tremaining: 183ms\n",
      "974:\tlearn: 0.0133765\ttotal: 6.85s\tremaining: 176ms\n",
      "975:\tlearn: 0.0133323\ttotal: 6.86s\tremaining: 169ms\n",
      "976:\tlearn: 0.0133323\ttotal: 6.86s\tremaining: 162ms\n",
      "977:\tlearn: 0.0133320\ttotal: 6.87s\tremaining: 154ms\n",
      "978:\tlearn: 0.0133078\ttotal: 6.88s\tremaining: 148ms\n",
      "979:\tlearn: 0.0132666\ttotal: 6.88s\tremaining: 140ms\n",
      "980:\tlearn: 0.0132666\ttotal: 6.89s\tremaining: 134ms\n",
      "981:\tlearn: 0.0132665\ttotal: 6.9s\tremaining: 127ms\n",
      "982:\tlearn: 0.0132070\ttotal: 6.91s\tremaining: 120ms\n",
      "983:\tlearn: 0.0131622\ttotal: 6.92s\tremaining: 113ms\n",
      "984:\tlearn: 0.0131622\ttotal: 6.93s\tremaining: 105ms\n",
      "985:\tlearn: 0.0131622\ttotal: 6.93s\tremaining: 98.5ms\n",
      "986:\tlearn: 0.0131525\ttotal: 6.94s\tremaining: 91.4ms\n",
      "987:\tlearn: 0.0131054\ttotal: 6.95s\tremaining: 84.4ms\n",
      "988:\tlearn: 0.0131043\ttotal: 6.96s\tremaining: 77.4ms\n",
      "989:\tlearn: 0.0130782\ttotal: 6.96s\tremaining: 70.4ms\n",
      "990:\tlearn: 0.0130373\ttotal: 6.97s\tremaining: 63.3ms\n",
      "991:\tlearn: 0.0130318\ttotal: 6.98s\tremaining: 56.3ms\n",
      "992:\tlearn: 0.0130225\ttotal: 6.99s\tremaining: 49.3ms\n",
      "993:\tlearn: 0.0130225\ttotal: 7s\tremaining: 42.2ms\n",
      "994:\tlearn: 0.0130181\ttotal: 7s\tremaining: 35.2ms\n",
      "995:\tlearn: 0.0130180\ttotal: 7.01s\tremaining: 28.2ms\n",
      "996:\tlearn: 0.0130179\ttotal: 7.02s\tremaining: 21.1ms\n",
      "997:\tlearn: 0.0129693\ttotal: 7.03s\tremaining: 14.1ms\n",
      "998:\tlearn: 0.0129443\ttotal: 7.04s\tremaining: 7.04ms\n",
      "999:\tlearn: 0.0129443\ttotal: 7.04s\tremaining: 0us\n",
      "F1 score: 0.5454545454545454\n"
     ]
    }
   ],
   "source": [
    "cat_model=CatBoostClassifier(learning_rate=0.15, n_estimators=1000,\n",
    "                                                 subsample=0.085,\n",
    "                                                 max_depth=5,\n",
    "                                                 scale_pos_weight=2.5)\n",
    "\n",
    "#Training Catboost Model on train set\n",
    "cat_model.fit(X_train,y_train)\n",
    "\n",
    "#Predictiing on Test Set\n",
    "cat_model_prediction = cat_model.predict(X_test)\n",
    "print('F1 score:', f1_score(y_test, cat_model_prediction))\n"
   ]
  },
  {
   "cell_type": "code",
   "execution_count": 61,
   "metadata": {},
   "outputs": [],
   "source": [
    "prediction_6 = cat_model.predict(test)"
   ]
  },
  {
   "cell_type": "code",
   "execution_count": 62,
   "metadata": {},
   "outputs": [],
   "source": [
    "submission.Response = prediction_6"
   ]
  },
  {
   "cell_type": "code",
   "execution_count": 63,
   "metadata": {},
   "outputs": [],
   "source": [
    "submission.to_csv(\"My prediction21.csv\", index=False)"
   ]
  },
  {
   "cell_type": "code",
   "execution_count": 201,
   "metadata": {},
   "outputs": [],
   "source": [
    "%%capture\n",
    "!pip install LightGBM"
   ]
  },
  {
   "cell_type": "markdown",
   "metadata": {},
   "source": [
    "### LightGBM"
   ]
  },
  {
   "cell_type": "code",
   "execution_count": 64,
   "metadata": {},
   "outputs": [],
   "source": [
    "from lightgbm import LGBMClassifier"
   ]
  },
  {
   "cell_type": "code",
   "execution_count": 65,
   "metadata": {},
   "outputs": [],
   "source": [
    "lg_model = LGBMClassifier(subsample_freq = 2,\n",
    "                                             objective =\"binary\",\n",
    "                                             importance_type = \"gain\",\n",
    "                                             verbosity = -1,\n",
    "                                             max_bin = 60,\n",
    "                                             num_leaves = 400,\n",
    "                                             boosting_type = 'dart',\n",
    "                                             learning_rate=0.15,\n",
    "                                             n_estimators=1000,\n",
    "                                             max_depth=5,\n",
    "                                             scale_pos_weight=2.5)"
   ]
  },
  {
   "cell_type": "code",
   "execution_count": 66,
   "metadata": {},
   "outputs": [
    {
     "data": {
      "text/plain": [
       "LGBMClassifier(boosting_type='dart', importance_type='gain', learning_rate=0.15,\n",
       "               max_bin=60, max_depth=5, n_estimators=1000, num_leaves=400,\n",
       "               objective='binary', scale_pos_weight=2.5, subsample_freq=2,\n",
       "               verbosity=-1)"
      ]
     },
     "execution_count": 66,
     "metadata": {},
     "output_type": "execute_result"
    }
   ],
   "source": [
    "lg_model.fit(X_train,y_train)"
   ]
  },
  {
   "cell_type": "code",
   "execution_count": 67,
   "metadata": {},
   "outputs": [],
   "source": [
    "lg_model_prediction = lg_model.predict(X_test)"
   ]
  },
  {
   "cell_type": "code",
   "execution_count": 68,
   "metadata": {},
   "outputs": [
    {
     "name": "stdout",
     "output_type": "stream",
     "text": [
      "F1 score: 0.5\n"
     ]
    }
   ],
   "source": [
    "print('F1 score:', f1_score(y_test, lg_model_prediction))"
   ]
  },
  {
   "cell_type": "code",
   "execution_count": 349,
   "metadata": {},
   "outputs": [],
   "source": [
    "prediction_7 = lg_model.predict(test)"
   ]
  },
  {
   "cell_type": "code",
   "execution_count": 350,
   "metadata": {},
   "outputs": [],
   "source": [
    "submission.Response = prediction_7"
   ]
  },
  {
   "cell_type": "code",
   "execution_count": 352,
   "metadata": {},
   "outputs": [],
   "source": [
    "submission.to_csv(\"Prediction16.csv\", index=False)"
   ]
  },
  {
   "cell_type": "code",
   "execution_count": null,
   "metadata": {},
   "outputs": [],
   "source": []
  }
 ],
 "metadata": {
  "kernelspec": {
   "display_name": "Python 3",
   "language": "python",
   "name": "python3"
  },
  "language_info": {
   "codemirror_mode": {
    "name": "ipython",
    "version": 3
   },
   "file_extension": ".py",
   "mimetype": "text/x-python",
   "name": "python",
   "nbconvert_exporter": "python",
   "pygments_lexer": "ipython3",
   "version": "3.8.5"
  }
 },
 "nbformat": 4,
 "nbformat_minor": 4
}
